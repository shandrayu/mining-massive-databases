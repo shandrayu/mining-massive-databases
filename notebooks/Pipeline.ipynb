{
  "cells": [
    {
      "cell_type": "markdown",
      "id": "a3ab4627-37ee-412b-a603-a2b55f3ebaf7",
      "metadata": {
        "id": "a3ab4627-37ee-412b-a603-a2b55f3ebaf7"
      },
      "source": [
        "# Part 1 – Data Fetching"
      ]
    },
    {
      "cell_type": "code",
      "execution_count": 1,
      "id": "a29b0920-769b-4d21-b5ca-7439f6b6b7be",
      "metadata": {
        "id": "a29b0920-769b-4d21-b5ca-7439f6b6b7be"
      },
      "outputs": [],
      "source": [
        "import sys\n",
        "import subprocess\n",
        "import pkg_resources"
      ]
    },
    {
      "cell_type": "markdown",
      "id": "5e7f7468-4558-40a3-af7a-51a9643cb750",
      "metadata": {
        "id": "5e7f7468-4558-40a3-af7a-51a9643cb750"
      },
      "source": [
        "## Install missing packages"
      ]
    },
    {
      "cell_type": "code",
      "execution_count": 13,
      "id": "6e172dc7-0f67-4d74-8323-9d98385a8f39",
      "metadata": {
        "id": "6e172dc7-0f67-4d74-8323-9d98385a8f39"
      },
      "outputs": [],
      "source": [
        "!pip install -q sseclient"
      ]
    },
    {
      "cell_type": "markdown",
      "id": "6b5731e4-20fb-49cf-960f-e15b489516b8",
      "metadata": {
        "id": "6b5731e4-20fb-49cf-960f-e15b489516b8"
      },
      "source": [
        "## Define utility functions"
      ]
    },
    {
      "cell_type": "code",
      "execution_count": 6,
      "id": "2b034d6c-6fd8-4401-a9ee-537c7d79f8b2",
      "metadata": {
        "id": "2b034d6c-6fd8-4401-a9ee-537c7d79f8b2"
      },
      "outputs": [],
      "source": [
        "from sseclient import SSEClient as EventSource\n",
        "import time\n",
        "import json"
      ]
    },
    {
      "cell_type": "code",
      "execution_count": 7,
      "id": "71ef21ca-4dcf-4e2e-b8c1-4754bb357241",
      "metadata": {
        "id": "71ef21ca-4dcf-4e2e-b8c1-4754bb357241"
      },
      "outputs": [],
      "source": [
        "def hash_user(wiki, id):\n",
        "    return hash((wiki, id))"
      ]
    },
    {
      "cell_type": "code",
      "execution_count": 8,
      "id": "487f4cd1-d86d-4b69-8807-22a0cd547ff5",
      "metadata": {
        "id": "487f4cd1-d86d-4b69-8807-22a0cd547ff5"
      },
      "outputs": [],
      "source": [
        "def fetch_users(event_source, fetching_time_sec, message_types, wikis, event_decimation=5):\n",
        "    observed_users = set()\n",
        "    skipped_users = set()\n",
        "    user_counter = 0\n",
        "    print_log = False\n",
        "    start_time = time.time()\n",
        "    for event in event_source:\n",
        "        try:\n",
        "            change = json.loads(event.data)\n",
        "        except:\n",
        "            # ignore message\n",
        "            continue\n",
        "\n",
        "        if change[\"type\"] not in message_types or change[\"wiki\"] not in wikis:\n",
        "            # ignore message\n",
        "            continue\n",
        "\n",
        "        user = hash_user(change[\"wiki\"], change[\"user\"])\n",
        "        if user in observed_users:\n",
        "            if print_log:\n",
        "                print(f\"Message from user {user} saved\")\n",
        "            save_user = True\n",
        "        elif user in skipped_users:\n",
        "            if print_log:\n",
        "                print(f\"Message from user {user} skipped\")\n",
        "            save_user = False\n",
        "        else:\n",
        "            # new user\n",
        "            if user_counter % event_decimation == 0:\n",
        "                if print_log:\n",
        "                    print(f\"+ Add new user {user}\")\n",
        "                observed_users.add(user)\n",
        "                save_user = True\n",
        "            else:\n",
        "                if print_log:\n",
        "                    print(f\"- Add Skip user {user}\")\n",
        "                skipped_users.add(user)\n",
        "                save_user = False\n",
        "            user_counter += 1\n",
        "\n",
        "        elapced_time = time.time() - start_time\n",
        "        if elapced_time > fetching_time_sec:\n",
        "            break\n",
        "\n",
        "        if save_user:\n",
        "            yield (change)"
      ]
    },
    {
      "cell_type": "markdown",
      "id": "4d89c1f0-d0a3-4c40-8817-1f2621b05e94",
      "metadata": {
        "id": "4d89c1f0-d0a3-4c40-8817-1f2621b05e94"
      },
      "source": [
        "## Fetch events"
      ]
    },
    {
      "cell_type": "code",
      "execution_count": 9,
      "id": "92e42c04-1762-49ae-98f2-b7c8833bd61b",
      "metadata": {
        "colab": {
          "base_uri": "https://localhost:8080/"
        },
        "id": "92e42c04-1762-49ae-98f2-b7c8833bd61b",
        "outputId": "9ab57d73-65a3-4c1f-d3fd-53bf520b47de"
      },
      "outputs": [
        {
          "output_type": "stream",
          "name": "stdout",
          "text": [
            "Collected 184 edits\n"
          ]
        }
      ],
      "source": [
        "url = 'https://stream.wikimedia.org/v2/stream/recentchange'\n",
        "message_types = {\"edit\"}\n",
        "wikis = {\"enwiki\", \"wikidatawiki\"}\n",
        "wikis_str = \"_\".join(wikis)\n",
        "fetching_time_sec = 200\n",
        "changes = [change for change in fetch_users(EventSource(url), fetching_time_sec, message_types, wikis)]\n",
        "\n",
        "print(f\"Collected {len(changes)} edits\")\n",
        "\n",
        "with open(f\"changes_{wikis_str}_{fetching_time_sec}_sec.json\", \"w\", encoding=\"utf-8\") as json_file:\n",
        "    json.dump(changes, json_file, ensure_ascii=True, indent=4)"
      ]
    },
    {
      "cell_type": "markdown",
      "id": "0a133c2b-6585-48b3-968f-7857254f6e27",
      "metadata": {
        "id": "0a133c2b-6585-48b3-968f-7857254f6e27"
      },
      "source": [
        "## Description"
      ]
    },
    {
      "cell_type": "markdown",
      "id": "2d2bdcd7-aaee-4197-a500-1bc029538d53",
      "metadata": {
        "id": "2d2bdcd7-aaee-4197-a500-1bc029538d53"
      },
      "source": [
        "There are several mesage types. We are interested only in type \"edit\".\n",
        "\n",
        "Sample 20% of the stream - we record edits from every 5th new user in the stream. Other edits are skipped.\n",
        "\n",
        "Wiki:\n",
        "- enwiki\n",
        "- wikidatawiki"
      ]
    },
    {
      "cell_type": "markdown",
      "id": "76852838-3105-41f5-a485-6a65b50f3046",
      "metadata": {
        "id": "76852838-3105-41f5-a485-6a65b50f3046"
      },
      "source": [
        "# Part 2 – Model Definition"
      ]
    },
    {
      "cell_type": "code",
      "execution_count": 10,
      "id": "644faeeb-bb8e-4011-b6f6-172ab7ccf986",
      "metadata": {
        "colab": {
          "base_uri": "https://localhost:8080/"
        },
        "id": "644faeeb-bb8e-4011-b6f6-172ab7ccf986",
        "outputId": "2fd72097-0b8b-466e-d3e0-ff248df72b65"
      },
      "outputs": [
        {
          "output_type": "stream",
          "name": "stdout",
          "text": [
            "Mounted at /content/drive\n"
          ]
        }
      ],
      "source": [
        "from google.colab import drive\n",
        "drive.mount('/content/drive')"
      ]
    },
    {
      "cell_type": "markdown",
      "id": "d392723c-dbe2-4a40-a475-25cede603159",
      "metadata": {
        "id": "d392723c-dbe2-4a40-a475-25cede603159"
      },
      "source": [
        "## Setup PySpark"
      ]
    },
    {
      "cell_type": "code",
      "execution_count": 11,
      "id": "f2cd53f7-f568-438c-825a-839c501ac5ad",
      "metadata": {
        "id": "f2cd53f7-f568-438c-825a-839c501ac5ad"
      },
      "outputs": [],
      "source": [
        "!apt-get install openjdk-8-jdk-headless -qq > /dev/null"
      ]
    },
    {
      "cell_type": "code",
      "source": [
        "!pip install -q findspark"
      ],
      "metadata": {
        "id": "0IVFtf4evZv2"
      },
      "id": "0IVFtf4evZv2",
      "execution_count": 12,
      "outputs": []
    },
    {
      "cell_type": "code",
      "source": [
        "!wget https://downloads.apache.org/spark/spark-3.5.0/spark-3.5.0-bin-hadoop3.tgz\n",
        "!tar xzvf spark-3.5.0-bin-hadoop3.tgz"
      ],
      "metadata": {
        "colab": {
          "base_uri": "https://localhost:8080/"
        },
        "id": "ScbZN32iv2KA",
        "outputId": "57cbb207-140a-41eb-f326-7ffcf3ddd7a5"
      },
      "id": "ScbZN32iv2KA",
      "execution_count": 16,
      "outputs": [
        {
          "output_type": "stream",
          "name": "stdout",
          "text": [
            "--2023-11-23 15:14:44--  https://downloads.apache.org/spark/spark-3.5.0/spark-3.5.0-bin-hadoop3.tgz\n",
            "Resolving downloads.apache.org (downloads.apache.org)... 135.181.214.104, 88.99.95.219, 2a01:4f9:3a:2c57::2, ...\n",
            "Connecting to downloads.apache.org (downloads.apache.org)|135.181.214.104|:443... connected.\n",
            "HTTP request sent, awaiting response... 200 OK\n",
            "Length: 400395283 (382M) [application/x-gzip]\n",
            "Saving to: ‘spark-3.5.0-bin-hadoop3.tgz’\n",
            "\n",
            "spark-3.5.0-bin-had 100%[===================>] 381.85M  28.5MB/s    in 14s     \n",
            "\n",
            "2023-11-23 15:14:58 (27.2 MB/s) - ‘spark-3.5.0-bin-hadoop3.tgz’ saved [400395283/400395283]\n",
            "\n"
          ]
        }
      ]
    },
    {
      "cell_type": "code",
      "source": [
        "import os\n",
        "os.environ[\"JAVA_HOME\"] = \"/usr/lib/jvm/java-8-openjdk-amd64\"\n",
        "os.environ[\"SPARK_HOME\"] = \"/content/spark-3.5.0-bin-hadoop3\""
      ],
      "metadata": {
        "id": "hutdSMq0veCE"
      },
      "id": "hutdSMq0veCE",
      "execution_count": 14,
      "outputs": []
    },
    {
      "cell_type": "code",
      "source": [
        "import findspark\n",
        "findspark.init()"
      ],
      "metadata": {
        "id": "-W0619q7vwG5"
      },
      "id": "-W0619q7vwG5",
      "execution_count": 18,
      "outputs": []
    },
    {
      "cell_type": "code",
      "source": [
        "import pyspark\n",
        "from pyspark.sql import SparkSession\n",
        "from pyspark.sql.types import *\n",
        "from pyspark.sql.functions import col, avg, when\n",
        "import pandas as pd"
      ],
      "metadata": {
        "id": "4JWtyYCTvxcT"
      },
      "id": "4JWtyYCTvxcT",
      "execution_count": 19,
      "outputs": []
    },
    {
      "cell_type": "code",
      "source": [
        "sc = pyspark.SparkContext('local[*]')\n",
        "spark = SparkSession(sc)\n",
        "spark"
      ],
      "metadata": {
        "colab": {
          "base_uri": "https://localhost:8080/",
          "height": 216
        },
        "id": "lqSXppQAwGsN",
        "outputId": "b585b8a9-04dd-4009-d2c2-643bd228bb57"
      },
      "id": "lqSXppQAwGsN",
      "execution_count": 20,
      "outputs": [
        {
          "output_type": "execute_result",
          "data": {
            "text/plain": [
              "<pyspark.sql.session.SparkSession at 0x7fe13df0a110>"
            ],
            "text/html": [
              "\n",
              "            <div>\n",
              "                <p><b>SparkSession - in-memory</b></p>\n",
              "                \n",
              "        <div>\n",
              "            <p><b>SparkContext</b></p>\n",
              "\n",
              "            <p><a href=\"http://1233d3a70ced:4040\">Spark UI</a></p>\n",
              "\n",
              "            <dl>\n",
              "              <dt>Version</dt>\n",
              "                <dd><code>v3.5.0</code></dd>\n",
              "              <dt>Master</dt>\n",
              "                <dd><code>local[*]</code></dd>\n",
              "              <dt>AppName</dt>\n",
              "                <dd><code>pyspark-shell</code></dd>\n",
              "            </dl>\n",
              "        </div>\n",
              "        \n",
              "            </div>\n",
              "        "
            ]
          },
          "metadata": {},
          "execution_count": 20
        }
      ]
    },
    {
      "cell_type": "markdown",
      "source": [
        "## Upload data"
      ],
      "metadata": {
        "id": "wLww0fMdwMZg"
      },
      "id": "wLww0fMdwMZg"
    },
    {
      "cell_type": "code",
      "source": [
        "%cd drive/MyDrive\n",
        "%mkdir MMDB\n",
        "%cd MMDB"
      ],
      "metadata": {
        "colab": {
          "base_uri": "https://localhost:8080/"
        },
        "id": "2b2-y6mUwLdg",
        "outputId": "57b87c23-f633-4c2f-b13d-a179eefd84a8"
      },
      "id": "2b2-y6mUwLdg",
      "execution_count": 28,
      "outputs": [
        {
          "output_type": "stream",
          "name": "stdout",
          "text": [
            "/content/drive/MyDrive\n"
          ]
        }
      ]
    },
    {
      "cell_type": "code",
      "source": [
        "!tar xzvf sample.tgz"
      ],
      "metadata": {
        "colab": {
          "base_uri": "https://localhost:8080/"
        },
        "id": "aSq4MO8PwIht",
        "outputId": "45af7f9c-7958-4677-f86c-8f65935b0f00"
      },
      "id": "aSq4MO8PwIht",
      "execution_count": 31,
      "outputs": [
        {
          "output_type": "stream",
          "name": "stdout",
          "text": [
            "tar (child): sample.tgz: Cannot open: No such file or directory\n",
            "tar (child): Error is not recoverable: exiting now\n",
            "tar: Child returned status 2\n",
            "tar: Error is not recoverable: exiting now\n"
          ]
        }
      ]
    },
    {
      "cell_type": "code",
      "source": [
        "import pandas as pd\n",
        "import matplotlib.pyplot as plt\n",
        "import numpy as np\n",
        "import json"
      ],
      "metadata": {
        "id": "BC64eS5CwUNt"
      },
      "id": "BC64eS5CwUNt",
      "execution_count": 32,
      "outputs": []
    },
    {
      "cell_type": "code",
      "source": [
        "# with open('sample_unique_users.jsonl', 'r') as fin:\n",
        "#     samples = list(map(json.loads, fin.readlines()))"
      ],
      "metadata": {
        "id": "fOcyot_nwXqR"
      },
      "id": "fOcyot_nwXqR",
      "execution_count": null,
      "outputs": []
    },
    {
      "cell_type": "code",
      "source": [
        "with open('sample.jsonl', 'r') as fin:\n",
        "    samples_1 = list(map(json.loads, fin.readlines()))"
      ],
      "metadata": {
        "id": "0H1HRIXQyldV"
      },
      "id": "0H1HRIXQyldV",
      "execution_count": null,
      "outputs": []
    },
    {
      "cell_type": "code",
      "source": [
        "# with open('sample_wikidata_15000sec.jsonl', 'r') as fin:\n",
        "#     samples_2 = list(map(json.loads, fin.readlines()))"
      ],
      "metadata": {
        "id": "_xu5l93JymBX"
      },
      "id": "_xu5l93JymBX",
      "execution_count": null,
      "outputs": []
    },
    {
      "cell_type": "code",
      "source": [
        "df = spark.createDataFrame(samples_1)"
      ],
      "metadata": {
        "id": "9-HF0pb0yodR"
      },
      "id": "9-HF0pb0yodR",
      "execution_count": null,
      "outputs": []
    },
    {
      "cell_type": "code",
      "source": [
        "df.show(5)"
      ],
      "metadata": {
        "id": "WD8nNFT7yqMg"
      },
      "id": "WD8nNFT7yqMg",
      "execution_count": null,
      "outputs": []
    },
    {
      "cell_type": "code",
      "source": [
        "df.count()"
      ],
      "metadata": {
        "id": "1KU-dhc1yrpd"
      },
      "id": "1KU-dhc1yrpd",
      "execution_count": null,
      "outputs": []
    },
    {
      "cell_type": "markdown",
      "source": [
        "## Describe the distribution of edits per users and bots"
      ],
      "metadata": {
        "id": "I5HuIb8AyteC"
      },
      "id": "I5HuIb8AyteC"
    },
    {
      "cell_type": "code",
      "source": [
        "df_bot_distr = df.select('user', 'bot').toPandas().drop_duplicates()"
      ],
      "metadata": {
        "id": "yZhIvInSyu3h"
      },
      "id": "yZhIvInSyu3h",
      "execution_count": null,
      "outputs": []
    },
    {
      "cell_type": "code",
      "source": [
        "df_bot_distr['bot'].value_counts()"
      ],
      "metadata": {
        "id": "DAvoRi4xyxgo"
      },
      "id": "DAvoRi4xyxgo",
      "execution_count": null,
      "outputs": []
    },
    {
      "cell_type": "code",
      "source": [
        "ax1 = plt.subplot(111)\n",
        "df_distr = df.groupBy('user', 'bot').count().toPandas()\n",
        "df_bots = df_distr[df_distr['bot']==True]\n",
        "df_users = df_distr[df_distr['bot']==False]\n",
        "\n",
        "df_users['count'].hist(ax=ax1, weights=100 * np.ones(len(df_users)) / len(df_users),\n",
        "                       label='user', color='blue', alpha=0.5)\n",
        "df_bots['count'].hist(ax=ax1, weights=100 * np.ones(len(df_bots)) / len(df_bots),\n",
        "                      label='bot', color='red', alpha=0.5)\n",
        "\n",
        "ax1.legend(loc='best')\n",
        "# ax1.set_ylim((0, 100))\n",
        "ax1.set_xlabel('N edits')\n",
        "ax1.set_ylabel('% of users/bots')"
      ],
      "metadata": {
        "id": "f6C88bd4yzuF"
      },
      "id": "f6C88bd4yzuF",
      "execution_count": null,
      "outputs": []
    },
    {
      "cell_type": "code",
      "source": [
        "ax1 = plt.subplot(111)\n",
        "df_distr = df.groupBy('user', 'bot').count().toPandas()\n",
        "df_bots = df_distr[df_distr['bot']==True]\n",
        "df_users = df_distr[df_distr['bot']==False]\n",
        "\n",
        "df_users['count'].hist(ax=ax1,\n",
        "                       label='user', color='blue', alpha=0.5)\n",
        "df_bots['count'].hist(ax=ax1,\n",
        "                      label='bot', color='red', alpha=0.5)\n",
        "\n",
        "ax1.legend(loc='best')\n",
        "ax1.set_ylim((0, 100))\n",
        "ax1.set_xlabel('N edits')\n",
        "ax1.set_ylabel('N of users/bots')"
      ],
      "metadata": {
        "id": "by_DQqYby0ML"
      },
      "id": "by_DQqYby0ML",
      "execution_count": null,
      "outputs": []
    },
    {
      "cell_type": "markdown",
      "source": [
        "## Train bot detection model"
      ],
      "metadata": {
        "id": "N2k7U7r2y4Tm"
      },
      "id": "N2k7U7r2y4Tm"
    },
    {
      "cell_type": "markdown",
      "source": [
        "### Difference length"
      ],
      "metadata": {
        "id": "OrdwRmUSy7mj"
      },
      "id": "OrdwRmUSy7mj"
    },
    {
      "cell_type": "code",
      "source": [
        "from pyspark.sql.functions import udf\n",
        "from pyspark.sql.types import IntegerType\n",
        "\n",
        "# the average length of all edits per user as a feature\n",
        "@udf(IntegerType())\n",
        "def diff_length(length):\n",
        "  old = length['old']\n",
        "  new = length['new']\n",
        "  return abs(new - old)"
      ],
      "metadata": {
        "id": "xHjmtD5vy3Ly"
      },
      "id": "xHjmtD5vy3Ly",
      "execution_count": null,
      "outputs": []
    },
    {
      "cell_type": "code",
      "source": [
        "df = df.withColumn(\"length_difference\", diff_length(df[\"length\"]))"
      ],
      "metadata": {
        "id": "AHmYb0zpy_ma"
      },
      "id": "AHmYb0zpy_ma",
      "execution_count": null,
      "outputs": []
    },
    {
      "cell_type": "markdown",
      "source": [
        "### Difference revision"
      ],
      "metadata": {
        "id": "xF6kHWsozBNN"
      },
      "id": "xF6kHWsozBNN"
    },
    {
      "cell_type": "code",
      "source": [
        "# # the average diff in revision of all edits per user as a feature\n",
        "# @udf(IntegerType())\n",
        "# def diff_revision(revision):\n",
        "#   old = revision['old']\n",
        "#   new = revision['new']\n",
        "#   return abs(new - old)"
      ],
      "metadata": {
        "id": "0kUMe85RzCW9"
      },
      "id": "0kUMe85RzCW9",
      "execution_count": null,
      "outputs": []
    },
    {
      "cell_type": "code",
      "source": [
        "# df = df.withColumn(\"revision_difference\", diff_length(df[\"revision\"]))"
      ],
      "metadata": {
        "id": "8aQrPYFkzF-h"
      },
      "id": "8aQrPYFkzF-h",
      "execution_count": null,
      "outputs": []
    },
    {
      "cell_type": "code",
      "source": [
        "df = df.select('bot', 'user', \"length_difference\")"
      ],
      "metadata": {
        "id": "xVNaPXd5zHbe"
      },
      "id": "xVNaPXd5zHbe",
      "execution_count": null,
      "outputs": []
    },
    {
      "cell_type": "code",
      "source": [
        "from pyspark.sql.functions import count, mean, first\n",
        "\n",
        "grouped_df = df.groupBy(\"user\").agg(\n",
        "    count(\"user\").alias(\"count\"),\n",
        "    mean(\"length_difference\").alias(\"mean_length_difference\"),\n",
        "    # mean(\"revision_difference\").alias(\"mean_revision_difference\"),\n",
        "    first(\"bot\").alias(\"bot\")\n",
        ")"
      ],
      "metadata": {
        "id": "tGtC0GEDzJEz"
      },
      "id": "tGtC0GEDzJEz",
      "execution_count": null,
      "outputs": []
    },
    {
      "cell_type": "code",
      "source": [
        "grouped_df.show(5)"
      ],
      "metadata": {
        "id": "uT4YAetxzKlE"
      },
      "id": "uT4YAetxzKlE",
      "execution_count": null,
      "outputs": []
    },
    {
      "cell_type": "code",
      "source": [
        "from pyspark.ml.feature import VectorAssembler\n",
        "from pyspark.sql.functions import when\n",
        "\n",
        "assembler = VectorAssembler(\n",
        "  inputCols=[\"count\", \"mean_length_difference\"], outputCol=\"features\"\n",
        ")\n",
        "\n",
        "assembled = assembler.transform(grouped_df)"
      ],
      "metadata": {
        "id": "VatqhiwtzLwO"
      },
      "id": "VatqhiwtzLwO",
      "execution_count": null,
      "outputs": []
    },
    {
      "cell_type": "code",
      "source": [
        "assembled = assembled.withColumnRenamed(\"bot\", \"label\").select('features', 'label', 'user')\n",
        "assembled = assembled.withColumn('label', when(assembled.label, 1.0).otherwise(0.0))"
      ],
      "metadata": {
        "id": "ms5_CmaOzM8U"
      },
      "id": "ms5_CmaOzM8U",
      "execution_count": null,
      "outputs": []
    },
    {
      "cell_type": "code",
      "source": [
        "# for sample_unique_users.jsonl\n",
        "# train_df, test_df = assembled.randomSplit(weights=[0.6,0.4], seed=10)\n",
        "# valid_df, test_df = test_df.randomSplit(weights=[0.5, 0.5], seed=10)"
      ],
      "metadata": {
        "id": "iSqwV0B0zOro"
      },
      "id": "iSqwV0B0zOro",
      "execution_count": null,
      "outputs": []
    },
    {
      "cell_type": "code",
      "source": [
        "# for sample.jsonl\n",
        "train_df, test_df = assembled.randomSplit(weights=[0.7,0.3], seed=100)\n",
        "valid_df, test_df = test_df.randomSplit(weights=[0.5, 0.5], seed=100)"
      ],
      "metadata": {
        "id": "R4HNN0omzP6d"
      },
      "id": "R4HNN0omzP6d",
      "execution_count": null,
      "outputs": []
    },
    {
      "cell_type": "code",
      "source": [
        "train_df.groupBy('label').count().show()"
      ],
      "metadata": {
        "id": "mXYUqlGLzRKY"
      },
      "id": "mXYUqlGLzRKY",
      "execution_count": null,
      "outputs": []
    },
    {
      "cell_type": "code",
      "source": [
        "test_df.groupBy('label').count().show()"
      ],
      "metadata": {
        "id": "YUKiXm0bzSfI"
      },
      "id": "YUKiXm0bzSfI",
      "execution_count": null,
      "outputs": []
    },
    {
      "cell_type": "code",
      "source": [
        "valid_df.groupBy('label').count().show()"
      ],
      "metadata": {
        "id": "7I_hdYAUzT7j"
      },
      "id": "7I_hdYAUzT7j",
      "execution_count": null,
      "outputs": []
    },
    {
      "cell_type": "code",
      "source": [
        "train_df.count(), test_df.count(), valid_df.count()"
      ],
      "metadata": {
        "id": "LavxXd7OzVIS"
      },
      "id": "LavxXd7OzVIS",
      "execution_count": null,
      "outputs": []
    },
    {
      "cell_type": "markdown",
      "source": [
        "### Undersampling + upsampling"
      ],
      "metadata": {
        "id": "G1LBsG5BzWhd"
      },
      "id": "G1LBsG5BzWhd"
    },
    {
      "cell_type": "markdown",
      "source": [
        "Upsamping: copy 3 times bots \\\n",
        "Undersampling: took a sample of users which 10 times bigger than amount as upsampled bots"
      ],
      "metadata": {
        "id": "RiVlJh7azae_"
      },
      "id": "RiVlJh7azae_"
    },
    {
      "cell_type": "code",
      "source": [
        "df_pandas = train_df.toPandas()"
      ],
      "metadata": {
        "id": "k1A9CcbKzYOI"
      },
      "id": "k1A9CcbKzYOI",
      "execution_count": null,
      "outputs": []
    },
    {
      "cell_type": "code",
      "source": [
        "# for sample_unique_users.jsonl\n",
        "# df_bots_pandas = df_pandas[df_pandas['label']==1.0]\n",
        "# df_bots_pandas = pd.concat([df_bots_pandas, df_bots_pandas])\n",
        "\n",
        "# df_users_pandas = df_pandas[df_pandas['label']==0.0].sample(n=20*len(df_bots_pandas))\n",
        "\n",
        "# df_pandas_new_sample = pd.concat([df_users_pandas, df_bots_pandas])\n",
        "# df_pandas_new_sample = df_pandas_new_sample.sample(frac = 1)\n",
        "\n",
        "# df_pandas_new_sample['label'].value_counts()"
      ],
      "metadata": {
        "id": "J04Lc_dGzdY9"
      },
      "id": "J04Lc_dGzdY9",
      "execution_count": null,
      "outputs": []
    },
    {
      "cell_type": "code",
      "source": [
        "# for sample.jsonl\n",
        "df_bots_pandas = df_pandas[df_pandas['label']==1.0]\n",
        "df_bots_pandas = pd.concat([df_bots_pandas, df_bots_pandas, df_bots_pandas])\n",
        "\n",
        "df_users_pandas = df_pandas[df_pandas['label']==0.0].sample(n=10*len(df_bots_pandas))\n",
        "\n",
        "df_pandas_new_sample = pd.concat([df_users_pandas, df_bots_pandas])\n",
        "df_pandas_new_sample = df_pandas_new_sample.sample(frac = 1)\n",
        "\n",
        "df_pandas_new_sample['label'].value_counts()"
      ],
      "metadata": {
        "id": "uJhgV6ZIzep6"
      },
      "id": "uJhgV6ZIzep6",
      "execution_count": null,
      "outputs": []
    },
    {
      "cell_type": "code",
      "source": [
        "df_train_aug = spark.createDataFrame(df_pandas_new_sample)"
      ],
      "metadata": {
        "id": "mUVlOrURzf-4"
      },
      "id": "mUVlOrURzf-4",
      "execution_count": null,
      "outputs": []
    },
    {
      "cell_type": "code",
      "source": [
        "df_train_aug.show(5)"
      ],
      "metadata": {
        "id": "vZxvXRxezhZb"
      },
      "id": "vZxvXRxezhZb",
      "execution_count": null,
      "outputs": []
    },
    {
      "cell_type": "markdown",
      "source": [
        "### Training"
      ],
      "metadata": {
        "id": "r6nVnPwuzkzL"
      },
      "id": "r6nVnPwuzkzL"
    },
    {
      "cell_type": "code",
      "source": [
        "from pyspark.ml.classification import RandomForestClassifier\n",
        "\n",
        "rf = RandomForestClassifier(labelCol=\"label\", featuresCol=\"features\", numTrees=10)"
      ],
      "metadata": {
        "id": "edHc2Y9TzkUa"
      },
      "id": "edHc2Y9TzkUa",
      "execution_count": null,
      "outputs": []
    },
    {
      "cell_type": "code",
      "source": [
        "model = rf.fit(df_train_aug)"
      ],
      "metadata": {
        "id": "lKSjcOL8znnI"
      },
      "id": "lKSjcOL8znnI",
      "execution_count": null,
      "outputs": []
    },
    {
      "cell_type": "markdown",
      "source": [
        "### Test set predictions"
      ],
      "metadata": {
        "id": "q_Ae2CM8zsBg"
      },
      "id": "q_Ae2CM8zsBg"
    },
    {
      "cell_type": "code",
      "source": [
        "predictions = model.transform(test_df)"
      ],
      "metadata": {
        "id": "d83dpw38znuO"
      },
      "id": "d83dpw38znuO",
      "execution_count": null,
      "outputs": []
    },
    {
      "cell_type": "code",
      "source": [
        "df_pred = predictions.select('features', 'prediction', 'label').toPandas()"
      ],
      "metadata": {
        "id": "6YhBtEsRzu56"
      },
      "id": "6YhBtEsRzu56",
      "execution_count": null,
      "outputs": []
    },
    {
      "cell_type": "code",
      "source": [
        "df_pred['prediction'].value_counts()"
      ],
      "metadata": {
        "id": "SJ0lcFlrzwzH"
      },
      "id": "SJ0lcFlrzwzH",
      "execution_count": null,
      "outputs": []
    },
    {
      "cell_type": "code",
      "source": [
        "from pyspark.ml.evaluation import MulticlassClassificationEvaluator\n",
        "from pyspark.mllib.evaluation import MulticlassMetrics\n",
        "\n",
        "evaluator = MulticlassClassificationEvaluator(\n",
        "    labelCol=\"label\", predictionCol=\"prediction\")\n",
        "metrics = MulticlassMetrics(predictions.select(\"prediction\", \"label\").rdd)\n",
        "\n",
        "# print(metrics.confusionMatrix().toArray())\n",
        "print(\"Precision bot-class: \", metrics.precision(1.0))\n",
        "print(\"Precision user-class: \", metrics.precision(0.0))\n",
        "print(\"Recall bot-class: \", metrics.recall(1.0))\n",
        "print(\"Recall user-class: \", metrics.recall(0.0))\n",
        "print(\"Weighted F1-score: \", metrics.weightedFMeasure())"
      ],
      "metadata": {
        "id": "NBI6Yb17zyFe"
      },
      "id": "NBI6Yb17zyFe",
      "execution_count": null,
      "outputs": []
    },
    {
      "cell_type": "markdown",
      "source": [
        "### Validation set predictions"
      ],
      "metadata": {
        "id": "dP7ARewBz0Kv"
      },
      "id": "dP7ARewBz0Kv"
    },
    {
      "cell_type": "code",
      "source": [
        "predictions = model.transform(valid_df)"
      ],
      "metadata": {
        "id": "vGceGFSYz1da"
      },
      "id": "vGceGFSYz1da",
      "execution_count": null,
      "outputs": []
    },
    {
      "cell_type": "code",
      "source": [
        "df_pred_validation = predictions.select('user', 'prediction', 'label').toPandas()"
      ],
      "metadata": {
        "id": "d7EqCvZAz3JA"
      },
      "id": "d7EqCvZAz3JA",
      "execution_count": null,
      "outputs": []
    },
    {
      "cell_type": "code",
      "source": [
        "df_pred_validation['prediction'].value_counts()"
      ],
      "metadata": {
        "id": "-xtl17t5z4Q9"
      },
      "id": "-xtl17t5z4Q9",
      "execution_count": null,
      "outputs": []
    },
    {
      "cell_type": "code",
      "source": [
        "from pyspark.ml.evaluation import MulticlassClassificationEvaluator\n",
        "from pyspark.mllib.evaluation import MulticlassMetrics\n",
        "\n",
        "evaluator = MulticlassClassificationEvaluator(\n",
        "    labelCol=\"label\", predictionCol=\"prediction\")\n",
        "metrics = MulticlassMetrics(predictions.select(\"prediction\", \"label\").rdd)\n",
        "\n",
        "# print(metrics.confusionMatrix().toArray())\n",
        "print(\"Precision bot-class: \", metrics.precision(1.0))\n",
        "print(\"Precision user-class: \", metrics.precision(0.0))\n",
        "print(\"Recall bot-class: \", metrics.recall(1.0))\n",
        "print(\"Recall user-class: \", metrics.recall(0.0))\n",
        "print(\"Weighted F1-score: \", metrics.weightedFMeasure())"
      ],
      "metadata": {
        "id": "txic7IV3z5YJ"
      },
      "id": "txic7IV3z5YJ",
      "execution_count": null,
      "outputs": []
    },
    {
      "cell_type": "code",
      "source": [
        "df_pred_validation"
      ],
      "metadata": {
        "id": "tSGiRoxBz6rf"
      },
      "id": "tSGiRoxBz6rf",
      "execution_count": null,
      "outputs": []
    },
    {
      "cell_type": "markdown",
      "source": [
        "# Task 3 – Bloom Filter"
      ],
      "metadata": {
        "id": "B4OlsO3a0cK2"
      },
      "id": "B4OlsO3a0cK2"
    },
    {
      "cell_type": "markdown",
      "source": [
        "1) Consider all the changes done in the wikipedia as stream.\n",
        "** Check here: https://wikitech.wikimedia.org/wiki/RCStream\n",
        "\n",
        "2) Each action is received in json format.\n",
        "\n",
        "3) Data is full of bots. There is a flag were programmers can\n",
        "indicate that an actions has been done by a bot.\n",
        "\n",
        "4) Using this information as ground truth, develop a system able\n",
        "to classify users as bot or human.\n",
        "\n",
        "5) Constrain: You need to sample, and just use the 20% of\n",
        "the data stream.\n",
        "\n",
        "6) Describe the distribution of edits per users and bots.\n",
        "\n",
        "7) Finally, train a Bloom Filter that filter out bots from the stream.\n",
        "\n",
        "* Find the correct parameters for the bloom filter having an\n",
        "error below 10%.\n",
        "\n",
        "8) If you want to have a 100% you need to do this:\n",
        "\n",
        "* Make your system to work with Spark Streaming (5%)"
      ],
      "metadata": {
        "id": "Gy4-TgeA1UYs"
      },
      "id": "Gy4-TgeA1UYs"
    },
    {
      "cell_type": "code",
      "source": [
        "from sseclient import SSEClient as EventSource\n",
        "import time\n",
        "import json"
      ],
      "metadata": {
        "id": "0uBqY1xR0dwH"
      },
      "id": "0uBqY1xR0dwH",
      "execution_count": 33,
      "outputs": []
    },
    {
      "cell_type": "code",
      "source": [
        "# Define helper functions\n",
        "\n",
        "def get_bin(x, bin_width, start=0):\n",
        "    return (x - start) // bin_width\n",
        "\n",
        "def hash_user(wiki, id):\n",
        "    return hash((wiki, id))\n",
        "\n",
        "def fetch_users(event_source, fetching_time_sec, message_types, wikis, event_decimation=5, print_log=False):\n",
        "    observed_users = set()\n",
        "    skipped_users = set()\n",
        "    user_counter = 0\n",
        "    start_time = time.time()\n",
        "    for event in event_source:\n",
        "        try:\n",
        "            change = json.loads(event.data)\n",
        "        except:\n",
        "            # ignore message\n",
        "            continue\n",
        "\n",
        "        if change[\"type\"] not in message_types or change[\"wiki\"] not in wikis:\n",
        "            # ignore message\n",
        "            continue\n",
        "\n",
        "        user = hash_user(change[\"wiki\"], change[\"user\"])\n",
        "        if user in observed_users:\n",
        "            if print_log:\n",
        "                print(f\"Message from user {user} saved\")\n",
        "            save_user = True\n",
        "        elif user in skipped_users:\n",
        "            if print_log:\n",
        "                print(f\"Message from user {user} skipped\")\n",
        "            save_user = False\n",
        "        else:\n",
        "            # new user\n",
        "            if user_counter % event_decimation == 0:\n",
        "                if print_log:\n",
        "                    print(f\"+ Add new user {user}\")\n",
        "                observed_users.add(user)\n",
        "                save_user = True\n",
        "            else:\n",
        "                if print_log:\n",
        "                    print(f\"- Add Skip user {user}\")\n",
        "                skipped_users.add(user)\n",
        "                save_user = False\n",
        "            user_counter += 1\n",
        "\n",
        "        elapced_time = time.time() - start_time\n",
        "        if elapced_time > fetching_time_sec:\n",
        "            break\n",
        "\n",
        "        if save_user:\n",
        "            yield (change)"
      ],
      "metadata": {
        "id": "w1DdZXG21YNz"
      },
      "id": "w1DdZXG21YNz",
      "execution_count": 34,
      "outputs": []
    },
    {
      "cell_type": "code",
      "source": [
        "url = 'https://stream.wikimedia.org/v2/stream/recentchange'\n",
        "message_types = {\"edit\"}\n",
        "wikis = {\"enwiki\"}#, \"wikidatawiki\"}\n",
        "wikis_str = \"_\".join(wikis)"
      ],
      "metadata": {
        "id": "Cl16wJz31aBQ"
      },
      "id": "Cl16wJz31aBQ",
      "execution_count": 35,
      "outputs": []
    },
    {
      "cell_type": "code",
      "source": [
        "fetching_time_sec = 200\n",
        "\n",
        "sample_items = [change for change in fetch_users(EventSource(url), fetching_time_sec, message_types, wikis)]"
      ],
      "metadata": {
        "id": "gsmQtVCR1ckW"
      },
      "id": "gsmQtVCR1ckW",
      "execution_count": 36,
      "outputs": []
    },
    {
      "cell_type": "markdown",
      "source": [
        "## Analyze bot behavior"
      ],
      "metadata": {
        "id": "Z2_5e7QN1jv_"
      },
      "id": "Z2_5e7QN1jv_"
    },
    {
      "cell_type": "code",
      "source": [
        "import pandas as pd\n",
        "import matplotlib.pyplot as plt\n",
        "\n",
        "samples = []\n",
        "with open('sample1.jsonl', 'r') as fin:\n",
        "    samples.extend(list(map(json.loads, fin.readlines())))\n",
        "\n",
        "df = pd.DataFrame(samples)\n",
        "\n",
        "\n",
        "df['length_old'] = df.apply(lambda x: x['length']['old'], axis=1)\n",
        "df['length_new'] = df.apply(lambda x: x['length']['new'], axis=1)\n",
        "df['length_diff'] = df['length_new'] - df['length_old']\n",
        "df['revision_diff'] = df.apply(lambda x: x['revision']['new'], axis=1) - df.apply(lambda x: x['revision']['old'], axis=1)\n",
        "\n",
        "## split revision and length to buckets\n",
        "df['length_bucket'] = df.length_diff.map(lambda x: get_bin(x, bin_width=50 ,start=df.length_diff.min()))\n",
        "df['revision_bucket'] = df.revision_diff.map(lambda x: get_bin(x, bin_width=10 ,start=df.revision_diff.min()))\n",
        "\n",
        "len(df)"
      ],
      "metadata": {
        "colab": {
          "base_uri": "https://localhost:8080/"
        },
        "id": "9wtDEBUT1gYO",
        "outputId": "2b558923-75b7-494b-bc32-381f9833ee65"
      },
      "id": "9wtDEBUT1gYO",
      "execution_count": 46,
      "outputs": [
        {
          "output_type": "execute_result",
          "data": {
            "text/plain": [
              "8819"
            ]
          },
          "metadata": {},
          "execution_count": 46
        }
      ]
    },
    {
      "cell_type": "markdown",
      "source": [
        "## Bot vs Real user edit length"
      ],
      "metadata": {
        "id": "-xJATp931pVj"
      },
      "id": "-xJATp931pVj"
    },
    {
      "cell_type": "code",
      "source": [
        "df[df['bot']].sample()"
      ],
      "metadata": {
        "colab": {
          "base_uri": "https://localhost:8080/",
          "height": 163
        },
        "id": "ahz8H8Ku1prV",
        "outputId": "cd90b07b-16db-4c2a-b74c-a167ffb1ef52"
      },
      "id": "ahz8H8Ku1prV",
      "execution_count": 47,
      "outputs": [
        {
          "output_type": "execute_result",
          "data": {
            "text/plain": [
              "                            $schema  \\\n",
              "3492  /mediawiki/recentchange/1.0.0   \n",
              "\n",
              "                                                   meta          id  type  \\\n",
              "3492  {'uri': 'https://en.wikipedia.org/wiki/User:Am...  1697241759  edit   \n",
              "\n",
              "      namespace                        title  \\\n",
              "3492          2  User:AmandaNP/SPI case list   \n",
              "\n",
              "                                              title_url  \\\n",
              "3492  https://en.wikipedia.org/wiki/User:AmandaNP/SP...   \n",
              "\n",
              "                    comment   timestamp          user  ...       server_name  \\\n",
              "3492  Updating SPI caselist  1700704895  DeltaQuadBot  ...  en.wikipedia.org   \n",
              "\n",
              "     server_script_path    wiki          parsedcomment length_old length_new  \\\n",
              "3492                 /w  enwiki  Updating SPI caselist      36202      36202   \n",
              "\n",
              "     length_diff revision_diff length_bucket revision_bucket  \n",
              "3492           0          1231          7244             123  \n",
              "\n",
              "[1 rows x 26 columns]"
            ],
            "text/html": [
              "\n",
              "  <div id=\"df-311897b2-b4a5-43a6-84d2-1a0a7fe0ec42\" class=\"colab-df-container\">\n",
              "    <div>\n",
              "<style scoped>\n",
              "    .dataframe tbody tr th:only-of-type {\n",
              "        vertical-align: middle;\n",
              "    }\n",
              "\n",
              "    .dataframe tbody tr th {\n",
              "        vertical-align: top;\n",
              "    }\n",
              "\n",
              "    .dataframe thead th {\n",
              "        text-align: right;\n",
              "    }\n",
              "</style>\n",
              "<table border=\"1\" class=\"dataframe\">\n",
              "  <thead>\n",
              "    <tr style=\"text-align: right;\">\n",
              "      <th></th>\n",
              "      <th>$schema</th>\n",
              "      <th>meta</th>\n",
              "      <th>id</th>\n",
              "      <th>type</th>\n",
              "      <th>namespace</th>\n",
              "      <th>title</th>\n",
              "      <th>title_url</th>\n",
              "      <th>comment</th>\n",
              "      <th>timestamp</th>\n",
              "      <th>user</th>\n",
              "      <th>...</th>\n",
              "      <th>server_name</th>\n",
              "      <th>server_script_path</th>\n",
              "      <th>wiki</th>\n",
              "      <th>parsedcomment</th>\n",
              "      <th>length_old</th>\n",
              "      <th>length_new</th>\n",
              "      <th>length_diff</th>\n",
              "      <th>revision_diff</th>\n",
              "      <th>length_bucket</th>\n",
              "      <th>revision_bucket</th>\n",
              "    </tr>\n",
              "  </thead>\n",
              "  <tbody>\n",
              "    <tr>\n",
              "      <th>3492</th>\n",
              "      <td>/mediawiki/recentchange/1.0.0</td>\n",
              "      <td>{'uri': 'https://en.wikipedia.org/wiki/User:Am...</td>\n",
              "      <td>1697241759</td>\n",
              "      <td>edit</td>\n",
              "      <td>2</td>\n",
              "      <td>User:AmandaNP/SPI case list</td>\n",
              "      <td>https://en.wikipedia.org/wiki/User:AmandaNP/SP...</td>\n",
              "      <td>Updating SPI caselist</td>\n",
              "      <td>1700704895</td>\n",
              "      <td>DeltaQuadBot</td>\n",
              "      <td>...</td>\n",
              "      <td>en.wikipedia.org</td>\n",
              "      <td>/w</td>\n",
              "      <td>enwiki</td>\n",
              "      <td>Updating SPI caselist</td>\n",
              "      <td>36202</td>\n",
              "      <td>36202</td>\n",
              "      <td>0</td>\n",
              "      <td>1231</td>\n",
              "      <td>7244</td>\n",
              "      <td>123</td>\n",
              "    </tr>\n",
              "  </tbody>\n",
              "</table>\n",
              "<p>1 rows × 26 columns</p>\n",
              "</div>\n",
              "    <div class=\"colab-df-buttons\">\n",
              "\n",
              "  <div class=\"colab-df-container\">\n",
              "    <button class=\"colab-df-convert\" onclick=\"convertToInteractive('df-311897b2-b4a5-43a6-84d2-1a0a7fe0ec42')\"\n",
              "            title=\"Convert this dataframe to an interactive table.\"\n",
              "            style=\"display:none;\">\n",
              "\n",
              "  <svg xmlns=\"http://www.w3.org/2000/svg\" height=\"24px\" viewBox=\"0 -960 960 960\">\n",
              "    <path d=\"M120-120v-720h720v720H120Zm60-500h600v-160H180v160Zm220 220h160v-160H400v160Zm0 220h160v-160H400v160ZM180-400h160v-160H180v160Zm440 0h160v-160H620v160ZM180-180h160v-160H180v160Zm440 0h160v-160H620v160Z\"/>\n",
              "  </svg>\n",
              "    </button>\n",
              "\n",
              "  <style>\n",
              "    .colab-df-container {\n",
              "      display:flex;\n",
              "      gap: 12px;\n",
              "    }\n",
              "\n",
              "    .colab-df-convert {\n",
              "      background-color: #E8F0FE;\n",
              "      border: none;\n",
              "      border-radius: 50%;\n",
              "      cursor: pointer;\n",
              "      display: none;\n",
              "      fill: #1967D2;\n",
              "      height: 32px;\n",
              "      padding: 0 0 0 0;\n",
              "      width: 32px;\n",
              "    }\n",
              "\n",
              "    .colab-df-convert:hover {\n",
              "      background-color: #E2EBFA;\n",
              "      box-shadow: 0px 1px 2px rgba(60, 64, 67, 0.3), 0px 1px 3px 1px rgba(60, 64, 67, 0.15);\n",
              "      fill: #174EA6;\n",
              "    }\n",
              "\n",
              "    .colab-df-buttons div {\n",
              "      margin-bottom: 4px;\n",
              "    }\n",
              "\n",
              "    [theme=dark] .colab-df-convert {\n",
              "      background-color: #3B4455;\n",
              "      fill: #D2E3FC;\n",
              "    }\n",
              "\n",
              "    [theme=dark] .colab-df-convert:hover {\n",
              "      background-color: #434B5C;\n",
              "      box-shadow: 0px 1px 3px 1px rgba(0, 0, 0, 0.15);\n",
              "      filter: drop-shadow(0px 1px 2px rgba(0, 0, 0, 0.3));\n",
              "      fill: #FFFFFF;\n",
              "    }\n",
              "  </style>\n",
              "\n",
              "    <script>\n",
              "      const buttonEl =\n",
              "        document.querySelector('#df-311897b2-b4a5-43a6-84d2-1a0a7fe0ec42 button.colab-df-convert');\n",
              "      buttonEl.style.display =\n",
              "        google.colab.kernel.accessAllowed ? 'block' : 'none';\n",
              "\n",
              "      async function convertToInteractive(key) {\n",
              "        const element = document.querySelector('#df-311897b2-b4a5-43a6-84d2-1a0a7fe0ec42');\n",
              "        const dataTable =\n",
              "          await google.colab.kernel.invokeFunction('convertToInteractive',\n",
              "                                                    [key], {});\n",
              "        if (!dataTable) return;\n",
              "\n",
              "        const docLinkHtml = 'Like what you see? Visit the ' +\n",
              "          '<a target=\"_blank\" href=https://colab.research.google.com/notebooks/data_table.ipynb>data table notebook</a>'\n",
              "          + ' to learn more about interactive tables.';\n",
              "        element.innerHTML = '';\n",
              "        dataTable['output_type'] = 'display_data';\n",
              "        await google.colab.output.renderOutput(dataTable, element);\n",
              "        const docLink = document.createElement('div');\n",
              "        docLink.innerHTML = docLinkHtml;\n",
              "        element.appendChild(docLink);\n",
              "      }\n",
              "    </script>\n",
              "  </div>\n",
              "\n",
              "    </div>\n",
              "  </div>\n"
            ]
          },
          "metadata": {},
          "execution_count": 47
        }
      ]
    },
    {
      "cell_type": "code",
      "source": [
        "df[~df['bot']].sample()"
      ],
      "metadata": {
        "colab": {
          "base_uri": "https://localhost:8080/",
          "height": 180
        },
        "id": "ixC5dby91sOZ",
        "outputId": "6441e117-4d6f-4a36-d6e9-f6488339ff00"
      },
      "id": "ixC5dby91sOZ",
      "execution_count": 48,
      "outputs": [
        {
          "output_type": "execute_result",
          "data": {
            "text/plain": [
              "                            $schema  \\\n",
              "7497  /mediawiki/recentchange/1.0.0   \n",
              "\n",
              "                                                   meta          id  type  \\\n",
              "7497  {'uri': 'https://en.wikipedia.org/wiki/Dennis_...  1697289394  edit   \n",
              "\n",
              "      namespace          title                                    title_url  \\\n",
              "7497          0  Dennis Barrie  https://en.wikipedia.org/wiki/Dennis_Barrie   \n",
              "\n",
              "                                                comment   timestamp     user  \\\n",
              "7497  fixed [[MOS:DASH|dashes]] using a [[User:GregU...  1700719029  Gilliam   \n",
              "\n",
              "      ...       server_name server_script_path    wiki  \\\n",
              "7497  ...  en.wikipedia.org                 /w  enwiki   \n",
              "\n",
              "                                          parsedcomment length_old length_new  \\\n",
              "7497  fixed <a href=\"/wiki/MOS:DASH\" class=\"mw-redir...       1738       1744   \n",
              "\n",
              "     length_diff revision_diff length_bucket revision_bucket  \n",
              "7497           6      67944571          7244         6794457  \n",
              "\n",
              "[1 rows x 26 columns]"
            ],
            "text/html": [
              "\n",
              "  <div id=\"df-2a06ec42-c057-4971-8256-075da6fef914\" class=\"colab-df-container\">\n",
              "    <div>\n",
              "<style scoped>\n",
              "    .dataframe tbody tr th:only-of-type {\n",
              "        vertical-align: middle;\n",
              "    }\n",
              "\n",
              "    .dataframe tbody tr th {\n",
              "        vertical-align: top;\n",
              "    }\n",
              "\n",
              "    .dataframe thead th {\n",
              "        text-align: right;\n",
              "    }\n",
              "</style>\n",
              "<table border=\"1\" class=\"dataframe\">\n",
              "  <thead>\n",
              "    <tr style=\"text-align: right;\">\n",
              "      <th></th>\n",
              "      <th>$schema</th>\n",
              "      <th>meta</th>\n",
              "      <th>id</th>\n",
              "      <th>type</th>\n",
              "      <th>namespace</th>\n",
              "      <th>title</th>\n",
              "      <th>title_url</th>\n",
              "      <th>comment</th>\n",
              "      <th>timestamp</th>\n",
              "      <th>user</th>\n",
              "      <th>...</th>\n",
              "      <th>server_name</th>\n",
              "      <th>server_script_path</th>\n",
              "      <th>wiki</th>\n",
              "      <th>parsedcomment</th>\n",
              "      <th>length_old</th>\n",
              "      <th>length_new</th>\n",
              "      <th>length_diff</th>\n",
              "      <th>revision_diff</th>\n",
              "      <th>length_bucket</th>\n",
              "      <th>revision_bucket</th>\n",
              "    </tr>\n",
              "  </thead>\n",
              "  <tbody>\n",
              "    <tr>\n",
              "      <th>7497</th>\n",
              "      <td>/mediawiki/recentchange/1.0.0</td>\n",
              "      <td>{'uri': 'https://en.wikipedia.org/wiki/Dennis_...</td>\n",
              "      <td>1697289394</td>\n",
              "      <td>edit</td>\n",
              "      <td>0</td>\n",
              "      <td>Dennis Barrie</td>\n",
              "      <td>https://en.wikipedia.org/wiki/Dennis_Barrie</td>\n",
              "      <td>fixed [[MOS:DASH|dashes]] using a [[User:GregU...</td>\n",
              "      <td>1700719029</td>\n",
              "      <td>Gilliam</td>\n",
              "      <td>...</td>\n",
              "      <td>en.wikipedia.org</td>\n",
              "      <td>/w</td>\n",
              "      <td>enwiki</td>\n",
              "      <td>fixed &lt;a href=\"/wiki/MOS:DASH\" class=\"mw-redir...</td>\n",
              "      <td>1738</td>\n",
              "      <td>1744</td>\n",
              "      <td>6</td>\n",
              "      <td>67944571</td>\n",
              "      <td>7244</td>\n",
              "      <td>6794457</td>\n",
              "    </tr>\n",
              "  </tbody>\n",
              "</table>\n",
              "<p>1 rows × 26 columns</p>\n",
              "</div>\n",
              "    <div class=\"colab-df-buttons\">\n",
              "\n",
              "  <div class=\"colab-df-container\">\n",
              "    <button class=\"colab-df-convert\" onclick=\"convertToInteractive('df-2a06ec42-c057-4971-8256-075da6fef914')\"\n",
              "            title=\"Convert this dataframe to an interactive table.\"\n",
              "            style=\"display:none;\">\n",
              "\n",
              "  <svg xmlns=\"http://www.w3.org/2000/svg\" height=\"24px\" viewBox=\"0 -960 960 960\">\n",
              "    <path d=\"M120-120v-720h720v720H120Zm60-500h600v-160H180v160Zm220 220h160v-160H400v160Zm0 220h160v-160H400v160ZM180-400h160v-160H180v160Zm440 0h160v-160H620v160ZM180-180h160v-160H180v160Zm440 0h160v-160H620v160Z\"/>\n",
              "  </svg>\n",
              "    </button>\n",
              "\n",
              "  <style>\n",
              "    .colab-df-container {\n",
              "      display:flex;\n",
              "      gap: 12px;\n",
              "    }\n",
              "\n",
              "    .colab-df-convert {\n",
              "      background-color: #E8F0FE;\n",
              "      border: none;\n",
              "      border-radius: 50%;\n",
              "      cursor: pointer;\n",
              "      display: none;\n",
              "      fill: #1967D2;\n",
              "      height: 32px;\n",
              "      padding: 0 0 0 0;\n",
              "      width: 32px;\n",
              "    }\n",
              "\n",
              "    .colab-df-convert:hover {\n",
              "      background-color: #E2EBFA;\n",
              "      box-shadow: 0px 1px 2px rgba(60, 64, 67, 0.3), 0px 1px 3px 1px rgba(60, 64, 67, 0.15);\n",
              "      fill: #174EA6;\n",
              "    }\n",
              "\n",
              "    .colab-df-buttons div {\n",
              "      margin-bottom: 4px;\n",
              "    }\n",
              "\n",
              "    [theme=dark] .colab-df-convert {\n",
              "      background-color: #3B4455;\n",
              "      fill: #D2E3FC;\n",
              "    }\n",
              "\n",
              "    [theme=dark] .colab-df-convert:hover {\n",
              "      background-color: #434B5C;\n",
              "      box-shadow: 0px 1px 3px 1px rgba(0, 0, 0, 0.15);\n",
              "      filter: drop-shadow(0px 1px 2px rgba(0, 0, 0, 0.3));\n",
              "      fill: #FFFFFF;\n",
              "    }\n",
              "  </style>\n",
              "\n",
              "    <script>\n",
              "      const buttonEl =\n",
              "        document.querySelector('#df-2a06ec42-c057-4971-8256-075da6fef914 button.colab-df-convert');\n",
              "      buttonEl.style.display =\n",
              "        google.colab.kernel.accessAllowed ? 'block' : 'none';\n",
              "\n",
              "      async function convertToInteractive(key) {\n",
              "        const element = document.querySelector('#df-2a06ec42-c057-4971-8256-075da6fef914');\n",
              "        const dataTable =\n",
              "          await google.colab.kernel.invokeFunction('convertToInteractive',\n",
              "                                                    [key], {});\n",
              "        if (!dataTable) return;\n",
              "\n",
              "        const docLinkHtml = 'Like what you see? Visit the ' +\n",
              "          '<a target=\"_blank\" href=https://colab.research.google.com/notebooks/data_table.ipynb>data table notebook</a>'\n",
              "          + ' to learn more about interactive tables.';\n",
              "        element.innerHTML = '';\n",
              "        dataTable['output_type'] = 'display_data';\n",
              "        await google.colab.output.renderOutput(dataTable, element);\n",
              "        const docLink = document.createElement('div');\n",
              "        docLink.innerHTML = docLinkHtml;\n",
              "        element.appendChild(docLink);\n",
              "      }\n",
              "    </script>\n",
              "  </div>\n",
              "\n",
              "    </div>\n",
              "  </div>\n"
            ]
          },
          "metadata": {},
          "execution_count": 48
        }
      ]
    },
    {
      "cell_type": "code",
      "source": [
        "ax1 = plt.subplot(111)\n",
        "df[~df['bot'] & (df['length_diff'].abs() < 4000)]['length_diff'].hist(ax=ax1, color='blue', label='Users', alpha=0.5, bins=1000, density=True)\n",
        "df[df['bot'] & (df['length_diff'].abs() < 4000)]['length_diff'].hist(ax=ax1, color='red', label='Bot', alpha=0.5, bins=1000, density=True)\n",
        "ax1.legend(loc='best')\n",
        "\n",
        "ax1.set_ylim((0, 0.0025))"
      ],
      "metadata": {
        "colab": {
          "base_uri": "https://localhost:8080/",
          "height": 452
        },
        "id": "so71v2N11t56",
        "outputId": "49f3d3c2-1745-44d1-ccf3-fe35eef6b228"
      },
      "id": "so71v2N11t56",
      "execution_count": 50,
      "outputs": [
        {
          "output_type": "execute_result",
          "data": {
            "text/plain": [
              "(0.0, 0.0025)"
            ]
          },
          "metadata": {},
          "execution_count": 50
        },
        {
          "output_type": "display_data",
          "data": {
            "text/plain": [
              "<Figure size 640x480 with 1 Axes>"
            ],
            "image/png": "[encoded data removed]"
          },
          "metadata": {}
        }
      ]
    },
    {
      "cell_type": "code",
      "source": [
        "ax1 = plt.subplot(111)\n",
        "df[~df['bot']]['revision_diff'].hist(ax=ax1, color='blue', label='Users', alpha=0.5, bins=100)\n",
        "df[df['bot']]['revision_diff'].hist(ax=ax1, color='red', label='Bot', alpha=0.5)\n",
        "ax1.legend(loc='best')\n",
        "\n",
        "ax1.set_ylim((0, 100))"
      ],
      "metadata": {
        "colab": {
          "base_uri": "https://localhost:8080/",
          "height": 470
        },
        "id": "z_FhT9vI1vWM",
        "outputId": "f4b406fc-40db-427b-9003-da807ca431a3"
      },
      "id": "z_FhT9vI1vWM",
      "execution_count": 51,
      "outputs": [
        {
          "output_type": "execute_result",
          "data": {
            "text/plain": [
              "(0.0, 100.0)"
            ]
          },
          "metadata": {},
          "execution_count": 51
        },
        {
          "output_type": "display_data",
          "data": {
            "text/plain": [
              "<Figure size 640x480 with 1 Axes>"
            ],
            "image/png": "[encoded data removed]"
          },
          "metadata": {}
        }
      ]
    },
    {
      "cell_type": "code",
      "source": [
        "ax1 = plt.subplot(111)\n",
        "df[~df['bot']].plot.scatter(x='revision_diff', y='length_diff', ax=ax1, color='blue', label='Users', alpha=0.5)\n",
        "df[df['bot']].plot.scatter(x='revision_diff', y='length_diff', ax=ax1, color='red', label='Bot', alpha=0.5)\n",
        "ax1.legend(loc='best')\n",
        "\n",
        "ax1.set_ylim((-5000, 5000))\n",
        "ax1.set_xlim((0, 100000))"
      ],
      "metadata": {
        "colab": {
          "base_uri": "https://localhost:8080/",
          "height": 467
        },
        "id": "mb36o2nN1wkO",
        "outputId": "984a2504-ec4d-4a56-859a-bf6b1ca9cd48"
      },
      "id": "mb36o2nN1wkO",
      "execution_count": 52,
      "outputs": [
        {
          "output_type": "execute_result",
          "data": {
            "text/plain": [
              "(0.0, 100000.0)"
            ]
          },
          "metadata": {},
          "execution_count": 52
        },
        {
          "output_type": "display_data",
          "data": {
            "text/plain": [
              "<Figure size 640x480 with 1 Axes>"
            ],
            "image/png": "[encoded data removed]"
          },
          "metadata": {}
        }
      ]
    },
    {
      "cell_type": "markdown",
      "source": [
        "Observations:\n",
        "- real users makes bigger changes (>1k symbols per edit)\n",
        "- changes between +/- 1k edited changes make both users and bots, so events are not distinguishable. Users do bigger and mostly additional edits (distribution right-skewed with longer tails comparing to bot distribution)\n",
        "- bots has bot in the name (too obvious)\n",
        "- bots generates comments in structured form\n",
        "- revision diff is smaller for bots, it seems the reason is because bot need less time to make a change"
      ],
      "metadata": {
        "id": "Sv5jBRbx1y6x"
      },
      "id": "Sv5jBRbx1y6x"
    },
    {
      "cell_type": "markdown",
      "source": [
        "## Bot behavior"
      ],
      "metadata": {
        "id": "RRRqY-M_10dh"
      },
      "id": "RRRqY-M_10dh"
    },
    {
      "cell_type": "code",
      "source": [
        "ax1 = plt.subplot(111)\n",
        "df[df['bot'] & (df['length_diff'].abs() < 4000)].groupby('user')['length_diff'].hist(ax=ax1, alpha=0.5, bins=50)\n",
        "ax1.legend(loc='best')"
      ],
      "metadata": {
        "colab": {
          "base_uri": "https://localhost:8080/",
          "height": 484
        },
        "id": "3_1jVyh-1zGd",
        "outputId": "149db100-bf59-48ad-b331-842fac94eeb8"
      },
      "id": "3_1jVyh-1zGd",
      "execution_count": 53,
      "outputs": [
        {
          "output_type": "stream",
          "name": "stderr",
          "text": [
            "WARNING:matplotlib.legend:No artists with labels found to put in legend.  Note that artists whose label start with an underscore are ignored when legend() is called with no argument.\n"
          ]
        },
        {
          "output_type": "execute_result",
          "data": {
            "text/plain": [
              "<matplotlib.legend.Legend at 0x7fe1209d0070>"
            ]
          },
          "metadata": {},
          "execution_count": 53
        },
        {
          "output_type": "display_data",
          "data": {
            "text/plain": [
              "<Figure size 640x480 with 1 Axes>"
            ],
            "image/png": "[encoded data removed]"
          },
          "metadata": {}
        }
      ]
    },
    {
      "cell_type": "code",
      "source": [
        "_df = df[df['bot']].groupby(['user'], as_index=False).agg(\n",
        "                      {'length_diff':['count', 'mean','std']}).reset_index()\n",
        "_df.dropna(inplace=True)\n",
        "\n",
        "_df['mahalanobis'] = _df['length_diff']['mean'] / _df['length_diff']['std']\n",
        "_df"
      ],
      "metadata": {
        "colab": {
          "base_uri": "https://localhost:8080/",
          "height": 1000
        },
        "id": "-aCWA7WM14la",
        "outputId": "56b39143-f439-475c-a4c5-78caae4d3f6c"
      },
      "id": "-aCWA7WM14la",
      "execution_count": 54,
      "outputs": [
        {
          "output_type": "execute_result",
          "data": {
            "text/plain": [
              "   index                    user length_diff                             \\\n",
              "                                       count         mean           std   \n",
              "0      0               AnomieBOT          79     7.873418    375.700896   \n",
              "2      2           AnomieBOT III           3  -253.333333    218.289563   \n",
              "3      3                BattyBot          44    49.136364     23.698289   \n",
              "4      4                 Bot1058           2    -7.500000     16.263456   \n",
              "5      5                  Cewbot          11   310.454545    361.890139   \n",
              "6      6             ChristieBot           6   220.333333    420.404408   \n",
              "7      7            Citation bot         130    42.346154     98.789002   \n",
              "8      8             ClueBot III          10 -1054.100000   2722.704515   \n",
              "9      9         CommonsDelinker          15   -64.133333     46.913091   \n",
              "11    11              Cyberbot I          28    45.000000    238.117618   \n",
              "12    12                 DPL bot          20   459.050000    451.825592   \n",
              "14    14            DYKUpdateBot           4   836.750000    636.861249   \n",
              "15    15                  DatBot          16    44.062500     11.750000   \n",
              "16    16            DeltaQuadBot          16   102.250000    145.816094   \n",
              "20    20         Filedelinkerbot          13   -18.384615     84.156143   \n",
              "21    21              FireflyBot           5   772.600000     10.139033   \n",
              "22    22              GreenC bot          13   243.384615    164.937634   \n",
              "23    23         ImageTaggingBot           6   771.000000    320.505226   \n",
              "24    24      InternetArchiveBot          37   215.486486    157.845850   \n",
              "25    25          JCW-CleanerBot           7    16.571429     21.938225   \n",
              "26    26              JJMC89 bot           5   -83.600000    282.447871   \n",
              "27    27          JJMC89 bot III          63   -53.380952     90.303329   \n",
              "28    28                  JL-Bot           2  -168.500000    173.241161   \n",
              "29    29                 Legobot          28    22.714286    143.080619   \n",
              "30    30             ListeriaBot           2  1043.000000   1409.970922   \n",
              "31    31  Lowercase sigmabot III         103   472.087379   6211.669958   \n",
              "32    32              MajavahBot           2 -3449.000000   2887.824094   \n",
              "33    33                 Mathbot           4   -81.000000    523.367939   \n",
              "34    34              MilHistBot          11    47.727273     37.456884   \n",
              "35    35                MusikBot           2 -1152.000000   1622.102956   \n",
              "36    36             MusikBot II           5   -16.800000      0.447214   \n",
              "38    38          Qwerfjkl (bot)           2    26.000000      0.000000   \n",
              "39    39                RMCD bot           7    56.142857     71.277459   \n",
              "40    40             Reports bot           5     7.000000     24.392622   \n",
              "41    41               SDZeroBot          29  3092.103448  10378.066006   \n",
              "42    42                 ST47Bot           2  -745.000000   1134.199277   \n",
              "43    43                  Scsbot           2 -1831.000000   2590.839246   \n",
              "44    44          SheepLinterBot           2     1.000000      0.000000   \n",
              "45    45              WP 1.0 bot         489  -179.171779   3834.215820   \n",
              "46    46                  WugBot           3   153.333333     84.701436   \n",
              "47    47               Yapperbot          13   659.692308    369.771863   \n",
              "\n",
              "   mahalanobis  \n",
              "                \n",
              "0     0.020957  \n",
              "2    -1.160538  \n",
              "3     2.073414  \n",
              "4    -0.461157  \n",
              "5     0.857870  \n",
              "6     0.524099  \n",
              "7     0.428653  \n",
              "8    -0.387152  \n",
              "9    -1.367067  \n",
              "11    0.188982  \n",
              "12    1.015989  \n",
              "14    1.313865  \n",
              "15    3.750000  \n",
              "16    0.701226  \n",
              "20   -0.218458  \n",
              "21   76.200557  \n",
              "22    1.475616  \n",
              "23    2.405577  \n",
              "24    1.365170  \n",
              "25    0.755368  \n",
              "26   -0.295984  \n",
              "27   -0.591129  \n",
              "28   -0.972633  \n",
              "29    0.158752  \n",
              "30    0.739732  \n",
              "31    0.076000  \n",
              "32   -1.194325  \n",
              "33   -0.154767  \n",
              "34    1.274192  \n",
              "35   -0.710189  \n",
              "36  -37.565942  \n",
              "38         inf  \n",
              "39    0.787666  \n",
              "40    0.286972  \n",
              "41    0.297946  \n",
              "42   -0.656851  \n",
              "43   -0.706721  \n",
              "44         inf  \n",
              "45   -0.046730  \n",
              "46    1.810280  \n",
              "47    1.784052  "
            ],
            "text/html": [
              "\n",
              "  <div id=\"df-8c497c15-dc04-43c4-9150-e7f3185d13c4\" class=\"colab-df-container\">\n",
              "    <div>\n",
              "<style scoped>\n",
              "    .dataframe tbody tr th:only-of-type {\n",
              "        vertical-align: middle;\n",
              "    }\n",
              "\n",
              "    .dataframe tbody tr th {\n",
              "        vertical-align: top;\n",
              "    }\n",
              "\n",
              "    .dataframe thead tr th {\n",
              "        text-align: left;\n",
              "    }\n",
              "</style>\n",
              "<table border=\"1\" class=\"dataframe\">\n",
              "  <thead>\n",
              "    <tr>\n",
              "      <th></th>\n",
              "      <th>index</th>\n",
              "      <th>user</th>\n",
              "      <th colspan=\"3\" halign=\"left\">length_diff</th>\n",
              "      <th>mahalanobis</th>\n",
              "    </tr>\n",
              "    <tr>\n",
              "      <th></th>\n",
              "      <th></th>\n",
              "      <th></th>\n",
              "      <th>count</th>\n",
              "      <th>mean</th>\n",
              "      <th>std</th>\n",
              "      <th></th>\n",
              "    </tr>\n",
              "  </thead>\n",
              "  <tbody>\n",
              "    <tr>\n",
              "      <th>0</th>\n",
              "      <td>0</td>\n",
              "      <td>AnomieBOT</td>\n",
              "      <td>79</td>\n",
              "      <td>7.873418</td>\n",
              "      <td>375.700896</td>\n",
              "      <td>0.020957</td>\n",
              "    </tr>\n",
              "    <tr>\n",
              "      <th>2</th>\n",
              "      <td>2</td>\n",
              "      <td>AnomieBOT III</td>\n",
              "      <td>3</td>\n",
              "      <td>-253.333333</td>\n",
              "      <td>218.289563</td>\n",
              "      <td>-1.160538</td>\n",
              "    </tr>\n",
              "    <tr>\n",
              "      <th>3</th>\n",
              "      <td>3</td>\n",
              "      <td>BattyBot</td>\n",
              "      <td>44</td>\n",
              "      <td>49.136364</td>\n",
              "      <td>23.698289</td>\n",
              "      <td>2.073414</td>\n",
              "    </tr>\n",
              "    <tr>\n",
              "      <th>4</th>\n",
              "      <td>4</td>\n",
              "      <td>Bot1058</td>\n",
              "      <td>2</td>\n",
              "      <td>-7.500000</td>\n",
              "      <td>16.263456</td>\n",
              "      <td>-0.461157</td>\n",
              "    </tr>\n",
              "    <tr>\n",
              "      <th>5</th>\n",
              "      <td>5</td>\n",
              "      <td>Cewbot</td>\n",
              "      <td>11</td>\n",
              "      <td>310.454545</td>\n",
              "      <td>361.890139</td>\n",
              "      <td>0.857870</td>\n",
              "    </tr>\n",
              "    <tr>\n",
              "      <th>6</th>\n",
              "      <td>6</td>\n",
              "      <td>ChristieBot</td>\n",
              "      <td>6</td>\n",
              "      <td>220.333333</td>\n",
              "      <td>420.404408</td>\n",
              "      <td>0.524099</td>\n",
              "    </tr>\n",
              "    <tr>\n",
              "      <th>7</th>\n",
              "      <td>7</td>\n",
              "      <td>Citation bot</td>\n",
              "      <td>130</td>\n",
              "      <td>42.346154</td>\n",
              "      <td>98.789002</td>\n",
              "      <td>0.428653</td>\n",
              "    </tr>\n",
              "    <tr>\n",
              "      <th>8</th>\n",
              "      <td>8</td>\n",
              "      <td>ClueBot III</td>\n",
              "      <td>10</td>\n",
              "      <td>-1054.100000</td>\n",
              "      <td>2722.704515</td>\n",
              "      <td>-0.387152</td>\n",
              "    </tr>\n",
              "    <tr>\n",
              "      <th>9</th>\n",
              "      <td>9</td>\n",
              "      <td>CommonsDelinker</td>\n",
              "      <td>15</td>\n",
              "      <td>-64.133333</td>\n",
              "      <td>46.913091</td>\n",
              "      <td>-1.367067</td>\n",
              "    </tr>\n",
              "    <tr>\n",
              "      <th>11</th>\n",
              "      <td>11</td>\n",
              "      <td>Cyberbot I</td>\n",
              "      <td>28</td>\n",
              "      <td>45.000000</td>\n",
              "      <td>238.117618</td>\n",
              "      <td>0.188982</td>\n",
              "    </tr>\n",
              "    <tr>\n",
              "      <th>12</th>\n",
              "      <td>12</td>\n",
              "      <td>DPL bot</td>\n",
              "      <td>20</td>\n",
              "      <td>459.050000</td>\n",
              "      <td>451.825592</td>\n",
              "      <td>1.015989</td>\n",
              "    </tr>\n",
              "    <tr>\n",
              "      <th>14</th>\n",
              "      <td>14</td>\n",
              "      <td>DYKUpdateBot</td>\n",
              "      <td>4</td>\n",
              "      <td>836.750000</td>\n",
              "      <td>636.861249</td>\n",
              "      <td>1.313865</td>\n",
              "    </tr>\n",
              "    <tr>\n",
              "      <th>15</th>\n",
              "      <td>15</td>\n",
              "      <td>DatBot</td>\n",
              "      <td>16</td>\n",
              "      <td>44.062500</td>\n",
              "      <td>11.750000</td>\n",
              "      <td>3.750000</td>\n",
              "    </tr>\n",
              "    <tr>\n",
              "      <th>16</th>\n",
              "      <td>16</td>\n",
              "      <td>DeltaQuadBot</td>\n",
              "      <td>16</td>\n",
              "      <td>102.250000</td>\n",
              "      <td>145.816094</td>\n",
              "      <td>0.701226</td>\n",
              "    </tr>\n",
              "    <tr>\n",
              "      <th>20</th>\n",
              "      <td>20</td>\n",
              "      <td>Filedelinkerbot</td>\n",
              "      <td>13</td>\n",
              "      <td>-18.384615</td>\n",
              "      <td>84.156143</td>\n",
              "      <td>-0.218458</td>\n",
              "    </tr>\n",
              "    <tr>\n",
              "      <th>21</th>\n",
              "      <td>21</td>\n",
              "      <td>FireflyBot</td>\n",
              "      <td>5</td>\n",
              "      <td>772.600000</td>\n",
              "      <td>10.139033</td>\n",
              "      <td>76.200557</td>\n",
              "    </tr>\n",
              "    <tr>\n",
              "      <th>22</th>\n",
              "      <td>22</td>\n",
              "      <td>GreenC bot</td>\n",
              "      <td>13</td>\n",
              "      <td>243.384615</td>\n",
              "      <td>164.937634</td>\n",
              "      <td>1.475616</td>\n",
              "    </tr>\n",
              "    <tr>\n",
              "      <th>23</th>\n",
              "      <td>23</td>\n",
              "      <td>ImageTaggingBot</td>\n",
              "      <td>6</td>\n",
              "      <td>771.000000</td>\n",
              "      <td>320.505226</td>\n",
              "      <td>2.405577</td>\n",
              "    </tr>\n",
              "    <tr>\n",
              "      <th>24</th>\n",
              "      <td>24</td>\n",
              "      <td>InternetArchiveBot</td>\n",
              "      <td>37</td>\n",
              "      <td>215.486486</td>\n",
              "      <td>157.845850</td>\n",
              "      <td>1.365170</td>\n",
              "    </tr>\n",
              "    <tr>\n",
              "      <th>25</th>\n",
              "      <td>25</td>\n",
              "      <td>JCW-CleanerBot</td>\n",
              "      <td>7</td>\n",
              "      <td>16.571429</td>\n",
              "      <td>21.938225</td>\n",
              "      <td>0.755368</td>\n",
              "    </tr>\n",
              "    <tr>\n",
              "      <th>26</th>\n",
              "      <td>26</td>\n",
              "      <td>JJMC89 bot</td>\n",
              "      <td>5</td>\n",
              "      <td>-83.600000</td>\n",
              "      <td>282.447871</td>\n",
              "      <td>-0.295984</td>\n",
              "    </tr>\n",
              "    <tr>\n",
              "      <th>27</th>\n",
              "      <td>27</td>\n",
              "      <td>JJMC89 bot III</td>\n",
              "      <td>63</td>\n",
              "      <td>-53.380952</td>\n",
              "      <td>90.303329</td>\n",
              "      <td>-0.591129</td>\n",
              "    </tr>\n",
              "    <tr>\n",
              "      <th>28</th>\n",
              "      <td>28</td>\n",
              "      <td>JL-Bot</td>\n",
              "      <td>2</td>\n",
              "      <td>-168.500000</td>\n",
              "      <td>173.241161</td>\n",
              "      <td>-0.972633</td>\n",
              "    </tr>\n",
              "    <tr>\n",
              "      <th>29</th>\n",
              "      <td>29</td>\n",
              "      <td>Legobot</td>\n",
              "      <td>28</td>\n",
              "      <td>22.714286</td>\n",
              "      <td>143.080619</td>\n",
              "      <td>0.158752</td>\n",
              "    </tr>\n",
              "    <tr>\n",
              "      <th>30</th>\n",
              "      <td>30</td>\n",
              "      <td>ListeriaBot</td>\n",
              "      <td>2</td>\n",
              "      <td>1043.000000</td>\n",
              "      <td>1409.970922</td>\n",
              "      <td>0.739732</td>\n",
              "    </tr>\n",
              "    <tr>\n",
              "      <th>31</th>\n",
              "      <td>31</td>\n",
              "      <td>Lowercase sigmabot III</td>\n",
              "      <td>103</td>\n",
              "      <td>472.087379</td>\n",
              "      <td>6211.669958</td>\n",
              "      <td>0.076000</td>\n",
              "    </tr>\n",
              "    <tr>\n",
              "      <th>32</th>\n",
              "      <td>32</td>\n",
              "      <td>MajavahBot</td>\n",
              "      <td>2</td>\n",
              "      <td>-3449.000000</td>\n",
              "      <td>2887.824094</td>\n",
              "      <td>-1.194325</td>\n",
              "    </tr>\n",
              "    <tr>\n",
              "      <th>33</th>\n",
              "      <td>33</td>\n",
              "      <td>Mathbot</td>\n",
              "      <td>4</td>\n",
              "      <td>-81.000000</td>\n",
              "      <td>523.367939</td>\n",
              "      <td>-0.154767</td>\n",
              "    </tr>\n",
              "    <tr>\n",
              "      <th>34</th>\n",
              "      <td>34</td>\n",
              "      <td>MilHistBot</td>\n",
              "      <td>11</td>\n",
              "      <td>47.727273</td>\n",
              "      <td>37.456884</td>\n",
              "      <td>1.274192</td>\n",
              "    </tr>\n",
              "    <tr>\n",
              "      <th>35</th>\n",
              "      <td>35</td>\n",
              "      <td>MusikBot</td>\n",
              "      <td>2</td>\n",
              "      <td>-1152.000000</td>\n",
              "      <td>1622.102956</td>\n",
              "      <td>-0.710189</td>\n",
              "    </tr>\n",
              "    <tr>\n",
              "      <th>36</th>\n",
              "      <td>36</td>\n",
              "      <td>MusikBot II</td>\n",
              "      <td>5</td>\n",
              "      <td>-16.800000</td>\n",
              "      <td>0.447214</td>\n",
              "      <td>-37.565942</td>\n",
              "    </tr>\n",
              "    <tr>\n",
              "      <th>38</th>\n",
              "      <td>38</td>\n",
              "      <td>Qwerfjkl (bot)</td>\n",
              "      <td>2</td>\n",
              "      <td>26.000000</td>\n",
              "      <td>0.000000</td>\n",
              "      <td>inf</td>\n",
              "    </tr>\n",
              "    <tr>\n",
              "      <th>39</th>\n",
              "      <td>39</td>\n",
              "      <td>RMCD bot</td>\n",
              "      <td>7</td>\n",
              "      <td>56.142857</td>\n",
              "      <td>71.277459</td>\n",
              "      <td>0.787666</td>\n",
              "    </tr>\n",
              "    <tr>\n",
              "      <th>40</th>\n",
              "      <td>40</td>\n",
              "      <td>Reports bot</td>\n",
              "      <td>5</td>\n",
              "      <td>7.000000</td>\n",
              "      <td>24.392622</td>\n",
              "      <td>0.286972</td>\n",
              "    </tr>\n",
              "    <tr>\n",
              "      <th>41</th>\n",
              "      <td>41</td>\n",
              "      <td>SDZeroBot</td>\n",
              "      <td>29</td>\n",
              "      <td>3092.103448</td>\n",
              "      <td>10378.066006</td>\n",
              "      <td>0.297946</td>\n",
              "    </tr>\n",
              "    <tr>\n",
              "      <th>42</th>\n",
              "      <td>42</td>\n",
              "      <td>ST47Bot</td>\n",
              "      <td>2</td>\n",
              "      <td>-745.000000</td>\n",
              "      <td>1134.199277</td>\n",
              "      <td>-0.656851</td>\n",
              "    </tr>\n",
              "    <tr>\n",
              "      <th>43</th>\n",
              "      <td>43</td>\n",
              "      <td>Scsbot</td>\n",
              "      <td>2</td>\n",
              "      <td>-1831.000000</td>\n",
              "      <td>2590.839246</td>\n",
              "      <td>-0.706721</td>\n",
              "    </tr>\n",
              "    <tr>\n",
              "      <th>44</th>\n",
              "      <td>44</td>\n",
              "      <td>SheepLinterBot</td>\n",
              "      <td>2</td>\n",
              "      <td>1.000000</td>\n",
              "      <td>0.000000</td>\n",
              "      <td>inf</td>\n",
              "    </tr>\n",
              "    <tr>\n",
              "      <th>45</th>\n",
              "      <td>45</td>\n",
              "      <td>WP 1.0 bot</td>\n",
              "      <td>489</td>\n",
              "      <td>-179.171779</td>\n",
              "      <td>3834.215820</td>\n",
              "      <td>-0.046730</td>\n",
              "    </tr>\n",
              "    <tr>\n",
              "      <th>46</th>\n",
              "      <td>46</td>\n",
              "      <td>WugBot</td>\n",
              "      <td>3</td>\n",
              "      <td>153.333333</td>\n",
              "      <td>84.701436</td>\n",
              "      <td>1.810280</td>\n",
              "    </tr>\n",
              "    <tr>\n",
              "      <th>47</th>\n",
              "      <td>47</td>\n",
              "      <td>Yapperbot</td>\n",
              "      <td>13</td>\n",
              "      <td>659.692308</td>\n",
              "      <td>369.771863</td>\n",
              "      <td>1.784052</td>\n",
              "    </tr>\n",
              "  </tbody>\n",
              "</table>\n",
              "</div>\n",
              "    <div class=\"colab-df-buttons\">\n",
              "\n",
              "  <div class=\"colab-df-container\">\n",
              "    <button class=\"colab-df-convert\" onclick=\"convertToInteractive('df-8c497c15-dc04-43c4-9150-e7f3185d13c4')\"\n",
              "            title=\"Convert this dataframe to an interactive table.\"\n",
              "            style=\"display:none;\">\n",
              "\n",
              "  <svg xmlns=\"http://www.w3.org/2000/svg\" height=\"24px\" viewBox=\"0 -960 960 960\">\n",
              "    <path d=\"M120-120v-720h720v720H120Zm60-500h600v-160H180v160Zm220 220h160v-160H400v160Zm0 220h160v-160H400v160ZM180-400h160v-160H180v160Zm440 0h160v-160H620v160ZM180-180h160v-160H180v160Zm440 0h160v-160H620v160Z\"/>\n",
              "  </svg>\n",
              "    </button>\n",
              "\n",
              "  <style>\n",
              "    .colab-df-container {\n",
              "      display:flex;\n",
              "      gap: 12px;\n",
              "    }\n",
              "\n",
              "    .colab-df-convert {\n",
              "      background-color: #E8F0FE;\n",
              "      border: none;\n",
              "      border-radius: 50%;\n",
              "      cursor: pointer;\n",
              "      display: none;\n",
              "      fill: #1967D2;\n",
              "      height: 32px;\n",
              "      padding: 0 0 0 0;\n",
              "      width: 32px;\n",
              "    }\n",
              "\n",
              "    .colab-df-convert:hover {\n",
              "      background-color: #E2EBFA;\n",
              "      box-shadow: 0px 1px 2px rgba(60, 64, 67, 0.3), 0px 1px 3px 1px rgba(60, 64, 67, 0.15);\n",
              "      fill: #174EA6;\n",
              "    }\n",
              "\n",
              "    .colab-df-buttons div {\n",
              "      margin-bottom: 4px;\n",
              "    }\n",
              "\n",
              "    [theme=dark] .colab-df-convert {\n",
              "      background-color: #3B4455;\n",
              "      fill: #D2E3FC;\n",
              "    }\n",
              "\n",
              "    [theme=dark] .colab-df-convert:hover {\n",
              "      background-color: #434B5C;\n",
              "      box-shadow: 0px 1px 3px 1px rgba(0, 0, 0, 0.15);\n",
              "      filter: drop-shadow(0px 1px 2px rgba(0, 0, 0, 0.3));\n",
              "      fill: #FFFFFF;\n",
              "    }\n",
              "  </style>\n",
              "\n",
              "    <script>\n",
              "      const buttonEl =\n",
              "        document.querySelector('#df-8c497c15-dc04-43c4-9150-e7f3185d13c4 button.colab-df-convert');\n",
              "      buttonEl.style.display =\n",
              "        google.colab.kernel.accessAllowed ? 'block' : 'none';\n",
              "\n",
              "      async function convertToInteractive(key) {\n",
              "        const element = document.querySelector('#df-8c497c15-dc04-43c4-9150-e7f3185d13c4');\n",
              "        const dataTable =\n",
              "          await google.colab.kernel.invokeFunction('convertToInteractive',\n",
              "                                                    [key], {});\n",
              "        if (!dataTable) return;\n",
              "\n",
              "        const docLinkHtml = 'Like what you see? Visit the ' +\n",
              "          '<a target=\"_blank\" href=https://colab.research.google.com/notebooks/data_table.ipynb>data table notebook</a>'\n",
              "          + ' to learn more about interactive tables.';\n",
              "        element.innerHTML = '';\n",
              "        dataTable['output_type'] = 'display_data';\n",
              "        await google.colab.output.renderOutput(dataTable, element);\n",
              "        const docLink = document.createElement('div');\n",
              "        docLink.innerHTML = docLinkHtml;\n",
              "        element.appendChild(docLink);\n",
              "      }\n",
              "    </script>\n",
              "  </div>\n",
              "\n",
              "\n",
              "<div id=\"df-210f3117-9300-46c5-a184-b3175f10bc76\">\n",
              "  <button class=\"colab-df-quickchart\" onclick=\"quickchart('df-210f3117-9300-46c5-a184-b3175f10bc76')\"\n",
              "            title=\"Suggest charts\"\n",
              "            style=\"display:none;\">\n",
              "\n",
              "<svg xmlns=\"http://www.w3.org/2000/svg\" height=\"24px\"viewBox=\"0 0 24 24\"\n",
              "     width=\"24px\">\n",
              "    <g>\n",
              "        <path d=\"M19 3H5c-1.1 0-2 .9-2 2v14c0 1.1.9 2 2 2h14c1.1 0 2-.9 2-2V5c0-1.1-.9-2-2-2zM9 17H7v-7h2v7zm4 0h-2V7h2v10zm4 0h-2v-4h2v4z\"/>\n",
              "    </g>\n",
              "</svg>\n",
              "  </button>\n",
              "\n",
              "<style>\n",
              "  .colab-df-quickchart {\n",
              "      --bg-color: #E8F0FE;\n",
              "      --fill-color: #1967D2;\n",
              "      --hover-bg-color: #E2EBFA;\n",
              "      --hover-fill-color: #174EA6;\n",
              "      --disabled-fill-color: #AAA;\n",
              "      --disabled-bg-color: #DDD;\n",
              "  }\n",
              "\n",
              "  [theme=dark] .colab-df-quickchart {\n",
              "      --bg-color: #3B4455;\n",
              "      --fill-color: #D2E3FC;\n",
              "      --hover-bg-color: #434B5C;\n",
              "      --hover-fill-color: #FFFFFF;\n",
              "      --disabled-bg-color: #3B4455;\n",
              "      --disabled-fill-color: #666;\n",
              "  }\n",
              "\n",
              "  .colab-df-quickchart {\n",
              "    background-color: var(--bg-color);\n",
              "    border: none;\n",
              "    border-radius: 50%;\n",
              "    cursor: pointer;\n",
              "    display: none;\n",
              "    fill: var(--fill-color);\n",
              "    height: 32px;\n",
              "    padding: 0;\n",
              "    width: 32px;\n",
              "  }\n",
              "\n",
              "  .colab-df-quickchart:hover {\n",
              "    background-color: var(--hover-bg-color);\n",
              "    box-shadow: 0 1px 2px rgba(60, 64, 67, 0.3), 0 1px 3px 1px rgba(60, 64, 67, 0.15);\n",
              "    fill: var(--button-hover-fill-color);\n",
              "  }\n",
              "\n",
              "  .colab-df-quickchart-complete:disabled,\n",
              "  .colab-df-quickchart-complete:disabled:hover {\n",
              "    background-color: var(--disabled-bg-color);\n",
              "    fill: var(--disabled-fill-color);\n",
              "    box-shadow: none;\n",
              "  }\n",
              "\n",
              "  .colab-df-spinner {\n",
              "    border: 2px solid var(--fill-color);\n",
              "    border-color: transparent;\n",
              "    border-bottom-color: var(--fill-color);\n",
              "    animation:\n",
              "      spin 1s steps(1) infinite;\n",
              "  }\n",
              "\n",
              "  @keyframes spin {\n",
              "    0% {\n",
              "      border-color: transparent;\n",
              "      border-bottom-color: var(--fill-color);\n",
              "      border-left-color: var(--fill-color);\n",
              "    }\n",
              "    20% {\n",
              "      border-color: transparent;\n",
              "      border-left-color: var(--fill-color);\n",
              "      border-top-color: var(--fill-color);\n",
              "    }\n",
              "    30% {\n",
              "      border-color: transparent;\n",
              "      border-left-color: var(--fill-color);\n",
              "      border-top-color: var(--fill-color);\n",
              "      border-right-color: var(--fill-color);\n",
              "    }\n",
              "    40% {\n",
              "      border-color: transparent;\n",
              "      border-right-color: var(--fill-color);\n",
              "      border-top-color: var(--fill-color);\n",
              "    }\n",
              "    60% {\n",
              "      border-color: transparent;\n",
              "      border-right-color: var(--fill-color);\n",
              "    }\n",
              "    80% {\n",
              "      border-color: transparent;\n",
              "      border-right-color: var(--fill-color);\n",
              "      border-bottom-color: var(--fill-color);\n",
              "    }\n",
              "    90% {\n",
              "      border-color: transparent;\n",
              "      border-bottom-color: var(--fill-color);\n",
              "    }\n",
              "  }\n",
              "</style>\n",
              "\n",
              "  <script>\n",
              "    async function quickchart(key) {\n",
              "      const quickchartButtonEl =\n",
              "        document.querySelector('#' + key + ' button');\n",
              "      quickchartButtonEl.disabled = true;  // To prevent multiple clicks.\n",
              "      quickchartButtonEl.classList.add('colab-df-spinner');\n",
              "      try {\n",
              "        const charts = await google.colab.kernel.invokeFunction(\n",
              "            'suggestCharts', [key], {});\n",
              "      } catch (error) {\n",
              "        console.error('Error during call to suggestCharts:', error);\n",
              "      }\n",
              "      quickchartButtonEl.classList.remove('colab-df-spinner');\n",
              "      quickchartButtonEl.classList.add('colab-df-quickchart-complete');\n",
              "    }\n",
              "    (() => {\n",
              "      let quickchartButtonEl =\n",
              "        document.querySelector('#df-210f3117-9300-46c5-a184-b3175f10bc76 button');\n",
              "      quickchartButtonEl.style.display =\n",
              "        google.colab.kernel.accessAllowed ? 'block' : 'none';\n",
              "    })();\n",
              "  </script>\n",
              "</div>\n",
              "    </div>\n",
              "  </div>\n"
            ]
          },
          "metadata": {},
          "execution_count": 54
        }
      ]
    },
    {
      "cell_type": "code",
      "source": [
        "_df = df[~df['bot']].groupby(['user'], as_index=False).agg(\n",
        "                      {'length_diff':['count', 'mean','std']}).reset_index()\n",
        "_df.dropna(inplace=True)\n",
        "\n",
        "_df['mahalanobis'] = _df['length_diff']['mean'] / _df['length_diff']['std']\n",
        "_df"
      ],
      "metadata": {
        "colab": {
          "base_uri": "https://localhost:8080/",
          "height": 450
        },
        "id": "U3rjwr4Z15r2",
        "outputId": "2e852d35-705d-4b0e-902a-49278624f192"
      },
      "id": "U3rjwr4Z15r2",
      "execution_count": 55,
      "outputs": [
        {
          "output_type": "execute_result",
          "data": {
            "text/plain": [
              "     index                user length_diff                           \\\n",
              "                                     count        mean          std   \n",
              "3        3          0xDeadbeef           3  130.666667   112.005952   \n",
              "5        5         1.146.79.43           2  228.500000    85.559921   \n",
              "15      15     103.152.119.190           2    0.000000     0.000000   \n",
              "17      17        103.18.184.5           2   65.500000   191.625938   \n",
              "18      18     103.182.130.227           3   42.333333    33.486316   \n",
              "...    ...                 ...         ...         ...          ...   \n",
              "2489  2489  মোহাম্মদ জনি হোসেন           2   47.500000     3.535534   \n",
              "2490  2490           อย่ามาตบะ           6  -12.666667    41.960299   \n",
              "2491  2491          ギルディアス156世           3  947.666667  1076.056380   \n",
              "2492  2492                亚洲之星           7   12.857143    26.804406   \n",
              "2493  2493               清风与明月           2   -2.000000    11.313708   \n",
              "\n",
              "     mahalanobis  \n",
              "                  \n",
              "3       1.166605  \n",
              "5       2.670643  \n",
              "15           NaN  \n",
              "17      0.341812  \n",
              "18      1.264198  \n",
              "...          ...  \n",
              "2489   13.435029  \n",
              "2490   -0.301873  \n",
              "2491    0.880685  \n",
              "2492    0.479665  \n",
              "2493   -0.176777  \n",
              "\n",
              "[1126 rows x 6 columns]"
            ],
            "text/html": [
              "\n",
              "  <div id=\"df-7506d749-b577-4728-a627-dad98c88f1a8\" class=\"colab-df-container\">\n",
              "    <div>\n",
              "<style scoped>\n",
              "    .dataframe tbody tr th:only-of-type {\n",
              "        vertical-align: middle;\n",
              "    }\n",
              "\n",
              "    .dataframe tbody tr th {\n",
              "        vertical-align: top;\n",
              "    }\n",
              "\n",
              "    .dataframe thead tr th {\n",
              "        text-align: left;\n",
              "    }\n",
              "</style>\n",
              "<table border=\"1\" class=\"dataframe\">\n",
              "  <thead>\n",
              "    <tr>\n",
              "      <th></th>\n",
              "      <th>index</th>\n",
              "      <th>user</th>\n",
              "      <th colspan=\"3\" halign=\"left\">length_diff</th>\n",
              "      <th>mahalanobis</th>\n",
              "    </tr>\n",
              "    <tr>\n",
              "      <th></th>\n",
              "      <th></th>\n",
              "      <th></th>\n",
              "      <th>count</th>\n",
              "      <th>mean</th>\n",
              "      <th>std</th>\n",
              "      <th></th>\n",
              "    </tr>\n",
              "  </thead>\n",
              "  <tbody>\n",
              "    <tr>\n",
              "      <th>3</th>\n",
              "      <td>3</td>\n",
              "      <td>0xDeadbeef</td>\n",
              "      <td>3</td>\n",
              "      <td>130.666667</td>\n",
              "      <td>112.005952</td>\n",
              "      <td>1.166605</td>\n",
              "    </tr>\n",
              "    <tr>\n",
              "      <th>5</th>\n",
              "      <td>5</td>\n",
              "      <td>1.146.79.43</td>\n",
              "      <td>2</td>\n",
              "      <td>228.500000</td>\n",
              "      <td>85.559921</td>\n",
              "      <td>2.670643</td>\n",
              "    </tr>\n",
              "    <tr>\n",
              "      <th>15</th>\n",
              "      <td>15</td>\n",
              "      <td>103.152.119.190</td>\n",
              "      <td>2</td>\n",
              "      <td>0.000000</td>\n",
              "      <td>0.000000</td>\n",
              "      <td>NaN</td>\n",
              "    </tr>\n",
              "    <tr>\n",
              "      <th>17</th>\n",
              "      <td>17</td>\n",
              "      <td>103.18.184.5</td>\n",
              "      <td>2</td>\n",
              "      <td>65.500000</td>\n",
              "      <td>191.625938</td>\n",
              "      <td>0.341812</td>\n",
              "    </tr>\n",
              "    <tr>\n",
              "      <th>18</th>\n",
              "      <td>18</td>\n",
              "      <td>103.182.130.227</td>\n",
              "      <td>3</td>\n",
              "      <td>42.333333</td>\n",
              "      <td>33.486316</td>\n",
              "      <td>1.264198</td>\n",
              "    </tr>\n",
              "    <tr>\n",
              "      <th>...</th>\n",
              "      <td>...</td>\n",
              "      <td>...</td>\n",
              "      <td>...</td>\n",
              "      <td>...</td>\n",
              "      <td>...</td>\n",
              "      <td>...</td>\n",
              "    </tr>\n",
              "    <tr>\n",
              "      <th>2489</th>\n",
              "      <td>2489</td>\n",
              "      <td>মোহাম্মদ জনি হোসেন</td>\n",
              "      <td>2</td>\n",
              "      <td>47.500000</td>\n",
              "      <td>3.535534</td>\n",
              "      <td>13.435029</td>\n",
              "    </tr>\n",
              "    <tr>\n",
              "      <th>2490</th>\n",
              "      <td>2490</td>\n",
              "      <td>อย่ามาตบะ</td>\n",
              "      <td>6</td>\n",
              "      <td>-12.666667</td>\n",
              "      <td>41.960299</td>\n",
              "      <td>-0.301873</td>\n",
              "    </tr>\n",
              "    <tr>\n",
              "      <th>2491</th>\n",
              "      <td>2491</td>\n",
              "      <td>ギルディアス156世</td>\n",
              "      <td>3</td>\n",
              "      <td>947.666667</td>\n",
              "      <td>1076.056380</td>\n",
              "      <td>0.880685</td>\n",
              "    </tr>\n",
              "    <tr>\n",
              "      <th>2492</th>\n",
              "      <td>2492</td>\n",
              "      <td>亚洲之星</td>\n",
              "      <td>7</td>\n",
              "      <td>12.857143</td>\n",
              "      <td>26.804406</td>\n",
              "      <td>0.479665</td>\n",
              "    </tr>\n",
              "    <tr>\n",
              "      <th>2493</th>\n",
              "      <td>2493</td>\n",
              "      <td>清风与明月</td>\n",
              "      <td>2</td>\n",
              "      <td>-2.000000</td>\n",
              "      <td>11.313708</td>\n",
              "      <td>-0.176777</td>\n",
              "    </tr>\n",
              "  </tbody>\n",
              "</table>\n",
              "<p>1126 rows × 6 columns</p>\n",
              "</div>\n",
              "    <div class=\"colab-df-buttons\">\n",
              "\n",
              "  <div class=\"colab-df-container\">\n",
              "    <button class=\"colab-df-convert\" onclick=\"convertToInteractive('df-7506d749-b577-4728-a627-dad98c88f1a8')\"\n",
              "            title=\"Convert this dataframe to an interactive table.\"\n",
              "            style=\"display:none;\">\n",
              "\n",
              "  <svg xmlns=\"http://www.w3.org/2000/svg\" height=\"24px\" viewBox=\"0 -960 960 960\">\n",
              "    <path d=\"M120-120v-720h720v720H120Zm60-500h600v-160H180v160Zm220 220h160v-160H400v160Zm0 220h160v-160H400v160ZM180-400h160v-160H180v160Zm440 0h160v-160H620v160ZM180-180h160v-160H180v160Zm440 0h160v-160H620v160Z\"/>\n",
              "  </svg>\n",
              "    </button>\n",
              "\n",
              "  <style>\n",
              "    .colab-df-container {\n",
              "      display:flex;\n",
              "      gap: 12px;\n",
              "    }\n",
              "\n",
              "    .colab-df-convert {\n",
              "      background-color: #E8F0FE;\n",
              "      border: none;\n",
              "      border-radius: 50%;\n",
              "      cursor: pointer;\n",
              "      display: none;\n",
              "      fill: #1967D2;\n",
              "      height: 32px;\n",
              "      padding: 0 0 0 0;\n",
              "      width: 32px;\n",
              "    }\n",
              "\n",
              "    .colab-df-convert:hover {\n",
              "      background-color: #E2EBFA;\n",
              "      box-shadow: 0px 1px 2px rgba(60, 64, 67, 0.3), 0px 1px 3px 1px rgba(60, 64, 67, 0.15);\n",
              "      fill: #174EA6;\n",
              "    }\n",
              "\n",
              "    .colab-df-buttons div {\n",
              "      margin-bottom: 4px;\n",
              "    }\n",
              "\n",
              "    [theme=dark] .colab-df-convert {\n",
              "      background-color: #3B4455;\n",
              "      fill: #D2E3FC;\n",
              "    }\n",
              "\n",
              "    [theme=dark] .colab-df-convert:hover {\n",
              "      background-color: #434B5C;\n",
              "      box-shadow: 0px 1px 3px 1px rgba(0, 0, 0, 0.15);\n",
              "      filter: drop-shadow(0px 1px 2px rgba(0, 0, 0, 0.3));\n",
              "      fill: #FFFFFF;\n",
              "    }\n",
              "  </style>\n",
              "\n",
              "    <script>\n",
              "      const buttonEl =\n",
              "        document.querySelector('#df-7506d749-b577-4728-a627-dad98c88f1a8 button.colab-df-convert');\n",
              "      buttonEl.style.display =\n",
              "        google.colab.kernel.accessAllowed ? 'block' : 'none';\n",
              "\n",
              "      async function convertToInteractive(key) {\n",
              "        const element = document.querySelector('#df-7506d749-b577-4728-a627-dad98c88f1a8');\n",
              "        const dataTable =\n",
              "          await google.colab.kernel.invokeFunction('convertToInteractive',\n",
              "                                                    [key], {});\n",
              "        if (!dataTable) return;\n",
              "\n",
              "        const docLinkHtml = 'Like what you see? Visit the ' +\n",
              "          '<a target=\"_blank\" href=https://colab.research.google.com/notebooks/data_table.ipynb>data table notebook</a>'\n",
              "          + ' to learn more about interactive tables.';\n",
              "        element.innerHTML = '';\n",
              "        dataTable['output_type'] = 'display_data';\n",
              "        await google.colab.output.renderOutput(dataTable, element);\n",
              "        const docLink = document.createElement('div');\n",
              "        docLink.innerHTML = docLinkHtml;\n",
              "        element.appendChild(docLink);\n",
              "      }\n",
              "    </script>\n",
              "  </div>\n",
              "\n",
              "\n",
              "<div id=\"df-e1eae321-84ec-432d-a79c-52a50a2b785d\">\n",
              "  <button class=\"colab-df-quickchart\" onclick=\"quickchart('df-e1eae321-84ec-432d-a79c-52a50a2b785d')\"\n",
              "            title=\"Suggest charts\"\n",
              "            style=\"display:none;\">\n",
              "\n",
              "<svg xmlns=\"http://www.w3.org/2000/svg\" height=\"24px\"viewBox=\"0 0 24 24\"\n",
              "     width=\"24px\">\n",
              "    <g>\n",
              "        <path d=\"M19 3H5c-1.1 0-2 .9-2 2v14c0 1.1.9 2 2 2h14c1.1 0 2-.9 2-2V5c0-1.1-.9-2-2-2zM9 17H7v-7h2v7zm4 0h-2V7h2v10zm4 0h-2v-4h2v4z\"/>\n",
              "    </g>\n",
              "</svg>\n",
              "  </button>\n",
              "\n",
              "<style>\n",
              "  .colab-df-quickchart {\n",
              "      --bg-color: #E8F0FE;\n",
              "      --fill-color: #1967D2;\n",
              "      --hover-bg-color: #E2EBFA;\n",
              "      --hover-fill-color: #174EA6;\n",
              "      --disabled-fill-color: #AAA;\n",
              "      --disabled-bg-color: #DDD;\n",
              "  }\n",
              "\n",
              "  [theme=dark] .colab-df-quickchart {\n",
              "      --bg-color: #3B4455;\n",
              "      --fill-color: #D2E3FC;\n",
              "      --hover-bg-color: #434B5C;\n",
              "      --hover-fill-color: #FFFFFF;\n",
              "      --disabled-bg-color: #3B4455;\n",
              "      --disabled-fill-color: #666;\n",
              "  }\n",
              "\n",
              "  .colab-df-quickchart {\n",
              "    background-color: var(--bg-color);\n",
              "    border: none;\n",
              "    border-radius: 50%;\n",
              "    cursor: pointer;\n",
              "    display: none;\n",
              "    fill: var(--fill-color);\n",
              "    height: 32px;\n",
              "    padding: 0;\n",
              "    width: 32px;\n",
              "  }\n",
              "\n",
              "  .colab-df-quickchart:hover {\n",
              "    background-color: var(--hover-bg-color);\n",
              "    box-shadow: 0 1px 2px rgba(60, 64, 67, 0.3), 0 1px 3px 1px rgba(60, 64, 67, 0.15);\n",
              "    fill: var(--button-hover-fill-color);\n",
              "  }\n",
              "\n",
              "  .colab-df-quickchart-complete:disabled,\n",
              "  .colab-df-quickchart-complete:disabled:hover {\n",
              "    background-color: var(--disabled-bg-color);\n",
              "    fill: var(--disabled-fill-color);\n",
              "    box-shadow: none;\n",
              "  }\n",
              "\n",
              "  .colab-df-spinner {\n",
              "    border: 2px solid var(--fill-color);\n",
              "    border-color: transparent;\n",
              "    border-bottom-color: var(--fill-color);\n",
              "    animation:\n",
              "      spin 1s steps(1) infinite;\n",
              "  }\n",
              "\n",
              "  @keyframes spin {\n",
              "    0% {\n",
              "      border-color: transparent;\n",
              "      border-bottom-color: var(--fill-color);\n",
              "      border-left-color: var(--fill-color);\n",
              "    }\n",
              "    20% {\n",
              "      border-color: transparent;\n",
              "      border-left-color: var(--fill-color);\n",
              "      border-top-color: var(--fill-color);\n",
              "    }\n",
              "    30% {\n",
              "      border-color: transparent;\n",
              "      border-left-color: var(--fill-color);\n",
              "      border-top-color: var(--fill-color);\n",
              "      border-right-color: var(--fill-color);\n",
              "    }\n",
              "    40% {\n",
              "      border-color: transparent;\n",
              "      border-right-color: var(--fill-color);\n",
              "      border-top-color: var(--fill-color);\n",
              "    }\n",
              "    60% {\n",
              "      border-color: transparent;\n",
              "      border-right-color: var(--fill-color);\n",
              "    }\n",
              "    80% {\n",
              "      border-color: transparent;\n",
              "      border-right-color: var(--fill-color);\n",
              "      border-bottom-color: var(--fill-color);\n",
              "    }\n",
              "    90% {\n",
              "      border-color: transparent;\n",
              "      border-bottom-color: var(--fill-color);\n",
              "    }\n",
              "  }\n",
              "</style>\n",
              "\n",
              "  <script>\n",
              "    async function quickchart(key) {\n",
              "      const quickchartButtonEl =\n",
              "        document.querySelector('#' + key + ' button');\n",
              "      quickchartButtonEl.disabled = true;  // To prevent multiple clicks.\n",
              "      quickchartButtonEl.classList.add('colab-df-spinner');\n",
              "      try {\n",
              "        const charts = await google.colab.kernel.invokeFunction(\n",
              "            'suggestCharts', [key], {});\n",
              "      } catch (error) {\n",
              "        console.error('Error during call to suggestCharts:', error);\n",
              "      }\n",
              "      quickchartButtonEl.classList.remove('colab-df-spinner');\n",
              "      quickchartButtonEl.classList.add('colab-df-quickchart-complete');\n",
              "    }\n",
              "    (() => {\n",
              "      let quickchartButtonEl =\n",
              "        document.querySelector('#df-e1eae321-84ec-432d-a79c-52a50a2b785d button');\n",
              "      quickchartButtonEl.style.display =\n",
              "        google.colab.kernel.accessAllowed ? 'block' : 'none';\n",
              "    })();\n",
              "  </script>\n",
              "</div>\n",
              "    </div>\n",
              "  </div>\n"
            ]
          },
          "metadata": {},
          "execution_count": 55
        }
      ]
    },
    {
      "cell_type": "code",
      "source": [
        "df[df['bot']]['user'].unique()"
      ],
      "metadata": {
        "colab": {
          "base_uri": "https://localhost:8080/"
        },
        "id": "M70yOsME15xT",
        "outputId": "798728a7-093f-4c3d-b641-634566b80872"
      },
      "id": "M70yOsME15xT",
      "execution_count": 56,
      "outputs": [
        {
          "output_type": "execute_result",
          "data": {
            "text/plain": [
              "array(['DeltaQuadBot', 'AnomieBOT', 'RMCD bot', 'Filedelinkerbot',\n",
              "       'Qwerfjkl (bot)', 'InternetArchiveBot', 'Cewbot', 'WP 1.0 bot',\n",
              "       'DatBot', 'DYKUpdateBot', 'Bot1058', 'ChristieBot', 'AnomieBOT II',\n",
              "       'Lowercase sigmabot III', 'DPL bot', 'FireflyBot', 'Mathbot',\n",
              "       'SDZeroBot', 'DYKToolsBot', 'AnomieBOT III', 'Citation bot',\n",
              "       'FACBot', 'MilHistBot', 'MusikBot', 'WugBot', 'Reports bot',\n",
              "       'PearBOT', 'ClueBot III', 'DumbBOT', 'ST47Bot', 'Legobot',\n",
              "       'SheepLinterBot', 'JJMC89 bot', 'JCW-CleanerBot', 'Scsbot',\n",
              "       'MajavahBot', 'Yapperbot', 'MusikBot II', 'BattyBot',\n",
              "       'CommonsDelinker', 'JJMC89 bot III', 'ImageTaggingBot',\n",
              "       'Cyberbot I', 'JL-Bot', 'GreenC bot', 'EnterpriseyBot',\n",
              "       'ListeriaBot', 'Community Tech bot'], dtype=object)"
            ]
          },
          "metadata": {},
          "execution_count": 56
        }
      ]
    },
    {
      "cell_type": "code",
      "source": [
        "df[df['bot']]['comment'].sample(20).unique()"
      ],
      "metadata": {
        "colab": {
          "base_uri": "https://localhost:8080/"
        },
        "id": "S6XqkTep19ow",
        "outputId": "afd0946f-274e-4a1f-9eb4-ec290a43ab10"
      },
      "id": "S6XqkTep19ow",
      "execution_count": 57,
      "outputs": [
        {
          "output_type": "execute_result",
          "data": {
            "text/plain": [
              "array(['Copying assessment table to wiki.', 'Update logs for past 7 days',\n",
              "       'Alter: pages. Add: bibcode. | [[:en:WP:UCB|Use this bot]]. [[:en:WP:DBUG|Report bugs]]. | Suggested by Whoop whoop pull up | #UCB_webform 988/1083',\n",
              "       'Add: publisher, authors 1-1. Removed parameters. Some additions/deletions were parameter name changes. | [[:en:WP:UCB|Use this bot]]. [[:en:WP:DBUG|Report bugs]]. | Suggested by Whoop whoop pull up | #UCB_webform 75/1977',\n",
              "       '[[WP:FRS|Feedback Request Service]] notification on a \"History and geography\" request for comment (2/3 this month). You can unsubscribe at [[WP:FRS]].',\n",
              "       '[[WP:FRS|Feedback Request Service]] notification on a \"History and geography\" request for comment (1/3 this month). You can unsubscribe at [[WP:FRS]].',\n",
              "       'Updating report',\n",
              "       'Moving [[:Category:Chinese scripts]] to [[:Category:Writing systems using Chinese characters]] per [[Wikipedia:Categories for discussion/Log/2023 November 3#Category:Chinese scripts]]',\n",
              "       'Alter: template type. Add: magazine. Removed parameters. Some additions/deletions were parameter name changes. | [[:en:WP:UCB|Use this bot]]. [[:en:WP:DBUG|Report bugs]]. | Suggested by Whoop whoop pull up | #UCB_webform 1638/2244',\n",
              "       'Archiving closed XfDs from [[Wikipedia:WikiProject Deletion sorting/Beauty pageants]] ([[User:AnomieBOT/shutoff/DeletionSortingCleaner|errors?]])',\n",
              "       '/* top */Added [[Template:WikiProject banner shell]] and other [[WP:AWB/GF|General fixes]]',\n",
              "       'Archiving 1 discussion(s) to [[Talk:Ayurveda/Archive 21]]) (bot',\n",
              "       'Rescuing 1 sources and tagging 0 as dead.) #IABot (v2.0.9.5',\n",
              "       'Add: date. Removed parameters. | [[:en:WP:UCB|Use this bot]]. [[:en:WP:DBUG|Report bugs]]. | Suggested by VulcanSphere | [[Category:Book publishing companies of the United States]] | #UCB_Category 149/199'],\n",
              "      dtype=object)"
            ]
          },
          "metadata": {},
          "execution_count": 57
        }
      ]
    },
    {
      "cell_type": "markdown",
      "source": [
        "Observations:\n",
        "\n",
        "- The bot title and comment seems to be significant features because uses special characters and more-less structured.\n",
        "- Bots has different distributions: some do inserts and deletes that leads to two-modes bumps, some does small changes in page"
      ],
      "metadata": {
        "id": "uoSTdfP01_VU"
      },
      "id": "uoSTdfP01_VU"
    },
    {
      "cell_type": "markdown",
      "source": [
        "## Collect data for model training"
      ],
      "metadata": {
        "id": "4Qf309C62BIr"
      },
      "id": "4Qf309C62BIr"
    },
    {
      "cell_type": "code",
      "source": [
        "# fetching_time_sec = 30000\n",
        "# url = 'https://stream.wikimedia.org/v2/stream/recentchange'\n",
        "# message_types = {\"edit\"}\n",
        "# wikis = {\"enwiki\"}#, \"wikidatawiki\"}\n",
        "# wikis_str = \"_\".join(wikis)\n",
        "\n",
        "# with open('sample1.jsonl', 'w') as fout:\n",
        "#     for item in fetch_users(EventSource(url), fetching_time_sec, message_types, wikis):\n",
        "#         fout.write(json.dumps(item) + \"\\n\")\n"
      ],
      "metadata": {
        "id": "RgB-qdxZ1_im"
      },
      "id": "RgB-qdxZ1_im",
      "execution_count": null,
      "outputs": []
    },
    {
      "cell_type": "markdown",
      "source": [
        "## Read data"
      ],
      "metadata": {
        "id": "kYwZwffl2GJu"
      },
      "id": "kYwZwffl2GJu"
    },
    {
      "cell_type": "code",
      "source": [
        "with open('sample1.jsonl', 'r') as fin:\n",
        "    samples = list(map(json.loads, fin.readlines()))\n",
        "\n",
        "df = pd.DataFrame(samples)\n",
        "\n",
        "df['length_old'] = df.apply(lambda x: x['length']['old'], axis=1)\n",
        "df['length_new'] = df.apply(lambda x: x['length']['new'], axis=1)\n",
        "df['length_diff'] = df['length_new'] - df['length_old']\n",
        "df['revision_diff'] = df.apply(lambda x: x['revision']['new'], axis=1) - df.apply(lambda x: x['revision']['old'], axis=1)\n",
        "\n",
        "## split revision and length to buckets\n",
        "df['length_bucket'] = df.length_diff.map(lambda x: get_bin(x, bin_width=50 ,start=df.length_diff.min()))\n",
        "df['revision_bucket'] = df.revision_diff.map(lambda x: get_bin(x, bin_width=10 ,start=df.revision_diff.min()))\n",
        "\n",
        "df.drop_duplicates(['user', 'title', 'comment'], inplace=True)\n",
        "\n",
        "len(df)"
      ],
      "metadata": {
        "colab": {
          "base_uri": "https://localhost:8080/"
        },
        "id": "D0j3TDPL2GmO",
        "outputId": "abb8757a-1d9d-4832-c017-7b3914626692"
      },
      "id": "D0j3TDPL2GmO",
      "execution_count": 59,
      "outputs": [
        {
          "output_type": "execute_result",
          "data": {
            "text/plain": [
              "7736"
            ]
          },
          "metadata": {},
          "execution_count": 59
        }
      ]
    },
    {
      "cell_type": "code",
      "source": [
        "!pip install -q mmh3 bitarray"
      ],
      "metadata": {
        "colab": {
          "base_uri": "https://localhost:8080/"
        },
        "id": "GY5qdonA7t2L",
        "outputId": "359dfc1f-8a04-4105-e411-1d5cfbebd1f8"
      },
      "id": "GY5qdonA7t2L",
      "execution_count": 62,
      "outputs": [
        {
          "output_type": "stream",
          "name": "stdout",
          "text": [
            "\u001b[2K     \u001b[90m━━━━━━━━━━━━━━━━━━━━━━━━━━━━━━━━━━━━━━━━\u001b[0m \u001b[32m72.6/72.6 kB\u001b[0m \u001b[31m1.2 MB/s\u001b[0m eta \u001b[36m0:00:00\u001b[0m\n",
            "\u001b[2K     \u001b[90m━━━━━━━━━━━━━━━━━━━━━━━━━━━━━━━━━━━━━━━━\u001b[0m \u001b[32m287.4/287.4 kB\u001b[0m \u001b[31m7.3 MB/s\u001b[0m eta \u001b[36m0:00:00\u001b[0m\n",
            "\u001b[?25h"
          ]
        }
      ]
    },
    {
      "cell_type": "code",
      "source": [
        "import math\n",
        "import hashlib\n",
        "import mmh3\n",
        "from bitarray import bitarray\n",
        "\n",
        "\n",
        "class BloomFilterBaseline(object):\n",
        "    def __init__(self, filter_capacity, fp_error_rate):\n",
        "        # number of stored items in bloom filter, spreaded between bits (mask)\n",
        "        self._filter_capacity = filter_capacity\n",
        "        self._fp_error_rate = fp_error_rate\n",
        "        self._size = BloomFilter.calculate_size(self._filter_capacity, self._fp_error_rate)\n",
        "        self._hash_functions = [\n",
        "            lambda x: int.from_bytes(hashlib.sha256(x.encode('utf-8')).digest(), 'big'),\n",
        "            # mmh3.hash\n",
        "        ]\n",
        "        self._mask_array = [0] * self._size\n",
        "\n",
        "    @staticmethod\n",
        "    def calculate_size(items_number, fp_error_rate):\n",
        "        '''\n",
        "        Size of bit array(m) to used using formula:\n",
        "        m = -(n * lg(p)) / (lg(2)^2)\n",
        "        '''\n",
        "        return int(-(items_number * (math.log(fp_error_rate) / (math.log(2) ** 2))))\n",
        "\n",
        "    def fit(self, X, Y):\n",
        "        for x, y in zip(X, Y):\n",
        "            if not y:\n",
        "                continue\n",
        "            for hash_func in self._hash_functions:\n",
        "                index = hash_func(x) % self._size\n",
        "                self._mask_array[index] = 1\n",
        "\n",
        "    def predict_one(self, item):\n",
        "        for hash_func in self._hash_functions:\n",
        "            index = hash_func(item) % self._size\n",
        "            if not self._mask_array[index]:\n",
        "                return False\n",
        "        return True\n",
        "\n",
        "    def predict(self, items):\n",
        "        return [self.predict_one(item) for item in items]\n",
        "\n",
        "\n",
        "\n",
        "class BloomFilter(object):\n",
        "    def __init__(self, filter_capacity, fp_error_rate):\n",
        "        # number of stored items in bloom filter, spreaded between bits (mask)\n",
        "        self._filter_capacity = filter_capacity\n",
        "        self._fp_error_rate = fp_error_rate\n",
        "        # number of buckets\n",
        "        self._num_buckets = BloomFilter.calculate_num_buckets(self._filter_capacity, self._fp_error_rate)\n",
        "        # number of hash functions to use for registering single record (functions differs by seed)\n",
        "        self._num_hash_funcs = BloomFilter.calculate_num_of_hash_func(self._filter_capacity, self._num_buckets)\n",
        "\n",
        "        self._buckets_array = [0] * self._num_buckets\n",
        "\n",
        "    @staticmethod\n",
        "    def calculate_num_buckets(items_number, fp_error_rate):\n",
        "        '''\n",
        "        Size of bit array(m) to used using formula:\n",
        "        m = -(n * lg(p)) / (lg(2)^2)\n",
        "        '''\n",
        "        return int(-(items_number * (math.log(fp_error_rate) / (math.log(2) ** 2))))\n",
        "\n",
        "    @staticmethod\n",
        "    def calculate_num_of_hash_func(items_number, num_bits):\n",
        "        return max(1, round(num_bits / items_number * math.log(2)))\n",
        "\n",
        "    def _calc_hash(self, x, seed):\n",
        "        return mmh3.hash(x, seed) % self._num_buckets\n",
        "\n",
        "    def _add(self, x):\n",
        "        for seed in range(self._num_hash_funcs):\n",
        "            index = self._calc_hash(x, seed)\n",
        "            self._buckets_array[index] = 1\n",
        "\n",
        "    def fit(self, X, Y):\n",
        "        for x, y in zip(X, Y):\n",
        "            if not y:\n",
        "                continue\n",
        "            self._add(x)\n",
        "\n",
        "    def predict_one(self, x):\n",
        "        for seed in range(self._num_hash_funcs):\n",
        "            index = self._calc_hash(x, seed)\n",
        "            if not self._buckets_array[index]:\n",
        "                return False\n",
        "        return True\n",
        "\n",
        "    def predict(self, items):\n",
        "        return [self.predict_one(item) for item in items]\n"
      ],
      "metadata": {
        "id": "du582Gcx2OCM"
      },
      "id": "du582Gcx2OCM",
      "execution_count": 63,
      "outputs": []
    },
    {
      "cell_type": "code",
      "source": [
        "def extract_features(item):\n",
        "    return item['user']\n",
        "\n",
        "def extract_label(item):\n",
        "    return item['bot']"
      ],
      "metadata": {
        "id": "QplU1W1S2OIz"
      },
      "id": "QplU1W1S2OIz",
      "execution_count": 64,
      "outputs": []
    },
    {
      "cell_type": "code",
      "source": [
        "import random\n",
        "import numpy as np\n",
        "from sklearn.metrics import classification_report, f1_score, confusion_matrix, ConfusionMatrixDisplay\n",
        "from sklearn.model_selection import train_test_split\n",
        "\n",
        "random.seed(42)\n",
        "\n",
        "def get_train_test_random(_df, _extract_features=extract_features, _extract_label=extract_label):\n",
        "    X = list(map(_extract_features, df.to_dict('records')))\n",
        "    Y = list(map(_extract_label, df.to_dict('records')))\n",
        "    X_train, X_test, Y_train, Y_test = train_test_split(X, Y, test_size=0.2, random_state=42)\n",
        "    return X_train, X_test, Y_train, Y_test\n",
        "\n",
        "def get_train_test_users(_df, _extract_features=extract_features, _extract_label=extract_label):\n",
        "    names = df.user.unique()\n",
        "    names_train = random.choices(names, k=int(len(names)*0.8))\n",
        "    df_train = df[df.user.isin(names_train)]\n",
        "    df_test = df[~df.user.isin(names_train)]\n",
        "\n",
        "    X_train = list(map(extract_features, df_train.to_dict('records')))\n",
        "    Y_train = list(map(extract_label, df_train.to_dict('records')))\n",
        "\n",
        "    X_test = list(map(extract_features, df_test.to_dict('records')))\n",
        "    Y_test = list(map(extract_label, df_test.to_dict('records')))\n",
        "    return X_train, X_test, Y_train, Y_test"
      ],
      "metadata": {
        "id": "dJqdTVtR2RYs"
      },
      "id": "dJqdTVtR2RYs",
      "execution_count": 65,
      "outputs": []
    },
    {
      "cell_type": "code",
      "source": [
        "X_train, X_test, Y_train, Y_test = get_train_test_random(df)"
      ],
      "metadata": {
        "id": "Q6gyH5q72S-1"
      },
      "id": "Q6gyH5q72S-1",
      "execution_count": 66,
      "outputs": []
    },
    {
      "cell_type": "markdown",
      "source": [
        "## Sanity check"
      ],
      "metadata": {
        "id": "CdUnEGkS2Tci"
      },
      "id": "CdUnEGkS2Tci"
    },
    {
      "cell_type": "code",
      "source": [
        "model = BloomFilter(np.sum(Y_train), 0.01)\n",
        "model.fit(X_train, Y_train)"
      ],
      "metadata": {
        "id": "TwPbRvCL2UXQ"
      },
      "id": "TwPbRvCL2UXQ",
      "execution_count": 67,
      "outputs": []
    },
    {
      "cell_type": "code",
      "source": [
        "y_pred = model.predict(X_test)"
      ],
      "metadata": {
        "id": "Z2N58J6z2Wge"
      },
      "id": "Z2N58J6z2Wge",
      "execution_count": 68,
      "outputs": []
    },
    {
      "cell_type": "code",
      "source": [
        "print(classification_report(Y_test, y_pred))"
      ],
      "metadata": {
        "colab": {
          "base_uri": "https://localhost:8080/"
        },
        "id": "CrkBQ3wG2XmB",
        "outputId": "7b15f14c-62ef-4595-ca6b-5a6b7b2d6f35"
      },
      "id": "CrkBQ3wG2XmB",
      "execution_count": 69,
      "outputs": [
        {
          "output_type": "stream",
          "name": "stdout",
          "text": [
            "              precision    recall  f1-score   support\n",
            "\n",
            "       False       1.00      0.99      0.99      1294\n",
            "        True       0.96      0.99      0.97       254\n",
            "\n",
            "    accuracy                           0.99      1548\n",
            "   macro avg       0.98      0.99      0.98      1548\n",
            "weighted avg       0.99      0.99      0.99      1548\n",
            "\n"
          ]
        }
      ]
    },
    {
      "cell_type": "code",
      "source": [
        "disp = ConfusionMatrixDisplay(confusion_matrix=confusion_matrix(Y_test, y_pred) / len(Y_test))\n",
        "disp.plot()"
      ],
      "metadata": {
        "colab": {
          "base_uri": "https://localhost:8080/",
          "height": 466
        },
        "id": "pbK_tdyr2cJZ",
        "outputId": "3c53d5a3-0d31-45d6-a589-13760333273c"
      },
      "id": "pbK_tdyr2cJZ",
      "execution_count": 70,
      "outputs": [
        {
          "output_type": "execute_result",
          "data": {
            "text/plain": [
              "<sklearn.metrics._plot.confusion_matrix.ConfusionMatrixDisplay at 0x7fe12025f730>"
            ]
          },
          "metadata": {},
          "execution_count": 70
        },
        {
          "output_type": "display_data",
          "data": {
            "text/plain": [
              "<Figure size 640x480 with 2 Axes>"
            ],
            "image/png": "[encoded data removed]"
          },
          "metadata": {}
        }
      ]
    },
    {
      "cell_type": "code",
      "source": [
        "f1_score(Y_test, y_pred)"
      ],
      "metadata": {
        "colab": {
          "base_uri": "https://localhost:8080/"
        },
        "id": "8IbvxJ652dvw",
        "outputId": "381b95db-cbb7-4eda-f0aa-33750d743b01"
      },
      "id": "8IbvxJ652dvw",
      "execution_count": 71,
      "outputs": [
        {
          "output_type": "execute_result",
          "data": {
            "text/plain": [
              "0.974757281553398"
            ]
          },
          "metadata": {},
          "execution_count": 71
        }
      ]
    },
    {
      "cell_type": "markdown",
      "source": [
        "It looks classifier works as bot detection by names (it remembers user name of bots)."
      ],
      "metadata": {
        "id": "b_3UlcF92fER"
      },
      "id": "b_3UlcF92fER"
    },
    {
      "cell_type": "markdown",
      "source": [
        "## Configuration search"
      ],
      "metadata": {
        "id": "n56zqanI2gl7"
      },
      "id": "n56zqanI2gl7"
    },
    {
      "cell_type": "markdown",
      "source": [
        "### Features"
      ],
      "metadata": {
        "id": "XcuZxcDd2iz2"
      },
      "id": "XcuZxcDd2iz2"
    },
    {
      "cell_type": "markdown",
      "source": [
        "- user name\n",
        "- comment\n",
        "- edit size\n",
        "- revision diff\n",
        "- edit + revision diff"
      ],
      "metadata": {
        "id": "PyT8j2J12nQh"
      },
      "id": "PyT8j2J12nQh"
    },
    {
      "cell_type": "markdown",
      "source": [
        "### User name"
      ],
      "metadata": {
        "id": "bPmF6E0l2pcv"
      },
      "id": "bPmF6E0l2pcv"
    },
    {
      "cell_type": "code",
      "source": [
        "def extract_features(item):\n",
        "    return item['user']\n",
        "\n",
        "X_train, X_test, Y_train, Y_test = get_train_test_users(df, _extract_features=extract_features)\n",
        "\n",
        "model = BloomFilter(np.sum(Y_train), 0.01)\n",
        "model.fit(X_train, Y_train)\n",
        "\n",
        "y_pred = np.array(model.predict(X_test))\n",
        "\n",
        "f1_score(Y_test, y_pred)"
      ],
      "metadata": {
        "colab": {
          "base_uri": "https://localhost:8080/"
        },
        "id": "RZ19-L-s2fRB",
        "outputId": "ab39a1ec-4c97-469d-85f9-cecef047a2e6"
      },
      "id": "RZ19-L-s2fRB",
      "execution_count": 72,
      "outputs": [
        {
          "output_type": "execute_result",
          "data": {
            "text/plain": [
              "0.0"
            ]
          },
          "metadata": {},
          "execution_count": 72
        }
      ]
    },
    {
      "cell_type": "code",
      "source": [
        "disp = ConfusionMatrixDisplay(confusion_matrix=confusion_matrix(Y_test, y_pred) / len(Y_test))\n",
        "disp.plot()"
      ],
      "metadata": {
        "colab": {
          "base_uri": "https://localhost:8080/",
          "height": 466
        },
        "id": "6gdS7Z2t2sNJ",
        "outputId": "e22f8087-b276-42e3-9cf0-17e380359563"
      },
      "id": "6gdS7Z2t2sNJ",
      "execution_count": 73,
      "outputs": [
        {
          "output_type": "execute_result",
          "data": {
            "text/plain": [
              "<sklearn.metrics._plot.confusion_matrix.ConfusionMatrixDisplay at 0x7fe15ad2ada0>"
            ]
          },
          "metadata": {},
          "execution_count": 73
        },
        {
          "output_type": "display_data",
          "data": {
            "text/plain": [
              "<Figure size 640x480 with 2 Axes>"
            ],
            "image/png": "[encoded data removed]"
          },
          "metadata": {}
        }
      ]
    },
    {
      "cell_type": "markdown",
      "source": [
        "### Comment"
      ],
      "metadata": {
        "id": "PFg715mE2un3"
      },
      "id": "PFg715mE2un3"
    },
    {
      "cell_type": "code",
      "source": [
        "def extract_features(item):\n",
        "    return item['comment']"
      ],
      "metadata": {
        "id": "tjW1JvbX2vff"
      },
      "id": "tjW1JvbX2vff",
      "execution_count": 74,
      "outputs": []
    },
    {
      "cell_type": "markdown",
      "source": [
        "#### Split randomly"
      ],
      "metadata": {
        "id": "nVpJi4xu2xp-"
      },
      "id": "nVpJi4xu2xp-"
    },
    {
      "cell_type": "code",
      "source": [
        "X_train, X_test, Y_train, Y_test = get_train_test_random(df, _extract_features=extract_features)\n",
        "\n",
        "model = BloomFilter(np.sum(Y_train), 0.01)\n",
        "model.fit(X_train, Y_train)\n",
        "\n",
        "y_pred = model.predict(X_test)\n",
        "\n",
        "f1_score(Y_test, y_pred)"
      ],
      "metadata": {
        "colab": {
          "base_uri": "https://localhost:8080/"
        },
        "id": "ZHf6vRVo2yjA",
        "outputId": "62917711-2dbd-4157-dbaf-e72d7fcba79e"
      },
      "id": "ZHf6vRVo2yjA",
      "execution_count": 75,
      "outputs": [
        {
          "output_type": "execute_result",
          "data": {
            "text/plain": [
              "0.7506053268765133"
            ]
          },
          "metadata": {},
          "execution_count": 75
        }
      ]
    },
    {
      "cell_type": "markdown",
      "source": [
        "#### Split by user"
      ],
      "metadata": {
        "id": "Lu9IFrsD22m4"
      },
      "id": "Lu9IFrsD22m4"
    },
    {
      "cell_type": "code",
      "source": [
        "X_train, X_test, Y_train, Y_test = get_train_test_users(df, _extract_features=extract_features)\n",
        "\n",
        "model = BloomFilter(np.sum(Y_train), 0.01)\n",
        "model.fit(X_train, Y_train)\n",
        "\n",
        "y_pred = model.predict(X_test)\n",
        "\n",
        "f1_score(Y_test, y_pred)"
      ],
      "metadata": {
        "colab": {
          "base_uri": "https://localhost:8080/"
        },
        "id": "45DS2Nrz26fD",
        "outputId": "1a84810e-6c2b-4de3-90ee-4892e521c5b9"
      },
      "id": "45DS2Nrz26fD",
      "execution_count": 76,
      "outputs": [
        {
          "output_type": "execute_result",
          "data": {
            "text/plain": [
              "0.0027816411682892906"
            ]
          },
          "metadata": {},
          "execution_count": 76
        }
      ]
    },
    {
      "cell_type": "markdown",
      "source": [
        "It seems bot users uses the same comments, but different bots uses different comments. This feature is not robust and needs additional investigation and preprocessing like BoW."
      ],
      "metadata": {
        "id": "qXkG85MY28H5"
      },
      "id": "qXkG85MY28H5"
    },
    {
      "cell_type": "markdown",
      "source": [
        "### Edit length"
      ],
      "metadata": {
        "id": "59xvuRXm2-hl"
      },
      "id": "59xvuRXm2-hl"
    },
    {
      "cell_type": "code",
      "source": [
        "def extract_features(item):\n",
        "    return str(item['length_diff'])"
      ],
      "metadata": {
        "id": "ia4LSh7029t2"
      },
      "id": "ia4LSh7029t2",
      "execution_count": 77,
      "outputs": []
    },
    {
      "cell_type": "markdown",
      "source": [
        "#### Split randomly"
      ],
      "metadata": {
        "id": "FkjIYum67_uj"
      },
      "id": "FkjIYum67_uj"
    },
    {
      "cell_type": "code",
      "source": [
        "X_train, X_test, Y_train, Y_test = get_train_test_random(df, _extract_features=extract_features)\n",
        "\n",
        "model = BloomFilter(np.sum(Y_train), 0.01)\n",
        "model.fit(X_train, Y_train)\n",
        "\n",
        "y_pred = model.predict(X_test)\n",
        "\n",
        "f1_score(Y_test, y_pred)"
      ],
      "metadata": {
        "colab": {
          "base_uri": "https://localhost:8080/"
        },
        "id": "MWlOqKPM3vgd",
        "outputId": "fb875f33-bd3e-4c3d-b3db-d82565301a2a"
      },
      "id": "MWlOqKPM3vgd",
      "execution_count": 78,
      "outputs": [
        {
          "output_type": "execute_result",
          "data": {
            "text/plain": [
              "0.26064291920069504"
            ]
          },
          "metadata": {},
          "execution_count": 78
        }
      ]
    },
    {
      "cell_type": "markdown",
      "source": [
        "#### Split by user"
      ],
      "metadata": {
        "id": "Z0Csm7-w3xN5"
      },
      "id": "Z0Csm7-w3xN5"
    },
    {
      "cell_type": "code",
      "source": [
        "X_train, X_test, Y_train, Y_test = get_train_test_users(df, _extract_features=extract_features)\n",
        "\n",
        "model = BloomFilter(np.sum(Y_train), 0.01)\n",
        "model.fit(X_train, Y_train)\n",
        "\n",
        "y_pred = model.predict(X_test)\n",
        "\n",
        "f1_score(Y_test, y_pred)"
      ],
      "metadata": {
        "colab": {
          "base_uri": "https://localhost:8080/"
        },
        "id": "DDrsdfaz3yoJ",
        "outputId": "b4114a34-4988-4636-f9dc-a5c755a32663"
      },
      "id": "DDrsdfaz3yoJ",
      "execution_count": 79,
      "outputs": [
        {
          "output_type": "execute_result",
          "data": {
            "text/plain": [
              "0.2825308396339037"
            ]
          },
          "metadata": {},
          "execution_count": 79
        }
      ]
    },
    {
      "cell_type": "markdown",
      "source": [
        "### Edit length bucket"
      ],
      "metadata": {
        "id": "s728AaoB31Zp"
      },
      "id": "s728AaoB31Zp"
    },
    {
      "cell_type": "code",
      "source": [
        "def extract_features(item):\n",
        "    return str(item['length_bucket'])"
      ],
      "metadata": {
        "id": "uxDcFdYy320i"
      },
      "id": "uxDcFdYy320i",
      "execution_count": 80,
      "outputs": []
    },
    {
      "cell_type": "markdown",
      "source": [
        "#### Split randomly"
      ],
      "metadata": {
        "id": "6GBI360r35Po"
      },
      "id": "6GBI360r35Po"
    },
    {
      "cell_type": "code",
      "source": [
        "X_train, X_test, Y_train, Y_test = get_train_test_random(df, _extract_features=extract_features)\n",
        "\n",
        "model = BloomFilter(np.sum(Y_train), 0.01)\n",
        "model.fit(X_train, Y_train)\n",
        "\n",
        "y_pred = model.predict(X_test)\n",
        "\n",
        "f1_score(Y_test, y_pred)"
      ],
      "metadata": {
        "colab": {
          "base_uri": "https://localhost:8080/"
        },
        "id": "cc64RFnT36Xt",
        "outputId": "80a571b5-7318-44cc-8638-d46c0bbf31b6"
      },
      "id": "cc64RFnT36Xt",
      "execution_count": 81,
      "outputs": [
        {
          "output_type": "execute_result",
          "data": {
            "text/plain": [
              "0.26918671248568155"
            ]
          },
          "metadata": {},
          "execution_count": 81
        }
      ]
    },
    {
      "cell_type": "markdown",
      "source": [
        "#### Split by user"
      ],
      "metadata": {
        "id": "pRaiPaus38Y-"
      },
      "id": "pRaiPaus38Y-"
    },
    {
      "cell_type": "code",
      "source": [
        "X_train, X_test, Y_train, Y_test = get_train_test_users(df, _extract_features=extract_features)\n",
        "\n",
        "model = BloomFilter(np.sum(Y_train), 0.01)\n",
        "model.fit(X_train, Y_train)\n",
        "\n",
        "y_pred = model.predict(X_test)\n",
        "\n",
        "f1_score(Y_test, y_pred)"
      ],
      "metadata": {
        "colab": {
          "base_uri": "https://localhost:8080/"
        },
        "id": "_jI-4TL639X-",
        "outputId": "89a64a25-21d3-4e89-cbb3-52ace92625a6"
      },
      "id": "_jI-4TL639X-",
      "execution_count": 82,
      "outputs": [
        {
          "output_type": "execute_result",
          "data": {
            "text/plain": [
              "0.35215487439502186"
            ]
          },
          "metadata": {},
          "execution_count": 82
        }
      ]
    },
    {
      "cell_type": "markdown",
      "source": [
        "### Revision diff"
      ],
      "metadata": {
        "id": "67Aij6bf3_6e"
      },
      "id": "67Aij6bf3_6e"
    },
    {
      "cell_type": "code",
      "source": [
        "def extract_features(item):\n",
        "    return str(item['revision_diff'])"
      ],
      "metadata": {
        "id": "job7ZVig4BG5"
      },
      "id": "job7ZVig4BG5",
      "execution_count": 83,
      "outputs": []
    },
    {
      "cell_type": "markdown",
      "source": [
        "#### Split randomly"
      ],
      "metadata": {
        "id": "xUC2Mndc4DV-"
      },
      "id": "xUC2Mndc4DV-"
    },
    {
      "cell_type": "code",
      "source": [
        "X_train, X_test, Y_train, Y_test = get_train_test_random(df, _extract_features=extract_features)\n",
        "\n",
        "model = BloomFilter(np.sum(Y_train), 0.01)\n",
        "model.fit(X_train, Y_train)\n",
        "\n",
        "y_pred = model.predict(X_test)\n",
        "\n",
        "f1_score(Y_test, y_pred)"
      ],
      "metadata": {
        "colab": {
          "base_uri": "https://localhost:8080/"
        },
        "id": "rUvpA_Dg4EQj",
        "outputId": "1a0a2e8a-48d0-4831-8cda-c042a6ffce3b"
      },
      "id": "rUvpA_Dg4EQj",
      "execution_count": 84,
      "outputs": [
        {
          "output_type": "execute_result",
          "data": {
            "text/plain": [
              "0.2523076923076923"
            ]
          },
          "metadata": {},
          "execution_count": 84
        }
      ]
    },
    {
      "cell_type": "markdown",
      "source": [
        "#### Split by user"
      ],
      "metadata": {
        "id": "UlzkfWfa4G6H"
      },
      "id": "UlzkfWfa4G6H"
    },
    {
      "cell_type": "code",
      "source": [
        "X_train, X_test, Y_train, Y_test = get_train_test_users(df, _extract_features=extract_features)\n",
        "\n",
        "model = BloomFilter(np.sum(Y_train), 0.01)\n",
        "model.fit(X_train, Y_train)\n",
        "\n",
        "y_pred = model.predict(X_test)\n",
        "\n",
        "f1_score(Y_test, y_pred)"
      ],
      "metadata": {
        "colab": {
          "base_uri": "https://localhost:8080/"
        },
        "id": "JThKxsAI4Hxc",
        "outputId": "ed130926-9ffa-43ed-a8c0-b3c548869db9"
      },
      "id": "JThKxsAI4Hxc",
      "execution_count": 85,
      "outputs": [
        {
          "output_type": "execute_result",
          "data": {
            "text/plain": [
              "0.09459459459459459"
            ]
          },
          "metadata": {},
          "execution_count": 85
        }
      ]
    },
    {
      "cell_type": "markdown",
      "source": [
        "### Revision diff bucket"
      ],
      "metadata": {
        "id": "SRcesddw4KEB"
      },
      "id": "SRcesddw4KEB"
    },
    {
      "cell_type": "code",
      "source": [
        "def extract_features(item):\n",
        "    return str(item['revision_bucket'])"
      ],
      "metadata": {
        "id": "pNtqg7_-4LWw"
      },
      "id": "pNtqg7_-4LWw",
      "execution_count": 86,
      "outputs": []
    },
    {
      "cell_type": "markdown",
      "source": [
        "#### Split randomly"
      ],
      "metadata": {
        "id": "xokKVd964Nz3"
      },
      "id": "xokKVd964Nz3"
    },
    {
      "cell_type": "code",
      "source": [
        "X_train, X_test, Y_train, Y_test = get_train_test_random(df, _extract_features=extract_features)\n",
        "\n",
        "model = BloomFilter(np.sum(Y_train), 0.01)\n",
        "model.fit(X_train, Y_train)\n",
        "\n",
        "y_pred = model.predict(X_test)\n",
        "\n",
        "f1_score(Y_test, y_pred)"
      ],
      "metadata": {
        "colab": {
          "base_uri": "https://localhost:8080/"
        },
        "id": "J2P0h5gg4OsC",
        "outputId": "e1a3f5f4-6ab9-464f-aba5-23ba4082276d"
      },
      "id": "J2P0h5gg4OsC",
      "execution_count": 87,
      "outputs": [
        {
          "output_type": "execute_result",
          "data": {
            "text/plain": [
              "0.4513274336283186"
            ]
          },
          "metadata": {},
          "execution_count": 87
        }
      ]
    },
    {
      "cell_type": "markdown",
      "source": [
        "#### Split by user"
      ],
      "metadata": {
        "id": "U_DV4mn54QyN"
      },
      "id": "U_DV4mn54QyN"
    },
    {
      "cell_type": "code",
      "source": [
        "X_train, X_test, Y_train, Y_test = get_train_test_users(df, _extract_features=extract_features)\n",
        "\n",
        "model = BloomFilter(np.sum(Y_train), 0.01)\n",
        "model.fit(X_train, Y_train)\n",
        "\n",
        "y_pred = model.predict(X_test)\n",
        "\n",
        "f1_score(Y_test, y_pred)"
      ],
      "metadata": {
        "colab": {
          "base_uri": "https://localhost:8080/"
        },
        "id": "GK8KC-hQ4SFI",
        "outputId": "863f38ba-ecb7-4f5b-f715-eec9734d3ae4"
      },
      "id": "GK8KC-hQ4SFI",
      "execution_count": 88,
      "outputs": [
        {
          "output_type": "execute_result",
          "data": {
            "text/plain": [
              "0.13496932515337423"
            ]
          },
          "metadata": {},
          "execution_count": 88
        }
      ]
    },
    {
      "cell_type": "markdown",
      "source": [
        "### Conclusions"
      ],
      "metadata": {
        "id": "XtJOM34q4UGL"
      },
      "id": "XtJOM34q4UGL"
    },
    {
      "cell_type": "markdown",
      "source": [
        "- we observe significant gap between f1-scores depending on dataset split strategy: random split and per user split.\n",
        "- Such a small scores for per user split strategy (considering Bloom filter specifics) were cased by small sample (only 3205 users contains in dataset, 51 users are bots). To increase scores we should increase test size\n",
        "- there are few potential interesting features: comments and revision diff bucket that could be used for bot training.\n",
        "- numbers bucketing improves performance of the model comparing to using actual numeric values. This idea matches with Bloom filter intuition but mask is generated depending on the value and is comparable (close values has higher chance to have the same hash sum)"
      ],
      "metadata": {
        "id": "DFbQ1Naj4YQi"
      },
      "id": "DFbQ1Naj4YQi"
    },
    {
      "cell_type": "markdown",
      "source": [
        "## Parameters fine-tuning"
      ],
      "metadata": {
        "id": "se--qWxN4bXv"
      },
      "id": "se--qWxN4bXv"
    },
    {
      "cell_type": "markdown",
      "source": [
        "There are few Bloom filter's parameters to finetune:\n",
        "- filter capacity\n",
        "- FP rate\n",
        "\n",
        "Let's use comment as primary feature and find the best parameters to maximize f1 score for per-user split"
      ],
      "metadata": {
        "id": "oEPiEugf4exk"
      },
      "id": "oEPiEugf4exk"
    },
    {
      "cell_type": "code",
      "source": [
        "def extract_features(item):\n",
        "    return item['comment']\n",
        "\n",
        "def extract_label(item):\n",
        "    return item['bot']\n",
        "\n",
        "\n",
        "X_train, X_test, Y_train, Y_test = get_train_test_users(df, _extract_features=extract_features, _extract_label=extract_label)\n",
        "\n",
        "results = []\n",
        "\n",
        "for item_count in [1, np.sum(Y_train)//50, np.sum(Y_train)//20, np.sum(Y_train)//10, np.sum(Y_train)/2, np.sum(Y_train)]:\n",
        "    for fp_rate in [0.01, 0.05, 0.1, 0.2, 0.3]:\n",
        "\n",
        "        model = BloomFilter(item_count, fp_rate)\n",
        "        model.fit(X_train, Y_train)\n",
        "\n",
        "        y_pred = model.predict(X_test)\n",
        "        results.append({\n",
        "            'fp_rate': fp_rate,\n",
        "            'item_count': item_count,\n",
        "            'f1_score': f1_score(Y_test, y_pred)\n",
        "        })\n",
        "pd.DataFrame(results).sort_values('f1_score', ascending=False)"
      ],
      "metadata": {
        "colab": {
          "base_uri": "https://localhost:8080/",
          "height": 979
        },
        "id": "WB-Lmd4H4U7V",
        "outputId": "af8fc45e-66a9-4e83-db67-3e64ce8da943"
      },
      "id": "WB-Lmd4H4U7V",
      "execution_count": 89,
      "outputs": [
        {
          "output_type": "execute_result",
          "data": {
            "text/plain": [
              "    fp_rate  item_count  f1_score\n",
              "18     0.20        79.0  0.295701\n",
              "17     0.10        79.0  0.273803\n",
              "10     0.01        39.0  0.271642\n",
              "12     0.10        39.0  0.260994\n",
              "8      0.20        15.0  0.215471\n",
              "1      0.05         1.0  0.215471\n",
              "14     0.30        39.0  0.215471\n",
              "0      0.01         1.0  0.215471\n",
              "7      0.10        15.0  0.215471\n",
              "6      0.05        15.0  0.215471\n",
              "5      0.01        15.0  0.215471\n",
              "4      0.30         1.0  0.215471\n",
              "3      0.20         1.0  0.215471\n",
              "2      0.10         1.0  0.215471\n",
              "9      0.30        15.0  0.215471\n",
              "19     0.30        79.0  0.213125\n",
              "11     0.05        39.0  0.210440\n",
              "13     0.20        39.0  0.208988\n",
              "15     0.01        79.0  0.195890\n",
              "16     0.05        79.0  0.133277\n",
              "23     0.20       396.5  0.120846\n",
              "28     0.20       793.0  0.106090\n",
              "24     0.30       396.5  0.082718\n",
              "22     0.10       396.5  0.060606\n",
              "29     0.30       793.0  0.046693\n",
              "27     0.10       793.0  0.004587\n",
              "20     0.01       396.5  0.000000\n",
              "21     0.05       396.5  0.000000\n",
              "25     0.01       793.0  0.000000\n",
              "26     0.05       793.0  0.000000"
            ],
            "text/html": [
              "\n",
              "  <div id=\"df-4ebc8fbd-7a92-437e-bd0f-afb1eabefabe\" class=\"colab-df-container\">\n",
              "    <div>\n",
              "<style scoped>\n",
              "    .dataframe tbody tr th:only-of-type {\n",
              "        vertical-align: middle;\n",
              "    }\n",
              "\n",
              "    .dataframe tbody tr th {\n",
              "        vertical-align: top;\n",
              "    }\n",
              "\n",
              "    .dataframe thead th {\n",
              "        text-align: right;\n",
              "    }\n",
              "</style>\n",
              "<table border=\"1\" class=\"dataframe\">\n",
              "  <thead>\n",
              "    <tr style=\"text-align: right;\">\n",
              "      <th></th>\n",
              "      <th>fp_rate</th>\n",
              "      <th>item_count</th>\n",
              "      <th>f1_score</th>\n",
              "    </tr>\n",
              "  </thead>\n",
              "  <tbody>\n",
              "    <tr>\n",
              "      <th>18</th>\n",
              "      <td>0.20</td>\n",
              "      <td>79.0</td>\n",
              "      <td>0.295701</td>\n",
              "    </tr>\n",
              "    <tr>\n",
              "      <th>17</th>\n",
              "      <td>0.10</td>\n",
              "      <td>79.0</td>\n",
              "      <td>0.273803</td>\n",
              "    </tr>\n",
              "    <tr>\n",
              "      <th>10</th>\n",
              "      <td>0.01</td>\n",
              "      <td>39.0</td>\n",
              "      <td>0.271642</td>\n",
              "    </tr>\n",
              "    <tr>\n",
              "      <th>12</th>\n",
              "      <td>0.10</td>\n",
              "      <td>39.0</td>\n",
              "      <td>0.260994</td>\n",
              "    </tr>\n",
              "    <tr>\n",
              "      <th>8</th>\n",
              "      <td>0.20</td>\n",
              "      <td>15.0</td>\n",
              "      <td>0.215471</td>\n",
              "    </tr>\n",
              "    <tr>\n",
              "      <th>1</th>\n",
              "      <td>0.05</td>\n",
              "      <td>1.0</td>\n",
              "      <td>0.215471</td>\n",
              "    </tr>\n",
              "    <tr>\n",
              "      <th>14</th>\n",
              "      <td>0.30</td>\n",
              "      <td>39.0</td>\n",
              "      <td>0.215471</td>\n",
              "    </tr>\n",
              "    <tr>\n",
              "      <th>0</th>\n",
              "      <td>0.01</td>\n",
              "      <td>1.0</td>\n",
              "      <td>0.215471</td>\n",
              "    </tr>\n",
              "    <tr>\n",
              "      <th>7</th>\n",
              "      <td>0.10</td>\n",
              "      <td>15.0</td>\n",
              "      <td>0.215471</td>\n",
              "    </tr>\n",
              "    <tr>\n",
              "      <th>6</th>\n",
              "      <td>0.05</td>\n",
              "      <td>15.0</td>\n",
              "      <td>0.215471</td>\n",
              "    </tr>\n",
              "    <tr>\n",
              "      <th>5</th>\n",
              "      <td>0.01</td>\n",
              "      <td>15.0</td>\n",
              "      <td>0.215471</td>\n",
              "    </tr>\n",
              "    <tr>\n",
              "      <th>4</th>\n",
              "      <td>0.30</td>\n",
              "      <td>1.0</td>\n",
              "      <td>0.215471</td>\n",
              "    </tr>\n",
              "    <tr>\n",
              "      <th>3</th>\n",
              "      <td>0.20</td>\n",
              "      <td>1.0</td>\n",
              "      <td>0.215471</td>\n",
              "    </tr>\n",
              "    <tr>\n",
              "      <th>2</th>\n",
              "      <td>0.10</td>\n",
              "      <td>1.0</td>\n",
              "      <td>0.215471</td>\n",
              "    </tr>\n",
              "    <tr>\n",
              "      <th>9</th>\n",
              "      <td>0.30</td>\n",
              "      <td>15.0</td>\n",
              "      <td>0.215471</td>\n",
              "    </tr>\n",
              "    <tr>\n",
              "      <th>19</th>\n",
              "      <td>0.30</td>\n",
              "      <td>79.0</td>\n",
              "      <td>0.213125</td>\n",
              "    </tr>\n",
              "    <tr>\n",
              "      <th>11</th>\n",
              "      <td>0.05</td>\n",
              "      <td>39.0</td>\n",
              "      <td>0.210440</td>\n",
              "    </tr>\n",
              "    <tr>\n",
              "      <th>13</th>\n",
              "      <td>0.20</td>\n",
              "      <td>39.0</td>\n",
              "      <td>0.208988</td>\n",
              "    </tr>\n",
              "    <tr>\n",
              "      <th>15</th>\n",
              "      <td>0.01</td>\n",
              "      <td>79.0</td>\n",
              "      <td>0.195890</td>\n",
              "    </tr>\n",
              "    <tr>\n",
              "      <th>16</th>\n",
              "      <td>0.05</td>\n",
              "      <td>79.0</td>\n",
              "      <td>0.133277</td>\n",
              "    </tr>\n",
              "    <tr>\n",
              "      <th>23</th>\n",
              "      <td>0.20</td>\n",
              "      <td>396.5</td>\n",
              "      <td>0.120846</td>\n",
              "    </tr>\n",
              "    <tr>\n",
              "      <th>28</th>\n",
              "      <td>0.20</td>\n",
              "      <td>793.0</td>\n",
              "      <td>0.106090</td>\n",
              "    </tr>\n",
              "    <tr>\n",
              "      <th>24</th>\n",
              "      <td>0.30</td>\n",
              "      <td>396.5</td>\n",
              "      <td>0.082718</td>\n",
              "    </tr>\n",
              "    <tr>\n",
              "      <th>22</th>\n",
              "      <td>0.10</td>\n",
              "      <td>396.5</td>\n",
              "      <td>0.060606</td>\n",
              "    </tr>\n",
              "    <tr>\n",
              "      <th>29</th>\n",
              "      <td>0.30</td>\n",
              "      <td>793.0</td>\n",
              "      <td>0.046693</td>\n",
              "    </tr>\n",
              "    <tr>\n",
              "      <th>27</th>\n",
              "      <td>0.10</td>\n",
              "      <td>793.0</td>\n",
              "      <td>0.004587</td>\n",
              "    </tr>\n",
              "    <tr>\n",
              "      <th>20</th>\n",
              "      <td>0.01</td>\n",
              "      <td>396.5</td>\n",
              "      <td>0.000000</td>\n",
              "    </tr>\n",
              "    <tr>\n",
              "      <th>21</th>\n",
              "      <td>0.05</td>\n",
              "      <td>396.5</td>\n",
              "      <td>0.000000</td>\n",
              "    </tr>\n",
              "    <tr>\n",
              "      <th>25</th>\n",
              "      <td>0.01</td>\n",
              "      <td>793.0</td>\n",
              "      <td>0.000000</td>\n",
              "    </tr>\n",
              "    <tr>\n",
              "      <th>26</th>\n",
              "      <td>0.05</td>\n",
              "      <td>793.0</td>\n",
              "      <td>0.000000</td>\n",
              "    </tr>\n",
              "  </tbody>\n",
              "</table>\n",
              "</div>\n",
              "    <div class=\"colab-df-buttons\">\n",
              "\n",
              "  <div class=\"colab-df-container\">\n",
              "    <button class=\"colab-df-convert\" onclick=\"convertToInteractive('df-4ebc8fbd-7a92-437e-bd0f-afb1eabefabe')\"\n",
              "            title=\"Convert this dataframe to an interactive table.\"\n",
              "            style=\"display:none;\">\n",
              "\n",
              "  <svg xmlns=\"http://www.w3.org/2000/svg\" height=\"24px\" viewBox=\"0 -960 960 960\">\n",
              "    <path d=\"M120-120v-720h720v720H120Zm60-500h600v-160H180v160Zm220 220h160v-160H400v160Zm0 220h160v-160H400v160ZM180-400h160v-160H180v160Zm440 0h160v-160H620v160ZM180-180h160v-160H180v160Zm440 0h160v-160H620v160Z\"/>\n",
              "  </svg>\n",
              "    </button>\n",
              "\n",
              "  <style>\n",
              "    .colab-df-container {\n",
              "      display:flex;\n",
              "      gap: 12px;\n",
              "    }\n",
              "\n",
              "    .colab-df-convert {\n",
              "      background-color: #E8F0FE;\n",
              "      border: none;\n",
              "      border-radius: 50%;\n",
              "      cursor: pointer;\n",
              "      display: none;\n",
              "      fill: #1967D2;\n",
              "      height: 32px;\n",
              "      padding: 0 0 0 0;\n",
              "      width: 32px;\n",
              "    }\n",
              "\n",
              "    .colab-df-convert:hover {\n",
              "      background-color: #E2EBFA;\n",
              "      box-shadow: 0px 1px 2px rgba(60, 64, 67, 0.3), 0px 1px 3px 1px rgba(60, 64, 67, 0.15);\n",
              "      fill: #174EA6;\n",
              "    }\n",
              "\n",
              "    .colab-df-buttons div {\n",
              "      margin-bottom: 4px;\n",
              "    }\n",
              "\n",
              "    [theme=dark] .colab-df-convert {\n",
              "      background-color: #3B4455;\n",
              "      fill: #D2E3FC;\n",
              "    }\n",
              "\n",
              "    [theme=dark] .colab-df-convert:hover {\n",
              "      background-color: #434B5C;\n",
              "      box-shadow: 0px 1px 3px 1px rgba(0, 0, 0, 0.15);\n",
              "      filter: drop-shadow(0px 1px 2px rgba(0, 0, 0, 0.3));\n",
              "      fill: #FFFFFF;\n",
              "    }\n",
              "  </style>\n",
              "\n",
              "    <script>\n",
              "      const buttonEl =\n",
              "        document.querySelector('#df-4ebc8fbd-7a92-437e-bd0f-afb1eabefabe button.colab-df-convert');\n",
              "      buttonEl.style.display =\n",
              "        google.colab.kernel.accessAllowed ? 'block' : 'none';\n",
              "\n",
              "      async function convertToInteractive(key) {\n",
              "        const element = document.querySelector('#df-4ebc8fbd-7a92-437e-bd0f-afb1eabefabe');\n",
              "        const dataTable =\n",
              "          await google.colab.kernel.invokeFunction('convertToInteractive',\n",
              "                                                    [key], {});\n",
              "        if (!dataTable) return;\n",
              "\n",
              "        const docLinkHtml = 'Like what you see? Visit the ' +\n",
              "          '<a target=\"_blank\" href=https://colab.research.google.com/notebooks/data_table.ipynb>data table notebook</a>'\n",
              "          + ' to learn more about interactive tables.';\n",
              "        element.innerHTML = '';\n",
              "        dataTable['output_type'] = 'display_data';\n",
              "        await google.colab.output.renderOutput(dataTable, element);\n",
              "        const docLink = document.createElement('div');\n",
              "        docLink.innerHTML = docLinkHtml;\n",
              "        element.appendChild(docLink);\n",
              "      }\n",
              "    </script>\n",
              "  </div>\n",
              "\n",
              "\n",
              "<div id=\"df-4bd3b715-85e1-42a9-8917-f7c7156c527b\">\n",
              "  <button class=\"colab-df-quickchart\" onclick=\"quickchart('df-4bd3b715-85e1-42a9-8917-f7c7156c527b')\"\n",
              "            title=\"Suggest charts\"\n",
              "            style=\"display:none;\">\n",
              "\n",
              "<svg xmlns=\"http://www.w3.org/2000/svg\" height=\"24px\"viewBox=\"0 0 24 24\"\n",
              "     width=\"24px\">\n",
              "    <g>\n",
              "        <path d=\"M19 3H5c-1.1 0-2 .9-2 2v14c0 1.1.9 2 2 2h14c1.1 0 2-.9 2-2V5c0-1.1-.9-2-2-2zM9 17H7v-7h2v7zm4 0h-2V7h2v10zm4 0h-2v-4h2v4z\"/>\n",
              "    </g>\n",
              "</svg>\n",
              "  </button>\n",
              "\n",
              "<style>\n",
              "  .colab-df-quickchart {\n",
              "      --bg-color: #E8F0FE;\n",
              "      --fill-color: #1967D2;\n",
              "      --hover-bg-color: #E2EBFA;\n",
              "      --hover-fill-color: #174EA6;\n",
              "      --disabled-fill-color: #AAA;\n",
              "      --disabled-bg-color: #DDD;\n",
              "  }\n",
              "\n",
              "  [theme=dark] .colab-df-quickchart {\n",
              "      --bg-color: #3B4455;\n",
              "      --fill-color: #D2E3FC;\n",
              "      --hover-bg-color: #434B5C;\n",
              "      --hover-fill-color: #FFFFFF;\n",
              "      --disabled-bg-color: #3B4455;\n",
              "      --disabled-fill-color: #666;\n",
              "  }\n",
              "\n",
              "  .colab-df-quickchart {\n",
              "    background-color: var(--bg-color);\n",
              "    border: none;\n",
              "    border-radius: 50%;\n",
              "    cursor: pointer;\n",
              "    display: none;\n",
              "    fill: var(--fill-color);\n",
              "    height: 32px;\n",
              "    padding: 0;\n",
              "    width: 32px;\n",
              "  }\n",
              "\n",
              "  .colab-df-quickchart:hover {\n",
              "    background-color: var(--hover-bg-color);\n",
              "    box-shadow: 0 1px 2px rgba(60, 64, 67, 0.3), 0 1px 3px 1px rgba(60, 64, 67, 0.15);\n",
              "    fill: var(--button-hover-fill-color);\n",
              "  }\n",
              "\n",
              "  .colab-df-quickchart-complete:disabled,\n",
              "  .colab-df-quickchart-complete:disabled:hover {\n",
              "    background-color: var(--disabled-bg-color);\n",
              "    fill: var(--disabled-fill-color);\n",
              "    box-shadow: none;\n",
              "  }\n",
              "\n",
              "  .colab-df-spinner {\n",
              "    border: 2px solid var(--fill-color);\n",
              "    border-color: transparent;\n",
              "    border-bottom-color: var(--fill-color);\n",
              "    animation:\n",
              "      spin 1s steps(1) infinite;\n",
              "  }\n",
              "\n",
              "  @keyframes spin {\n",
              "    0% {\n",
              "      border-color: transparent;\n",
              "      border-bottom-color: var(--fill-color);\n",
              "      border-left-color: var(--fill-color);\n",
              "    }\n",
              "    20% {\n",
              "      border-color: transparent;\n",
              "      border-left-color: var(--fill-color);\n",
              "      border-top-color: var(--fill-color);\n",
              "    }\n",
              "    30% {\n",
              "      border-color: transparent;\n",
              "      border-left-color: var(--fill-color);\n",
              "      border-top-color: var(--fill-color);\n",
              "      border-right-color: var(--fill-color);\n",
              "    }\n",
              "    40% {\n",
              "      border-color: transparent;\n",
              "      border-right-color: var(--fill-color);\n",
              "      border-top-color: var(--fill-color);\n",
              "    }\n",
              "    60% {\n",
              "      border-color: transparent;\n",
              "      border-right-color: var(--fill-color);\n",
              "    }\n",
              "    80% {\n",
              "      border-color: transparent;\n",
              "      border-right-color: var(--fill-color);\n",
              "      border-bottom-color: var(--fill-color);\n",
              "    }\n",
              "    90% {\n",
              "      border-color: transparent;\n",
              "      border-bottom-color: var(--fill-color);\n",
              "    }\n",
              "  }\n",
              "</style>\n",
              "\n",
              "  <script>\n",
              "    async function quickchart(key) {\n",
              "      const quickchartButtonEl =\n",
              "        document.querySelector('#' + key + ' button');\n",
              "      quickchartButtonEl.disabled = true;  // To prevent multiple clicks.\n",
              "      quickchartButtonEl.classList.add('colab-df-spinner');\n",
              "      try {\n",
              "        const charts = await google.colab.kernel.invokeFunction(\n",
              "            'suggestCharts', [key], {});\n",
              "      } catch (error) {\n",
              "        console.error('Error during call to suggestCharts:', error);\n",
              "      }\n",
              "      quickchartButtonEl.classList.remove('colab-df-spinner');\n",
              "      quickchartButtonEl.classList.add('colab-df-quickchart-complete');\n",
              "    }\n",
              "    (() => {\n",
              "      let quickchartButtonEl =\n",
              "        document.querySelector('#df-4bd3b715-85e1-42a9-8917-f7c7156c527b button');\n",
              "      quickchartButtonEl.style.display =\n",
              "        google.colab.kernel.accessAllowed ? 'block' : 'none';\n",
              "    })();\n",
              "  </script>\n",
              "</div>\n",
              "    </div>\n",
              "  </div>\n"
            ]
          },
          "metadata": {},
          "execution_count": 89
        }
      ]
    },
    {
      "cell_type": "markdown",
      "source": [
        "The best score we can get for item numbers 53 and fp_rate = 5%"
      ],
      "metadata": {
        "id": "2HljMHMc4it8"
      },
      "id": "2HljMHMc4it8"
    },
    {
      "cell_type": "code",
      "source": [
        "model = BloomFilter(101, 0.05)\n",
        "model.fit(X_train, Y_train)\n",
        "\n",
        "y_pred = model.predict(X_test)\n",
        "\n",
        "print(classification_report(Y_test, y_pred))"
      ],
      "metadata": {
        "colab": {
          "base_uri": "https://localhost:8080/"
        },
        "id": "2JlrXRb64i5r",
        "outputId": "4291c220-6f6f-4719-d13f-22861b622068"
      },
      "id": "2JlrXRb64i5r",
      "execution_count": 90,
      "outputs": [
        {
          "output_type": "stream",
          "name": "stdout",
          "text": [
            "              precision    recall  f1-score   support\n",
            "\n",
            "       False       0.90      0.83      0.87      3073\n",
            "        True       0.22      0.36      0.27       422\n",
            "\n",
            "    accuracy                           0.77      3495\n",
            "   macro avg       0.56      0.59      0.57      3495\n",
            "weighted avg       0.82      0.77      0.79      3495\n",
            "\n"
          ]
        }
      ]
    },
    {
      "cell_type": "code",
      "source": [],
      "metadata": {
        "id": "O7zzi_jI8K5t"
      },
      "id": "O7zzi_jI8K5t",
      "execution_count": null,
      "outputs": []
    }
  ],
  "metadata": {
    "kernelspec": {
      "display_name": "Python 3 (ipykernel)",
      "language": "python",
      "name": "python3"
    },
    "language_info": {
      "codemirror_mode": {
        "name": "ipython",
        "version": 3
      },
      "file_extension": ".py",
      "mimetype": "text/x-python",
      "name": "python",
      "nbconvert_exporter": "python",
      "pygments_lexer": "ipython3",
      "version": "3.11.6"
    },
    "colab": {
      "provenance": []
    }
  },
  "nbformat": 4,
  "nbformat_minor": 5
}