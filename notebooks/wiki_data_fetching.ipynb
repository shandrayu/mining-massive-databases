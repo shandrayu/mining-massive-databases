{
  "cells": [
    {
      "cell_type": "markdown",
      "metadata": {
        "id": "view-in-github",
        "colab_type": "text"
      },
      "source": [
        "<a href=\"https://colab.research.google.com/github/shandrayu/mining-massive-databases/blob/main/notebooks/wiki_data_fetching.ipynb\" target=\"_parent\"><img src=\"https://colab.research.google.com/assets/colab-badge.svg\" alt=\"Open In Colab\"/></a>"
      ]
    },
    {
      "cell_type": "markdown",
      "source": [
        "# Wiki data fetching"
      ],
      "metadata": {
        "id": "4UyIglR4caD5"
      }
    },
    {
      "cell_type": "code",
      "execution_count": 1,
      "metadata": {
        "colab": {
          "base_uri": "https://localhost:8080/"
        },
        "id": "cmnyXwp-PRNd",
        "outputId": "0fd33562-a514-43ae-a477-8cb77889dc16"
      },
      "outputs": [
        {
          "output_type": "stream",
          "name": "stdout",
          "text": [
            "Collecting sseclient\n",
            "  Downloading sseclient-0.0.27.tar.gz (7.5 kB)\n",
            "  Preparing metadata (setup.py) ... \u001b[?25l\u001b[?25hdone\n",
            "Requirement already satisfied: requests>=2.9 in /usr/local/lib/python3.10/dist-packages (from sseclient) (2.31.0)\n",
            "Requirement already satisfied: six in /usr/local/lib/python3.10/dist-packages (from sseclient) (1.16.0)\n",
            "Requirement already satisfied: charset-normalizer<4,>=2 in /usr/local/lib/python3.10/dist-packages (from requests>=2.9->sseclient) (3.3.2)\n",
            "Requirement already satisfied: idna<4,>=2.5 in /usr/local/lib/python3.10/dist-packages (from requests>=2.9->sseclient) (3.4)\n",
            "Requirement already satisfied: urllib3<3,>=1.21.1 in /usr/local/lib/python3.10/dist-packages (from requests>=2.9->sseclient) (2.0.7)\n",
            "Requirement already satisfied: certifi>=2017.4.17 in /usr/local/lib/python3.10/dist-packages (from requests>=2.9->sseclient) (2023.7.22)\n",
            "Building wheels for collected packages: sseclient\n",
            "  Building wheel for sseclient (setup.py) ... \u001b[?25l\u001b[?25hdone\n",
            "  Created wheel for sseclient: filename=sseclient-0.0.27-py3-none-any.whl size=5563 sha256=c883bafcc17329108394c944d0111f0bd29dc9e08f8d40a21136815b4f5f966e\n",
            "  Stored in directory: /root/.cache/pip/wheels/60/57/0e/09b1264923280e935a34cc543b7f147f5df12490bd7a992f42\n",
            "Successfully built sseclient\n",
            "Installing collected packages: sseclient\n",
            "Successfully installed sseclient-0.0.27\n"
          ]
        }
      ],
      "source": [
        "!pip install sseclient\n"
      ]
    },
    {
      "cell_type": "code",
      "execution_count": 2,
      "metadata": {
        "id": "Xm9gK7jMdm7g",
        "colab": {
          "base_uri": "https://localhost:8080/"
        },
        "outputId": "35e60f11-90b7-4baf-aac7-0e1a9fe8b69a"
      },
      "outputs": [
        {
          "output_type": "stream",
          "name": "stdout",
          "text": [
            "Collected 430 edits\n"
          ]
        }
      ],
      "source": [
        "from sseclient import SSEClient as EventSource\n",
        "import time\n",
        "import json\n",
        "\n",
        "\n",
        "def hash_user(wiki, id):\n",
        "    return hash((wiki, id))\n",
        "\n",
        "def fetch_users(event_source, fetching_time_sec, message_types, wikis, event_decimation=5):\n",
        "    observed_users = set()\n",
        "    skipped_users = set()\n",
        "    user_counter = 0\n",
        "    print_log = False\n",
        "    start_time = time.time()\n",
        "    for event in event_source:\n",
        "        try:\n",
        "            change = json.loads(event.data)\n",
        "        except:\n",
        "            # ignore message\n",
        "            continue\n",
        "\n",
        "        if change[\"type\"] not in message_types or change[\"wiki\"] not in wikis:\n",
        "            # ignore message\n",
        "            continue\n",
        "\n",
        "        user = hash_user(change[\"wiki\"], change[\"user\"])\n",
        "        if user in observed_users:\n",
        "            if print_log:\n",
        "                print(f\"Message from user {user} saved\")\n",
        "            save_user = True\n",
        "        elif user in skipped_users:\n",
        "            if print_log:\n",
        "                print(f\"Message from user {user} skipped\")\n",
        "            save_user = False\n",
        "        else:\n",
        "            # new user\n",
        "            if user_counter % event_decimation == 0:\n",
        "                if print_log:\n",
        "                    print(f\"+ Add new user {user}\")\n",
        "                observed_users.add(user)\n",
        "                save_user = True\n",
        "            else:\n",
        "                if print_log:\n",
        "                    print(f\"- Add Skip user {user}\")\n",
        "                skipped_users.add(user)\n",
        "                save_user = False\n",
        "            user_counter += 1\n",
        "\n",
        "        elapced_time = time.time() - start_time\n",
        "        if elapced_time > fetching_time_sec:\n",
        "            break\n",
        "\n",
        "        if save_user:\n",
        "            yield (change)\n",
        "\n",
        "url = 'https://stream.wikimedia.org/v2/stream/recentchange'\n",
        "message_types = {\"edit\"}\n",
        "wikis = {\"enwiki\", \"wikidatawiki\"}\n",
        "wikis_str = \"_\".join(wikis)\n",
        "fetching_time_sec = 200\n",
        "changes = [change for change in fetch_users(EventSource(url), fetching_time_sec, message_types, wikis)]\n",
        "\n",
        "print(f\"Collected {len(changes)} edits\")\n",
        "\n",
        "with open(f\"changes_{wikis_str}_{fetching_time_sec}_sec.json\", \"w\", encoding=\"utf-8\") as json_file:\n",
        "    json.dump(changes, json_file, ensure_ascii=True, indent=4)"
      ]
    },
    {
      "cell_type": "markdown",
      "source": [
        "## Description\n",
        "\n",
        "There are several mesage types. We are interested only in type \"edit\".\n",
        "\n",
        "Sample 20% of the stream - we record edits from every 5th new user in the stream. Other edits are skipped.\n",
        "\n",
        "Wiki:\n",
        "- enwiki\n",
        "- wikidatawiki"
      ],
      "metadata": {
        "id": "PhHkhNyCcXi7"
      }
    }
  ],
  "metadata": {
    "colab": {
      "provenance": [],
      "include_colab_link": true
    },
    "kernelspec": {
      "display_name": "Python 3",
      "language": "python",
      "name": "python3"
    },
    "language_info": {
      "codemirror_mode": {
        "name": "ipython",
        "version": 3
      },
      "file_extension": ".py",
      "mimetype": "text/x-python",
      "name": "python",
      "nbconvert_exporter": "python",
      "pygments_lexer": "ipython3",
      "version": "3.8.5"
    }
  },
  "nbformat": 4,
  "nbformat_minor": 0
}