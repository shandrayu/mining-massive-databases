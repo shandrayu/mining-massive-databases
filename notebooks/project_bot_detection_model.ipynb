{
  "nbformat": 4,
  "nbformat_minor": 0,
  "metadata": {
    "colab": {
      "provenance": [],
      "collapsed_sections": [
        "jrZuyrW4GGM0"
      ]
    },
    "kernelspec": {
      "name": "python3",
      "display_name": "Python 3"
    },
    "language_info": {
      "name": "python"
    }
  },
  "cells": [
    {
      "cell_type": "markdown",
      "source": [
        "# PySpark setup"
      ],
      "metadata": {
        "id": "jrZuyrW4GGM0"
      }
    },
    {
      "cell_type": "code",
      "source": [
        "!apt-get install openjdk-8-jdk-headless -qq > /dev/null"
      ],
      "metadata": {
        "id": "vGaZjYoYgs3_"
      },
      "execution_count": 18,
      "outputs": []
    },
    {
      "cell_type": "code",
      "source": [
        "!wget https://downloads.apache.org/spark/spark-3.5.0/spark-3.5.0-bin-hadoop3.tgz"
      ],
      "metadata": {
        "colab": {
          "base_uri": "https://localhost:8080/"
        },
        "id": "LHnMYKJHgtd9",
        "outputId": "101dd266-d99c-4ac6-b85b-351f51df6c8e"
      },
      "execution_count": 19,
      "outputs": [
        {
          "output_type": "stream",
          "name": "stdout",
          "text": [
            "--2023-11-21 20:13:04--  https://downloads.apache.org/spark/spark-3.5.0/spark-3.5.0-bin-hadoop3.tgz\n",
            "Resolving downloads.apache.org (downloads.apache.org)... 135.181.214.104, 88.99.95.219, 2a01:4f9:3a:2c57::2, ...\n",
            "Connecting to downloads.apache.org (downloads.apache.org)|135.181.214.104|:443... connected.\n",
            "HTTP request sent, awaiting response... 200 OK\n",
            "Length: 400395283 (382M) [application/x-gzip]\n",
            "Saving to: ‘spark-3.5.0-bin-hadoop3.tgz’\n",
            "\n",
            "spark-3.5.0-bin-had 100%[===================>] 381.85M  18.7MB/s    in 22s     \n",
            "\n",
            "2023-11-21 20:13:26 (17.3 MB/s) - ‘spark-3.5.0-bin-hadoop3.tgz’ saved [400395283/400395283]\n",
            "\n"
          ]
        }
      ]
    },
    {
      "cell_type": "code",
      "source": [
        "# !tar xzvf spark-3.5.0-bin-hadoop3.tgz"
      ],
      "metadata": {
        "id": "ZhqA5MZkgtg0"
      },
      "execution_count": 26,
      "outputs": []
    },
    {
      "cell_type": "code",
      "source": [
        "!pip install -q findspark"
      ],
      "metadata": {
        "id": "_qaPig7ygti0"
      },
      "execution_count": 21,
      "outputs": []
    },
    {
      "cell_type": "code",
      "source": [
        "import os\n",
        "os.environ[\"JAVA_HOME\"] = \"/usr/lib/jvm/java-8-openjdk-amd64\"\n",
        "os.environ[\"SPARK_HOME\"] = \"/content/spark-3.5.0-bin-hadoop3\""
      ],
      "metadata": {
        "id": "W6GE8R1jgtlK"
      },
      "execution_count": 22,
      "outputs": []
    },
    {
      "cell_type": "code",
      "source": [
        "import findspark\n",
        "findspark.init()"
      ],
      "metadata": {
        "id": "ml8kKq6Fgtnf"
      },
      "execution_count": 23,
      "outputs": []
    },
    {
      "cell_type": "code",
      "source": [
        "import pyspark\n",
        "from pyspark.sql import SparkSession\n",
        "from pyspark.sql.types import *\n",
        "from pyspark.sql.functions import col, avg, when\n",
        "import pandas as pd"
      ],
      "metadata": {
        "id": "HAuX3csDgtpk"
      },
      "execution_count": 24,
      "outputs": []
    },
    {
      "cell_type": "code",
      "source": [
        "sc = pyspark.SparkContext('local[*]')\n",
        "spark = SparkSession(sc)\n",
        "spark"
      ],
      "metadata": {
        "colab": {
          "base_uri": "https://localhost:8080/",
          "height": 221
        },
        "id": "Plac_b0Wg3r8",
        "outputId": "c1802aac-fed9-421b-da92-48f593cfb91b"
      },
      "execution_count": 25,
      "outputs": [
        {
          "output_type": "execute_result",
          "data": {
            "text/plain": [
              "<pyspark.sql.session.SparkSession at 0x7a02db886410>"
            ],
            "text/html": [
              "\n",
              "            <div>\n",
              "                <p><b>SparkSession - in-memory</b></p>\n",
              "                \n",
              "        <div>\n",
              "            <p><b>SparkContext</b></p>\n",
              "\n",
              "            <p><a href=\"http://2f2ff7f7aa45:4040\">Spark UI</a></p>\n",
              "\n",
              "            <dl>\n",
              "              <dt>Version</dt>\n",
              "                <dd><code>v3.5.0</code></dd>\n",
              "              <dt>Master</dt>\n",
              "                <dd><code>local[*]</code></dd>\n",
              "              <dt>AppName</dt>\n",
              "                <dd><code>pyspark-shell</code></dd>\n",
              "            </dl>\n",
              "        </div>\n",
              "        \n",
              "            </div>\n",
              "        "
            ]
          },
          "metadata": {},
          "execution_count": 25
        }
      ]
    },
    {
      "cell_type": "markdown",
      "source": [
        "# Upload data"
      ],
      "metadata": {
        "id": "-eBr1wWlGLLb"
      }
    },
    {
      "cell_type": "code",
      "source": [
        "import pandas as pd\n",
        "import matplotlib.pyplot as plt"
      ],
      "metadata": {
        "id": "TyhPGuBik748"
      },
      "execution_count": 164,
      "outputs": []
    },
    {
      "cell_type": "code",
      "source": [
        "df = spark.read.option(\"multiline\",\"true\").json('/content/changes_enwiki_1000_sec.json')"
      ],
      "metadata": {
        "id": "wXSmxy0bg3uz"
      },
      "execution_count": 192,
      "outputs": []
    },
    {
      "cell_type": "code",
      "source": [
        "# df.columns"
      ],
      "metadata": {
        "id": "AJAQMMGbg3yV"
      },
      "execution_count": 114,
      "outputs": []
    },
    {
      "cell_type": "code",
      "source": [
        "df.show(5)"
      ],
      "metadata": {
        "colab": {
          "base_uri": "https://localhost:8080/"
        },
        "id": "p1pg_kn3grs4",
        "outputId": "610c5efd-1121-4500-eec0-059037656eac"
      },
      "execution_count": 193,
      "outputs": [
        {
          "output_type": "stream",
          "name": "stdout",
          "text": [
            "+--------------------+-----+--------------------+----------+--------------+--------------------+-----+---------+--------------------+--------------------+--------------------+----------------+------------------+--------------------+----------+--------------------+--------------------+----+---------------+------+\n",
            "|             $schema|  bot|             comment|        id|        length|                meta|minor|namespace|          notify_url|       parsedcomment|            revision|     server_name|server_script_path|          server_url| timestamp|               title|           title_url|type|           user|  wiki|\n",
            "+--------------------+-----+--------------------+----------+--------------+--------------------+-----+---------+--------------------+--------------------+--------------------+----------------+------------------+--------------------+----------+--------------------+--------------------+----+---------------+------+\n",
            "|/mediawiki/recent...|false|       /* Descent */|1696766497|  {5592, 5576}|{en.wikipedia.org...|false|        0|https://en.wikipe...|<span dir=\"auto\">...|{1186174570, 1184...|en.wikipedia.org|                /w|https://en.wikipe...|1700565193|Pratap Singh (Raj...|https://en.wikipe...|edit|   Seahawk-2023|enwiki|\n",
            "|/mediawiki/recent...|false|/* External links */|1696766504|  {7239, 7185}|{en.wikipedia.org...|false|        0|https://en.wikipe...|<span dir=\"auto\">...|{1186174578, 1029...|en.wikipedia.org|                /w|https://en.wikipe...|1700565194|Trust Banking Cor...|https://en.wikipe...|edit| FrederickEvans|enwiki|\n",
            "|/mediawiki/recent...|false|     WP:SECTIONORDER|1696766521|  {4241, 4241}|{en.wikipedia.org...|false|        0|https://en.wikipe...|     WP:SECTIONORDER|{1186174585, 1165...|en.wikipedia.org|                /w|https://en.wikipe...|1700565200|  Sultan Al-Mantheri|https://en.wikipe...|edit|Finlay McWalter|enwiki|\n",
            "|/mediawiki/recent...|false|/* A barnstar for...|1696766528|{67521, 67265}|{en.wikipedia.org...|false|        3|https://en.wikipe...|<span dir=\"auto\">...|{1186174588, 1186...|en.wikipedia.org|                /w|https://en.wikipe...|1700565201|User talk:Skyshifter|https://en.wikipe...|edit|     Skyshifter|enwiki|\n",
            "|/mediawiki/recent...|false|Added column for ...|1696766534|  {7811, 7612}|{en.wikipedia.org...|false|        0|https://en.wikipe...|Added column for ...|{1186174595, 1177...|en.wikipedia.org|                /w|https://en.wikipe...|1700565207|  West Seram Regency|https://en.wikipe...|edit|   Rif Winfield|enwiki|\n",
            "+--------------------+-----+--------------------+----------+--------------+--------------------+-----+---------+--------------------+--------------------+--------------------+----------------+------------------+--------------------+----------+--------------------+--------------------+----+---------------+------+\n",
            "only showing top 5 rows\n",
            "\n"
          ]
        }
      ]
    },
    {
      "cell_type": "code",
      "source": [
        "df.count()"
      ],
      "metadata": {
        "colab": {
          "base_uri": "https://localhost:8080/"
        },
        "id": "_C-vUnHy6nCA",
        "outputId": "bacf3483-ecf8-480f-dabb-9b84e301575f"
      },
      "execution_count": 194,
      "outputs": [
        {
          "output_type": "execute_result",
          "data": {
            "text/plain": [
              "260"
            ]
          },
          "metadata": {},
          "execution_count": 194
        }
      ]
    },
    {
      "cell_type": "markdown",
      "source": [
        "# Describe the distribution of edits per users and bots"
      ],
      "metadata": {
        "id": "4AY5BoxUpJUB"
      }
    },
    {
      "cell_type": "code",
      "source": [
        "df_bot_distr = df.select('user', 'bot').toPandas().drop_duplicates()"
      ],
      "metadata": {
        "id": "vOPVmlbOkBjS"
      },
      "execution_count": 198,
      "outputs": []
    },
    {
      "source": [
        "from matplotlib import pyplot as plt\n",
        "import seaborn as sns\n",
        "df_bot_distr.groupby('bot').size().plot(kind='barh', color=sns.palettes.mpl_palette('Dark2'))\n",
        "plt.gca().spines[['top', 'right',]].set_visible(False)"
      ],
      "cell_type": "code",
      "metadata": {
        "colab": {
          "base_uri": "https://localhost:8080/",
          "height": 430
        },
        "id": "ITGcFuei7aGd",
        "outputId": "f047e4e8-a333-48ab-e538-9d95c50ac1a9"
      },
      "execution_count": 201,
      "outputs": [
        {
          "output_type": "display_data",
          "data": {
            "text/plain": [
              "<Figure size 640x480 with 1 Axes>"
            ],
            "image/png": "[encoded data removed]"
          },
          "metadata": {}
        }
      ]
    },
    {
      "cell_type": "code",
      "source": [
        "df_users = df.filter(df.bot == 'false').groupBy('user').count().toPandas()"
      ],
      "metadata": {
        "id": "mIEFBiuHgrvl"
      },
      "execution_count": 58,
      "outputs": []
    },
    {
      "source": [
        "from matplotlib import pyplot as plt\n",
        "df_users['count'].plot(kind='hist', bins=20, title='Distribution of edits for users')\n",
        "plt.gca().spines[['top', 'right',]].set_visible(False)"
      ],
      "cell_type": "code",
      "metadata": {
        "colab": {
          "base_uri": "https://localhost:8080/",
          "height": 452
        },
        "id": "g8QsEtfUm3WT",
        "outputId": "cf08a326-8cc9-435f-b45b-1fda49208877"
      },
      "execution_count": 83,
      "outputs": [
        {
          "output_type": "display_data",
          "data": {
            "text/plain": [
              "<Figure size 640x480 with 1 Axes>"
            ],
            "image/png": "[encoded data removed]"
          },
          "metadata": {}
        }
      ]
    },
    {
      "cell_type": "code",
      "source": [
        "df_bots = df.filter(df.bot == 'true').groupBy('user').count().toPandas()"
      ],
      "metadata": {
        "id": "2EzMLnF1gryP"
      },
      "execution_count": 66,
      "outputs": []
    },
    {
      "cell_type": "code",
      "source": [
        "df_bots"
      ],
      "metadata": {
        "colab": {
          "base_uri": "https://localhost:8080/",
          "height": 112
        },
        "id": "4ExjSYQYyA8g",
        "outputId": "3cc9f7d7-2cc8-49a7-fcea-a305ee3c1ab9"
      },
      "execution_count": 129,
      "outputs": [
        {
          "output_type": "execute_result",
          "data": {
            "text/plain": [
              "           user  count\n",
              "0  Citation bot     10\n",
              "1    JJMC89 bot      1"
            ],
            "text/html": [
              "\n",
              "  <div id=\"df-3b0ce09b-81a4-49ad-affc-dcb62fbb18d7\" class=\"colab-df-container\">\n",
              "    <div>\n",
              "<style scoped>\n",
              "    .dataframe tbody tr th:only-of-type {\n",
              "        vertical-align: middle;\n",
              "    }\n",
              "\n",
              "    .dataframe tbody tr th {\n",
              "        vertical-align: top;\n",
              "    }\n",
              "\n",
              "    .dataframe thead th {\n",
              "        text-align: right;\n",
              "    }\n",
              "</style>\n",
              "<table border=\"1\" class=\"dataframe\">\n",
              "  <thead>\n",
              "    <tr style=\"text-align: right;\">\n",
              "      <th></th>\n",
              "      <th>user</th>\n",
              "      <th>count</th>\n",
              "    </tr>\n",
              "  </thead>\n",
              "  <tbody>\n",
              "    <tr>\n",
              "      <th>0</th>\n",
              "      <td>Citation bot</td>\n",
              "      <td>10</td>\n",
              "    </tr>\n",
              "    <tr>\n",
              "      <th>1</th>\n",
              "      <td>JJMC89 bot</td>\n",
              "      <td>1</td>\n",
              "    </tr>\n",
              "  </tbody>\n",
              "</table>\n",
              "</div>\n",
              "    <div class=\"colab-df-buttons\">\n",
              "\n",
              "  <div class=\"colab-df-container\">\n",
              "    <button class=\"colab-df-convert\" onclick=\"convertToInteractive('df-3b0ce09b-81a4-49ad-affc-dcb62fbb18d7')\"\n",
              "            title=\"Convert this dataframe to an interactive table.\"\n",
              "            style=\"display:none;\">\n",
              "\n",
              "  <svg xmlns=\"http://www.w3.org/2000/svg\" height=\"24px\" viewBox=\"0 -960 960 960\">\n",
              "    <path d=\"M120-120v-720h720v720H120Zm60-500h600v-160H180v160Zm220 220h160v-160H400v160Zm0 220h160v-160H400v160ZM180-400h160v-160H180v160Zm440 0h160v-160H620v160ZM180-180h160v-160H180v160Zm440 0h160v-160H620v160Z\"/>\n",
              "  </svg>\n",
              "    </button>\n",
              "\n",
              "  <style>\n",
              "    .colab-df-container {\n",
              "      display:flex;\n",
              "      gap: 12px;\n",
              "    }\n",
              "\n",
              "    .colab-df-convert {\n",
              "      background-color: #E8F0FE;\n",
              "      border: none;\n",
              "      border-radius: 50%;\n",
              "      cursor: pointer;\n",
              "      display: none;\n",
              "      fill: #1967D2;\n",
              "      height: 32px;\n",
              "      padding: 0 0 0 0;\n",
              "      width: 32px;\n",
              "    }\n",
              "\n",
              "    .colab-df-convert:hover {\n",
              "      background-color: #E2EBFA;\n",
              "      box-shadow: 0px 1px 2px rgba(60, 64, 67, 0.3), 0px 1px 3px 1px rgba(60, 64, 67, 0.15);\n",
              "      fill: #174EA6;\n",
              "    }\n",
              "\n",
              "    .colab-df-buttons div {\n",
              "      margin-bottom: 4px;\n",
              "    }\n",
              "\n",
              "    [theme=dark] .colab-df-convert {\n",
              "      background-color: #3B4455;\n",
              "      fill: #D2E3FC;\n",
              "    }\n",
              "\n",
              "    [theme=dark] .colab-df-convert:hover {\n",
              "      background-color: #434B5C;\n",
              "      box-shadow: 0px 1px 3px 1px rgba(0, 0, 0, 0.15);\n",
              "      filter: drop-shadow(0px 1px 2px rgba(0, 0, 0, 0.3));\n",
              "      fill: #FFFFFF;\n",
              "    }\n",
              "  </style>\n",
              "\n",
              "    <script>\n",
              "      const buttonEl =\n",
              "        document.querySelector('#df-3b0ce09b-81a4-49ad-affc-dcb62fbb18d7 button.colab-df-convert');\n",
              "      buttonEl.style.display =\n",
              "        google.colab.kernel.accessAllowed ? 'block' : 'none';\n",
              "\n",
              "      async function convertToInteractive(key) {\n",
              "        const element = document.querySelector('#df-3b0ce09b-81a4-49ad-affc-dcb62fbb18d7');\n",
              "        const dataTable =\n",
              "          await google.colab.kernel.invokeFunction('convertToInteractive',\n",
              "                                                    [key], {});\n",
              "        if (!dataTable) return;\n",
              "\n",
              "        const docLinkHtml = 'Like what you see? Visit the ' +\n",
              "          '<a target=\"_blank\" href=https://colab.research.google.com/notebooks/data_table.ipynb>data table notebook</a>'\n",
              "          + ' to learn more about interactive tables.';\n",
              "        element.innerHTML = '';\n",
              "        dataTable['output_type'] = 'display_data';\n",
              "        await google.colab.output.renderOutput(dataTable, element);\n",
              "        const docLink = document.createElement('div');\n",
              "        docLink.innerHTML = docLinkHtml;\n",
              "        element.appendChild(docLink);\n",
              "      }\n",
              "    </script>\n",
              "  </div>\n",
              "\n",
              "\n",
              "<div id=\"df-34a39c12-d4eb-4b37-b71d-0a4cc19f273f\">\n",
              "  <button class=\"colab-df-quickchart\" onclick=\"quickchart('df-34a39c12-d4eb-4b37-b71d-0a4cc19f273f')\"\n",
              "            title=\"Suggest charts\"\n",
              "            style=\"display:none;\">\n",
              "\n",
              "<svg xmlns=\"http://www.w3.org/2000/svg\" height=\"24px\"viewBox=\"0 0 24 24\"\n",
              "     width=\"24px\">\n",
              "    <g>\n",
              "        <path d=\"M19 3H5c-1.1 0-2 .9-2 2v14c0 1.1.9 2 2 2h14c1.1 0 2-.9 2-2V5c0-1.1-.9-2-2-2zM9 17H7v-7h2v7zm4 0h-2V7h2v10zm4 0h-2v-4h2v4z\"/>\n",
              "    </g>\n",
              "</svg>\n",
              "  </button>\n",
              "\n",
              "<style>\n",
              "  .colab-df-quickchart {\n",
              "      --bg-color: #E8F0FE;\n",
              "      --fill-color: #1967D2;\n",
              "      --hover-bg-color: #E2EBFA;\n",
              "      --hover-fill-color: #174EA6;\n",
              "      --disabled-fill-color: #AAA;\n",
              "      --disabled-bg-color: #DDD;\n",
              "  }\n",
              "\n",
              "  [theme=dark] .colab-df-quickchart {\n",
              "      --bg-color: #3B4455;\n",
              "      --fill-color: #D2E3FC;\n",
              "      --hover-bg-color: #434B5C;\n",
              "      --hover-fill-color: #FFFFFF;\n",
              "      --disabled-bg-color: #3B4455;\n",
              "      --disabled-fill-color: #666;\n",
              "  }\n",
              "\n",
              "  .colab-df-quickchart {\n",
              "    background-color: var(--bg-color);\n",
              "    border: none;\n",
              "    border-radius: 50%;\n",
              "    cursor: pointer;\n",
              "    display: none;\n",
              "    fill: var(--fill-color);\n",
              "    height: 32px;\n",
              "    padding: 0;\n",
              "    width: 32px;\n",
              "  }\n",
              "\n",
              "  .colab-df-quickchart:hover {\n",
              "    background-color: var(--hover-bg-color);\n",
              "    box-shadow: 0 1px 2px rgba(60, 64, 67, 0.3), 0 1px 3px 1px rgba(60, 64, 67, 0.15);\n",
              "    fill: var(--button-hover-fill-color);\n",
              "  }\n",
              "\n",
              "  .colab-df-quickchart-complete:disabled,\n",
              "  .colab-df-quickchart-complete:disabled:hover {\n",
              "    background-color: var(--disabled-bg-color);\n",
              "    fill: var(--disabled-fill-color);\n",
              "    box-shadow: none;\n",
              "  }\n",
              "\n",
              "  .colab-df-spinner {\n",
              "    border: 2px solid var(--fill-color);\n",
              "    border-color: transparent;\n",
              "    border-bottom-color: var(--fill-color);\n",
              "    animation:\n",
              "      spin 1s steps(1) infinite;\n",
              "  }\n",
              "\n",
              "  @keyframes spin {\n",
              "    0% {\n",
              "      border-color: transparent;\n",
              "      border-bottom-color: var(--fill-color);\n",
              "      border-left-color: var(--fill-color);\n",
              "    }\n",
              "    20% {\n",
              "      border-color: transparent;\n",
              "      border-left-color: var(--fill-color);\n",
              "      border-top-color: var(--fill-color);\n",
              "    }\n",
              "    30% {\n",
              "      border-color: transparent;\n",
              "      border-left-color: var(--fill-color);\n",
              "      border-top-color: var(--fill-color);\n",
              "      border-right-color: var(--fill-color);\n",
              "    }\n",
              "    40% {\n",
              "      border-color: transparent;\n",
              "      border-right-color: var(--fill-color);\n",
              "      border-top-color: var(--fill-color);\n",
              "    }\n",
              "    60% {\n",
              "      border-color: transparent;\n",
              "      border-right-color: var(--fill-color);\n",
              "    }\n",
              "    80% {\n",
              "      border-color: transparent;\n",
              "      border-right-color: var(--fill-color);\n",
              "      border-bottom-color: var(--fill-color);\n",
              "    }\n",
              "    90% {\n",
              "      border-color: transparent;\n",
              "      border-bottom-color: var(--fill-color);\n",
              "    }\n",
              "  }\n",
              "</style>\n",
              "\n",
              "  <script>\n",
              "    async function quickchart(key) {\n",
              "      const quickchartButtonEl =\n",
              "        document.querySelector('#' + key + ' button');\n",
              "      quickchartButtonEl.disabled = true;  // To prevent multiple clicks.\n",
              "      quickchartButtonEl.classList.add('colab-df-spinner');\n",
              "      try {\n",
              "        const charts = await google.colab.kernel.invokeFunction(\n",
              "            'suggestCharts', [key], {});\n",
              "      } catch (error) {\n",
              "        console.error('Error during call to suggestCharts:', error);\n",
              "      }\n",
              "      quickchartButtonEl.classList.remove('colab-df-spinner');\n",
              "      quickchartButtonEl.classList.add('colab-df-quickchart-complete');\n",
              "    }\n",
              "    (() => {\n",
              "      let quickchartButtonEl =\n",
              "        document.querySelector('#df-34a39c12-d4eb-4b37-b71d-0a4cc19f273f button');\n",
              "      quickchartButtonEl.style.display =\n",
              "        google.colab.kernel.accessAllowed ? 'block' : 'none';\n",
              "    })();\n",
              "  </script>\n",
              "</div>\n",
              "    </div>\n",
              "  </div>\n"
            ]
          },
          "metadata": {},
          "execution_count": 129
        }
      ]
    },
    {
      "source": [
        "from matplotlib import pyplot as plt\n",
        "df_bots['count'].plot(kind='hist', bins=20, title='Distribution of edits for bots')\n",
        "plt.gca().spines[['top', 'right',]].set_visible(False)"
      ],
      "cell_type": "code",
      "metadata": {
        "colab": {
          "base_uri": "https://localhost:8080/",
          "height": 452
        },
        "id": "UXw9xI1ynKU9",
        "outputId": "2041ddad-3a25-444f-b39e-1addc80758ef"
      },
      "execution_count": 84,
      "outputs": [
        {
          "output_type": "display_data",
          "data": {
            "text/plain": [
              "<Figure size 640x480 with 1 Axes>"
            ],
            "image/png": "[encoded data removed]"
          },
          "metadata": {}
        }
      ]
    },
    {
      "cell_type": "markdown",
      "source": [
        "# Train bot detection model"
      ],
      "metadata": {
        "id": "jAz1wKnIpFUH"
      }
    },
    {
      "cell_type": "code",
      "source": [
        "from pyspark.sql.functions import udf\n",
        "from pyspark.sql.types import IntegerType\n",
        "\n",
        "# the average length of all edits per user as a feature\n",
        "@udf(IntegerType())\n",
        "def diff_length(length):\n",
        "  old = length[0]\n",
        "  new = length[1]\n",
        "  return abs(new - old)"
      ],
      "metadata": {
        "id": "6lbvhze6ylhk"
      },
      "execution_count": 202,
      "outputs": []
    },
    {
      "cell_type": "code",
      "source": [
        "df = df.withColumn(\"length_difference\", diff_length(df[\"length\"]))"
      ],
      "metadata": {
        "id": "CxNNKgg8zlms"
      },
      "execution_count": 203,
      "outputs": []
    },
    {
      "cell_type": "code",
      "source": [
        "df = df.select('bot', 'length_difference', 'user')"
      ],
      "metadata": {
        "id": "23U-ff6Bt7Vs"
      },
      "execution_count": 204,
      "outputs": []
    },
    {
      "cell_type": "code",
      "source": [
        "from pyspark.sql.functions import count, mean, first\n",
        "\n",
        "grouped_df = df.groupBy(\"user\").agg(\n",
        "    count(\"user\").alias(\"count\"),\n",
        "    mean(\"length_difference\").alias(\"mean_length_difference\"),\n",
        "    first(\"bot\").alias(\"bot\")\n",
        ")"
      ],
      "metadata": {
        "id": "iRbVziip4H1p"
      },
      "execution_count": 205,
      "outputs": []
    },
    {
      "cell_type": "code",
      "source": [
        "grouped_df.show(5)"
      ],
      "metadata": {
        "colab": {
          "base_uri": "https://localhost:8080/"
        },
        "id": "P6JYsnE7xGBu",
        "outputId": "d52b4db8-359d-4293-9f49-5fcbe7e2edf0"
      },
      "execution_count": 213,
      "outputs": [
        {
          "output_type": "stream",
          "name": "stdout",
          "text": [
            "+------------------+-----+----------------------+-----+\n",
            "|              user|count|mean_length_difference|  bot|\n",
            "+------------------+-----+----------------------+-----+\n",
            "|    185.133.44.253|    1|                  34.0|false|\n",
            "|Maxwell King123321|    2|                  44.0|false|\n",
            "|   DanTheMusicMan2|   12|                124.75|false|\n",
            "|      Citation bot|   10|                  29.6| true|\n",
            "|        Burzuchius|    1|                  18.0|false|\n",
            "+------------------+-----+----------------------+-----+\n",
            "only showing top 5 rows\n",
            "\n"
          ]
        }
      ]
    },
    {
      "cell_type": "code",
      "source": [
        "from pyspark.ml.feature import VectorAssembler\n",
        "from pyspark.sql.functions import when\n",
        "\n",
        "assembler = VectorAssembler(\n",
        "  inputCols=[\"count\", 'mean_length_difference'], outputCol=\"features\"\n",
        ")\n",
        "\n",
        "assembled = assembler.transform(grouped_df)"
      ],
      "metadata": {
        "id": "g3TNhX8-9rWi"
      },
      "execution_count": 238,
      "outputs": []
    },
    {
      "cell_type": "code",
      "source": [
        "assembled = assembled.withColumnRenamed(\"bot\", \"label\").select('features', 'label')\n",
        "assembled = assembled.withColumn('label', when(assembled.label, 1.0).otherwise(0.0))"
      ],
      "metadata": {
        "id": "3g99SbyU-FmL"
      },
      "execution_count": 239,
      "outputs": []
    },
    {
      "cell_type": "code",
      "source": [
        "assembled.show(5)"
      ],
      "metadata": {
        "colab": {
          "base_uri": "https://localhost:8080/"
        },
        "id": "nTWyqCvL92Ap",
        "outputId": "1ef5517d-c5dc-444d-f8f3-12fb392a89fd"
      },
      "execution_count": 240,
      "outputs": [
        {
          "output_type": "stream",
          "name": "stdout",
          "text": [
            "+-------------+-----+\n",
            "|     features|label|\n",
            "+-------------+-----+\n",
            "|   [1.0,34.0]|  0.0|\n",
            "|   [2.0,44.0]|  0.0|\n",
            "|[12.0,124.75]|  0.0|\n",
            "|  [10.0,29.6]|  1.0|\n",
            "|   [1.0,18.0]|  0.0|\n",
            "+-------------+-----+\n",
            "only showing top 5 rows\n",
            "\n"
          ]
        }
      ]
    },
    {
      "cell_type": "code",
      "source": [
        "train_df, test_df = assembled.randomSplit(weights=[0.7,0.3], seed=100)\n",
        "valid_df, test_df = test_df.randomSplit(weights=[0.5, 0.5], seed=100)"
      ],
      "metadata": {
        "id": "xEV13UkrXvth"
      },
      "execution_count": 241,
      "outputs": []
    },
    {
      "cell_type": "code",
      "source": [
        "test_df.groupBy('label').count().show()"
      ],
      "metadata": {
        "colab": {
          "base_uri": "https://localhost:8080/"
        },
        "id": "06RueCD0pi0T",
        "outputId": "61b39b94-1a01-4c66-fc1d-15a05a0629f0"
      },
      "execution_count": 249,
      "outputs": [
        {
          "output_type": "stream",
          "name": "stdout",
          "text": [
            "+-----+-----+\n",
            "|label|count|\n",
            "+-----+-----+\n",
            "|  0.0|   11|\n",
            "|  1.0|    1|\n",
            "+-----+-----+\n",
            "\n"
          ]
        }
      ]
    },
    {
      "cell_type": "code",
      "source": [
        "train_df.count(), test_df.count(), valid_df.count()"
      ],
      "metadata": {
        "colab": {
          "base_uri": "https://localhost:8080/"
        },
        "id": "Kk5jQX8IXvv2",
        "outputId": "c7722b33-eff4-4e39-8117-db3332e802fc"
      },
      "execution_count": 243,
      "outputs": [
        {
          "output_type": "execute_result",
          "data": {
            "text/plain": [
              "(77, 12, 18)"
            ]
          },
          "metadata": {},
          "execution_count": 243
        }
      ]
    },
    {
      "cell_type": "code",
      "source": [
        "from pyspark.ml.classification import RandomForestClassifier\n",
        "\n",
        "rf = RandomForestClassifier(labelCol=\"label\", featuresCol=\"features\", numTrees=2)"
      ],
      "metadata": {
        "id": "8G5fLjB_XvyO"
      },
      "execution_count": 244,
      "outputs": []
    },
    {
      "cell_type": "code",
      "source": [
        "model = rf.fit(train_df)"
      ],
      "metadata": {
        "id": "SiBakFs0Xv0f"
      },
      "execution_count": 245,
      "outputs": []
    },
    {
      "cell_type": "code",
      "source": [
        "predictions = model.transform(test_df)"
      ],
      "metadata": {
        "id": "uRcQAunYXv2y"
      },
      "execution_count": 246,
      "outputs": []
    },
    {
      "cell_type": "code",
      "source": [
        "predictions.show()"
      ],
      "metadata": {
        "colab": {
          "base_uri": "https://localhost:8080/"
        },
        "id": "ZOM_M4-XAv_i",
        "outputId": "d78e0307-3439-4a7a-e2d5-582de151e638"
      },
      "execution_count": 248,
      "outputs": [
        {
          "output_type": "stream",
          "name": "stdout",
          "text": [
            "+--------------------+-----+-------------+-----------+----------+\n",
            "|            features|label|rawPrediction|probability|prediction|\n",
            "+--------------------+-----+-------------+-----------+----------+\n",
            "|           [1.0,0.0]|  0.0|    [2.0,0.0]|  [1.0,0.0]|       0.0|\n",
            "|           [1.0,5.0]|  0.0|    [2.0,0.0]|  [1.0,0.0]|       0.0|\n",
            "|           [1.0,9.0]|  0.0|    [2.0,0.0]|  [1.0,0.0]|       0.0|\n",
            "|          [1.0,90.0]|  0.0|    [2.0,0.0]|  [1.0,0.0]|       0.0|\n",
            "|         [1.0,120.0]|  0.0|    [2.0,0.0]|  [1.0,0.0]|       0.0|\n",
            "|         [1.0,195.0]|  0.0|    [2.0,0.0]|  [1.0,0.0]|       0.0|\n",
            "|         [1.0,334.0]|  0.0|    [2.0,0.0]|  [1.0,0.0]|       0.0|\n",
            "|           [2.0,1.5]|  0.0|    [2.0,0.0]|  [1.0,0.0]|       0.0|\n",
            "|          [2.0,22.5]|  0.0|    [2.0,0.0]|  [1.0,0.0]|       0.0|\n",
            "|          [2.0,33.5]|  0.0|    [2.0,0.0]|  [1.0,0.0]|       0.0|\n",
            "|[3.0,117.66666666...|  0.0|    [2.0,0.0]|  [1.0,0.0]|       0.0|\n",
            "|         [10.0,29.6]|  1.0|    [2.0,0.0]|  [1.0,0.0]|       0.0|\n",
            "+--------------------+-----+-------------+-----------+----------+\n",
            "\n"
          ]
        }
      ]
    },
    {
      "cell_type": "code",
      "source": [
        "from pyspark.ml.evaluation import MulticlassClassificationEvaluator\n",
        "from pyspark.mllib.evaluation import MulticlassMetrics\n",
        "\n",
        "evaluator = MulticlassClassificationEvaluator(\n",
        "    labelCol=\"label\", predictionCol=\"prediction\")\n",
        "metrics = MulticlassMetrics(predictions.select(\"prediction\", \"label\").rdd)\n",
        "\n",
        "# print(metrics.confusionMatrix().toArray())\n",
        "print(\"Precision bot-class: \", metrics.precision(1.0))\n",
        "print(\"Precision user-class: \", metrics.precision(0.0))\n",
        "print(\"Recall bot-class: \", metrics.recall(1.0))\n",
        "print(\"Recall user-class: \", metrics.recall(0.0))\n",
        "print(\"Weighted F1-score: \", metrics.weightedFMeasure())"
      ],
      "metadata": {
        "colab": {
          "base_uri": "https://localhost:8080/"
        },
        "id": "Q9DNwNX_AwCV",
        "outputId": "32ef6c97-68b7-4662-adb6-ca1d7f02fb1a"
      },
      "execution_count": 263,
      "outputs": [
        {
          "output_type": "stream",
          "name": "stdout",
          "text": [
            "Precision bot-class:  0.0\n",
            "Precision user-class:  0.9166666666666666\n",
            "Recall bot-class:  0.0\n",
            "Recall user-class:  1.0\n",
            "Weighted F1-score:  0.8768115942028986\n"
          ]
        }
      ]
    },
    {
      "cell_type": "code",
      "source": [],
      "metadata": {
        "id": "-MdQ3SdeAwFm"
      },
      "execution_count": null,
      "outputs": []
    },
    {
      "cell_type": "code",
      "source": [],
      "metadata": {
        "id": "wkX1c0VBXv65"
      },
      "execution_count": null,
      "outputs": []
    }
  ]
}