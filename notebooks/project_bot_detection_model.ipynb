{
  "nbformat": 4,
  "nbformat_minor": 0,
  "metadata": {
    "colab": {
      "provenance": [],
      "collapsed_sections": [
        "jrZuyrW4GGM0"
      ]
    },
    "kernelspec": {
      "name": "python3",
      "display_name": "Python 3"
    },
    "language_info": {
      "name": "python"
    }
  },
  "cells": [
    {
      "cell_type": "code",
      "source": [
        "from google.colab import drive\n",
        "drive.mount('/content/drive')"
      ],
      "metadata": {
        "colab": {
          "base_uri": "https://localhost:8080/"
        },
        "id": "-BqPXE6PXO7W",
        "outputId": "45416da2-0b84-4f01-b465-b95af107c05e"
      },
      "execution_count": 1,
      "outputs": [
        {
          "output_type": "stream",
          "name": "stdout",
          "text": [
            "Drive already mounted at /content/drive; to attempt to forcibly remount, call drive.mount(\"/content/drive\", force_remount=True).\n"
          ]
        }
      ]
    },
    {
      "cell_type": "markdown",
      "source": [
        "# PySpark setup"
      ],
      "metadata": {
        "id": "jrZuyrW4GGM0"
      }
    },
    {
      "cell_type": "code",
      "source": [
        "!apt-get install openjdk-8-jdk-headless -qq > /dev/null"
      ],
      "metadata": {
        "id": "vGaZjYoYgs3_"
      },
      "execution_count": 2,
      "outputs": []
    },
    {
      "cell_type": "code",
      "source": [
        "# !wget https://downloads.apache.org/spark/spark-3.5.0/spark-3.5.0-bin-hadoop3.tgz"
      ],
      "metadata": {
        "id": "LHnMYKJHgtd9"
      },
      "execution_count": 3,
      "outputs": []
    },
    {
      "cell_type": "code",
      "source": [
        "# !tar xzvf spark-3.5.0-bin-hadoop3.tgz"
      ],
      "metadata": {
        "id": "ZhqA5MZkgtg0"
      },
      "execution_count": 2,
      "outputs": []
    },
    {
      "cell_type": "code",
      "source": [
        "!pip install -q findspark"
      ],
      "metadata": {
        "id": "_qaPig7ygti0"
      },
      "execution_count": 4,
      "outputs": []
    },
    {
      "cell_type": "code",
      "source": [
        "import os\n",
        "os.environ[\"JAVA_HOME\"] = \"/usr/lib/jvm/java-8-openjdk-amd64\"\n",
        "os.environ[\"SPARK_HOME\"] = \"/content/spark-3.5.0-bin-hadoop3\""
      ],
      "metadata": {
        "id": "W6GE8R1jgtlK"
      },
      "execution_count": 5,
      "outputs": []
    },
    {
      "cell_type": "code",
      "source": [
        "import findspark\n",
        "findspark.init()"
      ],
      "metadata": {
        "id": "ml8kKq6Fgtnf"
      },
      "execution_count": 6,
      "outputs": []
    },
    {
      "cell_type": "code",
      "source": [
        "import pyspark\n",
        "from pyspark.sql import SparkSession\n",
        "from pyspark.sql.types import *\n",
        "from pyspark.sql.functions import col, avg, when\n",
        "import pandas as pd"
      ],
      "metadata": {
        "id": "HAuX3csDgtpk"
      },
      "execution_count": 7,
      "outputs": []
    },
    {
      "cell_type": "code",
      "source": [
        "sc = pyspark.SparkContext('local[*]')\n",
        "spark = SparkSession(sc)\n",
        "spark"
      ],
      "metadata": {
        "colab": {
          "base_uri": "https://localhost:8080/",
          "height": 221
        },
        "id": "Plac_b0Wg3r8",
        "outputId": "b3fb9202-2eb8-4a5e-c230-b86e1d177e69"
      },
      "execution_count": 8,
      "outputs": [
        {
          "output_type": "execute_result",
          "data": {
            "text/plain": [
              "<pyspark.sql.session.SparkSession at 0x7c11947d8d60>"
            ],
            "text/html": [
              "\n",
              "            <div>\n",
              "                <p><b>SparkSession - in-memory</b></p>\n",
              "                \n",
              "        <div>\n",
              "            <p><b>SparkContext</b></p>\n",
              "\n",
              "            <p><a href=\"http://c6c2b8ded699:4040\">Spark UI</a></p>\n",
              "\n",
              "            <dl>\n",
              "              <dt>Version</dt>\n",
              "                <dd><code>v3.5.0</code></dd>\n",
              "              <dt>Master</dt>\n",
              "                <dd><code>local[*]</code></dd>\n",
              "              <dt>AppName</dt>\n",
              "                <dd><code>pyspark-shell</code></dd>\n",
              "            </dl>\n",
              "        </div>\n",
              "        \n",
              "            </div>\n",
              "        "
            ]
          },
          "metadata": {},
          "execution_count": 8
        }
      ]
    },
    {
      "cell_type": "markdown",
      "source": [
        "# Upload data"
      ],
      "metadata": {
        "id": "-eBr1wWlGLLb"
      }
    },
    {
      "cell_type": "code",
      "source": [
        "%cd drive/MyDrive/MMDB"
      ],
      "metadata": {
        "colab": {
          "base_uri": "https://localhost:8080/"
        },
        "id": "meHZE6QMXlhx",
        "outputId": "bd9bd077-2bd5-4e97-edd3-d63c8eb59373"
      },
      "execution_count": 9,
      "outputs": [
        {
          "output_type": "stream",
          "name": "stdout",
          "text": [
            "/content/drive/MyDrive/MMDB\n"
          ]
        }
      ]
    },
    {
      "cell_type": "code",
      "source": [
        "# !tar xzvf sample.tgz"
      ],
      "metadata": {
        "id": "G4JkOVD_YUwK"
      },
      "execution_count": 10,
      "outputs": []
    },
    {
      "cell_type": "code",
      "source": [
        "import pandas as pd\n",
        "import matplotlib.pyplot as plt\n",
        "import numpy as np\n",
        "import json"
      ],
      "metadata": {
        "id": "TyhPGuBik748"
      },
      "execution_count": 12,
      "outputs": []
    },
    {
      "cell_type": "code",
      "source": [
        "# with open('sample_unique_users.jsonl', 'r') as fin:\n",
        "#     samples = list(map(json.loads, fin.readlines()))"
      ],
      "metadata": {
        "id": "-IsdzDwUXbTR"
      },
      "execution_count": 328,
      "outputs": []
    },
    {
      "cell_type": "code",
      "source": [
        "with open('sample.jsonl', 'r') as fin:\n",
        "    samples_1 = list(map(json.loads, fin.readlines()))"
      ],
      "metadata": {
        "id": "XRDlrKU34CbA"
      },
      "execution_count": 13,
      "outputs": []
    },
    {
      "cell_type": "code",
      "source": [
        "# with open('sample_wikidata_15000sec.jsonl', 'r') as fin:\n",
        "#     samples_2 = list(map(json.loads, fin.readlines()))"
      ],
      "metadata": {
        "id": "owWw8EgWWtxq"
      },
      "execution_count": 591,
      "outputs": []
    },
    {
      "cell_type": "code",
      "source": [
        "df = spark.createDataFrame(samples_1)"
      ],
      "metadata": {
        "id": "ieq2ALBQY5BI"
      },
      "execution_count": 14,
      "outputs": []
    },
    {
      "cell_type": "code",
      "source": [
        "# df.columns"
      ],
      "metadata": {
        "id": "NM90kP-FAAlB"
      },
      "execution_count": 546,
      "outputs": []
    },
    {
      "cell_type": "code",
      "source": [
        "df.show(5)"
      ],
      "metadata": {
        "colab": {
          "base_uri": "https://localhost:8080/"
        },
        "id": "p1pg_kn3grs4",
        "outputId": "c4ec8c0a-f562-40ec-8724-4fa046112634"
      },
      "execution_count": 15,
      "outputs": [
        {
          "output_type": "stream",
          "name": "stdout",
          "text": [
            "+--------------------+-----+--------------------+----------+--------------------+--------------------+-----+---------+--------------------+--------------------+--------------------+----------------+------------------+--------------------+----------+--------------------+--------------------+----+--------------------+------+\n",
            "|             $schema|  bot|             comment|        id|              length|                meta|minor|namespace|          notify_url|       parsedcomment|            revision|     server_name|server_script_path|          server_url| timestamp|               title|           title_url|type|                user|  wiki|\n",
            "+--------------------+-----+--------------------+----------+--------------------+--------------------+-----+---------+--------------------+--------------------+--------------------+----------------+------------------+--------------------+----------+--------------------+--------------------+----+--------------------+------+\n",
            "|/mediawiki/recent...|false|                    |1696904284|{new -> 51205, ol...|{dt -> 2023-11-21...|false|        0|https://en.wikipe...|                    |{new -> 118624591...|en.wikipedia.org|                /w|https://en.wikipe...|1700602954|         Chengdu J-7|https://en.wikipe...|edit|2402:4000:21C3:50...|enwiki|\n",
            "|/mediawiki/recent...|false|/* References */ ...|1696904289|{new -> 5988, old...|{dt -> 2023-11-21...|false|        0|https://en.wikipe...|<span dir=\"auto\">...|{new -> 118624592...|en.wikipedia.org|                /w|https://en.wikipe...|1700602957|  Goswick rail crash|https://en.wikipe...|edit|The joy of all th...|enwiki|\n",
            "|/mediawiki/recent...|false|rem notability ta...|1696904294|{new -> 7239, old...|{dt -> 2023-11-21...|false|        0|https://en.wikipe...|rem notability ta...|{new -> 118624592...|en.wikipedia.org|                /w|https://en.wikipe...|1700602958|San Jose, Malaybalay|https://en.wikipe...|edit|              Boleyn|enwiki|\n",
            "|/mediawiki/recent...|false|/* External links */|1696904304|{new -> 115923, o...|{dt -> 2023-11-21...|false|        0|https://en.wikipe...|<span dir=\"auto\">...|{new -> 118624593...|en.wikipedia.org|                /w|https://en.wikipe...|1700602962|       Yoon Suk Yeol|https://en.wikipe...|edit|               Jibco|enwiki|\n",
            "|/mediawiki/recent...|false|            + review|1696904311|{new -> 36132, ol...|{dt -> 2023-11-21...|false|        0|https://en.wikipe...|            + review|{new -> 118624593...|en.wikipedia.org|                /w|https://en.wikipe...|1700602967|Whenever You Need...|https://en.wikipe...|edit|            Europe22|enwiki|\n",
            "+--------------------+-----+--------------------+----------+--------------------+--------------------+-----+---------+--------------------+--------------------+--------------------+----------------+------------------+--------------------+----------+--------------------+--------------------+----+--------------------+------+\n",
            "only showing top 5 rows\n",
            "\n"
          ]
        }
      ]
    },
    {
      "cell_type": "code",
      "source": [
        "df.count()"
      ],
      "metadata": {
        "colab": {
          "base_uri": "https://localhost:8080/"
        },
        "id": "_C-vUnHy6nCA",
        "outputId": "f179c741-b258-43a3-955a-685d69fcf788"
      },
      "execution_count": 16,
      "outputs": [
        {
          "output_type": "execute_result",
          "data": {
            "text/plain": [
              "17625"
            ]
          },
          "metadata": {},
          "execution_count": 16
        }
      ]
    },
    {
      "cell_type": "markdown",
      "source": [
        "# Describe the distribution of edits per users and bots"
      ],
      "metadata": {
        "id": "4AY5BoxUpJUB"
      }
    },
    {
      "cell_type": "code",
      "source": [
        "df_bot_distr = df.select('user', 'bot').toPandas().drop_duplicates()"
      ],
      "metadata": {
        "id": "vOPVmlbOkBjS"
      },
      "execution_count": 17,
      "outputs": []
    },
    {
      "cell_type": "code",
      "source": [
        "df_bot_distr['bot'].value_counts()"
      ],
      "metadata": {
        "colab": {
          "base_uri": "https://localhost:8080/"
        },
        "id": "orzUbpb5Zuuc",
        "outputId": "b7fb4e72-1dc1-4475-b3b3-e6e2350a8364"
      },
      "execution_count": 18,
      "outputs": [
        {
          "output_type": "execute_result",
          "data": {
            "text/plain": [
              "False    3156\n",
              "True       51\n",
              "Name: bot, dtype: int64"
            ]
          },
          "metadata": {},
          "execution_count": 18
        }
      ]
    },
    {
      "cell_type": "code",
      "source": [
        "ax1 = plt.subplot(111)\n",
        "df_distr = df.groupBy('user', 'bot').count().toPandas()\n",
        "df_bots = df_distr[df_distr['bot']==True]\n",
        "df_users = df_distr[df_distr['bot']==False]\n",
        "\n",
        "df_users['count'].hist(ax=ax1, weights=100 * np.ones(len(df_users)) / len(df_users),\n",
        "                       label='user', color='blue', alpha=0.5)\n",
        "df_bots['count'].hist(ax=ax1, weights=100 * np.ones(len(df_bots)) / len(df_bots),\n",
        "                      label='bot', color='red', alpha=0.5)\n",
        "\n",
        "ax1.legend(loc='best')\n",
        "# ax1.set_ylim((0, 100))\n",
        "ax1.set_xlabel('N edits')\n",
        "ax1.set_ylabel('% of users/bots')"
      ],
      "metadata": {
        "colab": {
          "base_uri": "https://localhost:8080/",
          "height": 467
        },
        "id": "5bRl8vv7pqdF",
        "outputId": "41787f8d-18f5-424a-849a-411680be1584"
      },
      "execution_count": 19,
      "outputs": [
        {
          "output_type": "execute_result",
          "data": {
            "text/plain": [
              "Text(0, 0.5, '% of users/bots')"
            ]
          },
          "metadata": {},
          "execution_count": 19
        },
        {
          "output_type": "display_data",
          "data": {
            "text/plain": [
              "<Figure size 640x480 with 1 Axes>"
            ],
            "image/png": "[encoded data removed]"
          },
          "metadata": {}
        }
      ]
    },
    {
      "cell_type": "code",
      "source": [
        "ax1 = plt.subplot(111)\n",
        "df_distr = df.groupBy('user', 'bot').count().toPandas()\n",
        "df_bots = df_distr[df_distr['bot']==True]\n",
        "df_users = df_distr[df_distr['bot']==False]\n",
        "\n",
        "df_users['count'].hist(ax=ax1,\n",
        "                       label='user', color='blue', alpha=0.5)\n",
        "df_bots['count'].hist(ax=ax1,\n",
        "                      label='bot', color='red', alpha=0.5)\n",
        "\n",
        "ax1.legend(loc='best')\n",
        "ax1.set_ylim((0, 100))\n",
        "ax1.set_xlabel('N edits')\n",
        "ax1.set_ylabel('N of users/bots')"
      ],
      "metadata": {
        "colab": {
          "base_uri": "https://localhost:8080/",
          "height": 473
        },
        "id": "iim6wJ8kxTjw",
        "outputId": "6aebe0c0-76bb-461e-af52-616c408ea052"
      },
      "execution_count": 20,
      "outputs": [
        {
          "output_type": "execute_result",
          "data": {
            "text/plain": [
              "Text(0, 0.5, 'N of users/bots')"
            ]
          },
          "metadata": {},
          "execution_count": 20
        },
        {
          "output_type": "display_data",
          "data": {
            "text/plain": [
              "<Figure size 640x480 with 1 Axes>"
            ],
            "image/png": "[encoded data removed]"
          },
          "metadata": {}
        }
      ]
    },
    {
      "cell_type": "markdown",
      "source": [
        "# Train bot detection model"
      ],
      "metadata": {
        "id": "jAz1wKnIpFUH"
      }
    },
    {
      "cell_type": "markdown",
      "source": [
        "### difference length"
      ],
      "metadata": {
        "id": "dULn8H_-ANGJ"
      }
    },
    {
      "cell_type": "code",
      "source": [
        "from pyspark.sql.functions import udf\n",
        "from pyspark.sql.types import IntegerType\n",
        "\n",
        "# the average length of all edits per user as a feature\n",
        "@udf(IntegerType())\n",
        "def diff_length(length):\n",
        "  old = length['old']\n",
        "  new = length['new']\n",
        "  return abs(new - old)"
      ],
      "metadata": {
        "id": "6lbvhze6ylhk"
      },
      "execution_count": 21,
      "outputs": []
    },
    {
      "cell_type": "code",
      "source": [
        "df = df.withColumn(\"length_difference\", diff_length(df[\"length\"]))"
      ],
      "metadata": {
        "id": "CxNNKgg8zlms"
      },
      "execution_count": 22,
      "outputs": []
    },
    {
      "cell_type": "markdown",
      "source": [
        "### difference revision"
      ],
      "metadata": {
        "id": "UJvfrh1UARu7"
      }
    },
    {
      "cell_type": "code",
      "source": [
        "# # the average diff in revision of all edits per user as a feature\n",
        "# @udf(IntegerType())\n",
        "# def diff_revision(revision):\n",
        "#   old = revision['old']\n",
        "#   new = revision['new']\n",
        "#   return abs(new - old)"
      ],
      "metadata": {
        "id": "D9P3Ou2tATwB"
      },
      "execution_count": 555,
      "outputs": []
    },
    {
      "cell_type": "code",
      "source": [
        "# df = df.withColumn(\"revision_difference\", diff_length(df[\"revision\"]))"
      ],
      "metadata": {
        "id": "PvhIYro4AT3F"
      },
      "execution_count": 556,
      "outputs": []
    },
    {
      "cell_type": "code",
      "source": [
        "df = df.select('bot', 'user', \"length_difference\")"
      ],
      "metadata": {
        "id": "23U-ff6Bt7Vs"
      },
      "execution_count": 23,
      "outputs": []
    },
    {
      "cell_type": "code",
      "source": [
        "from pyspark.sql.functions import count, mean, first\n",
        "\n",
        "grouped_df = df.groupBy(\"user\").agg(\n",
        "    count(\"user\").alias(\"count\"),\n",
        "    mean(\"length_difference\").alias(\"mean_length_difference\"),\n",
        "    # mean(\"revision_difference\").alias(\"mean_revision_difference\"),\n",
        "    first(\"bot\").alias(\"bot\")\n",
        ")"
      ],
      "metadata": {
        "id": "iRbVziip4H1p"
      },
      "execution_count": 24,
      "outputs": []
    },
    {
      "cell_type": "code",
      "source": [
        "grouped_df.show(5)"
      ],
      "metadata": {
        "colab": {
          "base_uri": "https://localhost:8080/"
        },
        "id": "P6JYsnE7xGBu",
        "outputId": "c698408e-0d45-40c1-a372-2aebf1c7d5ab"
      },
      "execution_count": 25,
      "outputs": [
        {
          "output_type": "stream",
          "name": "stdout",
          "text": [
            "+-------------+-----+----------------------+-----+\n",
            "|         user|count|mean_length_difference|  bot|\n",
            "+-------------+-----+----------------------+-----+\n",
            "| 87.1.186.178|    5|                   4.2|false|\n",
            "|  ThatOneWolf|   22|     557.4090909090909|false|\n",
            "|   JackkBrown|  110|    18.136363636363637|false|\n",
            "|      Wes3803|   11|     84.81818181818181|false|\n",
            "|31.221.89.146|    8|               501.375|false|\n",
            "+-------------+-----+----------------------+-----+\n",
            "only showing top 5 rows\n",
            "\n"
          ]
        }
      ]
    },
    {
      "cell_type": "code",
      "source": [
        "from pyspark.ml.feature import VectorAssembler\n",
        "from pyspark.sql.functions import when\n",
        "\n",
        "assembler = VectorAssembler(\n",
        "  inputCols=[\"count\", \"mean_length_difference\"], outputCol=\"features\"\n",
        ")\n",
        "\n",
        "assembled = assembler.transform(grouped_df)"
      ],
      "metadata": {
        "id": "g3TNhX8-9rWi"
      },
      "execution_count": 26,
      "outputs": []
    },
    {
      "cell_type": "code",
      "source": [
        "assembled = assembled.withColumnRenamed(\"bot\", \"label\").select('features', 'label', 'user')\n",
        "assembled = assembled.withColumn('label', when(assembled.label, 1.0).otherwise(0.0))"
      ],
      "metadata": {
        "id": "3g99SbyU-FmL"
      },
      "execution_count": 27,
      "outputs": []
    },
    {
      "cell_type": "code",
      "source": [
        "assembled.show(5)"
      ],
      "metadata": {
        "colab": {
          "base_uri": "https://localhost:8080/"
        },
        "id": "nTWyqCvL92Ap",
        "outputId": "a223c5de-5077-4ca8-9895-898a0a2099b2"
      },
      "execution_count": 28,
      "outputs": [
        {
          "output_type": "stream",
          "name": "stdout",
          "text": [
            "+--------------------+-----+-------------+\n",
            "|            features|label|         user|\n",
            "+--------------------+-----+-------------+\n",
            "|           [5.0,4.2]|  0.0| 87.1.186.178|\n",
            "|[22.0,557.4090909...|  0.0|  ThatOneWolf|\n",
            "|[110.0,18.1363636...|  0.0|   JackkBrown|\n",
            "|[11.0,84.81818181...|  0.0|      Wes3803|\n",
            "|       [8.0,501.375]|  0.0|31.221.89.146|\n",
            "+--------------------+-----+-------------+\n",
            "only showing top 5 rows\n",
            "\n"
          ]
        }
      ]
    },
    {
      "cell_type": "markdown",
      "source": [
        "Note: \\\n",
        "train and test set - used for bot detection classifier; \\\n",
        "validation set - used for inference of the model and BloomFilter"
      ],
      "metadata": {
        "id": "utU3KouEjXAB"
      }
    },
    {
      "cell_type": "code",
      "source": [
        "# for sample_unique_users.jsonl\n",
        "# train_df, test_df = assembled.randomSplit(weights=[0.6,0.4], seed=10)\n",
        "# valid_df, test_df = test_df.randomSplit(weights=[0.5, 0.5], seed=10)"
      ],
      "metadata": {
        "id": "KcOWK2ON613p"
      },
      "execution_count": 563,
      "outputs": []
    },
    {
      "cell_type": "code",
      "source": [
        "# for sample.jsonl\n",
        "train_df, test_df = assembled.randomSplit(weights=[0.7,0.3], seed=100)\n",
        "valid_df, test_df = test_df.randomSplit(weights=[0.5, 0.5], seed=100)"
      ],
      "metadata": {
        "id": "xEV13UkrXvth"
      },
      "execution_count": 29,
      "outputs": []
    },
    {
      "cell_type": "code",
      "source": [
        "train_df.groupBy('label').count().show()"
      ],
      "metadata": {
        "colab": {
          "base_uri": "https://localhost:8080/"
        },
        "id": "NzhuonUnz9rq",
        "outputId": "71f49367-bbcd-461c-e7c3-5b8075cae764"
      },
      "execution_count": 30,
      "outputs": [
        {
          "output_type": "stream",
          "name": "stdout",
          "text": [
            "+-----+-----+\n",
            "|label|count|\n",
            "+-----+-----+\n",
            "|  0.0| 2202|\n",
            "|  1.0|   39|\n",
            "+-----+-----+\n",
            "\n"
          ]
        }
      ]
    },
    {
      "cell_type": "code",
      "source": [
        "test_df.groupBy('label').count().show()"
      ],
      "metadata": {
        "colab": {
          "base_uri": "https://localhost:8080/"
        },
        "id": "06RueCD0pi0T",
        "outputId": "153ff443-0665-405c-8d2a-5b47a88067de"
      },
      "execution_count": 31,
      "outputs": [
        {
          "output_type": "stream",
          "name": "stdout",
          "text": [
            "+-----+-----+\n",
            "|label|count|\n",
            "+-----+-----+\n",
            "|  0.0|  470|\n",
            "|  1.0|    5|\n",
            "+-----+-----+\n",
            "\n"
          ]
        }
      ]
    },
    {
      "cell_type": "code",
      "source": [
        "valid_df.groupBy('label').count().show()"
      ],
      "metadata": {
        "colab": {
          "base_uri": "https://localhost:8080/"
        },
        "id": "WuX5S3sZzJhb",
        "outputId": "c82e16da-22e6-45c2-952b-7dd6ccb3a849"
      },
      "execution_count": 32,
      "outputs": [
        {
          "output_type": "stream",
          "name": "stdout",
          "text": [
            "+-----+-----+\n",
            "|label|count|\n",
            "+-----+-----+\n",
            "|  0.0|  482|\n",
            "|  1.0|    7|\n",
            "+-----+-----+\n",
            "\n"
          ]
        }
      ]
    },
    {
      "cell_type": "code",
      "source": [
        "train_df.count(), test_df.count(), valid_df.count()"
      ],
      "metadata": {
        "colab": {
          "base_uri": "https://localhost:8080/"
        },
        "id": "Kk5jQX8IXvv2",
        "outputId": "4916357e-5e79-4ba1-b6b6-9f6c0c843346"
      },
      "execution_count": 33,
      "outputs": [
        {
          "output_type": "execute_result",
          "data": {
            "text/plain": [
              "(2241, 475, 489)"
            ]
          },
          "metadata": {},
          "execution_count": 33
        }
      ]
    },
    {
      "cell_type": "markdown",
      "source": [
        "## undersampling + updsampling\n",
        "Upsamping: copy 3 times bots \\\n",
        "Undersampling: took a sample of users which 10 times bigger than amount as upsampled bots"
      ],
      "metadata": {
        "id": "5nqAbNUTd9Ap"
      }
    },
    {
      "cell_type": "code",
      "source": [
        "df_pandas = train_df.toPandas()"
      ],
      "metadata": {
        "id": "Ljo6c42geF9V"
      },
      "execution_count": 34,
      "outputs": []
    },
    {
      "cell_type": "code",
      "source": [
        "# for sample_unique_users.jsonl\n",
        "# df_bots_pandas = df_pandas[df_pandas['label']==1.0]\n",
        "# df_bots_pandas = pd.concat([df_bots_pandas, df_bots_pandas])\n",
        "\n",
        "# df_users_pandas = df_pandas[df_pandas['label']==0.0].sample(n=20*len(df_bots_pandas))\n",
        "\n",
        "# df_pandas_new_sample = pd.concat([df_users_pandas, df_bots_pandas])\n",
        "# df_pandas_new_sample = df_pandas_new_sample.sample(frac = 1)\n",
        "\n",
        "# df_pandas_new_sample['label'].value_counts()"
      ],
      "metadata": {
        "id": "YTSu6MEaeW91"
      },
      "execution_count": 570,
      "outputs": []
    },
    {
      "cell_type": "code",
      "source": [
        "# for sample.jsonl\n",
        "df_bots_pandas = df_pandas[df_pandas['label']==1.0]\n",
        "df_bots_pandas = pd.concat([df_bots_pandas, df_bots_pandas, df_bots_pandas])\n",
        "\n",
        "df_users_pandas = df_pandas[df_pandas['label']==0.0].sample(n=10*len(df_bots_pandas))\n",
        "\n",
        "df_pandas_new_sample = pd.concat([df_users_pandas, df_bots_pandas])\n",
        "df_pandas_new_sample = df_pandas_new_sample.sample(frac = 1)\n",
        "\n",
        "df_pandas_new_sample['label'].value_counts()"
      ],
      "metadata": {
        "colab": {
          "base_uri": "https://localhost:8080/"
        },
        "id": "oOgwmjV26g3z",
        "outputId": "79990c7a-3fa9-47c7-b69b-aed2af2ea88c"
      },
      "execution_count": 35,
      "outputs": [
        {
          "output_type": "execute_result",
          "data": {
            "text/plain": [
              "0.0    1170\n",
              "1.0     117\n",
              "Name: label, dtype: int64"
            ]
          },
          "metadata": {},
          "execution_count": 35
        }
      ]
    },
    {
      "cell_type": "code",
      "source": [
        "df_train_aug = spark.createDataFrame(df_pandas_new_sample)"
      ],
      "metadata": {
        "id": "17m4UOifeGBI"
      },
      "execution_count": 36,
      "outputs": []
    },
    {
      "cell_type": "code",
      "source": [
        "df_train_aug.show(5)"
      ],
      "metadata": {
        "colab": {
          "base_uri": "https://localhost:8080/"
        },
        "id": "h363LB1tfOZs",
        "outputId": "f7b23e77-1a5a-4142-af91-cc5e25f3e38a"
      },
      "execution_count": 37,
      "outputs": [
        {
          "output_type": "stream",
          "name": "stdout",
          "text": [
            "+------------+-----+--------------------+\n",
            "|    features|label|                user|\n",
            "+------------+-----+--------------------+\n",
            "| [3.0,189.0]|  0.0|        100.15.83.54|\n",
            "|[1.0,1872.0]|  0.0|          HaskelleTW|\n",
            "|   [1.0,1.0]|  0.0|   UltrasonicMadness|\n",
            "|  [2.0,21.0]|  0.0|2001:B011:7C05:1E...|\n",
            "|   [1.0,1.0]|  0.0|2603:7000:4400:DB...|\n",
            "+------------+-----+--------------------+\n",
            "only showing top 5 rows\n",
            "\n"
          ]
        }
      ]
    },
    {
      "cell_type": "markdown",
      "source": [
        "## training"
      ],
      "metadata": {
        "id": "t0kXkfC7eDZ4"
      }
    },
    {
      "cell_type": "code",
      "source": [
        "from pyspark.ml.classification import RandomForestClassifier\n",
        "\n",
        "rf = RandomForestClassifier(labelCol=\"label\", featuresCol=\"features\", numTrees=10)"
      ],
      "metadata": {
        "id": "8G5fLjB_XvyO"
      },
      "execution_count": 38,
      "outputs": []
    },
    {
      "cell_type": "code",
      "source": [
        "model = rf.fit(df_train_aug)"
      ],
      "metadata": {
        "id": "SiBakFs0Xv0f"
      },
      "execution_count": 39,
      "outputs": []
    },
    {
      "cell_type": "markdown",
      "source": [
        "## test set predictions"
      ],
      "metadata": {
        "id": "g2NM2191-iXv"
      }
    },
    {
      "cell_type": "code",
      "source": [
        "predictions = model.transform(test_df)"
      ],
      "metadata": {
        "id": "uRcQAunYXv2y"
      },
      "execution_count": 40,
      "outputs": []
    },
    {
      "cell_type": "code",
      "source": [
        "df_pred = predictions.select('features', 'prediction', 'label').toPandas()"
      ],
      "metadata": {
        "id": "3QDFLKEJcAqj"
      },
      "execution_count": 41,
      "outputs": []
    },
    {
      "cell_type": "code",
      "source": [
        "df_pred['prediction'].value_counts()"
      ],
      "metadata": {
        "colab": {
          "base_uri": "https://localhost:8080/"
        },
        "id": "wm7-E6bHcR9D",
        "outputId": "94874a03-d42c-4cea-cf40-8ee6ed9587e3"
      },
      "execution_count": 42,
      "outputs": [
        {
          "output_type": "execute_result",
          "data": {
            "text/plain": [
              "0.0    468\n",
              "1.0      7\n",
              "Name: prediction, dtype: int64"
            ]
          },
          "metadata": {},
          "execution_count": 42
        }
      ]
    },
    {
      "cell_type": "code",
      "source": [
        "from pyspark.ml.evaluation import MulticlassClassificationEvaluator\n",
        "from pyspark.mllib.evaluation import MulticlassMetrics\n",
        "\n",
        "evaluator = MulticlassClassificationEvaluator(\n",
        "    labelCol=\"label\", predictionCol=\"prediction\")\n",
        "metrics = MulticlassMetrics(predictions.select(\"prediction\", \"label\").rdd)\n",
        "\n",
        "# print(metrics.confusionMatrix().toArray())\n",
        "print(\"Precision bot-class: \", metrics.precision(1.0))\n",
        "print(\"Precision user-class: \", metrics.precision(0.0))\n",
        "print(\"Recall bot-class: \", metrics.recall(1.0))\n",
        "print(\"Recall user-class: \", metrics.recall(0.0))\n",
        "print(\"Weighted F1-score: \", metrics.weightedFMeasure())"
      ],
      "metadata": {
        "colab": {
          "base_uri": "https://localhost:8080/"
        },
        "id": "Q9DNwNX_AwCV",
        "outputId": "5817b7db-f43a-4f71-c681-d4e5d5eec220"
      },
      "execution_count": 43,
      "outputs": [
        {
          "output_type": "stream",
          "name": "stderr",
          "text": [
            "/content/spark-3.5.0-bin-hadoop3/python/pyspark/sql/context.py:158: FutureWarning: Deprecated in 3.0.0. Use SparkSession.builder.getOrCreate() instead.\n",
            "  warnings.warn(\n"
          ]
        },
        {
          "output_type": "stream",
          "name": "stdout",
          "text": [
            "Precision bot-class:  0.2857142857142857\n",
            "Precision user-class:  0.9935897435897436\n",
            "Recall bot-class:  0.4\n",
            "Recall user-class:  0.9893617021276596\n",
            "Weighted F1-score:  0.9845434481726704\n"
          ]
        }
      ]
    },
    {
      "cell_type": "markdown",
      "source": [
        "## validation set predictions"
      ],
      "metadata": {
        "id": "ItLe6UhB-mIQ"
      }
    },
    {
      "cell_type": "code",
      "source": [
        "predictions = model.transform(valid_df)"
      ],
      "metadata": {
        "id": "EDU7sZtH-gou"
      },
      "execution_count": 44,
      "outputs": []
    },
    {
      "cell_type": "code",
      "source": [
        "df_pred_validation = predictions.select('user', 'prediction', 'label').toPandas()"
      ],
      "metadata": {
        "id": "xPRxY_LH-go9"
      },
      "execution_count": 45,
      "outputs": []
    },
    {
      "cell_type": "code",
      "source": [
        "df_pred_validation['prediction'].value_counts()"
      ],
      "metadata": {
        "colab": {
          "base_uri": "https://localhost:8080/"
        },
        "outputId": "39034f70-6a88-4bc0-9b46-df524f13d96b",
        "id": "NgwM24Iw-go9"
      },
      "execution_count": 46,
      "outputs": [
        {
          "output_type": "execute_result",
          "data": {
            "text/plain": [
              "0.0    482\n",
              "1.0      7\n",
              "Name: prediction, dtype: int64"
            ]
          },
          "metadata": {},
          "execution_count": 46
        }
      ]
    },
    {
      "cell_type": "code",
      "source": [
        "from pyspark.ml.evaluation import MulticlassClassificationEvaluator\n",
        "from pyspark.mllib.evaluation import MulticlassMetrics\n",
        "\n",
        "evaluator = MulticlassClassificationEvaluator(\n",
        "    labelCol=\"label\", predictionCol=\"prediction\")\n",
        "metrics = MulticlassMetrics(predictions.select(\"prediction\", \"label\").rdd)\n",
        "\n",
        "# print(metrics.confusionMatrix().toArray())\n",
        "print(\"Precision bot-class: \", metrics.precision(1.0))\n",
        "print(\"Precision user-class: \", metrics.precision(0.0))\n",
        "print(\"Recall bot-class: \", metrics.recall(1.0))\n",
        "print(\"Recall user-class: \", metrics.recall(0.0))\n",
        "print(\"Weighted F1-score: \", metrics.weightedFMeasure())"
      ],
      "metadata": {
        "colab": {
          "base_uri": "https://localhost:8080/"
        },
        "outputId": "00e0d6bc-e5a1-429b-9b65-ea0de48f1b32",
        "id": "812ysWlC-go9"
      },
      "execution_count": 47,
      "outputs": [
        {
          "output_type": "stream",
          "name": "stderr",
          "text": [
            "/content/spark-3.5.0-bin-hadoop3/python/pyspark/sql/context.py:158: FutureWarning: Deprecated in 3.0.0. Use SparkSession.builder.getOrCreate() instead.\n",
            "  warnings.warn(\n"
          ]
        },
        {
          "output_type": "stream",
          "name": "stdout",
          "text": [
            "Precision bot-class:  0.14285714285714285\n",
            "Precision user-class:  0.9875518672199171\n",
            "Recall bot-class:  0.14285714285714285\n",
            "Recall user-class:  0.9875518672199171\n",
            "Weighted F1-score:  0.9754601226993864\n"
          ]
        }
      ]
    },
    {
      "cell_type": "code",
      "source": [
        "df_pred_validation"
      ],
      "metadata": {
        "id": "oHlXLCKYlSWe",
        "colab": {
          "base_uri": "https://localhost:8080/",
          "height": 424
        },
        "outputId": "c1737368-84ef-4a71-b957-5e66c18532fa"
      },
      "execution_count": 48,
      "outputs": [
        {
          "output_type": "execute_result",
          "data": {
            "text/plain": [
              "                                        user  prediction  label\n",
              "0                             207.213.88.194         0.0    0.0\n",
              "1    2401:7400:601B:5BE1:1799:4AC2:D289:5382         0.0    0.0\n",
              "2    2600:8806:910C:8100:3070:D508:9698:66AE         0.0    0.0\n",
              "3     2601:100:8780:2490:7C6B:9B2C:1325:9ADD         0.0    0.0\n",
              "4    2605:A601:A936:1800:C137:F716:36E0:20E6         0.0    0.0\n",
              "..                                       ...         ...    ...\n",
              "484                              Kaltenmeyer         0.0    0.0\n",
              "485                          TheLonelyPather         0.0    0.0\n",
              "486                                Plantdrew         0.0    0.0\n",
              "487                        Materialscientist         1.0    0.0\n",
              "488                             InceptionBot         1.0    1.0\n",
              "\n",
              "[489 rows x 3 columns]"
            ],
            "text/html": [
              "\n",
              "  <div id=\"df-c882b38d-528b-4684-8484-0c12a6c6c7ad\" class=\"colab-df-container\">\n",
              "    <div>\n",
              "<style scoped>\n",
              "    .dataframe tbody tr th:only-of-type {\n",
              "        vertical-align: middle;\n",
              "    }\n",
              "\n",
              "    .dataframe tbody tr th {\n",
              "        vertical-align: top;\n",
              "    }\n",
              "\n",
              "    .dataframe thead th {\n",
              "        text-align: right;\n",
              "    }\n",
              "</style>\n",
              "<table border=\"1\" class=\"dataframe\">\n",
              "  <thead>\n",
              "    <tr style=\"text-align: right;\">\n",
              "      <th></th>\n",
              "      <th>user</th>\n",
              "      <th>prediction</th>\n",
              "      <th>label</th>\n",
              "    </tr>\n",
              "  </thead>\n",
              "  <tbody>\n",
              "    <tr>\n",
              "      <th>0</th>\n",
              "      <td>207.213.88.194</td>\n",
              "      <td>0.0</td>\n",
              "      <td>0.0</td>\n",
              "    </tr>\n",
              "    <tr>\n",
              "      <th>1</th>\n",
              "      <td>2401:7400:601B:5BE1:1799:4AC2:D289:5382</td>\n",
              "      <td>0.0</td>\n",
              "      <td>0.0</td>\n",
              "    </tr>\n",
              "    <tr>\n",
              "      <th>2</th>\n",
              "      <td>2600:8806:910C:8100:3070:D508:9698:66AE</td>\n",
              "      <td>0.0</td>\n",
              "      <td>0.0</td>\n",
              "    </tr>\n",
              "    <tr>\n",
              "      <th>3</th>\n",
              "      <td>2601:100:8780:2490:7C6B:9B2C:1325:9ADD</td>\n",
              "      <td>0.0</td>\n",
              "      <td>0.0</td>\n",
              "    </tr>\n",
              "    <tr>\n",
              "      <th>4</th>\n",
              "      <td>2605:A601:A936:1800:C137:F716:36E0:20E6</td>\n",
              "      <td>0.0</td>\n",
              "      <td>0.0</td>\n",
              "    </tr>\n",
              "    <tr>\n",
              "      <th>...</th>\n",
              "      <td>...</td>\n",
              "      <td>...</td>\n",
              "      <td>...</td>\n",
              "    </tr>\n",
              "    <tr>\n",
              "      <th>484</th>\n",
              "      <td>Kaltenmeyer</td>\n",
              "      <td>0.0</td>\n",
              "      <td>0.0</td>\n",
              "    </tr>\n",
              "    <tr>\n",
              "      <th>485</th>\n",
              "      <td>TheLonelyPather</td>\n",
              "      <td>0.0</td>\n",
              "      <td>0.0</td>\n",
              "    </tr>\n",
              "    <tr>\n",
              "      <th>486</th>\n",
              "      <td>Plantdrew</td>\n",
              "      <td>0.0</td>\n",
              "      <td>0.0</td>\n",
              "    </tr>\n",
              "    <tr>\n",
              "      <th>487</th>\n",
              "      <td>Materialscientist</td>\n",
              "      <td>1.0</td>\n",
              "      <td>0.0</td>\n",
              "    </tr>\n",
              "    <tr>\n",
              "      <th>488</th>\n",
              "      <td>InceptionBot</td>\n",
              "      <td>1.0</td>\n",
              "      <td>1.0</td>\n",
              "    </tr>\n",
              "  </tbody>\n",
              "</table>\n",
              "<p>489 rows × 3 columns</p>\n",
              "</div>\n",
              "    <div class=\"colab-df-buttons\">\n",
              "\n",
              "  <div class=\"colab-df-container\">\n",
              "    <button class=\"colab-df-convert\" onclick=\"convertToInteractive('df-c882b38d-528b-4684-8484-0c12a6c6c7ad')\"\n",
              "            title=\"Convert this dataframe to an interactive table.\"\n",
              "            style=\"display:none;\">\n",
              "\n",
              "  <svg xmlns=\"http://www.w3.org/2000/svg\" height=\"24px\" viewBox=\"0 -960 960 960\">\n",
              "    <path d=\"M120-120v-720h720v720H120Zm60-500h600v-160H180v160Zm220 220h160v-160H400v160Zm0 220h160v-160H400v160ZM180-400h160v-160H180v160Zm440 0h160v-160H620v160ZM180-180h160v-160H180v160Zm440 0h160v-160H620v160Z\"/>\n",
              "  </svg>\n",
              "    </button>\n",
              "\n",
              "  <style>\n",
              "    .colab-df-container {\n",
              "      display:flex;\n",
              "      gap: 12px;\n",
              "    }\n",
              "\n",
              "    .colab-df-convert {\n",
              "      background-color: #E8F0FE;\n",
              "      border: none;\n",
              "      border-radius: 50%;\n",
              "      cursor: pointer;\n",
              "      display: none;\n",
              "      fill: #1967D2;\n",
              "      height: 32px;\n",
              "      padding: 0 0 0 0;\n",
              "      width: 32px;\n",
              "    }\n",
              "\n",
              "    .colab-df-convert:hover {\n",
              "      background-color: #E2EBFA;\n",
              "      box-shadow: 0px 1px 2px rgba(60, 64, 67, 0.3), 0px 1px 3px 1px rgba(60, 64, 67, 0.15);\n",
              "      fill: #174EA6;\n",
              "    }\n",
              "\n",
              "    .colab-df-buttons div {\n",
              "      margin-bottom: 4px;\n",
              "    }\n",
              "\n",
              "    [theme=dark] .colab-df-convert {\n",
              "      background-color: #3B4455;\n",
              "      fill: #D2E3FC;\n",
              "    }\n",
              "\n",
              "    [theme=dark] .colab-df-convert:hover {\n",
              "      background-color: #434B5C;\n",
              "      box-shadow: 0px 1px 3px 1px rgba(0, 0, 0, 0.15);\n",
              "      filter: drop-shadow(0px 1px 2px rgba(0, 0, 0, 0.3));\n",
              "      fill: #FFFFFF;\n",
              "    }\n",
              "  </style>\n",
              "\n",
              "    <script>\n",
              "      const buttonEl =\n",
              "        document.querySelector('#df-c882b38d-528b-4684-8484-0c12a6c6c7ad button.colab-df-convert');\n",
              "      buttonEl.style.display =\n",
              "        google.colab.kernel.accessAllowed ? 'block' : 'none';\n",
              "\n",
              "      async function convertToInteractive(key) {\n",
              "        const element = document.querySelector('#df-c882b38d-528b-4684-8484-0c12a6c6c7ad');\n",
              "        const dataTable =\n",
              "          await google.colab.kernel.invokeFunction('convertToInteractive',\n",
              "                                                    [key], {});\n",
              "        if (!dataTable) return;\n",
              "\n",
              "        const docLinkHtml = 'Like what you see? Visit the ' +\n",
              "          '<a target=\"_blank\" href=https://colab.research.google.com/notebooks/data_table.ipynb>data table notebook</a>'\n",
              "          + ' to learn more about interactive tables.';\n",
              "        element.innerHTML = '';\n",
              "        dataTable['output_type'] = 'display_data';\n",
              "        await google.colab.output.renderOutput(dataTable, element);\n",
              "        const docLink = document.createElement('div');\n",
              "        docLink.innerHTML = docLinkHtml;\n",
              "        element.appendChild(docLink);\n",
              "      }\n",
              "    </script>\n",
              "  </div>\n",
              "\n",
              "\n",
              "<div id=\"df-195027d3-2ff7-4eb6-a3a4-d29e2c05122f\">\n",
              "  <button class=\"colab-df-quickchart\" onclick=\"quickchart('df-195027d3-2ff7-4eb6-a3a4-d29e2c05122f')\"\n",
              "            title=\"Suggest charts\"\n",
              "            style=\"display:none;\">\n",
              "\n",
              "<svg xmlns=\"http://www.w3.org/2000/svg\" height=\"24px\"viewBox=\"0 0 24 24\"\n",
              "     width=\"24px\">\n",
              "    <g>\n",
              "        <path d=\"M19 3H5c-1.1 0-2 .9-2 2v14c0 1.1.9 2 2 2h14c1.1 0 2-.9 2-2V5c0-1.1-.9-2-2-2zM9 17H7v-7h2v7zm4 0h-2V7h2v10zm4 0h-2v-4h2v4z\"/>\n",
              "    </g>\n",
              "</svg>\n",
              "  </button>\n",
              "\n",
              "<style>\n",
              "  .colab-df-quickchart {\n",
              "      --bg-color: #E8F0FE;\n",
              "      --fill-color: #1967D2;\n",
              "      --hover-bg-color: #E2EBFA;\n",
              "      --hover-fill-color: #174EA6;\n",
              "      --disabled-fill-color: #AAA;\n",
              "      --disabled-bg-color: #DDD;\n",
              "  }\n",
              "\n",
              "  [theme=dark] .colab-df-quickchart {\n",
              "      --bg-color: #3B4455;\n",
              "      --fill-color: #D2E3FC;\n",
              "      --hover-bg-color: #434B5C;\n",
              "      --hover-fill-color: #FFFFFF;\n",
              "      --disabled-bg-color: #3B4455;\n",
              "      --disabled-fill-color: #666;\n",
              "  }\n",
              "\n",
              "  .colab-df-quickchart {\n",
              "    background-color: var(--bg-color);\n",
              "    border: none;\n",
              "    border-radius: 50%;\n",
              "    cursor: pointer;\n",
              "    display: none;\n",
              "    fill: var(--fill-color);\n",
              "    height: 32px;\n",
              "    padding: 0;\n",
              "    width: 32px;\n",
              "  }\n",
              "\n",
              "  .colab-df-quickchart:hover {\n",
              "    background-color: var(--hover-bg-color);\n",
              "    box-shadow: 0 1px 2px rgba(60, 64, 67, 0.3), 0 1px 3px 1px rgba(60, 64, 67, 0.15);\n",
              "    fill: var(--button-hover-fill-color);\n",
              "  }\n",
              "\n",
              "  .colab-df-quickchart-complete:disabled,\n",
              "  .colab-df-quickchart-complete:disabled:hover {\n",
              "    background-color: var(--disabled-bg-color);\n",
              "    fill: var(--disabled-fill-color);\n",
              "    box-shadow: none;\n",
              "  }\n",
              "\n",
              "  .colab-df-spinner {\n",
              "    border: 2px solid var(--fill-color);\n",
              "    border-color: transparent;\n",
              "    border-bottom-color: var(--fill-color);\n",
              "    animation:\n",
              "      spin 1s steps(1) infinite;\n",
              "  }\n",
              "\n",
              "  @keyframes spin {\n",
              "    0% {\n",
              "      border-color: transparent;\n",
              "      border-bottom-color: var(--fill-color);\n",
              "      border-left-color: var(--fill-color);\n",
              "    }\n",
              "    20% {\n",
              "      border-color: transparent;\n",
              "      border-left-color: var(--fill-color);\n",
              "      border-top-color: var(--fill-color);\n",
              "    }\n",
              "    30% {\n",
              "      border-color: transparent;\n",
              "      border-left-color: var(--fill-color);\n",
              "      border-top-color: var(--fill-color);\n",
              "      border-right-color: var(--fill-color);\n",
              "    }\n",
              "    40% {\n",
              "      border-color: transparent;\n",
              "      border-right-color: var(--fill-color);\n",
              "      border-top-color: var(--fill-color);\n",
              "    }\n",
              "    60% {\n",
              "      border-color: transparent;\n",
              "      border-right-color: var(--fill-color);\n",
              "    }\n",
              "    80% {\n",
              "      border-color: transparent;\n",
              "      border-right-color: var(--fill-color);\n",
              "      border-bottom-color: var(--fill-color);\n",
              "    }\n",
              "    90% {\n",
              "      border-color: transparent;\n",
              "      border-bottom-color: var(--fill-color);\n",
              "    }\n",
              "  }\n",
              "</style>\n",
              "\n",
              "  <script>\n",
              "    async function quickchart(key) {\n",
              "      const quickchartButtonEl =\n",
              "        document.querySelector('#' + key + ' button');\n",
              "      quickchartButtonEl.disabled = true;  // To prevent multiple clicks.\n",
              "      quickchartButtonEl.classList.add('colab-df-spinner');\n",
              "      try {\n",
              "        const charts = await google.colab.kernel.invokeFunction(\n",
              "            'suggestCharts', [key], {});\n",
              "      } catch (error) {\n",
              "        console.error('Error during call to suggestCharts:', error);\n",
              "      }\n",
              "      quickchartButtonEl.classList.remove('colab-df-spinner');\n",
              "      quickchartButtonEl.classList.add('colab-df-quickchart-complete');\n",
              "    }\n",
              "    (() => {\n",
              "      let quickchartButtonEl =\n",
              "        document.querySelector('#df-195027d3-2ff7-4eb6-a3a4-d29e2c05122f button');\n",
              "      quickchartButtonEl.style.display =\n",
              "        google.colab.kernel.accessAllowed ? 'block' : 'none';\n",
              "    })();\n",
              "  </script>\n",
              "</div>\n",
              "    </div>\n",
              "  </div>\n"
            ]
          },
          "metadata": {},
          "execution_count": 48
        }
      ]
    },
    {
      "cell_type": "code",
      "source": [],
      "metadata": {
        "id": "_EHXWTjtlSf6"
      },
      "execution_count": 584,
      "outputs": []
    },
    {
      "cell_type": "code",
      "source": [],
      "metadata": {
        "id": "wkX1c0VBXv65"
      },
      "execution_count": 584,
      "outputs": []
    }
  ]
}