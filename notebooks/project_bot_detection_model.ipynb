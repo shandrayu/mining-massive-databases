{
  "nbformat": 4,
  "nbformat_minor": 0,
  "metadata": {
    "colab": {
      "provenance": [],
      "collapsed_sections": [
        "jrZuyrW4GGM0"
      ]
    },
    "kernelspec": {
      "name": "python3",
      "display_name": "Python 3"
    },
    "language_info": {
      "name": "python"
    }
  },
  "cells": [
    {
      "cell_type": "code",
      "source": [
        "from google.colab import drive\n",
        "drive.mount('/content/drive')"
      ],
      "metadata": {
        "colab": {
          "base_uri": "https://localhost:8080/"
        },
        "id": "-BqPXE6PXO7W",
        "outputId": "125c7823-5b75-4e73-c0b8-ae4b70c86eda"
      },
      "execution_count": 1,
      "outputs": [
        {
          "output_type": "stream",
          "name": "stdout",
          "text": [
            "Mounted at /content/drive\n"
          ]
        }
      ]
    },
    {
      "cell_type": "markdown",
      "source": [
        "# PySpark setup"
      ],
      "metadata": {
        "id": "jrZuyrW4GGM0"
      }
    },
    {
      "cell_type": "code",
      "source": [
        "!apt-get install openjdk-8-jdk-headless -qq > /dev/null"
      ],
      "metadata": {
        "id": "vGaZjYoYgs3_"
      },
      "execution_count": 2,
      "outputs": []
    },
    {
      "cell_type": "code",
      "source": [
        "# !wget https://downloads.apache.org/spark/spark-3.5.0/spark-3.5.0-bin-hadoop3.tgz"
      ],
      "metadata": {
        "id": "LHnMYKJHgtd9"
      },
      "execution_count": 202,
      "outputs": []
    },
    {
      "cell_type": "code",
      "source": [
        "# !tar xzvf spark-3.5.0-bin-hadoop3.tgz"
      ],
      "metadata": {
        "id": "ZhqA5MZkgtg0"
      },
      "execution_count": 201,
      "outputs": []
    },
    {
      "cell_type": "code",
      "source": [
        "!pip install -q findspark"
      ],
      "metadata": {
        "id": "_qaPig7ygti0"
      },
      "execution_count": 5,
      "outputs": []
    },
    {
      "cell_type": "code",
      "source": [
        "import os\n",
        "os.environ[\"JAVA_HOME\"] = \"/usr/lib/jvm/java-8-openjdk-amd64\"\n",
        "os.environ[\"SPARK_HOME\"] = \"/content/spark-3.5.0-bin-hadoop3\""
      ],
      "metadata": {
        "id": "W6GE8R1jgtlK"
      },
      "execution_count": 6,
      "outputs": []
    },
    {
      "cell_type": "code",
      "source": [
        "import findspark\n",
        "findspark.init()"
      ],
      "metadata": {
        "id": "ml8kKq6Fgtnf"
      },
      "execution_count": 7,
      "outputs": []
    },
    {
      "cell_type": "code",
      "source": [
        "import pyspark\n",
        "from pyspark.sql import SparkSession\n",
        "from pyspark.sql.types import *\n",
        "from pyspark.sql.functions import col, avg, when\n",
        "import pandas as pd"
      ],
      "metadata": {
        "id": "HAuX3csDgtpk"
      },
      "execution_count": 8,
      "outputs": []
    },
    {
      "cell_type": "code",
      "source": [
        "sc = pyspark.SparkContext('local[*]')\n",
        "spark = SparkSession(sc)\n",
        "spark"
      ],
      "metadata": {
        "colab": {
          "base_uri": "https://localhost:8080/",
          "height": 221
        },
        "id": "Plac_b0Wg3r8",
        "outputId": "adf0669f-f9f5-4c3c-fb9f-3d21e166adca"
      },
      "execution_count": 9,
      "outputs": [
        {
          "output_type": "execute_result",
          "data": {
            "text/plain": [
              "<pyspark.sql.session.SparkSession at 0x7fe037a6a830>"
            ],
            "text/html": [
              "\n",
              "            <div>\n",
              "                <p><b>SparkSession - in-memory</b></p>\n",
              "                \n",
              "        <div>\n",
              "            <p><b>SparkContext</b></p>\n",
              "\n",
              "            <p><a href=\"http://babaf4f3473c:4040\">Spark UI</a></p>\n",
              "\n",
              "            <dl>\n",
              "              <dt>Version</dt>\n",
              "                <dd><code>v3.5.0</code></dd>\n",
              "              <dt>Master</dt>\n",
              "                <dd><code>local[*]</code></dd>\n",
              "              <dt>AppName</dt>\n",
              "                <dd><code>pyspark-shell</code></dd>\n",
              "            </dl>\n",
              "        </div>\n",
              "        \n",
              "            </div>\n",
              "        "
            ]
          },
          "metadata": {},
          "execution_count": 9
        }
      ]
    },
    {
      "cell_type": "markdown",
      "source": [
        "# Upload data"
      ],
      "metadata": {
        "id": "-eBr1wWlGLLb"
      }
    },
    {
      "cell_type": "code",
      "source": [
        "%cd drive/MyDrive/MMDB"
      ],
      "metadata": {
        "colab": {
          "base_uri": "https://localhost:8080/"
        },
        "id": "meHZE6QMXlhx",
        "outputId": "d598024a-97ac-443c-8748-e18614cfc149"
      },
      "execution_count": 11,
      "outputs": [
        {
          "output_type": "stream",
          "name": "stdout",
          "text": [
            "/content/drive/MyDrive/MMDB\n"
          ]
        }
      ]
    },
    {
      "cell_type": "code",
      "source": [
        "import pandas as pd\n",
        "import matplotlib.pyplot as plt"
      ],
      "metadata": {
        "id": "TyhPGuBik748"
      },
      "execution_count": 139,
      "outputs": []
    },
    {
      "cell_type": "code",
      "source": [
        "# !tar xzvf sample.tgz"
      ],
      "metadata": {
        "id": "G4JkOVD_YUwK"
      },
      "execution_count": 140,
      "outputs": []
    },
    {
      "cell_type": "code",
      "source": [
        "import json\n",
        "\n",
        "with open('sample.jsonl', 'r') as fin:\n",
        "    samples = list(map(json.loads, fin.readlines()))"
      ],
      "metadata": {
        "id": "-IsdzDwUXbTR"
      },
      "execution_count": 141,
      "outputs": []
    },
    {
      "cell_type": "code",
      "source": [
        "# df = spark.read.option(\"multiline\",\"true\").json('/content/changes_enwiki_1000_sec.json')"
      ],
      "metadata": {
        "id": "wXSmxy0bg3uz"
      },
      "execution_count": 142,
      "outputs": []
    },
    {
      "cell_type": "code",
      "source": [
        "df = spark.createDataFrame(samples)"
      ],
      "metadata": {
        "id": "ieq2ALBQY5BI"
      },
      "execution_count": 143,
      "outputs": []
    },
    {
      "cell_type": "code",
      "source": [
        "# df.columns"
      ],
      "metadata": {
        "id": "AJAQMMGbg3yV"
      },
      "execution_count": 144,
      "outputs": []
    },
    {
      "cell_type": "code",
      "source": [
        "df.show(5)"
      ],
      "metadata": {
        "colab": {
          "base_uri": "https://localhost:8080/"
        },
        "id": "p1pg_kn3grs4",
        "outputId": "300bc3cf-8bc9-4ea1-a058-62d6d45789ae"
      },
      "execution_count": 145,
      "outputs": [
        {
          "output_type": "stream",
          "name": "stdout",
          "text": [
            "+--------------------+-----+--------------------+----------+--------------------+--------------------+-----+---------+--------------------+--------------------+--------------------+----------------+------------------+--------------------+----------+--------------------+--------------------+----+--------------------+------+\n",
            "|             $schema|  bot|             comment|        id|              length|                meta|minor|namespace|          notify_url|       parsedcomment|            revision|     server_name|server_script_path|          server_url| timestamp|               title|           title_url|type|                user|  wiki|\n",
            "+--------------------+-----+--------------------+----------+--------------------+--------------------+-----+---------+--------------------+--------------------+--------------------+----------------+------------------+--------------------+----------+--------------------+--------------------+----+--------------------+------+\n",
            "|/mediawiki/recent...|false|                    |1696904284|{new -> 51205, ol...|{dt -> 2023-11-21...|false|        0|https://en.wikipe...|                    |{new -> 118624591...|en.wikipedia.org|                /w|https://en.wikipe...|1700602954|         Chengdu J-7|https://en.wikipe...|edit|2402:4000:21C3:50...|enwiki|\n",
            "|/mediawiki/recent...|false|/* References */ ...|1696904289|{new -> 5988, old...|{dt -> 2023-11-21...|false|        0|https://en.wikipe...|<span dir=\"auto\">...|{new -> 118624592...|en.wikipedia.org|                /w|https://en.wikipe...|1700602957|  Goswick rail crash|https://en.wikipe...|edit|The joy of all th...|enwiki|\n",
            "|/mediawiki/recent...|false|rem notability ta...|1696904294|{new -> 7239, old...|{dt -> 2023-11-21...|false|        0|https://en.wikipe...|rem notability ta...|{new -> 118624592...|en.wikipedia.org|                /w|https://en.wikipe...|1700602958|San Jose, Malaybalay|https://en.wikipe...|edit|              Boleyn|enwiki|\n",
            "|/mediawiki/recent...|false|/* External links */|1696904304|{new -> 115923, o...|{dt -> 2023-11-21...|false|        0|https://en.wikipe...|<span dir=\"auto\">...|{new -> 118624593...|en.wikipedia.org|                /w|https://en.wikipe...|1700602962|       Yoon Suk Yeol|https://en.wikipe...|edit|               Jibco|enwiki|\n",
            "|/mediawiki/recent...|false|            + review|1696904311|{new -> 36132, ol...|{dt -> 2023-11-21...|false|        0|https://en.wikipe...|            + review|{new -> 118624593...|en.wikipedia.org|                /w|https://en.wikipe...|1700602967|Whenever You Need...|https://en.wikipe...|edit|            Europe22|enwiki|\n",
            "+--------------------+-----+--------------------+----------+--------------------+--------------------+-----+---------+--------------------+--------------------+--------------------+----------------+------------------+--------------------+----------+--------------------+--------------------+----+--------------------+------+\n",
            "only showing top 5 rows\n",
            "\n"
          ]
        }
      ]
    },
    {
      "cell_type": "code",
      "source": [
        "df.count()"
      ],
      "metadata": {
        "colab": {
          "base_uri": "https://localhost:8080/"
        },
        "id": "_C-vUnHy6nCA",
        "outputId": "07eb2cdb-7a15-4d5b-f23e-8ed2136bbca8"
      },
      "execution_count": 146,
      "outputs": [
        {
          "output_type": "execute_result",
          "data": {
            "text/plain": [
              "17625"
            ]
          },
          "metadata": {},
          "execution_count": 146
        }
      ]
    },
    {
      "cell_type": "markdown",
      "source": [
        "# Describe the distribution of edits per users and bots"
      ],
      "metadata": {
        "id": "4AY5BoxUpJUB"
      }
    },
    {
      "cell_type": "code",
      "source": [
        "df_bot_distr = df.select('user', 'bot').toPandas().drop_duplicates()"
      ],
      "metadata": {
        "id": "vOPVmlbOkBjS"
      },
      "execution_count": 147,
      "outputs": []
    },
    {
      "cell_type": "code",
      "source": [
        "df_bot_distr['bot'].value_counts()"
      ],
      "metadata": {
        "colab": {
          "base_uri": "https://localhost:8080/"
        },
        "id": "orzUbpb5Zuuc",
        "outputId": "dc3e524c-bb14-4a47-8521-fc60f05629dd"
      },
      "execution_count": 148,
      "outputs": [
        {
          "output_type": "execute_result",
          "data": {
            "text/plain": [
              "False    3156\n",
              "True       51\n",
              "Name: bot, dtype: int64"
            ]
          },
          "metadata": {},
          "execution_count": 148
        }
      ]
    },
    {
      "source": [
        "from matplotlib import pyplot as plt\n",
        "import seaborn as sns\n",
        "df_bot_distr.groupby('bot').size().plot(kind='barh', color=sns.palettes.mpl_palette('Dark2'))\n",
        "plt.gca().spines[['top', 'right',]].set_visible(False)"
      ],
      "cell_type": "code",
      "metadata": {
        "colab": {
          "base_uri": "https://localhost:8080/",
          "height": 430
        },
        "id": "ITGcFuei7aGd",
        "outputId": "da0641d8-b2f9-40b1-d466-72674a7a5690"
      },
      "execution_count": 149,
      "outputs": [
        {
          "output_type": "display_data",
          "data": {
            "text/plain": [
              "<Figure size 640x480 with 1 Axes>"
            ],
            "image/png": "[encoded data removed]"
          },
          "metadata": {}
        }
      ]
    },
    {
      "cell_type": "code",
      "source": [
        "df_users = df.filter(df.bot == 'false').groupBy('user').count().toPandas()"
      ],
      "metadata": {
        "id": "mIEFBiuHgrvl"
      },
      "execution_count": 150,
      "outputs": []
    },
    {
      "source": [
        "from matplotlib import pyplot as plt\n",
        "df_users['count'].plot(kind='hist', bins=30, title='Distribution of edits for users')\n",
        "plt.gca().spines[['top', 'right',]].set_visible(False)"
      ],
      "cell_type": "code",
      "metadata": {
        "colab": {
          "base_uri": "https://localhost:8080/",
          "height": 452
        },
        "id": "g8QsEtfUm3WT",
        "outputId": "1712e5a2-7bfe-4aaa-e014-818ee28ecdc3"
      },
      "execution_count": 151,
      "outputs": [
        {
          "output_type": "display_data",
          "data": {
            "text/plain": [
              "<Figure size 640x480 with 1 Axes>"
            ],
            "image/png": "[encoded data removed]"
          },
          "metadata": {}
        }
      ]
    },
    {
      "cell_type": "code",
      "source": [
        "df_bots = df.filter(df.bot == 'true').groupBy('user').count().toPandas()"
      ],
      "metadata": {
        "id": "2EzMLnF1gryP"
      },
      "execution_count": 152,
      "outputs": []
    },
    {
      "cell_type": "code",
      "source": [
        "df_bots[:10]"
      ],
      "metadata": {
        "colab": {
          "base_uri": "https://localhost:8080/",
          "height": 363
        },
        "id": "4ExjSYQYyA8g",
        "outputId": "658eb277-a090-4f68-ec5d-eaee2f679600"
      },
      "execution_count": 153,
      "outputs": [
        {
          "output_type": "execute_result",
          "data": {
            "text/plain": [
              "                 user  count\n",
              "0              FACBot      8\n",
              "1        Citation bot    117\n",
              "2             SineBot      2\n",
              "3           LivingBot      3\n",
              "4               B-bot      2\n",
              "5  Community Tech bot      2\n",
              "6  HBC AIV helperbot5     29\n",
              "7         ClueBot III     25\n",
              "8           SDZeroBot     13\n",
              "9      JJMC89 bot III    218"
            ],
            "text/html": [
              "\n",
              "  <div id=\"df-59a0e62e-a001-4c3b-90b8-493bc910a33d\" class=\"colab-df-container\">\n",
              "    <div>\n",
              "<style scoped>\n",
              "    .dataframe tbody tr th:only-of-type {\n",
              "        vertical-align: middle;\n",
              "    }\n",
              "\n",
              "    .dataframe tbody tr th {\n",
              "        vertical-align: top;\n",
              "    }\n",
              "\n",
              "    .dataframe thead th {\n",
              "        text-align: right;\n",
              "    }\n",
              "</style>\n",
              "<table border=\"1\" class=\"dataframe\">\n",
              "  <thead>\n",
              "    <tr style=\"text-align: right;\">\n",
              "      <th></th>\n",
              "      <th>user</th>\n",
              "      <th>count</th>\n",
              "    </tr>\n",
              "  </thead>\n",
              "  <tbody>\n",
              "    <tr>\n",
              "      <th>0</th>\n",
              "      <td>FACBot</td>\n",
              "      <td>8</td>\n",
              "    </tr>\n",
              "    <tr>\n",
              "      <th>1</th>\n",
              "      <td>Citation bot</td>\n",
              "      <td>117</td>\n",
              "    </tr>\n",
              "    <tr>\n",
              "      <th>2</th>\n",
              "      <td>SineBot</td>\n",
              "      <td>2</td>\n",
              "    </tr>\n",
              "    <tr>\n",
              "      <th>3</th>\n",
              "      <td>LivingBot</td>\n",
              "      <td>3</td>\n",
              "    </tr>\n",
              "    <tr>\n",
              "      <th>4</th>\n",
              "      <td>B-bot</td>\n",
              "      <td>2</td>\n",
              "    </tr>\n",
              "    <tr>\n",
              "      <th>5</th>\n",
              "      <td>Community Tech bot</td>\n",
              "      <td>2</td>\n",
              "    </tr>\n",
              "    <tr>\n",
              "      <th>6</th>\n",
              "      <td>HBC AIV helperbot5</td>\n",
              "      <td>29</td>\n",
              "    </tr>\n",
              "    <tr>\n",
              "      <th>7</th>\n",
              "      <td>ClueBot III</td>\n",
              "      <td>25</td>\n",
              "    </tr>\n",
              "    <tr>\n",
              "      <th>8</th>\n",
              "      <td>SDZeroBot</td>\n",
              "      <td>13</td>\n",
              "    </tr>\n",
              "    <tr>\n",
              "      <th>9</th>\n",
              "      <td>JJMC89 bot III</td>\n",
              "      <td>218</td>\n",
              "    </tr>\n",
              "  </tbody>\n",
              "</table>\n",
              "</div>\n",
              "    <div class=\"colab-df-buttons\">\n",
              "\n",
              "  <div class=\"colab-df-container\">\n",
              "    <button class=\"colab-df-convert\" onclick=\"convertToInteractive('df-59a0e62e-a001-4c3b-90b8-493bc910a33d')\"\n",
              "            title=\"Convert this dataframe to an interactive table.\"\n",
              "            style=\"display:none;\">\n",
              "\n",
              "  <svg xmlns=\"http://www.w3.org/2000/svg\" height=\"24px\" viewBox=\"0 -960 960 960\">\n",
              "    <path d=\"M120-120v-720h720v720H120Zm60-500h600v-160H180v160Zm220 220h160v-160H400v160Zm0 220h160v-160H400v160ZM180-400h160v-160H180v160Zm440 0h160v-160H620v160ZM180-180h160v-160H180v160Zm440 0h160v-160H620v160Z\"/>\n",
              "  </svg>\n",
              "    </button>\n",
              "\n",
              "  <style>\n",
              "    .colab-df-container {\n",
              "      display:flex;\n",
              "      gap: 12px;\n",
              "    }\n",
              "\n",
              "    .colab-df-convert {\n",
              "      background-color: #E8F0FE;\n",
              "      border: none;\n",
              "      border-radius: 50%;\n",
              "      cursor: pointer;\n",
              "      display: none;\n",
              "      fill: #1967D2;\n",
              "      height: 32px;\n",
              "      padding: 0 0 0 0;\n",
              "      width: 32px;\n",
              "    }\n",
              "\n",
              "    .colab-df-convert:hover {\n",
              "      background-color: #E2EBFA;\n",
              "      box-shadow: 0px 1px 2px rgba(60, 64, 67, 0.3), 0px 1px 3px 1px rgba(60, 64, 67, 0.15);\n",
              "      fill: #174EA6;\n",
              "    }\n",
              "\n",
              "    .colab-df-buttons div {\n",
              "      margin-bottom: 4px;\n",
              "    }\n",
              "\n",
              "    [theme=dark] .colab-df-convert {\n",
              "      background-color: #3B4455;\n",
              "      fill: #D2E3FC;\n",
              "    }\n",
              "\n",
              "    [theme=dark] .colab-df-convert:hover {\n",
              "      background-color: #434B5C;\n",
              "      box-shadow: 0px 1px 3px 1px rgba(0, 0, 0, 0.15);\n",
              "      filter: drop-shadow(0px 1px 2px rgba(0, 0, 0, 0.3));\n",
              "      fill: #FFFFFF;\n",
              "    }\n",
              "  </style>\n",
              "\n",
              "    <script>\n",
              "      const buttonEl =\n",
              "        document.querySelector('#df-59a0e62e-a001-4c3b-90b8-493bc910a33d button.colab-df-convert');\n",
              "      buttonEl.style.display =\n",
              "        google.colab.kernel.accessAllowed ? 'block' : 'none';\n",
              "\n",
              "      async function convertToInteractive(key) {\n",
              "        const element = document.querySelector('#df-59a0e62e-a001-4c3b-90b8-493bc910a33d');\n",
              "        const dataTable =\n",
              "          await google.colab.kernel.invokeFunction('convertToInteractive',\n",
              "                                                    [key], {});\n",
              "        if (!dataTable) return;\n",
              "\n",
              "        const docLinkHtml = 'Like what you see? Visit the ' +\n",
              "          '<a target=\"_blank\" href=https://colab.research.google.com/notebooks/data_table.ipynb>data table notebook</a>'\n",
              "          + ' to learn more about interactive tables.';\n",
              "        element.innerHTML = '';\n",
              "        dataTable['output_type'] = 'display_data';\n",
              "        await google.colab.output.renderOutput(dataTable, element);\n",
              "        const docLink = document.createElement('div');\n",
              "        docLink.innerHTML = docLinkHtml;\n",
              "        element.appendChild(docLink);\n",
              "      }\n",
              "    </script>\n",
              "  </div>\n",
              "\n",
              "\n",
              "<div id=\"df-887b95c5-8df1-4af8-bf72-aadaf36d137d\">\n",
              "  <button class=\"colab-df-quickchart\" onclick=\"quickchart('df-887b95c5-8df1-4af8-bf72-aadaf36d137d')\"\n",
              "            title=\"Suggest charts\"\n",
              "            style=\"display:none;\">\n",
              "\n",
              "<svg xmlns=\"http://www.w3.org/2000/svg\" height=\"24px\"viewBox=\"0 0 24 24\"\n",
              "     width=\"24px\">\n",
              "    <g>\n",
              "        <path d=\"M19 3H5c-1.1 0-2 .9-2 2v14c0 1.1.9 2 2 2h14c1.1 0 2-.9 2-2V5c0-1.1-.9-2-2-2zM9 17H7v-7h2v7zm4 0h-2V7h2v10zm4 0h-2v-4h2v4z\"/>\n",
              "    </g>\n",
              "</svg>\n",
              "  </button>\n",
              "\n",
              "<style>\n",
              "  .colab-df-quickchart {\n",
              "      --bg-color: #E8F0FE;\n",
              "      --fill-color: #1967D2;\n",
              "      --hover-bg-color: #E2EBFA;\n",
              "      --hover-fill-color: #174EA6;\n",
              "      --disabled-fill-color: #AAA;\n",
              "      --disabled-bg-color: #DDD;\n",
              "  }\n",
              "\n",
              "  [theme=dark] .colab-df-quickchart {\n",
              "      --bg-color: #3B4455;\n",
              "      --fill-color: #D2E3FC;\n",
              "      --hover-bg-color: #434B5C;\n",
              "      --hover-fill-color: #FFFFFF;\n",
              "      --disabled-bg-color: #3B4455;\n",
              "      --disabled-fill-color: #666;\n",
              "  }\n",
              "\n",
              "  .colab-df-quickchart {\n",
              "    background-color: var(--bg-color);\n",
              "    border: none;\n",
              "    border-radius: 50%;\n",
              "    cursor: pointer;\n",
              "    display: none;\n",
              "    fill: var(--fill-color);\n",
              "    height: 32px;\n",
              "    padding: 0;\n",
              "    width: 32px;\n",
              "  }\n",
              "\n",
              "  .colab-df-quickchart:hover {\n",
              "    background-color: var(--hover-bg-color);\n",
              "    box-shadow: 0 1px 2px rgba(60, 64, 67, 0.3), 0 1px 3px 1px rgba(60, 64, 67, 0.15);\n",
              "    fill: var(--button-hover-fill-color);\n",
              "  }\n",
              "\n",
              "  .colab-df-quickchart-complete:disabled,\n",
              "  .colab-df-quickchart-complete:disabled:hover {\n",
              "    background-color: var(--disabled-bg-color);\n",
              "    fill: var(--disabled-fill-color);\n",
              "    box-shadow: none;\n",
              "  }\n",
              "\n",
              "  .colab-df-spinner {\n",
              "    border: 2px solid var(--fill-color);\n",
              "    border-color: transparent;\n",
              "    border-bottom-color: var(--fill-color);\n",
              "    animation:\n",
              "      spin 1s steps(1) infinite;\n",
              "  }\n",
              "\n",
              "  @keyframes spin {\n",
              "    0% {\n",
              "      border-color: transparent;\n",
              "      border-bottom-color: var(--fill-color);\n",
              "      border-left-color: var(--fill-color);\n",
              "    }\n",
              "    20% {\n",
              "      border-color: transparent;\n",
              "      border-left-color: var(--fill-color);\n",
              "      border-top-color: var(--fill-color);\n",
              "    }\n",
              "    30% {\n",
              "      border-color: transparent;\n",
              "      border-left-color: var(--fill-color);\n",
              "      border-top-color: var(--fill-color);\n",
              "      border-right-color: var(--fill-color);\n",
              "    }\n",
              "    40% {\n",
              "      border-color: transparent;\n",
              "      border-right-color: var(--fill-color);\n",
              "      border-top-color: var(--fill-color);\n",
              "    }\n",
              "    60% {\n",
              "      border-color: transparent;\n",
              "      border-right-color: var(--fill-color);\n",
              "    }\n",
              "    80% {\n",
              "      border-color: transparent;\n",
              "      border-right-color: var(--fill-color);\n",
              "      border-bottom-color: var(--fill-color);\n",
              "    }\n",
              "    90% {\n",
              "      border-color: transparent;\n",
              "      border-bottom-color: var(--fill-color);\n",
              "    }\n",
              "  }\n",
              "</style>\n",
              "\n",
              "  <script>\n",
              "    async function quickchart(key) {\n",
              "      const quickchartButtonEl =\n",
              "        document.querySelector('#' + key + ' button');\n",
              "      quickchartButtonEl.disabled = true;  // To prevent multiple clicks.\n",
              "      quickchartButtonEl.classList.add('colab-df-spinner');\n",
              "      try {\n",
              "        const charts = await google.colab.kernel.invokeFunction(\n",
              "            'suggestCharts', [key], {});\n",
              "      } catch (error) {\n",
              "        console.error('Error during call to suggestCharts:', error);\n",
              "      }\n",
              "      quickchartButtonEl.classList.remove('colab-df-spinner');\n",
              "      quickchartButtonEl.classList.add('colab-df-quickchart-complete');\n",
              "    }\n",
              "    (() => {\n",
              "      let quickchartButtonEl =\n",
              "        document.querySelector('#df-887b95c5-8df1-4af8-bf72-aadaf36d137d button');\n",
              "      quickchartButtonEl.style.display =\n",
              "        google.colab.kernel.accessAllowed ? 'block' : 'none';\n",
              "    })();\n",
              "  </script>\n",
              "</div>\n",
              "    </div>\n",
              "  </div>\n"
            ]
          },
          "metadata": {},
          "execution_count": 153
        }
      ]
    },
    {
      "source": [
        "from matplotlib import pyplot as plt\n",
        "df_bots['count'].plot(kind='hist', bins=20, title='Distribution of edits for bots')\n",
        "plt.gca().spines[['top', 'right',]].set_visible(False)"
      ],
      "cell_type": "code",
      "metadata": {
        "colab": {
          "base_uri": "https://localhost:8080/",
          "height": 452
        },
        "id": "UXw9xI1ynKU9",
        "outputId": "b750cbab-d727-456c-b96b-47648478e774"
      },
      "execution_count": 154,
      "outputs": [
        {
          "output_type": "display_data",
          "data": {
            "text/plain": [
              "<Figure size 640x480 with 1 Axes>"
            ],
            "image/png": "[encoded data removed]"
          },
          "metadata": {}
        }
      ]
    },
    {
      "cell_type": "markdown",
      "source": [
        "# Train bot detection model"
      ],
      "metadata": {
        "id": "jAz1wKnIpFUH"
      }
    },
    {
      "cell_type": "code",
      "source": [
        "from pyspark.sql.functions import udf\n",
        "from pyspark.sql.types import IntegerType\n",
        "\n",
        "# the average length of all edits per user as a feature\n",
        "@udf(IntegerType())\n",
        "def diff_length(length):\n",
        "  old = length['old']\n",
        "  new = length['new']\n",
        "  return abs(new - old)"
      ],
      "metadata": {
        "id": "6lbvhze6ylhk"
      },
      "execution_count": 155,
      "outputs": []
    },
    {
      "cell_type": "code",
      "source": [
        "df = df.withColumn(\"length_difference\", diff_length(df[\"length\"]))"
      ],
      "metadata": {
        "id": "CxNNKgg8zlms"
      },
      "execution_count": 156,
      "outputs": []
    },
    {
      "cell_type": "code",
      "source": [
        "df = df.select('bot', 'length_difference', 'user')"
      ],
      "metadata": {
        "id": "23U-ff6Bt7Vs"
      },
      "execution_count": 157,
      "outputs": []
    },
    {
      "cell_type": "code",
      "source": [
        "from pyspark.sql.functions import count, mean, first\n",
        "\n",
        "grouped_df = df.groupBy(\"user\").agg(\n",
        "    count(\"user\").alias(\"count\"),\n",
        "    mean(\"length_difference\").alias(\"mean_length_difference\"),\n",
        "    first(\"bot\").alias(\"bot\")\n",
        ")"
      ],
      "metadata": {
        "id": "iRbVziip4H1p"
      },
      "execution_count": 158,
      "outputs": []
    },
    {
      "cell_type": "code",
      "source": [
        "grouped_df.show(5)"
      ],
      "metadata": {
        "colab": {
          "base_uri": "https://localhost:8080/"
        },
        "id": "P6JYsnE7xGBu",
        "outputId": "7206e427-35e9-4dd7-e0e6-7eebdd0908b3"
      },
      "execution_count": 159,
      "outputs": [
        {
          "output_type": "stream",
          "name": "stdout",
          "text": [
            "+-------------+-----+----------------------+-----+\n",
            "|         user|count|mean_length_difference|  bot|\n",
            "+-------------+-----+----------------------+-----+\n",
            "| 87.1.186.178|    5|                   4.2|false|\n",
            "|  ThatOneWolf|   22|     557.4090909090909|false|\n",
            "|   JackkBrown|  110|    18.136363636363637|false|\n",
            "|      Wes3803|   11|     84.81818181818181|false|\n",
            "|31.221.89.146|    8|               501.375|false|\n",
            "+-------------+-----+----------------------+-----+\n",
            "only showing top 5 rows\n",
            "\n"
          ]
        }
      ]
    },
    {
      "cell_type": "code",
      "source": [
        "from pyspark.ml.feature import VectorAssembler\n",
        "from pyspark.sql.functions import when\n",
        "\n",
        "assembler = VectorAssembler(\n",
        "  inputCols=[\"count\", 'mean_length_difference'], outputCol=\"features\"\n",
        ")\n",
        "\n",
        "assembled = assembler.transform(grouped_df)"
      ],
      "metadata": {
        "id": "g3TNhX8-9rWi"
      },
      "execution_count": 160,
      "outputs": []
    },
    {
      "cell_type": "code",
      "source": [
        "assembled = assembled.withColumnRenamed(\"bot\", \"label\").select('features', 'label', 'user')\n",
        "assembled = assembled.withColumn('label', when(assembled.label, 1.0).otherwise(0.0))"
      ],
      "metadata": {
        "id": "3g99SbyU-FmL"
      },
      "execution_count": 161,
      "outputs": []
    },
    {
      "cell_type": "code",
      "source": [
        "assembled.show(5)"
      ],
      "metadata": {
        "colab": {
          "base_uri": "https://localhost:8080/"
        },
        "id": "nTWyqCvL92Ap",
        "outputId": "624ec3ca-f00e-4314-9e9f-06cd0c856d07"
      },
      "execution_count": 162,
      "outputs": [
        {
          "output_type": "stream",
          "name": "stdout",
          "text": [
            "+--------------------+-----+-------------+\n",
            "|            features|label|         user|\n",
            "+--------------------+-----+-------------+\n",
            "|           [5.0,4.2]|  0.0| 87.1.186.178|\n",
            "|[22.0,557.4090909...|  0.0|  ThatOneWolf|\n",
            "|[110.0,18.1363636...|  0.0|   JackkBrown|\n",
            "|[11.0,84.81818181...|  0.0|      Wes3803|\n",
            "|       [8.0,501.375]|  0.0|31.221.89.146|\n",
            "+--------------------+-----+-------------+\n",
            "only showing top 5 rows\n",
            "\n"
          ]
        }
      ]
    },
    {
      "cell_type": "markdown",
      "source": [
        "## undersampling + updsampling\n",
        "Upsamping: copy 3 times bots \\\n",
        "Undersampling: took a sample of users with the same amount as upsampled bots"
      ],
      "metadata": {
        "id": "5nqAbNUTd9Ap"
      }
    },
    {
      "cell_type": "code",
      "source": [
        "df_pandas = assembled.toPandas()"
      ],
      "metadata": {
        "id": "Ljo6c42geF9V"
      },
      "execution_count": 177,
      "outputs": []
    },
    {
      "cell_type": "code",
      "source": [
        "df_bots_pandas = df_pandas[df_pandas['label']==1.0]\n",
        "df_bots_pandas = pd.concat([df_bots_pandas, df_bots_pandas, df_bots_pandas])\n",
        "\n",
        "df_users_pandas = df_pandas[df_pandas['label']==0.0].sample(n=len(df_bots_pandas))\n",
        "\n",
        "df_pandas_new_sample = pd.concat([df_users_pandas, df_bots_pandas])\n",
        "df_pandas_new_sample = df_pandas_new_sample.sample(frac = 1)\n",
        "\n",
        "df_pandas_new_sample['label'].value_counts()"
      ],
      "metadata": {
        "colab": {
          "base_uri": "https://localhost:8080/"
        },
        "id": "YTSu6MEaeW91",
        "outputId": "1accc3c5-1c3b-4519-da24-ada6c0fe6f77"
      },
      "execution_count": 178,
      "outputs": [
        {
          "output_type": "execute_result",
          "data": {
            "text/plain": [
              "1.0    153\n",
              "0.0    153\n",
              "Name: label, dtype: int64"
            ]
          },
          "metadata": {},
          "execution_count": 178
        }
      ]
    },
    {
      "cell_type": "code",
      "source": [
        "df_spark = spark.createDataFrame(df_pandas_new_sample)"
      ],
      "metadata": {
        "id": "17m4UOifeGBI"
      },
      "execution_count": 179,
      "outputs": []
    },
    {
      "cell_type": "code",
      "source": [
        "df_spark.show(5)"
      ],
      "metadata": {
        "colab": {
          "base_uri": "https://localhost:8080/"
        },
        "id": "h363LB1tfOZs",
        "outputId": "5d3e86fb-159b-415a-f009-33c306b1e5d7"
      },
      "execution_count": 180,
      "outputs": [
        {
          "output_type": "stream",
          "name": "stdout",
          "text": [
            "+--------------------+-----+--------------+\n",
            "|            features|label|          user|\n",
            "+--------------------+-----+--------------+\n",
            "|        [2.0,2505.5]|  1.0|    MajavahBot|\n",
            "|[218.0,18.1376146...|  1.0|JJMC89 bot III|\n",
            "|      [16.0,1015.75]|  1.0|       Legobot|\n",
            "|           [1.0,1.0]|  0.0|142.126.75.111|\n",
            "|[218.0,18.1376146...|  1.0|JJMC89 bot III|\n",
            "+--------------------+-----+--------------+\n",
            "only showing top 5 rows\n",
            "\n"
          ]
        }
      ]
    },
    {
      "cell_type": "markdown",
      "source": [
        "## training"
      ],
      "metadata": {
        "id": "t0kXkfC7eDZ4"
      }
    },
    {
      "cell_type": "markdown",
      "source": [
        "Note: \\\n",
        "train and test set - used for bot detection classifier; \\\n",
        "validation set - used for inference of the model and BloomFilter"
      ],
      "metadata": {
        "id": "utU3KouEjXAB"
      }
    },
    {
      "cell_type": "code",
      "source": [
        "train_df, test_df = df_spark.randomSplit(weights=[0.7,0.3], seed=100)\n",
        "valid_df, test_df = test_df.randomSplit(weights=[0.5, 0.5], seed=100)"
      ],
      "metadata": {
        "id": "xEV13UkrXvth"
      },
      "execution_count": 181,
      "outputs": []
    },
    {
      "cell_type": "code",
      "source": [
        "valid_df.groupBy('label').count().show()"
      ],
      "metadata": {
        "colab": {
          "base_uri": "https://localhost:8080/"
        },
        "id": "06RueCD0pi0T",
        "outputId": "7ba3b3fd-9be9-4def-a7b7-17c0632944b2"
      },
      "execution_count": 182,
      "outputs": [
        {
          "output_type": "stream",
          "name": "stdout",
          "text": [
            "+-----+-----+\n",
            "|label|count|\n",
            "+-----+-----+\n",
            "|  0.0|   28|\n",
            "|  1.0|   19|\n",
            "+-----+-----+\n",
            "\n"
          ]
        }
      ]
    },
    {
      "cell_type": "code",
      "source": [
        "train_df.count(), test_df.count(), valid_df.count()"
      ],
      "metadata": {
        "colab": {
          "base_uri": "https://localhost:8080/"
        },
        "id": "Kk5jQX8IXvv2",
        "outputId": "688178bc-3765-4a87-b905-8b79f1458303"
      },
      "execution_count": 183,
      "outputs": [
        {
          "output_type": "execute_result",
          "data": {
            "text/plain": [
              "(210, 49, 47)"
            ]
          },
          "metadata": {},
          "execution_count": 183
        }
      ]
    },
    {
      "cell_type": "code",
      "source": [
        "from pyspark.ml.classification import RandomForestClassifier\n",
        "\n",
        "rf = RandomForestClassifier(labelCol=\"label\", featuresCol=\"features\", numTrees=10)"
      ],
      "metadata": {
        "id": "8G5fLjB_XvyO"
      },
      "execution_count": 184,
      "outputs": []
    },
    {
      "cell_type": "code",
      "source": [
        "model = rf.fit(train_df)"
      ],
      "metadata": {
        "id": "SiBakFs0Xv0f"
      },
      "execution_count": 185,
      "outputs": []
    },
    {
      "cell_type": "code",
      "source": [
        "predictions = model.transform(test_df)"
      ],
      "metadata": {
        "id": "uRcQAunYXv2y"
      },
      "execution_count": 196,
      "outputs": []
    },
    {
      "cell_type": "code",
      "source": [
        "predictions.show(5)"
      ],
      "metadata": {
        "colab": {
          "base_uri": "https://localhost:8080/"
        },
        "id": "ZOM_M4-XAv_i",
        "outputId": "1050744c-5f0b-4c09-a92c-6db252eb7bff"
      },
      "execution_count": 197,
      "outputs": [
        {
          "output_type": "stream",
          "name": "stdout",
          "text": [
            "+---------+-----+-------------+--------------------+--------------------+----------+\n",
            "| features|label|         user|       rawPrediction|         probability|prediction|\n",
            "+---------+-----+-------------+--------------------+--------------------+----------+\n",
            "|[1.0,0.0]|  0.0|     Mburrell|[3.80521235521235...|[0.38052123552123...|       1.0|\n",
            "|[1.0,1.0]|  0.0|Movieknower59|[8.71756304799783...|[0.87175630479978...|       0.0|\n",
            "|[1.0,5.0]|  0.0|       Noahp2|[8.71756304799783...|[0.87175630479978...|       0.0|\n",
            "|[2.0,2.0]|  0.0|    Rlwrgh650|[8.64613447656926...|[0.86461344765692...|       0.0|\n",
            "|[2.0,5.0]|  0.0|  HandsomeGum|[8.64613447656926...|[0.86461344765692...|       0.0|\n",
            "+---------+-----+-------------+--------------------+--------------------+----------+\n",
            "only showing top 5 rows\n",
            "\n"
          ]
        }
      ]
    },
    {
      "cell_type": "code",
      "source": [
        "df_pred = predictions.select('features', 'prediction', 'label').toPandas()"
      ],
      "metadata": {
        "id": "3QDFLKEJcAqj"
      },
      "execution_count": 198,
      "outputs": []
    },
    {
      "cell_type": "code",
      "source": [
        "df_pred['prediction'].value_counts()"
      ],
      "metadata": {
        "colab": {
          "base_uri": "https://localhost:8080/"
        },
        "id": "wm7-E6bHcR9D",
        "outputId": "19a5d117-a996-42cd-ec9e-353f17d34def"
      },
      "execution_count": 199,
      "outputs": [
        {
          "output_type": "execute_result",
          "data": {
            "text/plain": [
              "0.0    26\n",
              "1.0    23\n",
              "Name: prediction, dtype: int64"
            ]
          },
          "metadata": {},
          "execution_count": 199
        }
      ]
    },
    {
      "cell_type": "code",
      "source": [
        "from pyspark.ml.evaluation import MulticlassClassificationEvaluator\n",
        "from pyspark.mllib.evaluation import MulticlassMetrics\n",
        "\n",
        "evaluator = MulticlassClassificationEvaluator(\n",
        "    labelCol=\"label\", predictionCol=\"prediction\")\n",
        "metrics = MulticlassMetrics(predictions.select(\"prediction\", \"label\").rdd)\n",
        "\n",
        "# print(metrics.confusionMatrix().toArray())\n",
        "print(\"Precision bot-class: \", metrics.precision(1.0))\n",
        "print(\"Precision user-class: \", metrics.precision(0.0))\n",
        "print(\"Recall bot-class: \", metrics.recall(1.0))\n",
        "print(\"Recall user-class: \", metrics.recall(0.0))\n",
        "print(\"Weighted F1-score: \", metrics.weightedFMeasure())"
      ],
      "metadata": {
        "colab": {
          "base_uri": "https://localhost:8080/"
        },
        "id": "Q9DNwNX_AwCV",
        "outputId": "253aade4-87c4-428c-8960-dc6deb2e639e"
      },
      "execution_count": 200,
      "outputs": [
        {
          "output_type": "stream",
          "name": "stderr",
          "text": [
            "/content/spark-3.5.0-bin-hadoop3/python/pyspark/sql/context.py:158: FutureWarning: Deprecated in 3.0.0. Use SparkSession.builder.getOrCreate() instead.\n",
            "  warnings.warn(\n"
          ]
        },
        {
          "output_type": "stream",
          "name": "stdout",
          "text": [
            "Precision bot-class:  0.7391304347826086\n",
            "Precision user-class:  0.8076923076923077\n",
            "Recall bot-class:  0.7727272727272727\n",
            "Recall user-class:  0.7777777777777778\n",
            "Weighted F1-score:  0.7758867068840114\n"
          ]
        }
      ]
    },
    {
      "cell_type": "code",
      "source": [],
      "metadata": {
        "id": "-MdQ3SdeAwFm"
      },
      "execution_count": 176,
      "outputs": []
    },
    {
      "cell_type": "code",
      "source": [],
      "metadata": {
        "id": "oHlXLCKYlSWe"
      },
      "execution_count": null,
      "outputs": []
    },
    {
      "cell_type": "code",
      "source": [],
      "metadata": {
        "id": "_EHXWTjtlSf6"
      },
      "execution_count": null,
      "outputs": []
    },
    {
      "cell_type": "code",
      "source": [],
      "metadata": {
        "id": "wkX1c0VBXv65"
      },
      "execution_count": 176,
      "outputs": []
    }
  ]
}