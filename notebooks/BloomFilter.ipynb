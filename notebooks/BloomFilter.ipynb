{
 "cells": [
  {
   "cell_type": "markdown",
   "id": "090c7b67-29c1-44a0-bb3c-55647a200d12",
   "metadata": {},
   "source": [
    "# Final Project: Detecting bots in wikipedia  streaming data\n",
    "\n",
    "1) Consider all the changes done in the wikipedia as stream.\n",
    "** Check here: https://wikitech.wikimedia.org/wiki/RCStream\n",
    "\n",
    "2) Each action is received in json format. \n",
    "\n",
    "3) Data is full of bots. There is a flag were programmers can \n",
    "indicate that an actions has been done by a bot.\n",
    "\n",
    "4) Using this information as ground truth, develop a system able \n",
    "to classify users as bot or human.\n",
    "\n",
    "5) Constrain: You need to sample, and just use the 20% of \n",
    "the data stream. \n",
    "\n",
    "6) Describe the distribution of edits per users and bots. \n",
    "\n",
    "7) Finally, train a Bloom Filter that filter out bots from the stream. \n",
    "\n",
    "* Find the correct parameters for the bloom filter having an \n",
    "error below 10%.\n",
    "\n",
    "8) If you want to have a 100% you need to do this:\n",
    "\n",
    "* Make your system to work with Spark Streaming (5%)"
   ]
  },
  {
   "cell_type": "code",
   "execution_count": null,
   "id": "10f99726-bb30-492d-aeb6-07ed709ff3ad",
   "metadata": {},
   "outputs": [],
   "source": [
    "from sseclient import SSEClient as EventSource\n",
    "import time\n",
    "import json"
   ]
  },
  {
   "cell_type": "code",
   "execution_count": 69,
   "id": "1db081f5-fc11-4d56-85be-17eb97c196e3",
   "metadata": {},
   "outputs": [],
   "source": [
    "# Define helper functions\n",
    "\n",
    "def fetch_raw(event_source, fetching_time_sec, message_types, wikis, event_decimation=5, print_log=False):\n",
    "    observed_users = set()\n",
    "    skipped_users = set()\n",
    "    user_counter = 0\n",
    "    start_time = time.time()\n",
    "    for event in event_source:\n",
    "        try:\n",
    "            change = json.loads(event.data)\n",
    "        except:\n",
    "            # ignore message\n",
    "            continue\n",
    "\n",
    "        if change[\"type\"] not in message_types or change[\"wiki\"] not in wikis:\n",
    "            # ignore message\n",
    "            continue\n",
    "\n",
    "        elapced_time = time.time() - start_time\n",
    "        if elapced_time > fetching_time_sec:\n",
    "            break\n",
    "\n",
    "        yield (change)\n",
    "\n",
    "\n",
    "def hash_user(wiki, id):\n",
    "    return hash((wiki, id))\n",
    "\n",
    "def fetch_users(event_source, fetching_time_sec, message_types, wikis, event_decimation=5, print_log=False):\n",
    "    observed_users = set()\n",
    "    skipped_users = set()\n",
    "    user_counter = 0\n",
    "    start_time = time.time()\n",
    "    for event in event_source:\n",
    "        try:\n",
    "            change = json.loads(event.data)\n",
    "        except:\n",
    "            # ignore message\n",
    "            continue\n",
    "\n",
    "        if change[\"type\"] not in message_types or change[\"wiki\"] not in wikis:\n",
    "            # ignore message\n",
    "            continue\n",
    "\n",
    "        user = hash_user(change[\"wiki\"], change[\"title\"], change[\"user\"])\n",
    "        if user in observed_users:\n",
    "            if print_log:\n",
    "                print(f\"Message from user {user} saved\")\n",
    "            save_user = True\n",
    "        elif user in skipped_users:\n",
    "            if print_log:\n",
    "                print(f\"Message from user {user} skipped\")\n",
    "            save_user = False\n",
    "        else:\n",
    "            # new user   \n",
    "            if user_counter % event_decimation == 0:\n",
    "                if print_log:\n",
    "                    print(f\"+ Add new user {user}\")\n",
    "                observed_users.add(user)\n",
    "                save_user = True\n",
    "            else:\n",
    "                if print_log:\n",
    "                    print(f\"- Add Skip user {user}\")\n",
    "                skipped_users.add(user)\n",
    "                save_user = False\n",
    "            user_counter += 1\n",
    "\n",
    "        elapced_time = time.time() - start_time\n",
    "        if elapced_time > fetching_time_sec:\n",
    "            break\n",
    "\n",
    "        if save_user:\n",
    "            yield (change)"
   ]
  },
  {
   "cell_type": "code",
   "execution_count": 57,
   "id": "c9d4aac1-a2dc-433c-ae85-8aa93f8f8ff0",
   "metadata": {},
   "outputs": [],
   "source": [
    "url = 'https://stream.wikimedia.org/v2/stream/recentchange'\n",
    "message_types = {\"edit\"}\n",
    "wikis = {\"enwiki\"}#, \"wikidatawiki\"}\n",
    "wikis_str = \"_\".join(wikis)"
   ]
  },
  {
   "cell_type": "code",
   "execution_count": 70,
   "id": "39de909d-ef23-43dd-9c9c-a1652ad6bb2e",
   "metadata": {},
   "outputs": [
    {
     "name": "stdout",
     "output_type": "stream",
     "text": [
      "\n",
      "\n"
     ]
    }
   ],
   "source": [
    "fetching_time_sec = 800\n",
    "\n",
    "raw_items = [change for change in fetch_raw(EventSource(url), fetching_time_sec, message_types, wikis)]"
   ]
  },
  {
   "cell_type": "code",
   "execution_count": 92,
   "id": "f3de0e44-c7b9-4e99-84a6-cd6344c1b854",
   "metadata": {},
   "outputs": [
    {
     "data": {
      "text/plain": [
       "{'$schema': '/mediawiki/recentchange/1.0.0',\n",
       " 'meta': {'uri': 'https://en.wikipedia.org/wiki/George_Santos',\n",
       "  'request_id': '7853eaf3-e784-46d0-8030-5515bea95a3e',\n",
       "  'id': '04b13719-4ad1-4018-b01e-419bd9fb1edb',\n",
       "  'dt': '2023-11-21T19:51:25Z',\n",
       "  'domain': 'en.wikipedia.org',\n",
       "  'stream': 'mediawiki.recentchange',\n",
       "  'topic': 'codfw.mediawiki.recentchange',\n",
       "  'partition': 0,\n",
       "  'offset': 785902126},\n",
       " 'id': 1696879635,\n",
       " 'type': 'edit',\n",
       " 'namespace': 0,\n",
       " 'title': 'George Santos',\n",
       " 'title_url': 'https://en.wikipedia.org/wiki/George_Santos',\n",
       " 'comment': 'added link',\n",
       " 'timestamp': 1700596285,\n",
       " 'user': 'TheHetStopper',\n",
       " 'bot': False,\n",
       " 'notify_url': 'https://en.wikipedia.org/w/index.php?diff=1186232574&oldid=1186214513',\n",
       " 'minor': False,\n",
       " 'length': {'old': 284532, 'new': 284675},\n",
       " 'revision': {'old': 1186214513, 'new': 1186232574},\n",
       " 'server_url': 'https://en.wikipedia.org',\n",
       " 'server_name': 'en.wikipedia.org',\n",
       " 'server_script_path': '/w',\n",
       " 'wiki': 'enwiki',\n",
       " 'parsedcomment': 'added link'}"
      ]
     },
     "execution_count": 92,
     "metadata": {},
     "output_type": "execute_result"
    }
   ],
   "source": [
    "raw_items[0]"
   ]
  },
  {
   "cell_type": "markdown",
   "id": "f4b677d3-7518-413b-9172-f79651f7c9cc",
   "metadata": {},
   "source": [
    "# Analyze bot behaviour"
   ]
  },
  {
   "cell_type": "code",
   "execution_count": 71,
   "id": "7db65452-f5a5-416f-9b6f-ea9b4031dfe9",
   "metadata": {},
   "outputs": [
    {
     "data": {
      "text/plain": [
       "1458"
      ]
     },
     "execution_count": 71,
     "metadata": {},
     "output_type": "execute_result"
    }
   ],
   "source": [
    "import pandas as pd\n",
    "import matplotlib.pyplot as plt\n",
    "\n",
    "df = pd.DataFrame(raw_items)\n",
    "df['length_old'] = df.apply(lambda x: x['length']['old'], axis=1)\n",
    "df['length_new'] = df.apply(lambda x: x['length']['new'], axis=1)\n",
    "df['length_diff'] = df['length_new'] - df['length_old']\n",
    "len(df)"
   ]
  },
  {
   "cell_type": "markdown",
   "id": "886d620f-da61-479e-804a-937ac3347d1d",
   "metadata": {},
   "source": [
    "## Bot vs Real user edit length"
   ]
  },
  {
   "cell_type": "code",
   "execution_count": 76,
   "id": "ffa2ce6d-7eb4-4002-b0dd-acf443962236",
   "metadata": {},
   "outputs": [
    {
     "data": {
      "text/html": [
       "<div>\n",
       "<style scoped>\n",
       "    .dataframe tbody tr th:only-of-type {\n",
       "        vertical-align: middle;\n",
       "    }\n",
       "\n",
       "    .dataframe tbody tr th {\n",
       "        vertical-align: top;\n",
       "    }\n",
       "\n",
       "    .dataframe thead th {\n",
       "        text-align: right;\n",
       "    }\n",
       "</style>\n",
       "<table border=\"1\" class=\"dataframe\">\n",
       "  <thead>\n",
       "    <tr style=\"text-align: right;\">\n",
       "      <th></th>\n",
       "      <th>$schema</th>\n",
       "      <th>meta</th>\n",
       "      <th>id</th>\n",
       "      <th>type</th>\n",
       "      <th>namespace</th>\n",
       "      <th>title</th>\n",
       "      <th>title_url</th>\n",
       "      <th>comment</th>\n",
       "      <th>timestamp</th>\n",
       "      <th>user</th>\n",
       "      <th>...</th>\n",
       "      <th>length</th>\n",
       "      <th>revision</th>\n",
       "      <th>server_url</th>\n",
       "      <th>server_name</th>\n",
       "      <th>server_script_path</th>\n",
       "      <th>wiki</th>\n",
       "      <th>parsedcomment</th>\n",
       "      <th>length_old</th>\n",
       "      <th>length_new</th>\n",
       "      <th>length_diff</th>\n",
       "    </tr>\n",
       "  </thead>\n",
       "  <tbody>\n",
       "    <tr>\n",
       "      <th>252</th>\n",
       "      <td>/mediawiki/recentchange/1.0.0</td>\n",
       "      <td>{'uri': 'https://en.wikipedia.org/wiki/User:Al...</td>\n",
       "      <td>1696880151</td>\n",
       "      <td>edit</td>\n",
       "      <td>2</td>\n",
       "      <td>User:AlexNewArtBot/BiharSearchResult</td>\n",
       "      <td>https://en.wikipedia.org/wiki/User:AlexNewArtB...</td>\n",
       "      <td>most recent results, added 1, removed 6, total 47</td>\n",
       "      <td>1700596425</td>\n",
       "      <td>InceptionBot</td>\n",
       "      <td>...</td>\n",
       "      <td>{'old': 22742, 'new': 20587}</td>\n",
       "      <td>{'old': 1186077056, 'new': 1186232861}</td>\n",
       "      <td>https://en.wikipedia.org</td>\n",
       "      <td>en.wikipedia.org</td>\n",
       "      <td>/w</td>\n",
       "      <td>enwiki</td>\n",
       "      <td>most recent results, added 1, removed 6, total 47</td>\n",
       "      <td>22742</td>\n",
       "      <td>20587</td>\n",
       "      <td>-2155</td>\n",
       "    </tr>\n",
       "  </tbody>\n",
       "</table>\n",
       "<p>1 rows × 23 columns</p>\n",
       "</div>"
      ],
      "text/plain": [
       "                           $schema  \\\n",
       "252  /mediawiki/recentchange/1.0.0   \n",
       "\n",
       "                                                  meta          id  type  \\\n",
       "252  {'uri': 'https://en.wikipedia.org/wiki/User:Al...  1696880151  edit   \n",
       "\n",
       "     namespace                                 title  \\\n",
       "252          2  User:AlexNewArtBot/BiharSearchResult   \n",
       "\n",
       "                                             title_url  \\\n",
       "252  https://en.wikipedia.org/wiki/User:AlexNewArtB...   \n",
       "\n",
       "                                               comment   timestamp  \\\n",
       "252  most recent results, added 1, removed 6, total 47  1700596425   \n",
       "\n",
       "             user  ...                        length  \\\n",
       "252  InceptionBot  ...  {'old': 22742, 'new': 20587}   \n",
       "\n",
       "                                   revision                server_url  \\\n",
       "252  {'old': 1186077056, 'new': 1186232861}  https://en.wikipedia.org   \n",
       "\n",
       "          server_name server_script_path    wiki  \\\n",
       "252  en.wikipedia.org                 /w  enwiki   \n",
       "\n",
       "                                         parsedcomment length_old length_new  \\\n",
       "252  most recent results, added 1, removed 6, total 47      22742      20587   \n",
       "\n",
       "    length_diff  \n",
       "252       -2155  \n",
       "\n",
       "[1 rows x 23 columns]"
      ]
     },
     "execution_count": 76,
     "metadata": {},
     "output_type": "execute_result"
    }
   ],
   "source": [
    "df.sample()"
   ]
  },
  {
   "cell_type": "code",
   "execution_count": 91,
   "id": "b07fab37-bce4-4fc0-bd7c-87a8159cd48c",
   "metadata": {},
   "outputs": [
    {
     "data": {
      "text/plain": [
       "(0.0, 50.0)"
      ]
     },
     "execution_count": 91,
     "metadata": {},
     "output_type": "execute_result"
    },
    {
     "data": {
      "image/png": "[encoded data removed]",
      "text/plain": [
       "<Figure size 640x480 with 1 Axes>"
      ]
     },
     "metadata": {},
     "output_type": "display_data"
    }
   ],
   "source": [
    "ax1 = plt.subplot(111)\n",
    "df[~df['bot']]['length_diff'].hist(ax=ax1, color='blue', label='Users', alpha=0.5, bins=100)\n",
    "df[df['bot']]['length_diff'].hist(ax=ax1, color='red', label='Bot', alpha=0.5)\n",
    "ax1.legend(loc='best')\n",
    "\n",
    "ax1.set_ylim((0, 50))"
   ]
  },
  {
   "cell_type": "markdown",
   "id": "1bd5701d-135d-4cd6-a9e1-096a848c636c",
   "metadata": {},
   "source": [
    "Observations:\n",
    "- real users makes bigger changes (>3k symbols per edit)\n",
    "- changes between +/- 3k edited changes make both users and bots, so events are not distinguishable\n",
    "- bots has bot in the name (too obvious)\n",
    "- bots generates comments in structured form"
   ]
  },
  {
   "cell_type": "markdown",
   "id": "3afeac04-1efb-4086-bb2b-76ef76f68ca6",
   "metadata": {},
   "source": [
    "## Bot behaviour"
   ]
  },
  {
   "cell_type": "code",
   "execution_count": 87,
   "id": "81613201-8171-4298-8f2d-e4490fba468b",
   "metadata": {},
   "outputs": [
    {
     "name": "stderr",
     "output_type": "stream",
     "text": [
      "No artists with labels found to put in legend.  Note that artists whose label start with an underscore are ignored when legend() is called with no argument.\n"
     ]
    },
    {
     "data": {
      "text/plain": [
       "(0.0, 12.0)"
      ]
     },
     "execution_count": 87,
     "metadata": {},
     "output_type": "execute_result"
    },
    {
     "data": {
      "image/png": "[encoded data removed]",
      "text/plain": [
       "<Figure size 640x480 with 1 Axes>"
      ]
     },
     "metadata": {},
     "output_type": "display_data"
    }
   ],
   "source": [
    "ax1 = plt.subplot(111)\n",
    "df[df['bot']].groupby('user')['length_diff'].hist(ax=ax1, alpha=0.5)\n",
    "ax1.legend(loc='best')\n",
    "\n",
    "ax1.set_ylim((0, 12))"
   ]
  },
  {
   "cell_type": "code",
   "execution_count": 98,
   "id": "648157fe-e92b-4e01-9afc-7d116019a772",
   "metadata": {},
   "outputs": [
    {
     "data": {
      "text/html": [
       "<div>\n",
       "<style scoped>\n",
       "    .dataframe tbody tr th:only-of-type {\n",
       "        vertical-align: middle;\n",
       "    }\n",
       "\n",
       "    .dataframe tbody tr th {\n",
       "        vertical-align: top;\n",
       "    }\n",
       "\n",
       "    .dataframe thead th {\n",
       "        text-align: right;\n",
       "    }\n",
       "</style>\n",
       "<table border=\"1\" class=\"dataframe\">\n",
       "  <thead>\n",
       "    <tr style=\"text-align: right;\">\n",
       "      <th></th>\n",
       "      <th>user</th>\n",
       "      <th>title</th>\n",
       "      <th>count</th>\n",
       "    </tr>\n",
       "  </thead>\n",
       "  <tbody>\n",
       "    <tr>\n",
       "      <th>0</th>\n",
       "      <td>AnomieBOT</td>\n",
       "      <td>1969 Miles - Festiva De Juan Pins</td>\n",
       "      <td>1</td>\n",
       "    </tr>\n",
       "    <tr>\n",
       "      <th>74</th>\n",
       "      <td>AnomieBOT</td>\n",
       "      <td>History of the Belgian Americans in Metro Detroit</td>\n",
       "      <td>1</td>\n",
       "    </tr>\n",
       "    <tr>\n",
       "      <th>73</th>\n",
       "      <td>AnomieBOT</td>\n",
       "      <td>Misinformation in the 2023 Israel-Hamas war</td>\n",
       "      <td>1</td>\n",
       "    </tr>\n",
       "    <tr>\n",
       "      <th>72</th>\n",
       "      <td>AnomieBOT</td>\n",
       "      <td>Plaskett's Star</td>\n",
       "      <td>1</td>\n",
       "    </tr>\n",
       "    <tr>\n",
       "      <th>71</th>\n",
       "      <td>AnomieBOT</td>\n",
       "      <td>Rick and Morty - Let the Rick One In</td>\n",
       "      <td>1</td>\n",
       "    </tr>\n",
       "    <tr>\n",
       "      <th>...</th>\n",
       "      <td>...</td>\n",
       "      <td>...</td>\n",
       "      <td>...</td>\n",
       "    </tr>\n",
       "    <tr>\n",
       "      <th>29</th>\n",
       "      <td>RMCD bot</td>\n",
       "      <td>Wikipedia:Requested moves/Current discussions ...</td>\n",
       "      <td>1</td>\n",
       "    </tr>\n",
       "    <tr>\n",
       "      <th>28</th>\n",
       "      <td>RMCD bot</td>\n",
       "      <td>Wikipedia:Requested moves/Current discussions ...</td>\n",
       "      <td>1</td>\n",
       "    </tr>\n",
       "    <tr>\n",
       "      <th>27</th>\n",
       "      <td>InternetArchiveBot</td>\n",
       "      <td>Celestina Boninsegna</td>\n",
       "      <td>1</td>\n",
       "    </tr>\n",
       "    <tr>\n",
       "      <th>37</th>\n",
       "      <td>InternetArchiveBot</td>\n",
       "      <td>Celestina Bottego</td>\n",
       "      <td>1</td>\n",
       "    </tr>\n",
       "    <tr>\n",
       "      <th>102</th>\n",
       "      <td>SineBot</td>\n",
       "      <td>User talk:Edit-or-perish</td>\n",
       "      <td>1</td>\n",
       "    </tr>\n",
       "  </tbody>\n",
       "</table>\n",
       "<p>103 rows × 3 columns</p>\n",
       "</div>"
      ],
      "text/plain": [
       "                   user                                              title  \\\n",
       "0             AnomieBOT                  1969 Miles - Festiva De Juan Pins   \n",
       "74            AnomieBOT  History of the Belgian Americans in Metro Detroit   \n",
       "73            AnomieBOT        Misinformation in the 2023 Israel-Hamas war   \n",
       "72            AnomieBOT                                    Plaskett's Star   \n",
       "71            AnomieBOT               Rick and Morty - Let the Rick One In   \n",
       "..                  ...                                                ...   \n",
       "29             RMCD bot  Wikipedia:Requested moves/Current discussions ...   \n",
       "28             RMCD bot  Wikipedia:Requested moves/Current discussions ...   \n",
       "27   InternetArchiveBot                               Celestina Boninsegna   \n",
       "37   InternetArchiveBot                                  Celestina Bottego   \n",
       "102             SineBot                           User talk:Edit-or-perish   \n",
       "\n",
       "     count  \n",
       "0        1  \n",
       "74       1  \n",
       "73       1  \n",
       "72       1  \n",
       "71       1  \n",
       "..     ...  \n",
       "29       1  \n",
       "28       1  \n",
       "27       1  \n",
       "37       1  \n",
       "102      1  \n",
       "\n",
       "[103 rows x 3 columns]"
      ]
     },
     "execution_count": 98,
     "metadata": {},
     "output_type": "execute_result"
    }
   ],
   "source": [
    "df[df['bot']][['user', 'title']].value_counts().reset_index().sort_values('count')"
   ]
  },
  {
   "cell_type": "code",
   "execution_count": 100,
   "id": "b0ab36e7-7cf1-424c-8b9b-220979f56e05",
   "metadata": {},
   "outputs": [
    {
     "data": {
      "text/plain": [
       "array(['Mz7 (bot)', 'InceptionBot', 'AnomieBOT', 'Cewbot',\n",
       "       'InternetArchiveBot', 'Citation bot', 'HBC AIV helperbot5',\n",
       "       'Cyberbot I', 'EarwigBot', 'DatBot', 'Bot1058', 'MusikBot',\n",
       "       'FireflyBot', 'DeltaQuadBot', 'Legobot', 'RMCD bot', 'SineBot'],\n",
       "      dtype=object)"
      ]
     },
     "execution_count": 100,
     "metadata": {},
     "output_type": "execute_result"
    }
   ],
   "source": [
    "df[df['bot']]['user'].unique()"
   ]
  },
  {
   "cell_type": "code",
   "execution_count": 125,
   "id": "8b267fb6-fc1b-4894-ac0a-ce2824942a41",
   "metadata": {},
   "outputs": [
    {
     "data": {
      "text/plain": [
       "array(['Updating report', 'most recent scoring',\n",
       "       'Update logs for past 7 days',\n",
       "       'Add: date. | [[:en:WP:UCB|Use this bot]]. [[:en:WP:DBUG|Report bugs]]. | Suggested by Abductive | [[Category:People named in the Panama Papers]] | #UCB_Category 163/280',\n",
       "       'Add: date. | [[:en:WP:UCB|Use this bot]]. [[:en:WP:DBUG|Report bugs]]. | Suggested by Abductive | [[Category:People named in the Panama Papers]] | #UCB_Category 175/280',\n",
       "       'Add: work. Removed parameters. Some additions/deletions were parameter name changes. | [[:en:WP:UCB|Use this bot]]. [[:en:WP:DBUG|Report bugs]]. | Suggested by Abductive | [[Category:People named in the Panama Papers]] | #UCB_Category 63/280',\n",
       "       'Giving DYK credit for [[Canticle I: My beloved is mine and I am his]] on behalf of [[User:Z1720|Z1720]]',\n",
       "       '[[User:DeltaQuadBot|DeltaQuadBot]] UAA Updating Run Time.',\n",
       "       'Copying assessment table to wiki.',\n",
       "       'Adding/updating {{OnThisDay}} for 2023-11-21.  Errors? [[User:AnomieBOT/shutoff/OnThisDayTagger]]',\n",
       "       'most recent results, added 5, removed 8, total 76',\n",
       "       'Moving [[:Category:Sportspeople from the Colony of New Zealand]] to [[:Category:19th-century New Zealand sportspeople]] per [[Wikipedia:Categories for discussion/Log/2023 November 5#Category:Sportspeople from the Colony of New Zealand]]',\n",
       "       '[[User:Bot1058|Task 4]]: Syncing unsynchronized talk page redirect – double redirect bypass from [[Talk:Trilobite (disambiguation)]] to [[Talk:Trilobyte]]'],\n",
       "      dtype=object)"
      ]
     },
     "execution_count": 125,
     "metadata": {},
     "output_type": "execute_result"
    }
   ],
   "source": [
    "df[df['bot']]['comment'].sample(20).unique()"
   ]
  },
  {
   "cell_type": "markdown",
   "id": "45a318a0-b313-4597-8455-0006e845e207",
   "metadata": {},
   "source": [
    "Observations:\n",
    "\n",
    "- The bot title and comment seems to be significant features"
   ]
  },
  {
   "cell_type": "markdown",
   "id": "73f14923-ab2e-44f1-b85f-f6b98f88934d",
   "metadata": {},
   "source": [
    "# Collect data for model training"
   ]
  },
  {
   "cell_type": "code",
   "execution_count": null,
   "id": "830e8c56-8846-4324-a070-92652bc9d50e",
   "metadata": {},
   "outputs": [],
   "source": [
    "fetching_time_sec = 30000\n",
    "url = 'https://stream.wikimedia.org/v2/stream/recentchange'\n",
    "message_types = {\"edit\"}\n",
    "wikis = {\"enwiki\"}#, \"wikidatawiki\"}\n",
    "wikis_str = \"_\".join(wikis)\n",
    "\n",
    "with open('sample1.jsonl', 'w') as fout:\n",
    "    for item in fetch_users(EventSource(url), fetching_time_sec, message_types, wikis):\n",
    "        fout.write(json.dumps(item) + \"\\n\")\n"
   ]
  },
  {
   "cell_type": "markdown",
   "id": "7db193d0-beb5-45e6-ae7a-5ea92491d462",
   "metadata": {},
   "source": [
    "# Read data"
   ]
  },
  {
   "cell_type": "code",
   "execution_count": 151,
   "id": "47792813-49ff-41dc-bee9-9303d1e1811c",
   "metadata": {},
   "outputs": [
    {
     "data": {
      "text/plain": [
       "11289"
      ]
     },
     "execution_count": 151,
     "metadata": {},
     "output_type": "execute_result"
    }
   ],
   "source": [
    "with open('sample.jsonl', 'r') as fin:\n",
    "    samples = list(map(json.loads, fin.readlines()))\n",
    "\n",
    "df = pd.DataFrame(samples)\n",
    "df.drop_duplicates(['user', 'title', 'comment'], inplace=True)\n",
    "\n",
    "len(df)"
   ]
  },
  {
   "cell_type": "code",
   "execution_count": 152,
   "id": "e08114e1-8aa4-4f2e-a978-6e43c9346298",
   "metadata": {},
   "outputs": [
    {
     "data": {
      "text/html": [
       "<div>\n",
       "<style scoped>\n",
       "    .dataframe tbody tr th:only-of-type {\n",
       "        vertical-align: middle;\n",
       "    }\n",
       "\n",
       "    .dataframe tbody tr th {\n",
       "        vertical-align: top;\n",
       "    }\n",
       "\n",
       "    .dataframe thead th {\n",
       "        text-align: right;\n",
       "    }\n",
       "</style>\n",
       "<table border=\"1\" class=\"dataframe\">\n",
       "  <thead>\n",
       "    <tr style=\"text-align: right;\">\n",
       "      <th></th>\n",
       "      <th>user</th>\n",
       "      <th>bot</th>\n",
       "      <th>comment</th>\n",
       "      <th>count</th>\n",
       "    </tr>\n",
       "  </thead>\n",
       "  <tbody>\n",
       "    <tr>\n",
       "      <th>3996</th>\n",
       "      <td>Reddqueen</td>\n",
       "      <td>False</td>\n",
       "      <td>Submitting using [[WP:AFCSW|AfC-submit-wizard]]</td>\n",
       "      <td>1</td>\n",
       "    </tr>\n",
       "    <tr>\n",
       "      <th>5335</th>\n",
       "      <td>2600:1006:B025:890E:A8AF:672:FD61:B452</td>\n",
       "      <td>False</td>\n",
       "      <td></td>\n",
       "      <td>1</td>\n",
       "    </tr>\n",
       "    <tr>\n",
       "      <th>5334</th>\n",
       "      <td>2409:4062:4D02:8813:B749:D866:7924:620D</td>\n",
       "      <td>False</td>\n",
       "      <td>/* Killing */ new section</td>\n",
       "      <td>1</td>\n",
       "    </tr>\n",
       "    <tr>\n",
       "      <th>5333</th>\n",
       "      <td>2600:1009:B05D:21E8:5972:77A5:D17C:1CD6</td>\n",
       "      <td>False</td>\n",
       "      <td>/* Results by congressional district */</td>\n",
       "      <td>1</td>\n",
       "    </tr>\n",
       "    <tr>\n",
       "      <th>5332</th>\n",
       "      <td>24.44.147.86</td>\n",
       "      <td>False</td>\n",
       "      <td>/* History */</td>\n",
       "      <td>1</td>\n",
       "    </tr>\n",
       "    <tr>\n",
       "      <th>...</th>\n",
       "      <td>...</td>\n",
       "      <td>...</td>\n",
       "      <td>...</td>\n",
       "      <td>...</td>\n",
       "    </tr>\n",
       "    <tr>\n",
       "      <th>4</th>\n",
       "      <td>Векочел</td>\n",
       "      <td>False</td>\n",
       "      <td>De-link common terms ([[User:Ohconfucius/scrip...</td>\n",
       "      <td>85</td>\n",
       "    </tr>\n",
       "    <tr>\n",
       "      <th>3</th>\n",
       "      <td>WP 1.0 bot</td>\n",
       "      <td>True</td>\n",
       "      <td>Copying assessment table to wiki.</td>\n",
       "      <td>102</td>\n",
       "    </tr>\n",
       "    <tr>\n",
       "      <th>2</th>\n",
       "      <td>InceptionBot</td>\n",
       "      <td>True</td>\n",
       "      <td>most recent scoring</td>\n",
       "      <td>115</td>\n",
       "    </tr>\n",
       "    <tr>\n",
       "      <th>1</th>\n",
       "      <td>Onel5969</td>\n",
       "      <td>False</td>\n",
       "      <td>Disambiguating links to [[Kushan]] (link chang...</td>\n",
       "      <td>134</td>\n",
       "    </tr>\n",
       "    <tr>\n",
       "      <th>0</th>\n",
       "      <td>WP 1.0 bot</td>\n",
       "      <td>True</td>\n",
       "      <td>Update logs for past 7 days</td>\n",
       "      <td>191</td>\n",
       "    </tr>\n",
       "  </tbody>\n",
       "</table>\n",
       "<p>7993 rows × 4 columns</p>\n",
       "</div>"
      ],
      "text/plain": [
       "                                         user    bot  \\\n",
       "3996                                Reddqueen  False   \n",
       "5335   2600:1006:B025:890E:A8AF:672:FD61:B452  False   \n",
       "5334  2409:4062:4D02:8813:B749:D866:7924:620D  False   \n",
       "5333  2600:1009:B05D:21E8:5972:77A5:D17C:1CD6  False   \n",
       "5332                             24.44.147.86  False   \n",
       "...                                       ...    ...   \n",
       "4                                     Векочел  False   \n",
       "3                                  WP 1.0 bot   True   \n",
       "2                                InceptionBot   True   \n",
       "1                                    Onel5969  False   \n",
       "0                                  WP 1.0 bot   True   \n",
       "\n",
       "                                                comment  count  \n",
       "3996    Submitting using [[WP:AFCSW|AfC-submit-wizard]]      1  \n",
       "5335                                                         1  \n",
       "5334                          /* Killing */ new section      1  \n",
       "5333            /* Results by congressional district */      1  \n",
       "5332                                      /* History */      1  \n",
       "...                                                 ...    ...  \n",
       "4     De-link common terms ([[User:Ohconfucius/scrip...     85  \n",
       "3                     Copying assessment table to wiki.    102  \n",
       "2                                   most recent scoring    115  \n",
       "1     Disambiguating links to [[Kushan]] (link chang...    134  \n",
       "0                           Update logs for past 7 days    191  \n",
       "\n",
       "[7993 rows x 4 columns]"
      ]
     },
     "execution_count": 152,
     "metadata": {},
     "output_type": "execute_result"
    }
   ],
   "source": [
    "df[['user', 'bot' ,'comment']].value_counts().reset_index().sort_values('count', ascending=True)"
   ]
  },
  {
   "cell_type": "code",
   "execution_count": 203,
   "id": "22ea6e7c-0ce2-4d47-81fe-a4b1a063429a",
   "metadata": {},
   "outputs": [],
   "source": [
    "import math \n",
    "import hashlib\n",
    "import mmh3 \n",
    "from bitarray import bitarray \n",
    "  \n",
    "  \n",
    "class BloomFilter(object): \n",
    "    def __init__(self, filter_capacity, fp_error_rate):\n",
    "        # number of stored items in bloom filter, spreaded between bits (mask)\n",
    "        self._filter_capacity = filter_capacity\n",
    "        self._fp_error_rate = fp_error_rate\n",
    "        self._size = BloomFilter.calculate_size(self._filter_capacity, self._fp_error_rate)\n",
    "        self._hash_functions = [\n",
    "            lambda x: int.from_bytes(hashlib.sha256(x.encode('utf-8')).digest(), 'big'), \n",
    "            # mmh3.hash\n",
    "        ]\n",
    "        self._mask_array = [0] * self._size\n",
    "\n",
    "    @staticmethod\n",
    "    def calculate_size(items_number, fp_error_rate):\n",
    "        ''' \n",
    "        Size of bit array(m) to used using formula:\n",
    "        m = -(n * lg(p)) / (lg(2)^2) \n",
    "        '''        \n",
    "        return int(-(filter_size * (math.log(fp_error_rate) / (math.log(2) ** 2))))\n",
    "\n",
    "    def fit(self, X, Y):\n",
    "        for x, y in zip(X, Y):\n",
    "            if not y:\n",
    "                continue\n",
    "            for hash_func in self._hash_functions:\n",
    "                index = hash_func(x) % self._size\n",
    "                self._mask_array[index] = 1\n",
    "\n",
    "    def predict_one(self, item):\n",
    "        for hash_func in self._hash_functions:\n",
    "            index = hash_func(item) % self._size\n",
    "            if not self._mask_array[index]:\n",
    "                return False\n",
    "        return True\n",
    "\n",
    "    def predict(self, items):\n",
    "        return [self.predict_one(item) for item in items]"
   ]
  },
  {
   "cell_type": "code",
   "execution_count": 204,
   "id": "2f7c74ed-6e6a-4af9-a503-38bef6616bed",
   "metadata": {},
   "outputs": [],
   "source": [
    "def extract_features(item):\n",
    "    return str([\n",
    "        item['user'],\n",
    "        # item['comment'],\n",
    "        # item['length']['new'] - item['length']['old'],\n",
    "    ])\n",
    "def extract_label(item):\n",
    "    return item['bot']\n",
    "\n",
    "X = list(map(extract_features, df.to_dict('records')))\n",
    "Y = list(map(extract_label, df.to_dict('records')))"
   ]
  },
  {
   "cell_type": "code",
   "execution_count": 205,
   "id": "3896c7b8-e057-41eb-abe9-c1e3f1acf849",
   "metadata": {},
   "outputs": [],
   "source": [
    "from sklearn.metrics import classification_report\n",
    "from sklearn.model_selection import train_test_split\n",
    "\n",
    "X_train, X_test, y_train, y_test = train_test_split(X, Y, test_size=0.2, random_state=42)"
   ]
  },
  {
   "cell_type": "code",
   "execution_count": 206,
   "id": "9592f53c-1ec5-4d72-bed3-8977ee0a0a78",
   "metadata": {},
   "outputs": [],
   "source": [
    "model = BloomFilter(10, 0.01)\n",
    "model.fit(X_train, y_train)"
   ]
  },
  {
   "cell_type": "code",
   "execution_count": 207,
   "id": "6e512ca0-8758-4ff4-a00e-ec7b9ed0546c",
   "metadata": {},
   "outputs": [],
   "source": [
    "y_pred = model.predict(X_test)"
   ]
  },
  {
   "cell_type": "code",
   "execution_count": 208,
   "id": "6b078b84-8b04-424f-8006-97af4608f28e",
   "metadata": {},
   "outputs": [
    {
     "name": "stdout",
     "output_type": "stream",
     "text": [
      "              precision    recall  f1-score   support\n",
      "\n",
      "       False       1.00      0.65      0.79      2001\n",
      "        True       0.27      1.00      0.42       257\n",
      "\n",
      "    accuracy                           0.69      2258\n",
      "   macro avg       0.63      0.82      0.61      2258\n",
      "weighted avg       0.92      0.69      0.75      2258\n",
      "\n"
     ]
    }
   ],
   "source": [
    "print(classification_report(y_test, y_pred))"
   ]
  },
  {
   "cell_type": "code",
   "execution_count": null,
   "id": "decb9f5b-6400-467b-8621-13d50d3d31bd",
   "metadata": {},
   "outputs": [],
   "source": []
  }
 ],
 "metadata": {
  "kernelspec": {
   "display_name": "Python 3 (ipykernel)",
   "language": "python",
   "name": "python3"
  },
  "language_info": {
   "codemirror_mode": {
    "name": "ipython",
    "version": 3
   },
   "file_extension": ".py",
   "mimetype": "text/x-python",
   "name": "python",
   "nbconvert_exporter": "python",
   "pygments_lexer": "ipython3",
   "version": "3.11.6"
  }
 },
 "nbformat": 4,
 "nbformat_minor": 5
}
