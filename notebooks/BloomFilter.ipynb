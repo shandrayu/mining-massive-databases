{
 "cells": [
  {
   "cell_type": "markdown",
   "id": "090c7b67-29c1-44a0-bb3c-55647a200d12",
   "metadata": {},
   "source": [
    "# Final Project: Detecting bots in wikipedia  streaming data\n",
    "\n",
    "1) Consider all the changes done in the wikipedia as stream.\n",
    "** Check here: https://wikitech.wikimedia.org/wiki/RCStream\n",
    "\n",
    "2) Each action is received in json format. \n",
    "\n",
    "3) Data is full of bots. There is a flag were programmers can \n",
    "indicate that an actions has been done by a bot.\n",
    "\n",
    "4) Using this information as ground truth, develop a system able \n",
    "to classify users as bot or human.\n",
    "\n",
    "5) Constrain: You need to sample, and just use the 20% of \n",
    "the data stream. \n",
    "\n",
    "6) Describe the distribution of edits per users and bots. \n",
    "\n",
    "7) Finally, train a Bloom Filter that filter out bots from the stream. \n",
    "\n",
    "* Find the correct parameters for the bloom filter having an \n",
    "error below 10%.\n",
    "\n",
    "8) If you want to have a 100% you need to do this:\n",
    "\n",
    "* Make your system to work with Spark Streaming (5%)"
   ]
  },
  {
   "cell_type": "code",
   "execution_count": null,
   "id": "10f99726-bb30-492d-aeb6-07ed709ff3ad",
   "metadata": {},
   "outputs": [],
   "source": [
    "from sseclient import SSEClient as EventSource\n",
    "import time\n",
    "import json"
   ]
  },
  {
   "cell_type": "code",
   "execution_count": 69,
   "id": "1db081f5-fc11-4d56-85be-17eb97c196e3",
   "metadata": {},
   "outputs": [],
   "source": [
    "# Define helper functions\n",
    "\n",
    "def fetch_raw(event_source, fetching_time_sec, message_types, wikis, event_decimation=5, print_log=False):\n",
    "    observed_users = set()\n",
    "    skipped_users = set()\n",
    "    user_counter = 0\n",
    "    start_time = time.time()\n",
    "    for event in event_source:\n",
    "        try:\n",
    "            change = json.loads(event.data)\n",
    "        except:\n",
    "            # ignore message\n",
    "            continue\n",
    "\n",
    "        if change[\"type\"] not in message_types or change[\"wiki\"] not in wikis:\n",
    "            # ignore message\n",
    "            continue\n",
    "\n",
    "        elapced_time = time.time() - start_time\n",
    "        if elapced_time > fetching_time_sec:\n",
    "            break\n",
    "\n",
    "        yield (change)\n",
    "\n",
    "\n",
    "def hash_user(wiki, id):\n",
    "    return hash((wiki, id))\n",
    "\n",
    "def fetch_users(event_source, fetching_time_sec, message_types, wikis, event_decimation=5, print_log=False):\n",
    "    observed_users = set()\n",
    "    skipped_users = set()\n",
    "    user_counter = 0\n",
    "    start_time = time.time()\n",
    "    for event in event_source:\n",
    "        try:\n",
    "            change = json.loads(event.data)\n",
    "        except:\n",
    "            # ignore message\n",
    "            continue\n",
    "\n",
    "        if change[\"type\"] not in message_types or change[\"wiki\"] not in wikis:\n",
    "            # ignore message\n",
    "            continue\n",
    "\n",
    "        user = hash_user(change[\"wiki\"], change[\"title\"], change[\"user\"])\n",
    "        if user in observed_users:\n",
    "            if print_log:\n",
    "                print(f\"Message from user {user} saved\")\n",
    "            save_user = True\n",
    "        elif user in skipped_users:\n",
    "            if print_log:\n",
    "                print(f\"Message from user {user} skipped\")\n",
    "            save_user = False\n",
    "        else:\n",
    "            # new user   \n",
    "            if user_counter % event_decimation == 0:\n",
    "                if print_log:\n",
    "                    print(f\"+ Add new user {user}\")\n",
    "                observed_users.add(user)\n",
    "                save_user = True\n",
    "            else:\n",
    "                if print_log:\n",
    "                    print(f\"- Add Skip user {user}\")\n",
    "                skipped_users.add(user)\n",
    "                save_user = False\n",
    "            user_counter += 1\n",
    "\n",
    "        elapced_time = time.time() - start_time\n",
    "        if elapced_time > fetching_time_sec:\n",
    "            break\n",
    "\n",
    "        if save_user:\n",
    "            yield (change)"
   ]
  },
  {
   "cell_type": "code",
   "execution_count": 57,
   "id": "c9d4aac1-a2dc-433c-ae85-8aa93f8f8ff0",
   "metadata": {},
   "outputs": [],
   "source": [
    "url = 'https://stream.wikimedia.org/v2/stream/recentchange'\n",
    "message_types = {\"edit\"}\n",
    "wikis = {\"enwiki\"}#, \"wikidatawiki\"}\n",
    "wikis_str = \"_\".join(wikis)"
   ]
  },
  {
   "cell_type": "code",
   "execution_count": 70,
   "id": "39de909d-ef23-43dd-9c9c-a1652ad6bb2e",
   "metadata": {},
   "outputs": [
    {
     "name": "stdout",
     "output_type": "stream",
     "text": [
      "\n",
      "\n"
     ]
    }
   ],
   "source": [
    "fetching_time_sec = 800\n",
    "\n",
    "raw_items = [change for change in fetch_raw(EventSource(url), fetching_time_sec, message_types, wikis)]"
   ]
  },
  {
   "cell_type": "code",
   "execution_count": 92,
   "id": "f3de0e44-c7b9-4e99-84a6-cd6344c1b854",
   "metadata": {},
   "outputs": [
    {
     "data": {
      "text/plain": [
       "{'$schema': '/mediawiki/recentchange/1.0.0',\n",
       " 'meta': {'uri': 'https://en.wikipedia.org/wiki/George_Santos',\n",
       "  'request_id': '7853eaf3-e784-46d0-8030-5515bea95a3e',\n",
       "  'id': '04b13719-4ad1-4018-b01e-419bd9fb1edb',\n",
       "  'dt': '2023-11-21T19:51:25Z',\n",
       "  'domain': 'en.wikipedia.org',\n",
       "  'stream': 'mediawiki.recentchange',\n",
       "  'topic': 'codfw.mediawiki.recentchange',\n",
       "  'partition': 0,\n",
       "  'offset': 785902126},\n",
       " 'id': 1696879635,\n",
       " 'type': 'edit',\n",
       " 'namespace': 0,\n",
       " 'title': 'George Santos',\n",
       " 'title_url': 'https://en.wikipedia.org/wiki/George_Santos',\n",
       " 'comment': 'added link',\n",
       " 'timestamp': 1700596285,\n",
       " 'user': 'TheHetStopper',\n",
       " 'bot': False,\n",
       " 'notify_url': 'https://en.wikipedia.org/w/index.php?diff=1186232574&oldid=1186214513',\n",
       " 'minor': False,\n",
       " 'length': {'old': 284532, 'new': 284675},\n",
       " 'revision': {'old': 1186214513, 'new': 1186232574},\n",
       " 'server_url': 'https://en.wikipedia.org',\n",
       " 'server_name': 'en.wikipedia.org',\n",
       " 'server_script_path': '/w',\n",
       " 'wiki': 'enwiki',\n",
       " 'parsedcomment': 'added link'}"
      ]
     },
     "execution_count": 92,
     "metadata": {},
     "output_type": "execute_result"
    }
   ],
   "source": [
    "raw_items[0]"
   ]
  },
  {
   "cell_type": "markdown",
   "id": "f4b677d3-7518-413b-9172-f79651f7c9cc",
   "metadata": {},
   "source": [
    "# Analyze bot behaviour"
   ]
  },
  {
   "cell_type": "code",
   "execution_count": 304,
   "id": "7db65452-f5a5-416f-9b6f-ea9b4031dfe9",
   "metadata": {},
   "outputs": [
    {
     "data": {
      "text/plain": [
       "1458"
      ]
     },
     "execution_count": 304,
     "metadata": {},
     "output_type": "execute_result"
    }
   ],
   "source": [
    "import pandas as pd\n",
    "import matplotlib.pyplot as plt\n",
    "\n",
    "df = pd.DataFrame(raw_items)\n",
    "df['length_old'] = df.apply(lambda x: x['length']['old'], axis=1)\n",
    "df['length_new'] = df.apply(lambda x: x['length']['new'], axis=1)\n",
    "df['length_diff'] = df['length_new'] - df['length_old']\n",
    "df['revision_diff'] = df.apply(lambda x: x['revision']['new'], axis=1) - df.apply(lambda x: x['revision']['old'], axis=1)\n",
    "\n",
    "## split revision and length to buckets\n",
    "df['length_bucket'] = df.length_diff.map(lambda x: get_bin(x, bin_width=50 ,start=df.length_diff.min()))\n",
    "df['revision_bucket'] = df.revision_diff.map(lambda x: get_bin(x, bin_width=10 ,start=df.revision_diff.min()))\n",
    "\n",
    "len(df)"
   ]
  },
  {
   "cell_type": "markdown",
   "id": "886d620f-da61-479e-804a-937ac3347d1d",
   "metadata": {},
   "source": [
    "## Bot vs Real user edit length"
   ]
  },
  {
   "cell_type": "code",
   "execution_count": 305,
   "id": "ffa2ce6d-7eb4-4002-b0dd-acf443962236",
   "metadata": {},
   "outputs": [
    {
     "data": {
      "text/html": [
       "<div>\n",
       "<style scoped>\n",
       "    .dataframe tbody tr th:only-of-type {\n",
       "        vertical-align: middle;\n",
       "    }\n",
       "\n",
       "    .dataframe tbody tr th {\n",
       "        vertical-align: top;\n",
       "    }\n",
       "\n",
       "    .dataframe thead th {\n",
       "        text-align: right;\n",
       "    }\n",
       "</style>\n",
       "<table border=\"1\" class=\"dataframe\">\n",
       "  <thead>\n",
       "    <tr style=\"text-align: right;\">\n",
       "      <th></th>\n",
       "      <th>$schema</th>\n",
       "      <th>meta</th>\n",
       "      <th>id</th>\n",
       "      <th>type</th>\n",
       "      <th>namespace</th>\n",
       "      <th>title</th>\n",
       "      <th>title_url</th>\n",
       "      <th>comment</th>\n",
       "      <th>timestamp</th>\n",
       "      <th>user</th>\n",
       "      <th>...</th>\n",
       "      <th>server_name</th>\n",
       "      <th>server_script_path</th>\n",
       "      <th>wiki</th>\n",
       "      <th>parsedcomment</th>\n",
       "      <th>length_old</th>\n",
       "      <th>length_new</th>\n",
       "      <th>length_diff</th>\n",
       "      <th>revision_diff</th>\n",
       "      <th>length_bucket</th>\n",
       "      <th>revision_bucket</th>\n",
       "    </tr>\n",
       "  </thead>\n",
       "  <tbody>\n",
       "    <tr>\n",
       "      <th>506</th>\n",
       "      <td>/mediawiki/recentchange/1.0.0</td>\n",
       "      <td>{'uri': 'https://en.wikipedia.org/wiki/Wikiped...</td>\n",
       "      <td>1696880645</td>\n",
       "      <td>edit</td>\n",
       "      <td>4</td>\n",
       "      <td>Wikipedia:Wikipedia Signpost/Next next issue/H...</td>\n",
       "      <td>https://en.wikipedia.org/wiki/Wikipedia:Wikipe...</td>\n",
       "      <td></td>\n",
       "      <td>1700596557</td>\n",
       "      <td>JPxG</td>\n",
       "      <td>...</td>\n",
       "      <td>en.wikipedia.org</td>\n",
       "      <td>/w</td>\n",
       "      <td>enwiki</td>\n",
       "      <td></td>\n",
       "      <td>4644</td>\n",
       "      <td>6131</td>\n",
       "      <td>1487</td>\n",
       "      <td>1294</td>\n",
       "      <td>576</td>\n",
       "      <td>128</td>\n",
       "    </tr>\n",
       "  </tbody>\n",
       "</table>\n",
       "<p>1 rows × 26 columns</p>\n",
       "</div>"
      ],
      "text/plain": [
       "                           $schema  \\\n",
       "506  /mediawiki/recentchange/1.0.0   \n",
       "\n",
       "                                                  meta          id  type  \\\n",
       "506  {'uri': 'https://en.wikipedia.org/wiki/Wikiped...  1696880645  edit   \n",
       "\n",
       "     namespace                                              title  \\\n",
       "506          4  Wikipedia:Wikipedia Signpost/Next next issue/H...   \n",
       "\n",
       "                                             title_url comment   timestamp  \\\n",
       "506  https://en.wikipedia.org/wiki/Wikipedia:Wikipe...          1700596557   \n",
       "\n",
       "     user  ...       server_name server_script_path    wiki parsedcomment  \\\n",
       "506  JPxG  ...  en.wikipedia.org                 /w  enwiki                 \n",
       "\n",
       "    length_old length_new length_diff revision_diff length_bucket  \\\n",
       "506       4644       6131        1487          1294           576   \n",
       "\n",
       "    revision_bucket  \n",
       "506             128  \n",
       "\n",
       "[1 rows x 26 columns]"
      ]
     },
     "execution_count": 305,
     "metadata": {},
     "output_type": "execute_result"
    }
   ],
   "source": [
    "df.sample()"
   ]
  },
  {
   "cell_type": "code",
   "execution_count": 306,
   "id": "b07fab37-bce4-4fc0-bd7c-87a8159cd48c",
   "metadata": {},
   "outputs": [
    {
     "data": {
      "text/plain": [
       "(0.0, 50.0)"
      ]
     },
     "execution_count": 306,
     "metadata": {},
     "output_type": "execute_result"
    },
    {
     "data": {
      "image/png": "[encoded data removed]",
      "text/plain": [
       "<Figure size 640x480 with 1 Axes>"
      ]
     },
     "metadata": {},
     "output_type": "display_data"
    }
   ],
   "source": [
    "ax1 = plt.subplot(111)\n",
    "df[~df['bot']]['length_diff'].hist(ax=ax1, color='blue', label='Users', alpha=0.5, bins=100)\n",
    "df[df['bot']]['length_diff'].hist(ax=ax1, color='red', label='Bot', alpha=0.5)\n",
    "ax1.legend(loc='best')\n",
    "\n",
    "ax1.set_ylim((0, 50))"
   ]
  },
  {
   "cell_type": "code",
   "execution_count": 307,
   "id": "6cf11217-7b9c-4064-b4d8-de05a9088a51",
   "metadata": {},
   "outputs": [
    {
     "data": {
      "text/plain": [
       "(0.0, 50.0)"
      ]
     },
     "execution_count": 307,
     "metadata": {},
     "output_type": "execute_result"
    },
    {
     "data": {
      "image/png": "[encoded data removed]",
      "text/plain": [
       "<Figure size 640x480 with 1 Axes>"
      ]
     },
     "metadata": {},
     "output_type": "display_data"
    }
   ],
   "source": [
    "ax1 = plt.subplot(111)\n",
    "df[~df['bot']]['revision_diff'].hist(ax=ax1, color='blue', label='Users', alpha=0.5, bins=100)\n",
    "df[df['bot']]['revision_diff'].hist(ax=ax1, color='red', label='Bot', alpha=0.5)\n",
    "ax1.legend(loc='best')\n",
    "\n",
    "ax1.set_ylim((0, 50))"
   ]
  },
  {
   "cell_type": "code",
   "execution_count": 308,
   "id": "f8f3d139-d5bc-457c-a390-97205e256ce8",
   "metadata": {},
   "outputs": [
    {
     "data": {
      "text/plain": [
       "(-5000.0, 5000.0)"
      ]
     },
     "execution_count": 308,
     "metadata": {},
     "output_type": "execute_result"
    },
    {
     "data": {
      "image/png": "[encoded data removed]",
      "text/plain": [
       "<Figure size 640x480 with 1 Axes>"
      ]
     },
     "metadata": {},
     "output_type": "display_data"
    }
   ],
   "source": [
    "ax1 = plt.subplot(111)\n",
    "df[~df['bot']].plot.scatter(x='revision_diff', y='length_diff', ax=ax1, color='blue', label='Users', alpha=0.5)\n",
    "df[df['bot']].plot.scatter(x='revision_diff', y='length_diff', ax=ax1, color='red', label='Bot', alpha=0.5)\n",
    "ax1.legend(loc='best')\n",
    "\n",
    "ax1.set_ylim((-5000, 5000))\n",
    "# ax1.set_xlim((0, 5))"
   ]
  },
  {
   "cell_type": "markdown",
   "id": "1bd5701d-135d-4cd6-a9e1-096a848c636c",
   "metadata": {},
   "source": [
    "Observations:\n",
    "- real users makes bigger changes (>3k symbols per edit)\n",
    "- changes between +/- 3k edited changes make both users and bots, so events are not distinguishable\n",
    "- bots has bot in the name (too obvious)\n",
    "- bots generates comments in structured form\n",
    "- revision diff has significant bump from 2e-8 to 4e-8 and could be feature"
   ]
  },
  {
   "cell_type": "markdown",
   "id": "3afeac04-1efb-4086-bb2b-76ef76f68ca6",
   "metadata": {},
   "source": [
    "## Bot behaviour"
   ]
  },
  {
   "cell_type": "code",
   "execution_count": 309,
   "id": "81613201-8171-4298-8f2d-e4490fba468b",
   "metadata": {},
   "outputs": [
    {
     "name": "stderr",
     "output_type": "stream",
     "text": [
      "No artists with labels found to put in legend.  Note that artists whose label start with an underscore are ignored when legend() is called with no argument.\n"
     ]
    },
    {
     "data": {
      "text/plain": [
       "(0.0, 12.0)"
      ]
     },
     "execution_count": 309,
     "metadata": {},
     "output_type": "execute_result"
    },
    {
     "data": {
      "image/png": "[encoded data removed]",
      "text/plain": [
       "<Figure size 640x480 with 1 Axes>"
      ]
     },
     "metadata": {},
     "output_type": "display_data"
    }
   ],
   "source": [
    "ax1 = plt.subplot(111)\n",
    "df[df['bot']].groupby('user')['length_diff'].hist(ax=ax1, alpha=0.5)\n",
    "ax1.legend(loc='best')\n",
    "\n",
    "ax1.set_ylim((0, 12))"
   ]
  },
  {
   "cell_type": "code",
   "execution_count": 402,
   "id": "dfae3679-c050-4993-a690-b5959d8a252c",
   "metadata": {},
   "outputs": [
    {
     "data": {
      "text/html": [
       "<div>\n",
       "<style scoped>\n",
       "    .dataframe tbody tr th:only-of-type {\n",
       "        vertical-align: middle;\n",
       "    }\n",
       "\n",
       "    .dataframe tbody tr th {\n",
       "        vertical-align: top;\n",
       "    }\n",
       "\n",
       "    .dataframe thead tr th {\n",
       "        text-align: left;\n",
       "    }\n",
       "</style>\n",
       "<table border=\"1\" class=\"dataframe\">\n",
       "  <thead>\n",
       "    <tr>\n",
       "      <th></th>\n",
       "      <th>index</th>\n",
       "      <th>user</th>\n",
       "      <th colspan=\"3\" halign=\"left\">length_diff</th>\n",
       "      <th>mahalanobis</th>\n",
       "    </tr>\n",
       "    <tr>\n",
       "      <th></th>\n",
       "      <th></th>\n",
       "      <th></th>\n",
       "      <th>count</th>\n",
       "      <th>mean</th>\n",
       "      <th>std</th>\n",
       "      <th></th>\n",
       "    </tr>\n",
       "  </thead>\n",
       "  <tbody>\n",
       "    <tr>\n",
       "      <th>1</th>\n",
       "      <td>1</td>\n",
       "      <td>Aidan9382-Bot</td>\n",
       "      <td>2</td>\n",
       "      <td>37.500000</td>\n",
       "      <td>48.790368</td>\n",
       "      <td>0.768594</td>\n",
       "    </tr>\n",
       "    <tr>\n",
       "      <th>2</th>\n",
       "      <td>2</td>\n",
       "      <td>AnomieBOT</td>\n",
       "      <td>53</td>\n",
       "      <td>188.641509</td>\n",
       "      <td>2324.502917</td>\n",
       "      <td>0.081153</td>\n",
       "    </tr>\n",
       "    <tr>\n",
       "      <th>3</th>\n",
       "      <td>3</td>\n",
       "      <td>AnomieBOT III</td>\n",
       "      <td>2</td>\n",
       "      <td>-366.000000</td>\n",
       "      <td>63.639610</td>\n",
       "      <td>-5.751135</td>\n",
       "    </tr>\n",
       "    <tr>\n",
       "      <th>4</th>\n",
       "      <td>4</td>\n",
       "      <td>B-bot</td>\n",
       "      <td>2</td>\n",
       "      <td>-51.000000</td>\n",
       "      <td>0.000000</td>\n",
       "      <td>-inf</td>\n",
       "    </tr>\n",
       "    <tr>\n",
       "      <th>5</th>\n",
       "      <td>5</td>\n",
       "      <td>Bot1058</td>\n",
       "      <td>3</td>\n",
       "      <td>-1.000000</td>\n",
       "      <td>15.524175</td>\n",
       "      <td>-0.064416</td>\n",
       "    </tr>\n",
       "    <tr>\n",
       "      <th>6</th>\n",
       "      <td>6</td>\n",
       "      <td>Cewbot</td>\n",
       "      <td>15</td>\n",
       "      <td>68.333333</td>\n",
       "      <td>196.336688</td>\n",
       "      <td>0.348042</td>\n",
       "    </tr>\n",
       "    <tr>\n",
       "      <th>7</th>\n",
       "      <td>7</td>\n",
       "      <td>ChristieBot</td>\n",
       "      <td>22</td>\n",
       "      <td>242.136364</td>\n",
       "      <td>519.573937</td>\n",
       "      <td>0.466029</td>\n",
       "    </tr>\n",
       "    <tr>\n",
       "      <th>8</th>\n",
       "      <td>8</td>\n",
       "      <td>Citation bot</td>\n",
       "      <td>88</td>\n",
       "      <td>28.227273</td>\n",
       "      <td>66.694487</td>\n",
       "      <td>0.423232</td>\n",
       "    </tr>\n",
       "    <tr>\n",
       "      <th>9</th>\n",
       "      <td>9</td>\n",
       "      <td>ClueBot III</td>\n",
       "      <td>17</td>\n",
       "      <td>-1096.235294</td>\n",
       "      <td>52616.314344</td>\n",
       "      <td>-0.020835</td>\n",
       "    </tr>\n",
       "    <tr>\n",
       "      <th>10</th>\n",
       "      <td>10</td>\n",
       "      <td>CommonsDelinker</td>\n",
       "      <td>6</td>\n",
       "      <td>-212.333333</td>\n",
       "      <td>132.249260</td>\n",
       "      <td>-1.605554</td>\n",
       "    </tr>\n",
       "    <tr>\n",
       "      <th>11</th>\n",
       "      <td>11</td>\n",
       "      <td>Community Tech bot</td>\n",
       "      <td>2</td>\n",
       "      <td>0.000000</td>\n",
       "      <td>15.556349</td>\n",
       "      <td>0.000000</td>\n",
       "    </tr>\n",
       "    <tr>\n",
       "      <th>12</th>\n",
       "      <td>12</td>\n",
       "      <td>Cyberbot I</td>\n",
       "      <td>13</td>\n",
       "      <td>37.153846</td>\n",
       "      <td>1689.794063</td>\n",
       "      <td>0.021987</td>\n",
       "    </tr>\n",
       "    <tr>\n",
       "      <th>16</th>\n",
       "      <td>16</td>\n",
       "      <td>DYKUpdateBot</td>\n",
       "      <td>12</td>\n",
       "      <td>833.916667</td>\n",
       "      <td>653.988943</td>\n",
       "      <td>1.275123</td>\n",
       "    </tr>\n",
       "    <tr>\n",
       "      <th>17</th>\n",
       "      <td>17</td>\n",
       "      <td>DatBot</td>\n",
       "      <td>77</td>\n",
       "      <td>60.441558</td>\n",
       "      <td>84.251736</td>\n",
       "      <td>0.717392</td>\n",
       "    </tr>\n",
       "    <tr>\n",
       "      <th>18</th>\n",
       "      <td>18</td>\n",
       "      <td>DeltaQuadBot</td>\n",
       "      <td>5</td>\n",
       "      <td>194.200000</td>\n",
       "      <td>284.679996</td>\n",
       "      <td>0.682169</td>\n",
       "    </tr>\n",
       "    <tr>\n",
       "      <th>19</th>\n",
       "      <td>19</td>\n",
       "      <td>DumbBOT</td>\n",
       "      <td>5</td>\n",
       "      <td>438.000000</td>\n",
       "      <td>973.897325</td>\n",
       "      <td>0.449739</td>\n",
       "    </tr>\n",
       "    <tr>\n",
       "      <th>20</th>\n",
       "      <td>20</td>\n",
       "      <td>EarwigBot</td>\n",
       "      <td>3</td>\n",
       "      <td>-249.333333</td>\n",
       "      <td>238.726482</td>\n",
       "      <td>-1.044431</td>\n",
       "    </tr>\n",
       "    <tr>\n",
       "      <th>21</th>\n",
       "      <td>21</td>\n",
       "      <td>EnterpriseyBot</td>\n",
       "      <td>2</td>\n",
       "      <td>28.500000</td>\n",
       "      <td>0.707107</td>\n",
       "      <td>40.305087</td>\n",
       "    </tr>\n",
       "    <tr>\n",
       "      <th>22</th>\n",
       "      <td>22</td>\n",
       "      <td>FACBot</td>\n",
       "      <td>5</td>\n",
       "      <td>258.800000</td>\n",
       "      <td>377.263436</td>\n",
       "      <td>0.685993</td>\n",
       "    </tr>\n",
       "    <tr>\n",
       "      <th>23</th>\n",
       "      <td>23</td>\n",
       "      <td>FireflyBot</td>\n",
       "      <td>11</td>\n",
       "      <td>793.727273</td>\n",
       "      <td>53.060514</td>\n",
       "      <td>14.958906</td>\n",
       "    </tr>\n",
       "    <tr>\n",
       "      <th>24</th>\n",
       "      <td>24</td>\n",
       "      <td>GalliumBot</td>\n",
       "      <td>8</td>\n",
       "      <td>25.375000</td>\n",
       "      <td>48.240284</td>\n",
       "      <td>0.526013</td>\n",
       "    </tr>\n",
       "    <tr>\n",
       "      <th>25</th>\n",
       "      <td>25</td>\n",
       "      <td>HBC AIV helperbot5</td>\n",
       "      <td>17</td>\n",
       "      <td>-255.352941</td>\n",
       "      <td>187.384278</td>\n",
       "      <td>-1.362723</td>\n",
       "    </tr>\n",
       "    <tr>\n",
       "      <th>27</th>\n",
       "      <td>27</td>\n",
       "      <td>InceptionBot</td>\n",
       "      <td>211</td>\n",
       "      <td>-260.146919</td>\n",
       "      <td>2500.740015</td>\n",
       "      <td>-0.104028</td>\n",
       "    </tr>\n",
       "    <tr>\n",
       "      <th>28</th>\n",
       "      <td>28</td>\n",
       "      <td>InternetArchiveBot</td>\n",
       "      <td>75</td>\n",
       "      <td>228.986667</td>\n",
       "      <td>137.596501</td>\n",
       "      <td>1.664190</td>\n",
       "    </tr>\n",
       "    <tr>\n",
       "      <th>29</th>\n",
       "      <td>29</td>\n",
       "      <td>JJMC89 bot</td>\n",
       "      <td>6</td>\n",
       "      <td>-46.500000</td>\n",
       "      <td>9.813256</td>\n",
       "      <td>-4.738488</td>\n",
       "    </tr>\n",
       "    <tr>\n",
       "      <th>30</th>\n",
       "      <td>30</td>\n",
       "      <td>JJMC89 bot III</td>\n",
       "      <td>167</td>\n",
       "      <td>-16.245509</td>\n",
       "      <td>68.028296</td>\n",
       "      <td>-0.238805</td>\n",
       "    </tr>\n",
       "    <tr>\n",
       "      <th>32</th>\n",
       "      <td>32</td>\n",
       "      <td>Legobot</td>\n",
       "      <td>9</td>\n",
       "      <td>69.222222</td>\n",
       "      <td>1686.374719</td>\n",
       "      <td>0.041048</td>\n",
       "    </tr>\n",
       "    <tr>\n",
       "      <th>33</th>\n",
       "      <td>33</td>\n",
       "      <td>LivingBot</td>\n",
       "      <td>3</td>\n",
       "      <td>0.000000</td>\n",
       "      <td>35.028560</td>\n",
       "      <td>0.000000</td>\n",
       "    </tr>\n",
       "    <tr>\n",
       "      <th>34</th>\n",
       "      <td>34</td>\n",
       "      <td>Lowercase sigmabot III</td>\n",
       "      <td>20</td>\n",
       "      <td>-468.400000</td>\n",
       "      <td>3672.072517</td>\n",
       "      <td>-0.127557</td>\n",
       "    </tr>\n",
       "    <tr>\n",
       "      <th>35</th>\n",
       "      <td>35</td>\n",
       "      <td>MajavahBot</td>\n",
       "      <td>2</td>\n",
       "      <td>-2294.500000</td>\n",
       "      <td>3543.312081</td>\n",
       "      <td>-0.647558</td>\n",
       "    </tr>\n",
       "    <tr>\n",
       "      <th>36</th>\n",
       "      <td>36</td>\n",
       "      <td>Mathbot</td>\n",
       "      <td>2</td>\n",
       "      <td>40.500000</td>\n",
       "      <td>57.275649</td>\n",
       "      <td>0.707107</td>\n",
       "    </tr>\n",
       "    <tr>\n",
       "      <th>37</th>\n",
       "      <td>37</td>\n",
       "      <td>Merge bot</td>\n",
       "      <td>3</td>\n",
       "      <td>-65.666667</td>\n",
       "      <td>371.774573</td>\n",
       "      <td>-0.176630</td>\n",
       "    </tr>\n",
       "    <tr>\n",
       "      <th>38</th>\n",
       "      <td>38</td>\n",
       "      <td>MusikBot II</td>\n",
       "      <td>5</td>\n",
       "      <td>-19.800000</td>\n",
       "      <td>4.381780</td>\n",
       "      <td>-4.518711</td>\n",
       "    </tr>\n",
       "    <tr>\n",
       "      <th>39</th>\n",
       "      <td>39</td>\n",
       "      <td>Mz7 (bot)</td>\n",
       "      <td>4</td>\n",
       "      <td>71.750000</td>\n",
       "      <td>52.759675</td>\n",
       "      <td>1.359940</td>\n",
       "    </tr>\n",
       "    <tr>\n",
       "      <th>41</th>\n",
       "      <td>41</td>\n",
       "      <td>Qwerfjkl (bot)</td>\n",
       "      <td>2</td>\n",
       "      <td>26.000000</td>\n",
       "      <td>0.000000</td>\n",
       "      <td>inf</td>\n",
       "    </tr>\n",
       "    <tr>\n",
       "      <th>42</th>\n",
       "      <td>42</td>\n",
       "      <td>RMCD bot</td>\n",
       "      <td>4</td>\n",
       "      <td>-1157.000000</td>\n",
       "      <td>1384.317160</td>\n",
       "      <td>-0.835791</td>\n",
       "    </tr>\n",
       "    <tr>\n",
       "      <th>43</th>\n",
       "      <td>43</td>\n",
       "      <td>Reports bot</td>\n",
       "      <td>11</td>\n",
       "      <td>-14.727273</td>\n",
       "      <td>17.164445</td>\n",
       "      <td>-0.858010</td>\n",
       "    </tr>\n",
       "    <tr>\n",
       "      <th>44</th>\n",
       "      <td>44</td>\n",
       "      <td>RichBot</td>\n",
       "      <td>2</td>\n",
       "      <td>496.500000</td>\n",
       "      <td>403.757972</td>\n",
       "      <td>1.229697</td>\n",
       "    </tr>\n",
       "    <tr>\n",
       "      <th>45</th>\n",
       "      <td>45</td>\n",
       "      <td>RscprinterBot</td>\n",
       "      <td>5</td>\n",
       "      <td>37.400000</td>\n",
       "      <td>20.366639</td>\n",
       "      <td>1.836336</td>\n",
       "    </tr>\n",
       "    <tr>\n",
       "      <th>46</th>\n",
       "      <td>46</td>\n",
       "      <td>SDZeroBot</td>\n",
       "      <td>10</td>\n",
       "      <td>-817.100000</td>\n",
       "      <td>13129.287350</td>\n",
       "      <td>-0.062235</td>\n",
       "    </tr>\n",
       "    <tr>\n",
       "      <th>47</th>\n",
       "      <td>47</td>\n",
       "      <td>SineBot</td>\n",
       "      <td>2</td>\n",
       "      <td>326.500000</td>\n",
       "      <td>53.033009</td>\n",
       "      <td>6.156543</td>\n",
       "    </tr>\n",
       "    <tr>\n",
       "      <th>48</th>\n",
       "      <td>48</td>\n",
       "      <td>WP 1.0 bot</td>\n",
       "      <td>293</td>\n",
       "      <td>3367.948805</td>\n",
       "      <td>39424.969654</td>\n",
       "      <td>0.085427</td>\n",
       "    </tr>\n",
       "    <tr>\n",
       "      <th>49</th>\n",
       "      <td>49</td>\n",
       "      <td>WugBot</td>\n",
       "      <td>2</td>\n",
       "      <td>-42.500000</td>\n",
       "      <td>92.630988</td>\n",
       "      <td>-0.458810</td>\n",
       "    </tr>\n",
       "    <tr>\n",
       "      <th>50</th>\n",
       "      <td>50</td>\n",
       "      <td>Yapperbot</td>\n",
       "      <td>8</td>\n",
       "      <td>464.875000</td>\n",
       "      <td>786.570211</td>\n",
       "      <td>0.591015</td>\n",
       "    </tr>\n",
       "  </tbody>\n",
       "</table>\n",
       "</div>"
      ],
      "text/plain": [
       "   index                    user length_diff                             \\\n",
       "                                       count         mean           std   \n",
       "1      1           Aidan9382-Bot           2    37.500000     48.790368   \n",
       "2      2               AnomieBOT          53   188.641509   2324.502917   \n",
       "3      3           AnomieBOT III           2  -366.000000     63.639610   \n",
       "4      4                   B-bot           2   -51.000000      0.000000   \n",
       "5      5                 Bot1058           3    -1.000000     15.524175   \n",
       "6      6                  Cewbot          15    68.333333    196.336688   \n",
       "7      7             ChristieBot          22   242.136364    519.573937   \n",
       "8      8            Citation bot          88    28.227273     66.694487   \n",
       "9      9             ClueBot III          17 -1096.235294  52616.314344   \n",
       "10    10         CommonsDelinker           6  -212.333333    132.249260   \n",
       "11    11      Community Tech bot           2     0.000000     15.556349   \n",
       "12    12              Cyberbot I          13    37.153846   1689.794063   \n",
       "16    16            DYKUpdateBot          12   833.916667    653.988943   \n",
       "17    17                  DatBot          77    60.441558     84.251736   \n",
       "18    18            DeltaQuadBot           5   194.200000    284.679996   \n",
       "19    19                 DumbBOT           5   438.000000    973.897325   \n",
       "20    20               EarwigBot           3  -249.333333    238.726482   \n",
       "21    21          EnterpriseyBot           2    28.500000      0.707107   \n",
       "22    22                  FACBot           5   258.800000    377.263436   \n",
       "23    23              FireflyBot          11   793.727273     53.060514   \n",
       "24    24              GalliumBot           8    25.375000     48.240284   \n",
       "25    25      HBC AIV helperbot5          17  -255.352941    187.384278   \n",
       "27    27            InceptionBot         211  -260.146919   2500.740015   \n",
       "28    28      InternetArchiveBot          75   228.986667    137.596501   \n",
       "29    29              JJMC89 bot           6   -46.500000      9.813256   \n",
       "30    30          JJMC89 bot III         167   -16.245509     68.028296   \n",
       "32    32                 Legobot           9    69.222222   1686.374719   \n",
       "33    33               LivingBot           3     0.000000     35.028560   \n",
       "34    34  Lowercase sigmabot III          20  -468.400000   3672.072517   \n",
       "35    35              MajavahBot           2 -2294.500000   3543.312081   \n",
       "36    36                 Mathbot           2    40.500000     57.275649   \n",
       "37    37               Merge bot           3   -65.666667    371.774573   \n",
       "38    38             MusikBot II           5   -19.800000      4.381780   \n",
       "39    39               Mz7 (bot)           4    71.750000     52.759675   \n",
       "41    41          Qwerfjkl (bot)           2    26.000000      0.000000   \n",
       "42    42                RMCD bot           4 -1157.000000   1384.317160   \n",
       "43    43             Reports bot          11   -14.727273     17.164445   \n",
       "44    44                 RichBot           2   496.500000    403.757972   \n",
       "45    45           RscprinterBot           5    37.400000     20.366639   \n",
       "46    46               SDZeroBot          10  -817.100000  13129.287350   \n",
       "47    47                 SineBot           2   326.500000     53.033009   \n",
       "48    48              WP 1.0 bot         293  3367.948805  39424.969654   \n",
       "49    49                  WugBot           2   -42.500000     92.630988   \n",
       "50    50               Yapperbot           8   464.875000    786.570211   \n",
       "\n",
       "   mahalanobis  \n",
       "                \n",
       "1     0.768594  \n",
       "2     0.081153  \n",
       "3    -5.751135  \n",
       "4         -inf  \n",
       "5    -0.064416  \n",
       "6     0.348042  \n",
       "7     0.466029  \n",
       "8     0.423232  \n",
       "9    -0.020835  \n",
       "10   -1.605554  \n",
       "11    0.000000  \n",
       "12    0.021987  \n",
       "16    1.275123  \n",
       "17    0.717392  \n",
       "18    0.682169  \n",
       "19    0.449739  \n",
       "20   -1.044431  \n",
       "21   40.305087  \n",
       "22    0.685993  \n",
       "23   14.958906  \n",
       "24    0.526013  \n",
       "25   -1.362723  \n",
       "27   -0.104028  \n",
       "28    1.664190  \n",
       "29   -4.738488  \n",
       "30   -0.238805  \n",
       "32    0.041048  \n",
       "33    0.000000  \n",
       "34   -0.127557  \n",
       "35   -0.647558  \n",
       "36    0.707107  \n",
       "37   -0.176630  \n",
       "38   -4.518711  \n",
       "39    1.359940  \n",
       "41         inf  \n",
       "42   -0.835791  \n",
       "43   -0.858010  \n",
       "44    1.229697  \n",
       "45    1.836336  \n",
       "46   -0.062235  \n",
       "47    6.156543  \n",
       "48    0.085427  \n",
       "49   -0.458810  \n",
       "50    0.591015  "
      ]
     },
     "execution_count": 402,
     "metadata": {},
     "output_type": "execute_result"
    }
   ],
   "source": [
    "# df[df['bot']].groupby('user')['length_diff'].hist(ax=ax1, alpha=0.5)\n",
    "\n",
    "_df = df[df['bot']].groupby(['user'], as_index=False).agg(\n",
    "                      {'length_diff':['count', 'mean','std']}).reset_index()\n",
    "_df.dropna(inplace=True)\n",
    "\n",
    "_df['mahalanobis'] = _df['length_diff']['mean'] / _df['length_diff']['std']\n",
    "_df"
   ]
  },
  {
   "cell_type": "code",
   "execution_count": 403,
   "id": "ba5ee012-8a52-4901-819a-9aebcf3425b2",
   "metadata": {},
   "outputs": [
    {
     "data": {
      "text/html": [
       "<div>\n",
       "<style scoped>\n",
       "    .dataframe tbody tr th:only-of-type {\n",
       "        vertical-align: middle;\n",
       "    }\n",
       "\n",
       "    .dataframe tbody tr th {\n",
       "        vertical-align: top;\n",
       "    }\n",
       "\n",
       "    .dataframe thead tr th {\n",
       "        text-align: left;\n",
       "    }\n",
       "</style>\n",
       "<table border=\"1\" class=\"dataframe\">\n",
       "  <thead>\n",
       "    <tr>\n",
       "      <th></th>\n",
       "      <th>index</th>\n",
       "      <th>user</th>\n",
       "      <th colspan=\"3\" halign=\"left\">length_diff</th>\n",
       "      <th>mahalanobis</th>\n",
       "    </tr>\n",
       "    <tr>\n",
       "      <th></th>\n",
       "      <th></th>\n",
       "      <th></th>\n",
       "      <th>count</th>\n",
       "      <th>mean</th>\n",
       "      <th>std</th>\n",
       "      <th></th>\n",
       "    </tr>\n",
       "  </thead>\n",
       "  <tbody>\n",
       "    <tr>\n",
       "      <th>0</th>\n",
       "      <td>0</td>\n",
       "      <td>!C to the M!</td>\n",
       "      <td>2</td>\n",
       "      <td>61.000000</td>\n",
       "      <td>67.882251</td>\n",
       "      <td>0.898615</td>\n",
       "    </tr>\n",
       "    <tr>\n",
       "      <th>20</th>\n",
       "      <td>20</td>\n",
       "      <td>103.194.93.52</td>\n",
       "      <td>2</td>\n",
       "      <td>170.000000</td>\n",
       "      <td>8.485281</td>\n",
       "      <td>20.034692</td>\n",
       "    </tr>\n",
       "    <tr>\n",
       "      <th>24</th>\n",
       "      <td>24</td>\n",
       "      <td>104.151.5.98</td>\n",
       "      <td>4</td>\n",
       "      <td>4391.000000</td>\n",
       "      <td>4873.236980</td>\n",
       "      <td>0.901044</td>\n",
       "    </tr>\n",
       "    <tr>\n",
       "      <th>29</th>\n",
       "      <td>29</td>\n",
       "      <td>105.66.135.26</td>\n",
       "      <td>2</td>\n",
       "      <td>-630.500000</td>\n",
       "      <td>395.272691</td>\n",
       "      <td>-1.595101</td>\n",
       "    </tr>\n",
       "    <tr>\n",
       "      <th>37</th>\n",
       "      <td>37</td>\n",
       "      <td>108.170.65.170</td>\n",
       "      <td>2</td>\n",
       "      <td>136.500000</td>\n",
       "      <td>193.040151</td>\n",
       "      <td>0.707107</td>\n",
       "    </tr>\n",
       "    <tr>\n",
       "      <th>...</th>\n",
       "      <td>...</td>\n",
       "      <td>...</td>\n",
       "      <td>...</td>\n",
       "      <td>...</td>\n",
       "      <td>...</td>\n",
       "      <td>...</td>\n",
       "    </tr>\n",
       "    <tr>\n",
       "      <th>3145</th>\n",
       "      <td>3145</td>\n",
       "      <td>Zuuzzn</td>\n",
       "      <td>5</td>\n",
       "      <td>78.000000</td>\n",
       "      <td>528.783037</td>\n",
       "      <td>0.147509</td>\n",
       "    </tr>\n",
       "    <tr>\n",
       "      <th>3146</th>\n",
       "      <td>3146</td>\n",
       "      <td>Ânes-pur-sàng</td>\n",
       "      <td>7</td>\n",
       "      <td>124.285714</td>\n",
       "      <td>82.084741</td>\n",
       "      <td>1.514115</td>\n",
       "    </tr>\n",
       "    <tr>\n",
       "      <th>3147</th>\n",
       "      <td>3147</td>\n",
       "      <td>Šaholjubac</td>\n",
       "      <td>2</td>\n",
       "      <td>0.000000</td>\n",
       "      <td>0.000000</td>\n",
       "      <td>NaN</td>\n",
       "    </tr>\n",
       "    <tr>\n",
       "      <th>3150</th>\n",
       "      <td>3150</td>\n",
       "      <td>Векочел</td>\n",
       "      <td>108</td>\n",
       "      <td>-22.777778</td>\n",
       "      <td>31.971171</td>\n",
       "      <td>-0.712447</td>\n",
       "    </tr>\n",
       "    <tr>\n",
       "      <th>3151</th>\n",
       "      <td>3151</td>\n",
       "      <td>Викидим</td>\n",
       "      <td>4</td>\n",
       "      <td>321.500000</td>\n",
       "      <td>295.231548</td>\n",
       "      <td>1.088976</td>\n",
       "    </tr>\n",
       "  </tbody>\n",
       "</table>\n",
       "<p>1323 rows × 6 columns</p>\n",
       "</div>"
      ],
      "text/plain": [
       "     index            user length_diff                           mahalanobis\n",
       "                                 count         mean          std            \n",
       "0        0    !C to the M!           2    61.000000    67.882251    0.898615\n",
       "20      20   103.194.93.52           2   170.000000     8.485281   20.034692\n",
       "24      24    104.151.5.98           4  4391.000000  4873.236980    0.901044\n",
       "29      29   105.66.135.26           2  -630.500000   395.272691   -1.595101\n",
       "37      37  108.170.65.170           2   136.500000   193.040151    0.707107\n",
       "...    ...             ...         ...          ...          ...         ...\n",
       "3145  3145          Zuuzzn           5    78.000000   528.783037    0.147509\n",
       "3146  3146   Ânes-pur-sàng           7   124.285714    82.084741    1.514115\n",
       "3147  3147      Šaholjubac           2     0.000000     0.000000         NaN\n",
       "3150  3150         Векочел         108   -22.777778    31.971171   -0.712447\n",
       "3151  3151         Викидим           4   321.500000   295.231548    1.088976\n",
       "\n",
       "[1323 rows x 6 columns]"
      ]
     },
     "execution_count": 403,
     "metadata": {},
     "output_type": "execute_result"
    }
   ],
   "source": [
    "_df = df[~df['bot']].groupby(['user'], as_index=False).agg(\n",
    "                      {'length_diff':['count', 'mean','std']}).reset_index()\n",
    "_df.dropna(inplace=True)\n",
    "\n",
    "_df['mahalanobis'] = _df['length_diff']['mean'] / _df['length_diff']['std']\n",
    "_df"
   ]
  },
  {
   "cell_type": "code",
   "execution_count": null,
   "id": "648157fe-e92b-4e01-9afc-7d116019a772",
   "metadata": {},
   "outputs": [],
   "source": []
  },
  {
   "cell_type": "code",
   "execution_count": 311,
   "id": "b0ab36e7-7cf1-424c-8b9b-220979f56e05",
   "metadata": {},
   "outputs": [
    {
     "data": {
      "text/plain": [
       "array(['Mz7 (bot)', 'InceptionBot', 'AnomieBOT', 'Cewbot',\n",
       "       'InternetArchiveBot', 'Citation bot', 'HBC AIV helperbot5',\n",
       "       'Cyberbot I', 'EarwigBot', 'DatBot', 'Bot1058', 'MusikBot',\n",
       "       'FireflyBot', 'DeltaQuadBot', 'Legobot', 'RMCD bot', 'SineBot'],\n",
       "      dtype=object)"
      ]
     },
     "execution_count": 311,
     "metadata": {},
     "output_type": "execute_result"
    }
   ],
   "source": [
    "df[df['bot']]['user'].unique()"
   ]
  },
  {
   "cell_type": "code",
   "execution_count": 312,
   "id": "8b267fb6-fc1b-4894-ac0a-ce2824942a41",
   "metadata": {},
   "outputs": [
    {
     "data": {
      "text/plain": [
       "array(['most recent scoring', 'Updating requested pagemoves list',\n",
       "       'Rescuing 0 sources and tagging 1 as dead.) #IABot (v2.0.9.5',\n",
       "       'Updating redirect to [[:1969 Miles – Festiva De Juan Pins]] (and resolving the double redirect to [[:1969 Miles: Festiva de Juan Pins]]).  Errors? [[User:AnomieBOT/shutoff/EnDashRedirectCreator]]',\n",
       "       'most recent results, added 1, removed 4, total 5',\n",
       "       'Rescuing 2 sources and tagging 1 as dead.) #IABot (v2.0.9.5',\n",
       "       'Removed proxy/dead URL that duplicated identifier. | [[:en:WP:UCB|Use this bot]]. [[:en:WP:DBUG|Report bugs]]. | Suggested by Graeme Bartlett | #UCB_toolbar',\n",
       "       'Updating hourly data for NPP backlog size',\n",
       "       'most recent results, added 26, removed 27, total 248',\n",
       "       'most recent results, added 5, removed 4, total 37',\n",
       "       'Updating page triage stats: 10391 articles unreviewed ([[Wikipedia:Bots/Requests for approval/DatBot 11|BOT]] - [[User:DatBot/run/task11|disable]])',\n",
       "       'most recent results, added 20, removed 28, total 307',\n",
       "       'Bot archiving 3 old RFPP threads',\n",
       "       'Updating redirect to [[:Talk:2023–24 R. Charleroi S.C. season]] (and resolving the double redirect to [[:Talk:2023–24 Royal Charleroi S.C. season]]).  Errors? [[User:AnomieBOT/shutoff/EnDashRedirectCreator]]',\n",
       "       '[[User:Cewbot/log/20201008/configuration|Reminder of an inactive anchor]]: [[Drug interaction#Pharmacokinetic interactions]]'],\n",
       "      dtype=object)"
      ]
     },
     "execution_count": 312,
     "metadata": {},
     "output_type": "execute_result"
    }
   ],
   "source": [
    "df[df['bot']]['comment'].sample(20).unique()"
   ]
  },
  {
   "cell_type": "code",
   "execution_count": null,
   "id": "ef69397e-91f6-4113-8bc1-af578fb126f7",
   "metadata": {},
   "outputs": [],
   "source": []
  },
  {
   "cell_type": "code",
   "execution_count": null,
   "id": "63fc551a-1cbb-4a23-bbf4-a1fa1c3b3dc9",
   "metadata": {},
   "outputs": [],
   "source": []
  },
  {
   "cell_type": "markdown",
   "id": "45a318a0-b313-4597-8455-0006e845e207",
   "metadata": {},
   "source": [
    "Observations:\n",
    "\n",
    "- The bot title and comment seems to be significant features"
   ]
  },
  {
   "cell_type": "markdown",
   "id": "73f14923-ab2e-44f1-b85f-f6b98f88934d",
   "metadata": {},
   "source": [
    "# Collect data for model training"
   ]
  },
  {
   "cell_type": "code",
   "execution_count": 313,
   "id": "830e8c56-8846-4324-a070-92652bc9d50e",
   "metadata": {},
   "outputs": [],
   "source": [
    "# fetching_time_sec = 30000\n",
    "# url = 'https://stream.wikimedia.org/v2/stream/recentchange'\n",
    "# message_types = {\"edit\"}\n",
    "# wikis = {\"enwiki\"}#, \"wikidatawiki\"}\n",
    "# wikis_str = \"_\".join(wikis)\n",
    "\n",
    "# with open('sample1.jsonl', 'w') as fout:\n",
    "#     for item in fetch_users(EventSource(url), fetching_time_sec, message_types, wikis):\n",
    "#         fout.write(json.dumps(item) + \"\\n\")\n"
   ]
  },
  {
   "cell_type": "markdown",
   "id": "7db193d0-beb5-45e6-ae7a-5ea92491d462",
   "metadata": {},
   "source": [
    "# Read data"
   ]
  },
  {
   "cell_type": "code",
   "execution_count": 315,
   "id": "47792813-49ff-41dc-bee9-9303d1e1811c",
   "metadata": {},
   "outputs": [
    {
     "data": {
      "text/plain": [
       "11289"
      ]
     },
     "execution_count": 315,
     "metadata": {},
     "output_type": "execute_result"
    }
   ],
   "source": [
    "with open('sample.jsonl', 'r') as fin:\n",
    "    samples = list(map(json.loads, fin.readlines()))\n",
    "\n",
    "def get_bin(x, bin_width, start=0): \n",
    "    return (x - start) // bin_width\n",
    "\n",
    "df = pd.DataFrame(samples)\n",
    "\n",
    "df['length_old'] = df.apply(lambda x: x['length']['old'], axis=1)\n",
    "df['length_new'] = df.apply(lambda x: x['length']['new'], axis=1)\n",
    "df['length_diff'] = df['length_new'] - df['length_old']\n",
    "df['revision_diff'] = df.apply(lambda x: x['revision']['new'], axis=1) - df.apply(lambda x: x['revision']['old'], axis=1)\n",
    "\n",
    "## split revision and length to buckets\n",
    "df['length_bucket'] = df.length_diff.map(lambda x: get_bin(x, bin_width=50 ,start=df.length_diff.min()))\n",
    "df['revision_bucket'] = df.revision_diff.map(lambda x: get_bin(x, bin_width=10 ,start=df.revision_diff.min()))\n",
    "\n",
    "df.drop_duplicates(['user', 'title', 'comment'], inplace=True)\n",
    "\n",
    "len(df)"
   ]
  },
  {
   "cell_type": "code",
   "execution_count": 316,
   "id": "e08114e1-8aa4-4f2e-a978-6e43c9346298",
   "metadata": {},
   "outputs": [
    {
     "data": {
      "text/html": [
       "<div>\n",
       "<style scoped>\n",
       "    .dataframe tbody tr th:only-of-type {\n",
       "        vertical-align: middle;\n",
       "    }\n",
       "\n",
       "    .dataframe tbody tr th {\n",
       "        vertical-align: top;\n",
       "    }\n",
       "\n",
       "    .dataframe thead th {\n",
       "        text-align: right;\n",
       "    }\n",
       "</style>\n",
       "<table border=\"1\" class=\"dataframe\">\n",
       "  <thead>\n",
       "    <tr style=\"text-align: right;\">\n",
       "      <th></th>\n",
       "      <th>user</th>\n",
       "      <th>bot</th>\n",
       "      <th>comment</th>\n",
       "      <th>count</th>\n",
       "    </tr>\n",
       "  </thead>\n",
       "  <tbody>\n",
       "    <tr>\n",
       "      <th>3996</th>\n",
       "      <td>Reddqueen</td>\n",
       "      <td>False</td>\n",
       "      <td>Submitting using [[WP:AFCSW|AfC-submit-wizard]]</td>\n",
       "      <td>1</td>\n",
       "    </tr>\n",
       "    <tr>\n",
       "      <th>5335</th>\n",
       "      <td>2600:1006:B025:890E:A8AF:672:FD61:B452</td>\n",
       "      <td>False</td>\n",
       "      <td></td>\n",
       "      <td>1</td>\n",
       "    </tr>\n",
       "    <tr>\n",
       "      <th>5334</th>\n",
       "      <td>2409:4062:4D02:8813:B749:D866:7924:620D</td>\n",
       "      <td>False</td>\n",
       "      <td>/* Killing */ new section</td>\n",
       "      <td>1</td>\n",
       "    </tr>\n",
       "    <tr>\n",
       "      <th>5333</th>\n",
       "      <td>2600:1009:B05D:21E8:5972:77A5:D17C:1CD6</td>\n",
       "      <td>False</td>\n",
       "      <td>/* Results by congressional district */</td>\n",
       "      <td>1</td>\n",
       "    </tr>\n",
       "    <tr>\n",
       "      <th>5332</th>\n",
       "      <td>24.44.147.86</td>\n",
       "      <td>False</td>\n",
       "      <td>/* History */</td>\n",
       "      <td>1</td>\n",
       "    </tr>\n",
       "    <tr>\n",
       "      <th>...</th>\n",
       "      <td>...</td>\n",
       "      <td>...</td>\n",
       "      <td>...</td>\n",
       "      <td>...</td>\n",
       "    </tr>\n",
       "    <tr>\n",
       "      <th>4</th>\n",
       "      <td>Векочел</td>\n",
       "      <td>False</td>\n",
       "      <td>De-link common terms ([[User:Ohconfucius/scrip...</td>\n",
       "      <td>85</td>\n",
       "    </tr>\n",
       "    <tr>\n",
       "      <th>3</th>\n",
       "      <td>WP 1.0 bot</td>\n",
       "      <td>True</td>\n",
       "      <td>Copying assessment table to wiki.</td>\n",
       "      <td>102</td>\n",
       "    </tr>\n",
       "    <tr>\n",
       "      <th>2</th>\n",
       "      <td>InceptionBot</td>\n",
       "      <td>True</td>\n",
       "      <td>most recent scoring</td>\n",
       "      <td>115</td>\n",
       "    </tr>\n",
       "    <tr>\n",
       "      <th>1</th>\n",
       "      <td>Onel5969</td>\n",
       "      <td>False</td>\n",
       "      <td>Disambiguating links to [[Kushan]] (link chang...</td>\n",
       "      <td>134</td>\n",
       "    </tr>\n",
       "    <tr>\n",
       "      <th>0</th>\n",
       "      <td>WP 1.0 bot</td>\n",
       "      <td>True</td>\n",
       "      <td>Update logs for past 7 days</td>\n",
       "      <td>191</td>\n",
       "    </tr>\n",
       "  </tbody>\n",
       "</table>\n",
       "<p>7993 rows × 4 columns</p>\n",
       "</div>"
      ],
      "text/plain": [
       "                                         user    bot  \\\n",
       "3996                                Reddqueen  False   \n",
       "5335   2600:1006:B025:890E:A8AF:672:FD61:B452  False   \n",
       "5334  2409:4062:4D02:8813:B749:D866:7924:620D  False   \n",
       "5333  2600:1009:B05D:21E8:5972:77A5:D17C:1CD6  False   \n",
       "5332                             24.44.147.86  False   \n",
       "...                                       ...    ...   \n",
       "4                                     Векочел  False   \n",
       "3                                  WP 1.0 bot   True   \n",
       "2                                InceptionBot   True   \n",
       "1                                    Onel5969  False   \n",
       "0                                  WP 1.0 bot   True   \n",
       "\n",
       "                                                comment  count  \n",
       "3996    Submitting using [[WP:AFCSW|AfC-submit-wizard]]      1  \n",
       "5335                                                         1  \n",
       "5334                          /* Killing */ new section      1  \n",
       "5333            /* Results by congressional district */      1  \n",
       "5332                                      /* History */      1  \n",
       "...                                                 ...    ...  \n",
       "4     De-link common terms ([[User:Ohconfucius/scrip...     85  \n",
       "3                     Copying assessment table to wiki.    102  \n",
       "2                                   most recent scoring    115  \n",
       "1     Disambiguating links to [[Kushan]] (link chang...    134  \n",
       "0                           Update logs for past 7 days    191  \n",
       "\n",
       "[7993 rows x 4 columns]"
      ]
     },
     "execution_count": 316,
     "metadata": {},
     "output_type": "execute_result"
    }
   ],
   "source": [
    "df[['user', 'bot' ,'comment']].value_counts().reset_index().sort_values('count', ascending=True)"
   ]
  },
  {
   "cell_type": "code",
   "execution_count": 317,
   "id": "22ea6e7c-0ce2-4d47-81fe-a4b1a063429a",
   "metadata": {},
   "outputs": [],
   "source": [
    "import math \n",
    "import hashlib\n",
    "import mmh3 \n",
    "from bitarray import bitarray \n",
    "  \n",
    "  \n",
    "class BloomFilter(object): \n",
    "    def __init__(self, filter_capacity, fp_error_rate):\n",
    "        # number of stored items in bloom filter, spreaded between bits (mask)\n",
    "        self._filter_capacity = filter_capacity\n",
    "        self._fp_error_rate = fp_error_rate\n",
    "        self._size = BloomFilter.calculate_size(self._filter_capacity, self._fp_error_rate)\n",
    "        self._hash_functions = [\n",
    "            lambda x: int.from_bytes(hashlib.sha256(x.encode('utf-8')).digest(), 'big'), \n",
    "            # mmh3.hash\n",
    "        ]\n",
    "        self._mask_array = [0] * self._size\n",
    "\n",
    "    @staticmethod\n",
    "    def calculate_size(items_number, fp_error_rate):\n",
    "        ''' \n",
    "        Size of bit array(m) to used using formula:\n",
    "        m = -(n * lg(p)) / (lg(2)^2) \n",
    "        '''        \n",
    "        return int(-(items_number * (math.log(fp_error_rate) / (math.log(2) ** 2))))\n",
    "\n",
    "    def fit(self, X, Y):\n",
    "        for x, y in zip(X, Y):\n",
    "            if not y:\n",
    "                continue\n",
    "            for hash_func in self._hash_functions:\n",
    "                index = hash_func(x) % self._size\n",
    "                self._mask_array[index] = 1\n",
    "\n",
    "    def predict_one(self, item):\n",
    "        for hash_func in self._hash_functions:\n",
    "            index = hash_func(item) % self._size\n",
    "            if not self._mask_array[index]:\n",
    "                return False\n",
    "        return True\n",
    "\n",
    "    def predict(self, items):\n",
    "        return [self.predict_one(item) for item in items]"
   ]
  },
  {
   "cell_type": "code",
   "execution_count": 349,
   "id": "2f7c74ed-6e6a-4af9-a503-38bef6616bed",
   "metadata": {},
   "outputs": [],
   "source": [
    "def extract_features(item):\n",
    "    return str([\n",
    "        item['user'],\n",
    "        # item['comment'],\n",
    "        # item['length']['new'] - item['length']['old'],\n",
    "    ])\n",
    "def extract_label(item):\n",
    "    return item['bot']\n"
   ]
  },
  {
   "cell_type": "code",
   "execution_count": 350,
   "id": "3896c7b8-e057-41eb-abe9-c1e3f1acf849",
   "metadata": {},
   "outputs": [],
   "source": [
    "import numpy as np\n",
    "from sklearn.metrics import classification_report, f1_score\n",
    "from sklearn.model_selection import train_test_split\n",
    "\n",
    "def get_train_test_random(_df, _extract_features=extract_features, _extract_label=extract_label):\n",
    "    X = list(map(_extract_features, df.to_dict('records')))\n",
    "    Y = list(map(_extract_label, df.to_dict('records')))\n",
    "    X_train, X_test, Y_train, Y_test = train_test_split(X, Y, test_size=0.2, random_state=42)\n",
    "    return X_train, X_test, Y_train, Y_test\n",
    "\n",
    "def get_train_test_users(_df, _extract_features=extract_features, _extract_label=extract_label):\n",
    "    names = df.user.unique()\n",
    "    names_train = names[:int(len(names)*0.8)]\n",
    "    df_train = df[df.user.isin(names_train)]\n",
    "    df_test = df[~df.user.isin(names_train)]\n",
    "    \n",
    "    X_train = list(map(extract_features, df_train.to_dict('records')))\n",
    "    Y_train = list(map(extract_label, df_train.to_dict('records')))\n",
    "    \n",
    "    X_test = list(map(extract_features, df_test.to_dict('records')))\n",
    "    Y_test = list(map(extract_label, df_test.to_dict('records')))\n",
    "    return X_train, X_test, Y_train, Y_test"
   ]
  },
  {
   "cell_type": "code",
   "execution_count": 351,
   "id": "2c5ac39b-1510-45de-ac67-e967468fce09",
   "metadata": {},
   "outputs": [],
   "source": [
    "X_train, X_test, Y_train, Y_test = get_train_test_random(df)"
   ]
  },
  {
   "cell_type": "code",
   "execution_count": null,
   "id": "8820988d-d888-470a-8b63-6b79a56df602",
   "metadata": {},
   "outputs": [],
   "source": []
  },
  {
   "cell_type": "markdown",
   "id": "52b66cf6-741c-42fe-af44-0dc5ae818981",
   "metadata": {},
   "source": [
    "### Sanity check"
   ]
  },
  {
   "cell_type": "code",
   "execution_count": 345,
   "id": "9592f53c-1ec5-4d72-bed3-8977ee0a0a78",
   "metadata": {},
   "outputs": [],
   "source": [
    "model = BloomFilter(np.sum(Y_train), 0.01)\n",
    "model.fit(X_train, Y_train)"
   ]
  },
  {
   "cell_type": "code",
   "execution_count": 346,
   "id": "6e512ca0-8758-4ff4-a00e-ec7b9ed0546c",
   "metadata": {},
   "outputs": [],
   "source": [
    "y_pred = model.predict(X_test)"
   ]
  },
  {
   "cell_type": "code",
   "execution_count": 347,
   "id": "6b078b84-8b04-424f-8006-97af4608f28e",
   "metadata": {},
   "outputs": [
    {
     "name": "stdout",
     "output_type": "stream",
     "text": [
      "              precision    recall  f1-score   support\n",
      "\n",
      "       False       1.00      1.00      1.00      2001\n",
      "        True       0.97      0.98      0.98       257\n",
      "\n",
      "    accuracy                           1.00      2258\n",
      "   macro avg       0.99      0.99      0.99      2258\n",
      "weighted avg       1.00      1.00      1.00      2258\n",
      "\n"
     ]
    }
   ],
   "source": [
    "print(classification_report(Y_test, y_pred))"
   ]
  },
  {
   "cell_type": "code",
   "execution_count": 348,
   "id": "decb9f5b-6400-467b-8621-13d50d3d31bd",
   "metadata": {},
   "outputs": [
    {
     "data": {
      "text/plain": [
       "0.9787234042553191"
      ]
     },
     "execution_count": 348,
     "metadata": {},
     "output_type": "execute_result"
    }
   ],
   "source": [
    "f1_score(Y_test, y_pred)"
   ]
  },
  {
   "cell_type": "markdown",
   "id": "3a49b9d2-ab3d-4cba-8480-0601be1525ff",
   "metadata": {},
   "source": [
    "It looks classifier works as bot detection by names (it remembers user name of bots)."
   ]
  },
  {
   "cell_type": "markdown",
   "id": "0434cb59-c543-450c-86d8-02ba310daace",
   "metadata": {},
   "source": [
    "# Configuration search"
   ]
  },
  {
   "cell_type": "markdown",
   "id": "4f778f26-6e3a-4497-b82c-c8bab6a5e7f0",
   "metadata": {},
   "source": [
    "## Features\n",
    "\n",
    "- user name\n",
    "- comment\n",
    "- edit size\n",
    "- revision diff\n",
    "- edit + revision diff"
   ]
  },
  {
   "cell_type": "markdown",
   "id": "8ecfaf67-319c-43ae-999b-69617f09f8a5",
   "metadata": {},
   "source": [
    "### user name\n",
    "\n",
    "use split by users"
   ]
  },
  {
   "cell_type": "code",
   "execution_count": 352,
   "id": "14e0725c-ac87-44a7-9685-abf3e0e69792",
   "metadata": {},
   "outputs": [
    {
     "data": {
      "text/plain": [
       "0.0"
      ]
     },
     "execution_count": 352,
     "metadata": {},
     "output_type": "execute_result"
    }
   ],
   "source": [
    "def extract_features(item):\n",
    "    return item['user']\n",
    "\n",
    "def extract_label(item):\n",
    "    return item['bot']\n",
    "\n",
    "X_train, X_test, Y_train, Y_test = get_train_test_users(df, _extract_features=extract_features, _extract_label=extract_label)\n",
    "\n",
    "model = BloomFilter(np.sum(Y_train), 0.01)\n",
    "model.fit(X_train, Y_train)\n",
    "\n",
    "y_pred = model.predict(X_test)\n",
    "\n",
    "f1_score(Y_test, y_pred)"
   ]
  },
  {
   "cell_type": "markdown",
   "id": "8be86de1-2778-449c-98f1-3522143215df",
   "metadata": {},
   "source": [
    "### comment "
   ]
  },
  {
   "cell_type": "code",
   "execution_count": 376,
   "id": "bfbf3bec-bcec-4710-baa3-a548c3f4f15d",
   "metadata": {},
   "outputs": [],
   "source": [
    "def extract_features(item):\n",
    "    return item['comment']\n",
    "\n",
    "def extract_label(item):\n",
    "    return item['bot']\n"
   ]
  },
  {
   "cell_type": "markdown",
   "id": "dd326553-9d43-4497-bf00-08c35880a231",
   "metadata": {},
   "source": [
    "#### Split randomly"
   ]
  },
  {
   "cell_type": "code",
   "execution_count": 377,
   "id": "ff0f0466-9eb1-41d3-85ff-593420ebe4f7",
   "metadata": {},
   "outputs": [
    {
     "data": {
      "text/plain": [
       "0.680672268907563"
      ]
     },
     "execution_count": 377,
     "metadata": {},
     "output_type": "execute_result"
    }
   ],
   "source": [
    "X_train, X_test, Y_train, Y_test = get_train_test_random(df, _extract_features=extract_features, _extract_label=extract_label)\n",
    "\n",
    "model = BloomFilter(np.sum(Y_train), 0.01)\n",
    "model.fit(X_train, Y_train)\n",
    "\n",
    "y_pred = model.predict(X_test)\n",
    "\n",
    "f1_score(Y_test, y_pred)"
   ]
  },
  {
   "cell_type": "markdown",
   "id": "b0c0cc8f-1ec6-46e9-ab7c-aa871838bf43",
   "metadata": {},
   "source": [
    "#### Split by user"
   ]
  },
  {
   "cell_type": "code",
   "execution_count": 378,
   "id": "44c5792c-42a5-4ed3-9268-6bf49869bf45",
   "metadata": {},
   "outputs": [
    {
     "data": {
      "text/plain": [
       "0.0"
      ]
     },
     "execution_count": 378,
     "metadata": {},
     "output_type": "execute_result"
    }
   ],
   "source": [
    "X_train, X_test, Y_train, Y_test = get_train_test_users(df, _extract_features=extract_features, _extract_label=extract_label)\n",
    "\n",
    "model = BloomFilter(np.sum(Y_train), 0.01)\n",
    "model.fit(X_train, Y_train)\n",
    "\n",
    "y_pred = model.predict(X_test)\n",
    "\n",
    "f1_score(Y_test, y_pred)"
   ]
  },
  {
   "cell_type": "markdown",
   "id": "86f72e87-3416-4ce6-912a-23b567ab2891",
   "metadata": {},
   "source": [
    "It seems bot users uses the same comments, but different bots uses different comments. This feature is not robust and needs additional investigation and preprocessing like BoW."
   ]
  },
  {
   "cell_type": "markdown",
   "id": "e689bfb1-4c1d-4bac-b904-546fa73ff50b",
   "metadata": {},
   "source": [
    "### edit length"
   ]
  },
  {
   "cell_type": "code",
   "execution_count": 379,
   "id": "fd8f4cfb-074a-42ae-91d4-08c1d8c37de5",
   "metadata": {},
   "outputs": [],
   "source": [
    "def extract_features(item):\n",
    "    return str(item['length_diff'])\n",
    "\n",
    "def extract_label(item):\n",
    "    return item['bot']"
   ]
  },
  {
   "cell_type": "markdown",
   "id": "d2d7ae57-2dc9-4f57-91ef-5ee0622efa08",
   "metadata": {},
   "source": [
    "#### Split randomly"
   ]
  },
  {
   "cell_type": "code",
   "execution_count": 374,
   "id": "6ec9d134-7c41-49ee-aa06-d37ac9386eea",
   "metadata": {},
   "outputs": [
    {
     "data": {
      "text/plain": [
       "0.189987163029525"
      ]
     },
     "execution_count": 374,
     "metadata": {},
     "output_type": "execute_result"
    }
   ],
   "source": [
    "X_train, X_test, Y_train, Y_test = get_train_test_random(df, _extract_features=extract_features, _extract_label=extract_label)\n",
    "\n",
    "model = BloomFilter(np.sum(Y_train), 0.01)\n",
    "model.fit(X_train, Y_train)\n",
    "\n",
    "y_pred = model.predict(X_test)\n",
    "\n",
    "f1_score(Y_test, y_pred)"
   ]
  },
  {
   "cell_type": "markdown",
   "id": "12e862a2-dca4-403e-b952-a612ee1e26bc",
   "metadata": {},
   "source": [
    "#### Split by user"
   ]
  },
  {
   "cell_type": "code",
   "execution_count": 375,
   "id": "5f74df84-8030-436a-8eb6-e92fee394ddb",
   "metadata": {},
   "outputs": [
    {
     "data": {
      "text/plain": [
       "0.007005253940455342"
      ]
     },
     "execution_count": 375,
     "metadata": {},
     "output_type": "execute_result"
    }
   ],
   "source": [
    "X_train, X_test, Y_train, Y_test = get_train_test_users(df, _extract_features=extract_features, _extract_label=extract_label)\n",
    "\n",
    "model = BloomFilter(np.sum(Y_train), 0.01)\n",
    "model.fit(X_train, Y_train)\n",
    "\n",
    "y_pred = model.predict(X_test)\n",
    "\n",
    "f1_score(Y_test, y_pred)"
   ]
  },
  {
   "cell_type": "code",
   "execution_count": null,
   "id": "7eab13a1-e874-4ca3-980f-04e4a72d64d4",
   "metadata": {},
   "outputs": [],
   "source": []
  },
  {
   "cell_type": "code",
   "execution_count": 340,
   "id": "7aacad07-eb6c-409b-9a81-2915463f3f2c",
   "metadata": {},
   "outputs": [
    {
     "data": {
      "text/plain": [
       "0.005917159763313609"
      ]
     },
     "execution_count": 340,
     "metadata": {},
     "output_type": "execute_result"
    }
   ],
   "source": [
    "## edit length bucket\n",
    "\n",
    "def extract_features(item):\n",
    "    return str(item['length_bucket'])\n",
    "    \n",
    "def extract_label(item):\n",
    "    return item['bot']\n",
    "\n",
    "X_train = list(map(extract_features, df_train.to_dict('records')))\n",
    "Y_train = list(map(extract_label, df_train.to_dict('records')))\n",
    "\n",
    "X_test = list(map(extract_features, df_test.to_dict('records')))\n",
    "Y_test = list(map(extract_label, df_test.to_dict('records')))\n",
    "\n",
    "model = BloomFilter(np.sum(Y_train), 0.01)\n",
    "model.fit(X_train, Y_train)\n",
    "\n",
    "y_pred = model.predict(X_test)\n",
    "\n",
    "f1_score(Y_test, y_pred)\n"
   ]
  },
  {
   "cell_type": "markdown",
   "id": "76be5d60-c010-4496-9c98-52caae484938",
   "metadata": {},
   "source": [
    "### revision diff"
   ]
  },
  {
   "cell_type": "code",
   "execution_count": 370,
   "id": "c3b65c60-1d87-4f55-9b7a-96e42bd6e211",
   "metadata": {},
   "outputs": [],
   "source": [
    "def extract_features(item):\n",
    "    return str(item['revision_diff'])\n",
    "\n",
    "def extract_label(item):\n",
    "    return item['bot']"
   ]
  },
  {
   "cell_type": "markdown",
   "id": "830e8b07-8a36-40a8-8f40-d5fc4536d9ea",
   "metadata": {},
   "source": [
    "#### Split randomly"
   ]
  },
  {
   "cell_type": "code",
   "execution_count": 371,
   "id": "562e5407-fd1e-4c14-9d26-4f9d2f0c85fb",
   "metadata": {},
   "outputs": [
    {
     "data": {
      "text/plain": [
       "0.2923076923076923"
      ]
     },
     "execution_count": 371,
     "metadata": {},
     "output_type": "execute_result"
    }
   ],
   "source": [
    "X_train, X_test, Y_train, Y_test = get_train_test_random(df, _extract_features=extract_features, _extract_label=extract_label)\n",
    "\n",
    "model = BloomFilter(np.sum(Y_train), 0.01)\n",
    "model.fit(X_train, Y_train)\n",
    "\n",
    "y_pred = model.predict(X_test)\n",
    "\n",
    "f1_score(Y_test, y_pred)"
   ]
  },
  {
   "cell_type": "markdown",
   "id": "27aeb7aa-ba74-4a26-bf2c-07e5c81b0ea2",
   "metadata": {},
   "source": [
    "#### Split by user"
   ]
  },
  {
   "cell_type": "code",
   "execution_count": 372,
   "id": "8e4af460-8add-4ace-99ff-43f695528887",
   "metadata": {},
   "outputs": [
    {
     "data": {
      "text/plain": [
       "0.02197802197802198"
      ]
     },
     "execution_count": 372,
     "metadata": {},
     "output_type": "execute_result"
    }
   ],
   "source": [
    "X_train, X_test, Y_train, Y_test = get_train_test_users(df, _extract_features=extract_features, _extract_label=extract_label)\n",
    "\n",
    "model = BloomFilter(np.sum(Y_train), 0.01)\n",
    "model.fit(X_train, Y_train)\n",
    "\n",
    "y_pred = model.predict(X_test)\n",
    "\n",
    "f1_score(Y_test, y_pred)"
   ]
  },
  {
   "cell_type": "markdown",
   "id": "8281a1f3-ea5f-4afa-9a5f-f41584103326",
   "metadata": {},
   "source": [
    "### revision diff bucket"
   ]
  },
  {
   "cell_type": "code",
   "execution_count": 380,
   "id": "4d34d771-8432-4c24-83df-da6ce2d92ce0",
   "metadata": {},
   "outputs": [],
   "source": [
    "\n",
    "\n",
    "def extract_features(item):\n",
    "    return str(item['revision_bucket'])\n",
    "\n",
    "def extract_label(item):\n",
    "    return item['bot']\n"
   ]
  },
  {
   "cell_type": "code",
   "execution_count": 381,
   "id": "7005ce90-e0fa-4682-ae35-4211bc11ed69",
   "metadata": {},
   "outputs": [],
   "source": [
    "#### Split randomly"
   ]
  },
  {
   "cell_type": "code",
   "execution_count": 382,
   "id": "e76de487-4843-453e-a5fe-d66795a05f6f",
   "metadata": {},
   "outputs": [
    {
     "data": {
      "text/plain": [
       "0.33333333333333337"
      ]
     },
     "execution_count": 382,
     "metadata": {},
     "output_type": "execute_result"
    }
   ],
   "source": [
    "X_train, X_test, Y_train, Y_test = get_train_test_random(df, _extract_features=extract_features, _extract_label=extract_label)\n",
    "\n",
    "model = BloomFilter(np.sum(Y_train), 0.01)\n",
    "model.fit(X_train, Y_train)\n",
    "\n",
    "y_pred = model.predict(X_test)\n",
    "\n",
    "f1_score(Y_test, y_pred)"
   ]
  },
  {
   "cell_type": "code",
   "execution_count": 383,
   "id": "f7087f5e-c35d-4619-8b63-178eff6a6b78",
   "metadata": {},
   "outputs": [],
   "source": [
    "#### Split by user"
   ]
  },
  {
   "cell_type": "code",
   "execution_count": 384,
   "id": "4c04a119-c733-4d90-8363-0555df3446f3",
   "metadata": {},
   "outputs": [
    {
     "data": {
      "text/plain": [
       "0.023121387283236997"
      ]
     },
     "execution_count": 384,
     "metadata": {},
     "output_type": "execute_result"
    }
   ],
   "source": [
    "X_train, X_test, Y_train, Y_test = get_train_test_users(df, _extract_features=extract_features, _extract_label=extract_label)\n",
    "\n",
    "model = BloomFilter(np.sum(Y_train), 0.01)\n",
    "model.fit(X_train, Y_train)\n",
    "\n",
    "y_pred = model.predict(X_test)\n",
    "\n",
    "f1_score(Y_test, y_pred)"
   ]
  },
  {
   "cell_type": "markdown",
   "id": "1d1c5fef-e758-480f-948b-5bc956cd1154",
   "metadata": {},
   "source": [
    "### Conclusions\n",
    "\n",
    "- we observe significant gap between f1-scores depending on dataset split strategy: random split and per user split.\n",
    "- Such a small scores for per user split strategy (considering Bloom filter specifics) were cased by small sample (only 3205 users contains in dataset, 51 users are bots). To increase scores we should increase test size\n",
    "- there are few potential interesting features: comments and revision diff bucket that could be used for bot training.\n",
    "- numbers bucketing improves performance of the model comparing to using actual numeric values. This idea matches with Bloom filter intuition but mask is generated depending on the value and is comparable (close values has higher chance to have the same hash sum)"
   ]
  },
  {
   "cell_type": "markdown",
   "id": "6cd2a283-d006-467d-8669-eff01a9cca5a",
   "metadata": {},
   "source": [
    "## Parameters finetuning\n",
    "\n",
    "There are few Bloom filter's parameters to finetune:\n",
    "- filter capacity\n",
    "- FP rate\n",
    "\n",
    "Let's use comment as primary feature and find the best parameters to maximize f1 score for per-user split"
   ]
  },
  {
   "cell_type": "code",
   "execution_count": 391,
   "id": "72387fa8-0de1-415d-bde8-338ee838e384",
   "metadata": {},
   "outputs": [
    {
     "data": {
      "text/html": [
       "<div>\n",
       "<style scoped>\n",
       "    .dataframe tbody tr th:only-of-type {\n",
       "        vertical-align: middle;\n",
       "    }\n",
       "\n",
       "    .dataframe tbody tr th {\n",
       "        vertical-align: top;\n",
       "    }\n",
       "\n",
       "    .dataframe thead th {\n",
       "        text-align: right;\n",
       "    }\n",
       "</style>\n",
       "<table border=\"1\" class=\"dataframe\">\n",
       "  <thead>\n",
       "    <tr style=\"text-align: right;\">\n",
       "      <th></th>\n",
       "      <th>fp_rate</th>\n",
       "      <th>item_count</th>\n",
       "      <th>f1_score</th>\n",
       "    </tr>\n",
       "  </thead>\n",
       "  <tbody>\n",
       "    <tr>\n",
       "      <th>21</th>\n",
       "      <td>0.05</td>\n",
       "      <td>610.0</td>\n",
       "      <td>0.025641</td>\n",
       "    </tr>\n",
       "    <tr>\n",
       "      <th>24</th>\n",
       "      <td>0.30</td>\n",
       "      <td>610.0</td>\n",
       "      <td>0.010811</td>\n",
       "    </tr>\n",
       "    <tr>\n",
       "      <th>17</th>\n",
       "      <td>0.10</td>\n",
       "      <td>122.0</td>\n",
       "      <td>0.009615</td>\n",
       "    </tr>\n",
       "    <tr>\n",
       "      <th>10</th>\n",
       "      <td>0.01</td>\n",
       "      <td>61.0</td>\n",
       "      <td>0.009615</td>\n",
       "    </tr>\n",
       "    <tr>\n",
       "      <th>18</th>\n",
       "      <td>0.20</td>\n",
       "      <td>122.0</td>\n",
       "      <td>0.008837</td>\n",
       "    </tr>\n",
       "    <tr>\n",
       "      <th>15</th>\n",
       "      <td>0.01</td>\n",
       "      <td>122.0</td>\n",
       "      <td>0.008439</td>\n",
       "    </tr>\n",
       "    <tr>\n",
       "      <th>12</th>\n",
       "      <td>0.10</td>\n",
       "      <td>61.0</td>\n",
       "      <td>0.007519</td>\n",
       "    </tr>\n",
       "    <tr>\n",
       "      <th>13</th>\n",
       "      <td>0.20</td>\n",
       "      <td>61.0</td>\n",
       "      <td>0.007109</td>\n",
       "    </tr>\n",
       "    <tr>\n",
       "      <th>6</th>\n",
       "      <td>0.05</td>\n",
       "      <td>24.0</td>\n",
       "      <td>0.006711</td>\n",
       "    </tr>\n",
       "    <tr>\n",
       "      <th>14</th>\n",
       "      <td>0.30</td>\n",
       "      <td>61.0</td>\n",
       "      <td>0.006565</td>\n",
       "    </tr>\n",
       "    <tr>\n",
       "      <th>7</th>\n",
       "      <td>0.10</td>\n",
       "      <td>24.0</td>\n",
       "      <td>0.006557</td>\n",
       "    </tr>\n",
       "    <tr>\n",
       "      <th>1</th>\n",
       "      <td>0.05</td>\n",
       "      <td>1.0</td>\n",
       "      <td>0.006417</td>\n",
       "    </tr>\n",
       "    <tr>\n",
       "      <th>0</th>\n",
       "      <td>0.01</td>\n",
       "      <td>1.0</td>\n",
       "      <td>0.006417</td>\n",
       "    </tr>\n",
       "    <tr>\n",
       "      <th>3</th>\n",
       "      <td>0.20</td>\n",
       "      <td>1.0</td>\n",
       "      <td>0.006417</td>\n",
       "    </tr>\n",
       "    <tr>\n",
       "      <th>9</th>\n",
       "      <td>0.30</td>\n",
       "      <td>24.0</td>\n",
       "      <td>0.006417</td>\n",
       "    </tr>\n",
       "    <tr>\n",
       "      <th>8</th>\n",
       "      <td>0.20</td>\n",
       "      <td>24.0</td>\n",
       "      <td>0.006417</td>\n",
       "    </tr>\n",
       "    <tr>\n",
       "      <th>2</th>\n",
       "      <td>0.10</td>\n",
       "      <td>1.0</td>\n",
       "      <td>0.006417</td>\n",
       "    </tr>\n",
       "    <tr>\n",
       "      <th>4</th>\n",
       "      <td>0.30</td>\n",
       "      <td>1.0</td>\n",
       "      <td>0.006417</td>\n",
       "    </tr>\n",
       "    <tr>\n",
       "      <th>16</th>\n",
       "      <td>0.05</td>\n",
       "      <td>122.0</td>\n",
       "      <td>0.006211</td>\n",
       "    </tr>\n",
       "    <tr>\n",
       "      <th>19</th>\n",
       "      <td>0.30</td>\n",
       "      <td>122.0</td>\n",
       "      <td>0.003929</td>\n",
       "    </tr>\n",
       "    <tr>\n",
       "      <th>11</th>\n",
       "      <td>0.05</td>\n",
       "      <td>61.0</td>\n",
       "      <td>0.003876</td>\n",
       "    </tr>\n",
       "    <tr>\n",
       "      <th>20</th>\n",
       "      <td>0.01</td>\n",
       "      <td>610.0</td>\n",
       "      <td>0.000000</td>\n",
       "    </tr>\n",
       "    <tr>\n",
       "      <th>22</th>\n",
       "      <td>0.10</td>\n",
       "      <td>610.0</td>\n",
       "      <td>0.000000</td>\n",
       "    </tr>\n",
       "    <tr>\n",
       "      <th>23</th>\n",
       "      <td>0.20</td>\n",
       "      <td>610.0</td>\n",
       "      <td>0.000000</td>\n",
       "    </tr>\n",
       "    <tr>\n",
       "      <th>5</th>\n",
       "      <td>0.01</td>\n",
       "      <td>24.0</td>\n",
       "      <td>0.000000</td>\n",
       "    </tr>\n",
       "    <tr>\n",
       "      <th>25</th>\n",
       "      <td>0.01</td>\n",
       "      <td>1220.0</td>\n",
       "      <td>0.000000</td>\n",
       "    </tr>\n",
       "    <tr>\n",
       "      <th>26</th>\n",
       "      <td>0.05</td>\n",
       "      <td>1220.0</td>\n",
       "      <td>0.000000</td>\n",
       "    </tr>\n",
       "    <tr>\n",
       "      <th>27</th>\n",
       "      <td>0.10</td>\n",
       "      <td>1220.0</td>\n",
       "      <td>0.000000</td>\n",
       "    </tr>\n",
       "    <tr>\n",
       "      <th>28</th>\n",
       "      <td>0.20</td>\n",
       "      <td>1220.0</td>\n",
       "      <td>0.000000</td>\n",
       "    </tr>\n",
       "    <tr>\n",
       "      <th>29</th>\n",
       "      <td>0.30</td>\n",
       "      <td>1220.0</td>\n",
       "      <td>0.000000</td>\n",
       "    </tr>\n",
       "  </tbody>\n",
       "</table>\n",
       "</div>"
      ],
      "text/plain": [
       "    fp_rate  item_count  f1_score\n",
       "21     0.05       610.0  0.025641\n",
       "24     0.30       610.0  0.010811\n",
       "17     0.10       122.0  0.009615\n",
       "10     0.01        61.0  0.009615\n",
       "18     0.20       122.0  0.008837\n",
       "15     0.01       122.0  0.008439\n",
       "12     0.10        61.0  0.007519\n",
       "13     0.20        61.0  0.007109\n",
       "6      0.05        24.0  0.006711\n",
       "14     0.30        61.0  0.006565\n",
       "7      0.10        24.0  0.006557\n",
       "1      0.05         1.0  0.006417\n",
       "0      0.01         1.0  0.006417\n",
       "3      0.20         1.0  0.006417\n",
       "9      0.30        24.0  0.006417\n",
       "8      0.20        24.0  0.006417\n",
       "2      0.10         1.0  0.006417\n",
       "4      0.30         1.0  0.006417\n",
       "16     0.05       122.0  0.006211\n",
       "19     0.30       122.0  0.003929\n",
       "11     0.05        61.0  0.003876\n",
       "20     0.01       610.0  0.000000\n",
       "22     0.10       610.0  0.000000\n",
       "23     0.20       610.0  0.000000\n",
       "5      0.01        24.0  0.000000\n",
       "25     0.01      1220.0  0.000000\n",
       "26     0.05      1220.0  0.000000\n",
       "27     0.10      1220.0  0.000000\n",
       "28     0.20      1220.0  0.000000\n",
       "29     0.30      1220.0  0.000000"
      ]
     },
     "execution_count": 391,
     "metadata": {},
     "output_type": "execute_result"
    }
   ],
   "source": [
    "def extract_features(item):\n",
    "    return item['comment']\n",
    "\n",
    "def extract_label(item):\n",
    "    return item['bot']\n",
    "\n",
    "\n",
    "X_train, X_test, Y_train, Y_test = get_train_test_users(df, _extract_features=extract_features, _extract_label=extract_label)\n",
    "\n",
    "results = []\n",
    "\n",
    "for item_count in [1, np.sum(Y_train)//50, np.sum(Y_train)//20, np.sum(Y_train)//10, np.sum(Y_train)/2, np.sum(Y_train)]:\n",
    "    for fp_rate in [0.01, 0.05, 0.1, 0.2, 0.3]:\n",
    "\n",
    "        model = BloomFilter(item_count, fp_rate)\n",
    "        model.fit(X_train, Y_train)\n",
    "\n",
    "        y_pred = model.predict(X_test)\n",
    "        results.append({\n",
    "            'fp_rate': fp_rate,\n",
    "            'item_count': item_count,\n",
    "            'f1_score': f1_score(Y_test, y_pred)\n",
    "        })\n",
    "pd.DataFrame(results).sort_values('f1_score', ascending=False)"
   ]
  },
  {
   "cell_type": "markdown",
   "id": "b1c29f24-e485-4405-80c4-f26b19cd2b25",
   "metadata": {},
   "source": [
    "The best score we can get for item numbers 610 and fp_rate = 5%"
   ]
  },
  {
   "cell_type": "code",
   "execution_count": 404,
   "id": "45f33cd1-e2fc-4596-a47f-9b852953a096",
   "metadata": {},
   "outputs": [
    {
     "name": "stdout",
     "output_type": "stream",
     "text": [
      "              precision    recall  f1-score   support\n",
      "\n",
      "       False       1.00      0.92      0.96       929\n",
      "        True       0.01      0.33      0.03         3\n",
      "\n",
      "    accuracy                           0.92       932\n",
      "   macro avg       0.51      0.63      0.49       932\n",
      "weighted avg       0.99      0.92      0.95       932\n",
      "\n"
     ]
    }
   ],
   "source": [
    "model = BloomFilter(610, 0.05)\n",
    "model.fit(X_train, Y_train)\n",
    "\n",
    "y_pred = model.predict(X_test)\n",
    "\n",
    "print(classification_report(Y_test, y_pred))"
   ]
  },
  {
   "cell_type": "code",
   "execution_count": null,
   "id": "c9613eaa-4078-486d-9030-1d7055e4d96b",
   "metadata": {},
   "outputs": [],
   "source": []
  }
 ],
 "metadata": {
  "kernelspec": {
   "display_name": "Python 3 (ipykernel)",
   "language": "python",
   "name": "python3"
  },
  "language_info": {
   "codemirror_mode": {
    "name": "ipython",
    "version": 3
   },
   "file_extension": ".py",
   "mimetype": "text/x-python",
   "name": "python",
   "nbconvert_exporter": "python",
   "pygments_lexer": "ipython3",
   "version": "3.11.6"
  }
 },
 "nbformat": 4,
 "nbformat_minor": 5
}
