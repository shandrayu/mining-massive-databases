{
 "cells": [
  {
   "cell_type": "markdown",
   "id": "090c7b67-29c1-44a0-bb3c-55647a200d12",
   "metadata": {},
   "source": [
    "# Final Project: Detecting bots in wikipedia  streaming data\n",
    "\n",
    "1) Consider all the changes done in the wikipedia as stream.\n",
    "** Check here: https://wikitech.wikimedia.org/wiki/RCStream\n",
    "\n",
    "2) Each action is received in json format. \n",
    "\n",
    "3) Data is full of bots. There is a flag were programmers can \n",
    "indicate that an actions has been done by a bot.\n",
    "\n",
    "4) Using this information as ground truth, develop a system able \n",
    "to classify users as bot or human.\n",
    "\n",
    "5) Constrain: You need to sample, and just use the 20% of \n",
    "the data stream. \n",
    "\n",
    "6) Describe the distribution of edits per users and bots. \n",
    "\n",
    "7) Finally, train a Bloom Filter that filter out bots from the stream. \n",
    "\n",
    "* Find the correct parameters for the bloom filter having an \n",
    "error below 10%.\n",
    "\n",
    "8) If you want to have a 100% you need to do this:\n",
    "\n",
    "* Make your system to work with Spark Streaming (5%)"
   ]
  },
  {
   "cell_type": "code",
   "execution_count": 1,
   "id": "10f99726-bb30-492d-aeb6-07ed709ff3ad",
   "metadata": {},
   "outputs": [],
   "source": [
    "from sseclient import SSEClient as EventSource\n",
    "import time\n",
    "import json"
   ]
  },
  {
   "cell_type": "code",
   "execution_count": 2,
   "id": "1db081f5-fc11-4d56-85be-17eb97c196e3",
   "metadata": {},
   "outputs": [],
   "source": [
    "# Define helper functions\n",
    "\n",
    "def get_bin(x, bin_width, start=0): \n",
    "    return (x - start) // bin_width\n",
    "\n",
    "def fetch_raw(event_source, fetching_time_sec, message_types, wikis, event_decimation=5, print_log=False):\n",
    "    observed_users = set()\n",
    "    skipped_users = set()\n",
    "    user_counter = 0\n",
    "    start_time = time.time()\n",
    "    for event in event_source:\n",
    "        try:\n",
    "            change = json.loads(event.data)\n",
    "        except:\n",
    "            # ignore message\n",
    "            continue\n",
    "\n",
    "        if change[\"type\"] not in message_types or change[\"wiki\"] not in wikis:\n",
    "            # ignore message\n",
    "            continue\n",
    "\n",
    "        elapced_time = time.time() - start_time\n",
    "        if elapced_time > fetching_time_sec:\n",
    "            break\n",
    "\n",
    "        yield (change)\n",
    "\n",
    "\n",
    "def hash_user(wiki, id):\n",
    "    return hash((wiki, id))\n",
    "\n",
    "def fetch_users(event_source, fetching_time_sec, message_types, wikis, event_decimation=5, print_log=False):\n",
    "    observed_users = set()\n",
    "    skipped_users = set()\n",
    "    user_counter = 0\n",
    "    start_time = time.time()\n",
    "    for event in event_source:\n",
    "        try:\n",
    "            change = json.loads(event.data)\n",
    "        except:\n",
    "            # ignore message\n",
    "            continue\n",
    "\n",
    "        if change[\"type\"] not in message_types or change[\"wiki\"] not in wikis:\n",
    "            # ignore message\n",
    "            continue\n",
    "\n",
    "        user = hash_user(change[\"wiki\"], change[\"title\"], change[\"user\"])\n",
    "        if user in observed_users:\n",
    "            if print_log:\n",
    "                print(f\"Message from user {user} saved\")\n",
    "            save_user = True\n",
    "        elif user in skipped_users:\n",
    "            if print_log:\n",
    "                print(f\"Message from user {user} skipped\")\n",
    "            save_user = False\n",
    "        else:\n",
    "            # new user   \n",
    "            if user_counter % event_decimation == 0:\n",
    "                if print_log:\n",
    "                    print(f\"+ Add new user {user}\")\n",
    "                observed_users.add(user)\n",
    "                save_user = True\n",
    "            else:\n",
    "                if print_log:\n",
    "                    print(f\"- Add Skip user {user}\")\n",
    "                skipped_users.add(user)\n",
    "                save_user = False\n",
    "            user_counter += 1\n",
    "\n",
    "        elapced_time = time.time() - start_time\n",
    "        if elapced_time > fetching_time_sec:\n",
    "            break\n",
    "\n",
    "        if save_user:\n",
    "            yield (change)"
   ]
  },
  {
   "cell_type": "code",
   "execution_count": 3,
   "id": "c9d4aac1-a2dc-433c-ae85-8aa93f8f8ff0",
   "metadata": {},
   "outputs": [],
   "source": [
    "url = 'https://stream.wikimedia.org/v2/stream/recentchange'\n",
    "message_types = {\"edit\"}\n",
    "wikis = {\"enwiki\"}#, \"wikidatawiki\"}\n",
    "wikis_str = \"_\".join(wikis)"
   ]
  },
  {
   "cell_type": "code",
   "execution_count": 70,
   "id": "39de909d-ef23-43dd-9c9c-a1652ad6bb2e",
   "metadata": {},
   "outputs": [
    {
     "name": "stdout",
     "output_type": "stream",
     "text": [
      "\n",
      "\n"
     ]
    }
   ],
   "source": [
    "# fetching_time_sec = 800\n",
    "\n",
    "# raw_items = [change for change in fetch_raw(EventSource(url), fetching_time_sec, message_types, wikis)]"
   ]
  },
  {
   "cell_type": "code",
   "execution_count": 92,
   "id": "f3de0e44-c7b9-4e99-84a6-cd6344c1b854",
   "metadata": {},
   "outputs": [
    {
     "data": {
      "text/plain": [
       "{'$schema': '/mediawiki/recentchange/1.0.0',\n",
       " 'meta': {'uri': 'https://en.wikipedia.org/wiki/George_Santos',\n",
       "  'request_id': '7853eaf3-e784-46d0-8030-5515bea95a3e',\n",
       "  'id': '04b13719-4ad1-4018-b01e-419bd9fb1edb',\n",
       "  'dt': '2023-11-21T19:51:25Z',\n",
       "  'domain': 'en.wikipedia.org',\n",
       "  'stream': 'mediawiki.recentchange',\n",
       "  'topic': 'codfw.mediawiki.recentchange',\n",
       "  'partition': 0,\n",
       "  'offset': 785902126},\n",
       " 'id': 1696879635,\n",
       " 'type': 'edit',\n",
       " 'namespace': 0,\n",
       " 'title': 'George Santos',\n",
       " 'title_url': 'https://en.wikipedia.org/wiki/George_Santos',\n",
       " 'comment': 'added link',\n",
       " 'timestamp': 1700596285,\n",
       " 'user': 'TheHetStopper',\n",
       " 'bot': False,\n",
       " 'notify_url': 'https://en.wikipedia.org/w/index.php?diff=1186232574&oldid=1186214513',\n",
       " 'minor': False,\n",
       " 'length': {'old': 284532, 'new': 284675},\n",
       " 'revision': {'old': 1186214513, 'new': 1186232574},\n",
       " 'server_url': 'https://en.wikipedia.org',\n",
       " 'server_name': 'en.wikipedia.org',\n",
       " 'server_script_path': '/w',\n",
       " 'wiki': 'enwiki',\n",
       " 'parsedcomment': 'added link'}"
      ]
     },
     "execution_count": 92,
     "metadata": {},
     "output_type": "execute_result"
    }
   ],
   "source": [
    "# raw_items[0]"
   ]
  },
  {
   "cell_type": "markdown",
   "id": "f4b677d3-7518-413b-9172-f79651f7c9cc",
   "metadata": {},
   "source": [
    "# Analyze bot behaviour"
   ]
  },
  {
   "cell_type": "code",
   "execution_count": 11,
   "id": "7db65452-f5a5-416f-9b6f-ea9b4031dfe9",
   "metadata": {},
   "outputs": [
    {
     "data": {
      "text/plain": [
       "13397"
      ]
     },
     "execution_count": 11,
     "metadata": {},
     "output_type": "execute_result"
    }
   ],
   "source": [
    "import pandas as pd\n",
    "import matplotlib.pyplot as plt\n",
    "\n",
    "# df = pd.DataFrame(raw_items)\n",
    "samples = []\n",
    "# with open('sample.jsonl', 'r') as fin:\n",
    "#     samples.extend(list(map(json.loads, fin.readlines())))\n",
    "with open('sample_unique_users.jsonl', 'r') as fin:\n",
    "    samples.extend(list(map(json.loads, fin.readlines())))\n",
    "# with open('sample_unique_users2.jsonl', 'r') as fin:\n",
    "#     samples.extend(list(map(json.loads, fin.readlines())))\n",
    "# with open('sample_unique_users3.jsonl', 'r') as fin:\n",
    "#     samples.extend(list(map(json.loads, fin.readlines())))\n",
    "\n",
    "df = pd.DataFrame(samples)\n",
    "\n",
    "\n",
    "df['length_old'] = df.apply(lambda x: x['length']['old'], axis=1)\n",
    "df['length_new'] = df.apply(lambda x: x['length']['new'], axis=1)\n",
    "df['length_diff'] = df['length_new'] - df['length_old']\n",
    "df['revision_diff'] = df.apply(lambda x: x['revision']['new'], axis=1) - df.apply(lambda x: x['revision']['old'], axis=1)\n",
    "\n",
    "## split revision and length to buckets\n",
    "df['length_bucket'] = df.length_diff.map(lambda x: get_bin(x, bin_width=50 ,start=df.length_diff.min()))\n",
    "df['revision_bucket'] = df.revision_diff.map(lambda x: get_bin(x, bin_width=10 ,start=df.revision_diff.min()))\n",
    "\n",
    "len(df)"
   ]
  },
  {
   "cell_type": "markdown",
   "id": "886d620f-da61-479e-804a-937ac3347d1d",
   "metadata": {},
   "source": [
    "## Bot vs Real user edit length"
   ]
  },
  {
   "cell_type": "code",
   "execution_count": 12,
   "id": "ffa2ce6d-7eb4-4002-b0dd-acf443962236",
   "metadata": {},
   "outputs": [
    {
     "data": {
      "text/html": [
       "<div>\n",
       "<style scoped>\n",
       "    .dataframe tbody tr th:only-of-type {\n",
       "        vertical-align: middle;\n",
       "    }\n",
       "\n",
       "    .dataframe tbody tr th {\n",
       "        vertical-align: top;\n",
       "    }\n",
       "\n",
       "    .dataframe thead th {\n",
       "        text-align: right;\n",
       "    }\n",
       "</style>\n",
       "<table border=\"1\" class=\"dataframe\">\n",
       "  <thead>\n",
       "    <tr style=\"text-align: right;\">\n",
       "      <th></th>\n",
       "      <th>$schema</th>\n",
       "      <th>meta</th>\n",
       "      <th>id</th>\n",
       "      <th>type</th>\n",
       "      <th>namespace</th>\n",
       "      <th>title</th>\n",
       "      <th>title_url</th>\n",
       "      <th>comment</th>\n",
       "      <th>timestamp</th>\n",
       "      <th>user</th>\n",
       "      <th>...</th>\n",
       "      <th>server_name</th>\n",
       "      <th>server_script_path</th>\n",
       "      <th>wiki</th>\n",
       "      <th>parsedcomment</th>\n",
       "      <th>length_old</th>\n",
       "      <th>length_new</th>\n",
       "      <th>length_diff</th>\n",
       "      <th>revision_diff</th>\n",
       "      <th>length_bucket</th>\n",
       "      <th>revision_bucket</th>\n",
       "    </tr>\n",
       "  </thead>\n",
       "  <tbody>\n",
       "    <tr>\n",
       "      <th>10949</th>\n",
       "      <td>/mediawiki/recentchange/1.0.0</td>\n",
       "      <td>{'uri': 'https://en.wikipedia.org/wiki/User_ta...</td>\n",
       "      <td>1697280638</td>\n",
       "      <td>edit</td>\n",
       "      <td>3</td>\n",
       "      <td>User talk:Jauerback</td>\n",
       "      <td>https://en.wikipedia.org/wiki/User_talk:Jauerback</td>\n",
       "      <td>Archiving 2 discussion(s) to [[User talk:Jauer...</td>\n",
       "      <td>1700715423</td>\n",
       "      <td>Lowercase sigmabot III</td>\n",
       "      <td>...</td>\n",
       "      <td>en.wikipedia.org</td>\n",
       "      <td>/w</td>\n",
       "      <td>enwiki</td>\n",
       "      <td>Archiving 2 discussion(s) to &lt;a href=\"/wiki/Us...</td>\n",
       "      <td>7972</td>\n",
       "      <td>5825</td>\n",
       "      <td>-2147</td>\n",
       "      <td>105110</td>\n",
       "      <td>7201</td>\n",
       "      <td>10510</td>\n",
       "    </tr>\n",
       "  </tbody>\n",
       "</table>\n",
       "<p>1 rows × 26 columns</p>\n",
       "</div>"
      ],
      "text/plain": [
       "                             $schema  \\\n",
       "10949  /mediawiki/recentchange/1.0.0   \n",
       "\n",
       "                                                    meta          id  type  \\\n",
       "10949  {'uri': 'https://en.wikipedia.org/wiki/User_ta...  1697280638  edit   \n",
       "\n",
       "       namespace                title  \\\n",
       "10949          3  User talk:Jauerback   \n",
       "\n",
       "                                               title_url  \\\n",
       "10949  https://en.wikipedia.org/wiki/User_talk:Jauerback   \n",
       "\n",
       "                                                 comment   timestamp  \\\n",
       "10949  Archiving 2 discussion(s) to [[User talk:Jauer...  1700715423   \n",
       "\n",
       "                         user  ...       server_name server_script_path  \\\n",
       "10949  Lowercase sigmabot III  ...  en.wikipedia.org                 /w   \n",
       "\n",
       "         wiki                                      parsedcomment length_old  \\\n",
       "10949  enwiki  Archiving 2 discussion(s) to <a href=\"/wiki/Us...       7972   \n",
       "\n",
       "      length_new length_diff revision_diff length_bucket revision_bucket  \n",
       "10949       5825       -2147        105110          7201           10510  \n",
       "\n",
       "[1 rows x 26 columns]"
      ]
     },
     "execution_count": 12,
     "metadata": {},
     "output_type": "execute_result"
    }
   ],
   "source": [
    "df[df['bot']].sample()"
   ]
  },
  {
   "cell_type": "code",
   "execution_count": 13,
   "id": "9e0830dc-b47b-477a-a429-9d9204256bed",
   "metadata": {},
   "outputs": [
    {
     "data": {
      "text/html": [
       "<div>\n",
       "<style scoped>\n",
       "    .dataframe tbody tr th:only-of-type {\n",
       "        vertical-align: middle;\n",
       "    }\n",
       "\n",
       "    .dataframe tbody tr th {\n",
       "        vertical-align: top;\n",
       "    }\n",
       "\n",
       "    .dataframe thead th {\n",
       "        text-align: right;\n",
       "    }\n",
       "</style>\n",
       "<table border=\"1\" class=\"dataframe\">\n",
       "  <thead>\n",
       "    <tr style=\"text-align: right;\">\n",
       "      <th></th>\n",
       "      <th>$schema</th>\n",
       "      <th>meta</th>\n",
       "      <th>id</th>\n",
       "      <th>type</th>\n",
       "      <th>namespace</th>\n",
       "      <th>title</th>\n",
       "      <th>title_url</th>\n",
       "      <th>comment</th>\n",
       "      <th>timestamp</th>\n",
       "      <th>user</th>\n",
       "      <th>...</th>\n",
       "      <th>server_name</th>\n",
       "      <th>server_script_path</th>\n",
       "      <th>wiki</th>\n",
       "      <th>parsedcomment</th>\n",
       "      <th>length_old</th>\n",
       "      <th>length_new</th>\n",
       "      <th>length_diff</th>\n",
       "      <th>revision_diff</th>\n",
       "      <th>length_bucket</th>\n",
       "      <th>revision_bucket</th>\n",
       "    </tr>\n",
       "  </thead>\n",
       "  <tbody>\n",
       "    <tr>\n",
       "      <th>3661</th>\n",
       "      <td>/mediawiki/recentchange/1.0.0</td>\n",
       "      <td>{'uri': 'https://en.wikipedia.org/wiki/List_of...</td>\n",
       "      <td>1697199399</td>\n",
       "      <td>edit</td>\n",
       "      <td>0</td>\n",
       "      <td>List of United States tornadoes from September...</td>\n",
       "      <td>https://en.wikipedia.org/wiki/List_of_United_S...</td>\n",
       "      <td>/* November 20 event */ +2</td>\n",
       "      <td>1700691499</td>\n",
       "      <td>United States Man</td>\n",
       "      <td>...</td>\n",
       "      <td>en.wikipedia.org</td>\n",
       "      <td>/w</td>\n",
       "      <td>enwiki</td>\n",
       "      <td>&lt;span dir=\"auto\"&gt;&lt;span class=\"autocomment\"&gt;&lt;a ...</td>\n",
       "      <td>49758</td>\n",
       "      <td>50646</td>\n",
       "      <td>888</td>\n",
       "      <td>891</td>\n",
       "      <td>7262</td>\n",
       "      <td>89</td>\n",
       "    </tr>\n",
       "  </tbody>\n",
       "</table>\n",
       "<p>1 rows × 26 columns</p>\n",
       "</div>"
      ],
      "text/plain": [
       "                            $schema  \\\n",
       "3661  /mediawiki/recentchange/1.0.0   \n",
       "\n",
       "                                                   meta          id  type  \\\n",
       "3661  {'uri': 'https://en.wikipedia.org/wiki/List_of...  1697199399  edit   \n",
       "\n",
       "      namespace                                              title  \\\n",
       "3661          0  List of United States tornadoes from September...   \n",
       "\n",
       "                                              title_url  \\\n",
       "3661  https://en.wikipedia.org/wiki/List_of_United_S...   \n",
       "\n",
       "                         comment   timestamp               user  ...  \\\n",
       "3661  /* November 20 event */ +2  1700691499  United States Man  ...   \n",
       "\n",
       "           server_name server_script_path    wiki  \\\n",
       "3661  en.wikipedia.org                 /w  enwiki   \n",
       "\n",
       "                                          parsedcomment length_old length_new  \\\n",
       "3661  <span dir=\"auto\"><span class=\"autocomment\"><a ...      49758      50646   \n",
       "\n",
       "     length_diff revision_diff length_bucket revision_bucket  \n",
       "3661         888           891          7262              89  \n",
       "\n",
       "[1 rows x 26 columns]"
      ]
     },
     "execution_count": 13,
     "metadata": {},
     "output_type": "execute_result"
    }
   ],
   "source": [
    "df[~df['bot']].sample()"
   ]
  },
  {
   "cell_type": "code",
   "execution_count": 27,
   "id": "b07fab37-bce4-4fc0-bd7c-87a8159cd48c",
   "metadata": {},
   "outputs": [
    {
     "data": {
      "text/plain": [
       "(0.0, 0.0025)"
      ]
     },
     "execution_count": 27,
     "metadata": {},
     "output_type": "execute_result"
    },
    {
     "data": {
      "image/png": "[encoded data removed]",
      "text/plain": [
       "<Figure size 640x480 with 1 Axes>"
      ]
     },
     "metadata": {},
     "output_type": "display_data"
    }
   ],
   "source": [
    "ax1 = plt.subplot(111)\n",
    "df[~df['bot'] & (df['length_diff'].abs() < 4000)]['length_diff'].hist(ax=ax1, color='blue', label='Users', alpha=0.5, bins=1000, density=True)\n",
    "df[df['bot'] & (df['length_diff'].abs() < 4000)]['length_diff'].hist(ax=ax1, color='red', label='Bot', alpha=0.5, bins=1000, density=True)\n",
    "ax1.legend(loc='best')\n",
    "\n",
    "ax1.set_ylim((0, 0.0025))\n",
    "# ax1.set_xlim((-4000, 4000))"
   ]
  },
  {
   "cell_type": "code",
   "execution_count": 23,
   "id": "6cf11217-7b9c-4064-b4d8-de05a9088a51",
   "metadata": {},
   "outputs": [
    {
     "data": {
      "text/plain": [
       "(0.0, 100.0)"
      ]
     },
     "execution_count": 23,
     "metadata": {},
     "output_type": "execute_result"
    },
    {
     "data": {
      "image/png": "[encoded data removed]",
      "text/plain": [
       "<Figure size 640x480 with 1 Axes>"
      ]
     },
     "metadata": {},
     "output_type": "display_data"
    }
   ],
   "source": [
    "ax1 = plt.subplot(111)\n",
    "df[~df['bot']]['revision_diff'].hist(ax=ax1, color='blue', label='Users', alpha=0.5, bins=100)\n",
    "df[df['bot']]['revision_diff'].hist(ax=ax1, color='red', label='Bot', alpha=0.5)\n",
    "ax1.legend(loc='best')\n",
    "\n",
    "ax1.set_ylim((0, 100))"
   ]
  },
  {
   "cell_type": "code",
   "execution_count": 24,
   "id": "f8f3d139-d5bc-457c-a390-97205e256ce8",
   "metadata": {},
   "outputs": [
    {
     "data": {
      "text/plain": [
       "(0.0, 100000.0)"
      ]
     },
     "execution_count": 24,
     "metadata": {},
     "output_type": "execute_result"
    },
    {
     "data": {
      "image/png": "[encoded data removed]",
      "text/plain": [
       "<Figure size 640x480 with 1 Axes>"
      ]
     },
     "metadata": {},
     "output_type": "display_data"
    }
   ],
   "source": [
    "ax1 = plt.subplot(111)\n",
    "df[~df['bot']].plot.scatter(x='revision_diff', y='length_diff', ax=ax1, color='blue', label='Users', alpha=0.5)\n",
    "df[df['bot']].plot.scatter(x='revision_diff', y='length_diff', ax=ax1, color='red', label='Bot', alpha=0.5)\n",
    "ax1.legend(loc='best')\n",
    "\n",
    "ax1.set_ylim((-5000, 5000))\n",
    "ax1.set_xlim((0, 100000))"
   ]
  },
  {
   "cell_type": "markdown",
   "id": "1bd5701d-135d-4cd6-a9e1-096a848c636c",
   "metadata": {},
   "source": [
    "Observations:\n",
    "- real users makes bigger changes (>1k symbols per edit)\n",
    "- changes between +/- 1k edited changes make both users and bots, so events are not distinguishable. Users do bigger and mostly additional edits (distribution right-skewed with longer tails comparing to bot distribution)\n",
    "- bots has bot in the name (too obvious)\n",
    "- bots generates comments in structured form\n",
    "- revision diff is smaller for bots, it seems the reason is because bot need less time to make a change"
   ]
  },
  {
   "cell_type": "markdown",
   "id": "3afeac04-1efb-4086-bb2b-76ef76f68ca6",
   "metadata": {},
   "source": [
    "## Bot behaviour"
   ]
  },
  {
   "cell_type": "code",
   "execution_count": 34,
   "id": "81613201-8171-4298-8f2d-e4490fba468b",
   "metadata": {},
   "outputs": [
    {
     "name": "stderr",
     "output_type": "stream",
     "text": [
      "No artists with labels found to put in legend.  Note that artists whose label start with an underscore are ignored when legend() is called with no argument.\n"
     ]
    },
    {
     "data": {
      "text/plain": [
       "<matplotlib.legend.Legend at 0x2831f4cd0>"
      ]
     },
     "execution_count": 34,
     "metadata": {},
     "output_type": "execute_result"
    },
    {
     "data": {
      "image/png": "[encoded data removed]",
      "text/plain": [
       "<Figure size 640x480 with 1 Axes>"
      ]
     },
     "metadata": {},
     "output_type": "display_data"
    }
   ],
   "source": [
    "ax1 = plt.subplot(111)\n",
    "df[df['bot'] & (df['length_diff'].abs() < 4000)].groupby('user')['length_diff'].hist(ax=ax1, alpha=0.5, bins=50)\n",
    "ax1.legend(loc='best')\n",
    "\n",
    "# ax1.set_ylim((0, 12))"
   ]
  },
  {
   "cell_type": "code",
   "execution_count": 35,
   "id": "dfae3679-c050-4993-a690-b5959d8a252c",
   "metadata": {},
   "outputs": [
    {
     "data": {
      "text/html": [
       "<div>\n",
       "<style scoped>\n",
       "    .dataframe tbody tr th:only-of-type {\n",
       "        vertical-align: middle;\n",
       "    }\n",
       "\n",
       "    .dataframe tbody tr th {\n",
       "        vertical-align: top;\n",
       "    }\n",
       "\n",
       "    .dataframe thead tr th {\n",
       "        text-align: left;\n",
       "    }\n",
       "</style>\n",
       "<table border=\"1\" class=\"dataframe\">\n",
       "  <thead>\n",
       "    <tr>\n",
       "      <th></th>\n",
       "      <th>index</th>\n",
       "      <th>user</th>\n",
       "      <th colspan=\"3\" halign=\"left\">length_diff</th>\n",
       "      <th>mahalanobis</th>\n",
       "    </tr>\n",
       "    <tr>\n",
       "      <th></th>\n",
       "      <th></th>\n",
       "      <th></th>\n",
       "      <th>count</th>\n",
       "      <th>mean</th>\n",
       "      <th>std</th>\n",
       "      <th></th>\n",
       "    </tr>\n",
       "  </thead>\n",
       "  <tbody>\n",
       "    <tr>\n",
       "      <th>0</th>\n",
       "      <td>0</td>\n",
       "      <td>B-bot</td>\n",
       "      <td>2</td>\n",
       "      <td>-51.000000</td>\n",
       "      <td>0.000000</td>\n",
       "      <td>-inf</td>\n",
       "    </tr>\n",
       "    <tr>\n",
       "      <th>1</th>\n",
       "      <td>1</td>\n",
       "      <td>Citation bot</td>\n",
       "      <td>798</td>\n",
       "      <td>36.763158</td>\n",
       "      <td>97.181473</td>\n",
       "      <td>0.378294</td>\n",
       "    </tr>\n",
       "    <tr>\n",
       "      <th>2</th>\n",
       "      <td>2</td>\n",
       "      <td>Community Tech bot</td>\n",
       "      <td>4</td>\n",
       "      <td>-1929.250000</td>\n",
       "      <td>3998.451148</td>\n",
       "      <td>-0.482499</td>\n",
       "    </tr>\n",
       "    <tr>\n",
       "      <th>3</th>\n",
       "      <td>3</td>\n",
       "      <td>DatBot</td>\n",
       "      <td>135</td>\n",
       "      <td>84.244444</td>\n",
       "      <td>132.411980</td>\n",
       "      <td>0.636230</td>\n",
       "    </tr>\n",
       "    <tr>\n",
       "      <th>4</th>\n",
       "      <td>4</td>\n",
       "      <td>DeltaQuadBot</td>\n",
       "      <td>139</td>\n",
       "      <td>19.244604</td>\n",
       "      <td>125.929750</td>\n",
       "      <td>0.152820</td>\n",
       "    </tr>\n",
       "    <tr>\n",
       "      <th>5</th>\n",
       "      <td>5</td>\n",
       "      <td>DumbBOT</td>\n",
       "      <td>17</td>\n",
       "      <td>2267.294118</td>\n",
       "      <td>9801.714166</td>\n",
       "      <td>0.231316</td>\n",
       "    </tr>\n",
       "    <tr>\n",
       "      <th>6</th>\n",
       "      <td>6</td>\n",
       "      <td>EarwigBot</td>\n",
       "      <td>44</td>\n",
       "      <td>-27.363636</td>\n",
       "      <td>610.178895</td>\n",
       "      <td>-0.044845</td>\n",
       "    </tr>\n",
       "    <tr>\n",
       "      <th>7</th>\n",
       "      <td>7</td>\n",
       "      <td>Filedelinkerbot</td>\n",
       "      <td>39</td>\n",
       "      <td>-60.589744</td>\n",
       "      <td>96.041854</td>\n",
       "      <td>-0.630868</td>\n",
       "    </tr>\n",
       "    <tr>\n",
       "      <th>8</th>\n",
       "      <td>8</td>\n",
       "      <td>KiranBOT</td>\n",
       "      <td>35</td>\n",
       "      <td>1.742857</td>\n",
       "      <td>10.310882</td>\n",
       "      <td>0.169031</td>\n",
       "    </tr>\n",
       "    <tr>\n",
       "      <th>9</th>\n",
       "      <td>9</td>\n",
       "      <td>LivingBot</td>\n",
       "      <td>4</td>\n",
       "      <td>6.750000</td>\n",
       "      <td>7.410578</td>\n",
       "      <td>0.910860</td>\n",
       "    </tr>\n",
       "    <tr>\n",
       "      <th>10</th>\n",
       "      <td>10</td>\n",
       "      <td>Lowercase sigmabot III</td>\n",
       "      <td>585</td>\n",
       "      <td>-333.070085</td>\n",
       "      <td>9662.428095</td>\n",
       "      <td>-0.034471</td>\n",
       "    </tr>\n",
       "    <tr>\n",
       "      <th>11</th>\n",
       "      <td>11</td>\n",
       "      <td>MilHistBot</td>\n",
       "      <td>38</td>\n",
       "      <td>42.894737</td>\n",
       "      <td>28.426091</td>\n",
       "      <td>1.508992</td>\n",
       "    </tr>\n",
       "    <tr>\n",
       "      <th>12</th>\n",
       "      <td>12</td>\n",
       "      <td>MusikBot II</td>\n",
       "      <td>37</td>\n",
       "      <td>-8.891892</td>\n",
       "      <td>18.721324</td>\n",
       "      <td>-0.474961</td>\n",
       "    </tr>\n",
       "    <tr>\n",
       "      <th>13</th>\n",
       "      <td>13</td>\n",
       "      <td>Reports bot</td>\n",
       "      <td>34</td>\n",
       "      <td>14.529412</td>\n",
       "      <td>59.634866</td>\n",
       "      <td>0.243640</td>\n",
       "    </tr>\n",
       "    <tr>\n",
       "      <th>14</th>\n",
       "      <td>14</td>\n",
       "      <td>RichBot</td>\n",
       "      <td>3</td>\n",
       "      <td>487.333333</td>\n",
       "      <td>685.621130</td>\n",
       "      <td>0.710791</td>\n",
       "    </tr>\n",
       "    <tr>\n",
       "      <th>15</th>\n",
       "      <td>15</td>\n",
       "      <td>SheepLinterBot</td>\n",
       "      <td>11</td>\n",
       "      <td>-0.636364</td>\n",
       "      <td>5.427204</td>\n",
       "      <td>-0.117254</td>\n",
       "    </tr>\n",
       "    <tr>\n",
       "      <th>16</th>\n",
       "      <td>16</td>\n",
       "      <td>VRTS Migration Bot</td>\n",
       "      <td>2</td>\n",
       "      <td>1.000000</td>\n",
       "      <td>0.000000</td>\n",
       "      <td>inf</td>\n",
       "    </tr>\n",
       "    <tr>\n",
       "      <th>17</th>\n",
       "      <td>17</td>\n",
       "      <td>Yapperbot</td>\n",
       "      <td>45</td>\n",
       "      <td>745.533333</td>\n",
       "      <td>287.038531</td>\n",
       "      <td>2.597328</td>\n",
       "    </tr>\n",
       "  </tbody>\n",
       "</table>\n",
       "</div>"
      ],
      "text/plain": [
       "   index                    user length_diff                            \\\n",
       "                                       count         mean          std   \n",
       "0      0                   B-bot           2   -51.000000     0.000000   \n",
       "1      1            Citation bot         798    36.763158    97.181473   \n",
       "2      2      Community Tech bot           4 -1929.250000  3998.451148   \n",
       "3      3                  DatBot         135    84.244444   132.411980   \n",
       "4      4            DeltaQuadBot         139    19.244604   125.929750   \n",
       "5      5                 DumbBOT          17  2267.294118  9801.714166   \n",
       "6      6               EarwigBot          44   -27.363636   610.178895   \n",
       "7      7         Filedelinkerbot          39   -60.589744    96.041854   \n",
       "8      8                KiranBOT          35     1.742857    10.310882   \n",
       "9      9               LivingBot           4     6.750000     7.410578   \n",
       "10    10  Lowercase sigmabot III         585  -333.070085  9662.428095   \n",
       "11    11              MilHistBot          38    42.894737    28.426091   \n",
       "12    12             MusikBot II          37    -8.891892    18.721324   \n",
       "13    13             Reports bot          34    14.529412    59.634866   \n",
       "14    14                 RichBot           3   487.333333   685.621130   \n",
       "15    15          SheepLinterBot          11    -0.636364     5.427204   \n",
       "16    16      VRTS Migration Bot           2     1.000000     0.000000   \n",
       "17    17               Yapperbot          45   745.533333   287.038531   \n",
       "\n",
       "   mahalanobis  \n",
       "                \n",
       "0         -inf  \n",
       "1     0.378294  \n",
       "2    -0.482499  \n",
       "3     0.636230  \n",
       "4     0.152820  \n",
       "5     0.231316  \n",
       "6    -0.044845  \n",
       "7    -0.630868  \n",
       "8     0.169031  \n",
       "9     0.910860  \n",
       "10   -0.034471  \n",
       "11    1.508992  \n",
       "12   -0.474961  \n",
       "13    0.243640  \n",
       "14    0.710791  \n",
       "15   -0.117254  \n",
       "16         inf  \n",
       "17    2.597328  "
      ]
     },
     "execution_count": 35,
     "metadata": {},
     "output_type": "execute_result"
    }
   ],
   "source": [
    "# df[df['bot']].groupby('user')['length_diff'].hist(ax=ax1, alpha=0.5)\n",
    "\n",
    "_df = df[df['bot']].groupby(['user'], as_index=False).agg(\n",
    "                      {'length_diff':['count', 'mean','std']}).reset_index()\n",
    "_df.dropna(inplace=True)\n",
    "\n",
    "_df['mahalanobis'] = _df['length_diff']['mean'] / _df['length_diff']['std']\n",
    "_df"
   ]
  },
  {
   "cell_type": "code",
   "execution_count": 37,
   "id": "ba5ee012-8a52-4901-819a-9aebcf3425b2",
   "metadata": {},
   "outputs": [
    {
     "data": {
      "text/html": [
       "<div>\n",
       "<style scoped>\n",
       "    .dataframe tbody tr th:only-of-type {\n",
       "        vertical-align: middle;\n",
       "    }\n",
       "\n",
       "    .dataframe tbody tr th {\n",
       "        vertical-align: top;\n",
       "    }\n",
       "\n",
       "    .dataframe thead tr th {\n",
       "        text-align: left;\n",
       "    }\n",
       "</style>\n",
       "<table border=\"1\" class=\"dataframe\">\n",
       "  <thead>\n",
       "    <tr>\n",
       "      <th></th>\n",
       "      <th>index</th>\n",
       "      <th>user</th>\n",
       "      <th colspan=\"3\" halign=\"left\">length_diff</th>\n",
       "      <th>mahalanobis</th>\n",
       "    </tr>\n",
       "    <tr>\n",
       "      <th></th>\n",
       "      <th></th>\n",
       "      <th></th>\n",
       "      <th>count</th>\n",
       "      <th>mean</th>\n",
       "      <th>std</th>\n",
       "      <th></th>\n",
       "    </tr>\n",
       "  </thead>\n",
       "  <tbody>\n",
       "    <tr>\n",
       "      <th>0</th>\n",
       "      <td>0</td>\n",
       "      <td>01101010</td>\n",
       "      <td>4</td>\n",
       "      <td>18.500000</td>\n",
       "      <td>12.662280</td>\n",
       "      <td>1.461032</td>\n",
       "    </tr>\n",
       "    <tr>\n",
       "      <th>3</th>\n",
       "      <td>3</td>\n",
       "      <td>100.16.220.216</td>\n",
       "      <td>2</td>\n",
       "      <td>2.000000</td>\n",
       "      <td>1.414214</td>\n",
       "      <td>1.414214</td>\n",
       "    </tr>\n",
       "    <tr>\n",
       "      <th>4</th>\n",
       "      <td>4</td>\n",
       "      <td>100.38.103.195</td>\n",
       "      <td>2</td>\n",
       "      <td>20.500000</td>\n",
       "      <td>3.535534</td>\n",
       "      <td>5.798276</td>\n",
       "    </tr>\n",
       "    <tr>\n",
       "      <th>6</th>\n",
       "      <td>6</td>\n",
       "      <td>101.183.49.215</td>\n",
       "      <td>2</td>\n",
       "      <td>322.500000</td>\n",
       "      <td>30.405592</td>\n",
       "      <td>10.606602</td>\n",
       "    </tr>\n",
       "    <tr>\n",
       "      <th>9</th>\n",
       "      <td>9</td>\n",
       "      <td>103.119.140.70</td>\n",
       "      <td>3</td>\n",
       "      <td>138.333333</td>\n",
       "      <td>118.158086</td>\n",
       "      <td>1.170748</td>\n",
       "    </tr>\n",
       "    <tr>\n",
       "      <th>...</th>\n",
       "      <td>...</td>\n",
       "      <td>...</td>\n",
       "      <td>...</td>\n",
       "      <td>...</td>\n",
       "      <td>...</td>\n",
       "      <td>...</td>\n",
       "    </tr>\n",
       "    <tr>\n",
       "      <th>2280</th>\n",
       "      <td>2280</td>\n",
       "      <td>Zsinj</td>\n",
       "      <td>3</td>\n",
       "      <td>60.333333</td>\n",
       "      <td>82.233408</td>\n",
       "      <td>0.733684</td>\n",
       "    </tr>\n",
       "    <tr>\n",
       "      <th>2283</th>\n",
       "      <td>2283</td>\n",
       "      <td>Zyxw</td>\n",
       "      <td>84</td>\n",
       "      <td>85.023810</td>\n",
       "      <td>106.038295</td>\n",
       "      <td>0.801822</td>\n",
       "    </tr>\n",
       "    <tr>\n",
       "      <th>2286</th>\n",
       "      <td>2286</td>\n",
       "      <td>খাত্তাব হাসান</td>\n",
       "      <td>4</td>\n",
       "      <td>127.250000</td>\n",
       "      <td>233.972042</td>\n",
       "      <td>0.543868</td>\n",
       "    </tr>\n",
       "    <tr>\n",
       "      <th>2288</th>\n",
       "      <td>2288</td>\n",
       "      <td>庄育航</td>\n",
       "      <td>3</td>\n",
       "      <td>-4.000000</td>\n",
       "      <td>8.000000</td>\n",
       "      <td>-0.500000</td>\n",
       "    </tr>\n",
       "    <tr>\n",
       "      <th>2289</th>\n",
       "      <td>2289</td>\n",
       "      <td>清风与明月</td>\n",
       "      <td>8</td>\n",
       "      <td>-9.250000</td>\n",
       "      <td>11.055057</td>\n",
       "      <td>-0.836721</td>\n",
       "    </tr>\n",
       "  </tbody>\n",
       "</table>\n",
       "<p>1171 rows × 6 columns</p>\n",
       "</div>"
      ],
      "text/plain": [
       "     index            user length_diff                         mahalanobis\n",
       "                                 count        mean         std            \n",
       "0        0        01101010           4   18.500000   12.662280    1.461032\n",
       "3        3  100.16.220.216           2    2.000000    1.414214    1.414214\n",
       "4        4  100.38.103.195           2   20.500000    3.535534    5.798276\n",
       "6        6  101.183.49.215           2  322.500000   30.405592   10.606602\n",
       "9        9  103.119.140.70           3  138.333333  118.158086    1.170748\n",
       "...    ...             ...         ...         ...         ...         ...\n",
       "2280  2280           Zsinj           3   60.333333   82.233408    0.733684\n",
       "2283  2283            Zyxw          84   85.023810  106.038295    0.801822\n",
       "2286  2286   খাত্তাব হাসান           4  127.250000  233.972042    0.543868\n",
       "2288  2288             庄育航           3   -4.000000    8.000000   -0.500000\n",
       "2289  2289           清风与明月           8   -9.250000   11.055057   -0.836721\n",
       "\n",
       "[1171 rows x 6 columns]"
      ]
     },
     "execution_count": 37,
     "metadata": {},
     "output_type": "execute_result"
    }
   ],
   "source": [
    "_df = df[~df['bot']].groupby(['user'], as_index=False).agg(\n",
    "                      {'length_diff':['count', 'mean','std']}).reset_index()\n",
    "_df.dropna(inplace=True)\n",
    "\n",
    "_df['mahalanobis'] = _df['length_diff']['mean'] / _df['length_diff']['std']\n",
    "_df"
   ]
  },
  {
   "cell_type": "code",
   "execution_count": null,
   "id": "648157fe-e92b-4e01-9afc-7d116019a772",
   "metadata": {},
   "outputs": [],
   "source": []
  },
  {
   "cell_type": "code",
   "execution_count": 38,
   "id": "b0ab36e7-7cf1-424c-8b9b-220979f56e05",
   "metadata": {},
   "outputs": [
    {
     "data": {
      "text/plain": [
       "array(['DatBot', 'KiranBOT', 'DeltaQuadBot', 'Citation bot', 'EarwigBot',\n",
       "       'Filedelinkerbot', 'Reports bot', 'MusikBot II', 'B-bot',\n",
       "       'VRTS Migration Bot', 'Community Tech bot', 'RichBot',\n",
       "       'Lowercase sigmabot III', 'Yapperbot', 'MilHistBot', 'LivingBot',\n",
       "       'DumbBOT', 'SheepLinterBot'], dtype=object)"
      ]
     },
     "execution_count": 38,
     "metadata": {},
     "output_type": "execute_result"
    }
   ],
   "source": [
    "df[df['bot']]['user'].unique()"
   ]
  },
  {
   "cell_type": "code",
   "execution_count": 39,
   "id": "8b267fb6-fc1b-4894-ac0a-ce2824942a41",
   "metadata": {},
   "outputs": [
    {
     "data": {
      "text/plain": [
       "array(['[[WP:FRS|Feedback Request Service]] notification on a \"Wikipedia style and naming\" request for comment (1/2 this month). You can unsubscribe at [[WP:FRS]].',\n",
       "       '[[WP:Bots|Bot]] · [[User:EarwigBot#Task 2|Task 2]] · Updating statistics for [[WP:WPAFC|WikiProject Articles for creation]].',\n",
       "       'Updating new discussions: [[Talk:Alicia Moreau de Justo]]',\n",
       "       'Archiving 1 discussion(s) from [[Talk:Jordan Peterson]]) (bot',\n",
       "       'Archiving 2 discussion(s) to [[Wikipedia talk:WikiProject Women in Red/Archive 134]]) (bot',\n",
       "       'Archiving 2 discussion(s) from [[Talk:Unitarianism]]) (bot',\n",
       "       'updated log - location',\n",
       "       'Reverted edit by [[Special:Contribs/Filedelinkerbot|Filedelinkerbot]] ([[User talk:Filedelinkerbot|talk]]) to last version by 124.104.31.88',\n",
       "       'Archiving 2 discussion(s) to [[User talk:ClaudineChionh/Archive 2023]]) (bot',\n",
       "       'Alter: pages. Formatted [[WP:ENDASH|dashes]]. | [[:en:WP:UCB|Use this bot]]. [[:en:WP:DBUG|Report bugs]]. | Suggested by Abductive | [[Category:Buddhist philosophical concepts]] | #UCB_Category 161/190',\n",
       "       'Removed proxy/dead URL that duplicated identifier. | [[:en:WP:UCB|Use this bot]]. [[:en:WP:DBUG|Report bugs]]. | Suggested by Headbomb | #UCB_toolbar',\n",
       "       'Alter: template type, title. | [[:en:WP:UCB|Use this bot]]. [[:en:WP:DBUG|Report bugs]]. | Suggested by Spinixster | [[Category:American bisexual musicians]] | #UCB_Category 44/102',\n",
       "       'Alter: url, issue. URLs might have been anonymized. Formatted [[WP:ENDASH|dashes]]. | [[:en:WP:UCB|Use this bot]]. [[:en:WP:DBUG|Report bugs]]. | Suggested by Whoop whoop pull up | #UCB_webform 758/1083',\n",
       "       'Add: date. | [[:en:WP:UCB|Use this bot]]. [[:en:WP:DBUG|Report bugs]]. | Suggested by VulcanSphere | [[Category:Book publishing companies of the United States]] | #UCB_Category 183/199',\n",
       "       'Archiving 1 discussion(s) from [[User talk:Pigsonthewing]]) (bot',\n",
       "       'Archiving 1 discussion(s) to [[Talk:Orders of magnitude (length)/Archive 1]]) (bot',\n",
       "       'Tagging with {{[[Template:Orphaned non-free revisions|Orphaned non-free revisions]]}}, see [[WP:IMAGERES|instructions]]  ([[WP:BOT|BOT]] - [[User:DatBot/NonFreeImageResizer/Run|disable]])',\n",
       "       'Updating new discussions: [[Talk:Five Point Someone]]',\n",
       "       'Add: bibcode. | [[:en:WP:UCB|Use this bot]]. [[:en:WP:DBUG|Report bugs]]. | Suggested by Whoop whoop pull up | #UCB_webform 335/1083'],\n",
       "      dtype=object)"
      ]
     },
     "execution_count": 39,
     "metadata": {},
     "output_type": "execute_result"
    }
   ],
   "source": [
    "df[df['bot']]['comment'].sample(20).unique()"
   ]
  },
  {
   "cell_type": "code",
   "execution_count": null,
   "id": "ef69397e-91f6-4113-8bc1-af578fb126f7",
   "metadata": {},
   "outputs": [],
   "source": []
  },
  {
   "cell_type": "code",
   "execution_count": null,
   "id": "63fc551a-1cbb-4a23-bbf4-a1fa1c3b3dc9",
   "metadata": {},
   "outputs": [],
   "source": []
  },
  {
   "cell_type": "markdown",
   "id": "45a318a0-b313-4597-8455-0006e845e207",
   "metadata": {},
   "source": [
    "Observations:\n",
    "\n",
    "- The bot title and comment seems to be significant features because uses special characters and more-less structured.\n",
    "- Bots has different distributions: some do inserts and deletes that leads to two-modes bumps, some does small changes in page"
   ]
  },
  {
   "cell_type": "markdown",
   "id": "73f14923-ab2e-44f1-b85f-f6b98f88934d",
   "metadata": {},
   "source": [
    "# Collect data for model training"
   ]
  },
  {
   "cell_type": "code",
   "execution_count": 40,
   "id": "830e8c56-8846-4324-a070-92652bc9d50e",
   "metadata": {},
   "outputs": [],
   "source": [
    "# fetching_time_sec = 30000\n",
    "# url = 'https://stream.wikimedia.org/v2/stream/recentchange'\n",
    "# message_types = {\"edit\"}\n",
    "# wikis = {\"enwiki\"}#, \"wikidatawiki\"}\n",
    "# wikis_str = \"_\".join(wikis)\n",
    "\n",
    "# with open('sample1.jsonl', 'w') as fout:\n",
    "#     for item in fetch_users(EventSource(url), fetching_time_sec, message_types, wikis):\n",
    "#         fout.write(json.dumps(item) + \"\\n\")\n"
   ]
  },
  {
   "cell_type": "markdown",
   "id": "7db193d0-beb5-45e6-ae7a-5ea92491d462",
   "metadata": {},
   "source": [
    "# Read data"
   ]
  },
  {
   "cell_type": "code",
   "execution_count": 41,
   "id": "47792813-49ff-41dc-bee9-9303d1e1811c",
   "metadata": {},
   "outputs": [
    {
     "data": {
      "text/plain": [
       "11571"
      ]
     },
     "execution_count": 41,
     "metadata": {},
     "output_type": "execute_result"
    }
   ],
   "source": [
    "with open('sample_unique_users.jsonl', 'r') as fin:\n",
    "    samples = list(map(json.loads, fin.readlines()))\n",
    "\n",
    "df = pd.DataFrame(samples)\n",
    "\n",
    "df['length_old'] = df.apply(lambda x: x['length']['old'], axis=1)\n",
    "df['length_new'] = df.apply(lambda x: x['length']['new'], axis=1)\n",
    "df['length_diff'] = df['length_new'] - df['length_old']\n",
    "df['revision_diff'] = df.apply(lambda x: x['revision']['new'], axis=1) - df.apply(lambda x: x['revision']['old'], axis=1)\n",
    "\n",
    "## split revision and length to buckets\n",
    "df['length_bucket'] = df.length_diff.map(lambda x: get_bin(x, bin_width=50 ,start=df.length_diff.min()))\n",
    "df['revision_bucket'] = df.revision_diff.map(lambda x: get_bin(x, bin_width=10 ,start=df.revision_diff.min()))\n",
    "\n",
    "df.drop_duplicates(['user', 'title', 'comment'], inplace=True)\n",
    "\n",
    "len(df)"
   ]
  },
  {
   "cell_type": "code",
   "execution_count": 42,
   "id": "e08114e1-8aa4-4f2e-a978-6e43c9346298",
   "metadata": {},
   "outputs": [
    {
     "data": {
      "text/html": [
       "<div>\n",
       "<style scoped>\n",
       "    .dataframe tbody tr th:only-of-type {\n",
       "        vertical-align: middle;\n",
       "    }\n",
       "\n",
       "    .dataframe tbody tr th {\n",
       "        vertical-align: top;\n",
       "    }\n",
       "\n",
       "    .dataframe thead th {\n",
       "        text-align: right;\n",
       "    }\n",
       "</style>\n",
       "<table border=\"1\" class=\"dataframe\">\n",
       "  <thead>\n",
       "    <tr style=\"text-align: right;\">\n",
       "      <th></th>\n",
       "      <th>user</th>\n",
       "      <th>bot</th>\n",
       "      <th>comment</th>\n",
       "      <th>count</th>\n",
       "    </tr>\n",
       "  </thead>\n",
       "  <tbody>\n",
       "    <tr>\n",
       "      <th>4231</th>\n",
       "      <td>RoyMM</td>\n",
       "      <td>False</td>\n",
       "      <td>Uploaded the newly released IMAX release image</td>\n",
       "      <td>1</td>\n",
       "    </tr>\n",
       "    <tr>\n",
       "      <th>5650</th>\n",
       "      <td>24.108.18.81</td>\n",
       "      <td>False</td>\n",
       "      <td>Nova Scotia reference; + QC update from https:...</td>\n",
       "      <td>1</td>\n",
       "    </tr>\n",
       "    <tr>\n",
       "      <th>5649</th>\n",
       "      <td>24.108.18.81</td>\n",
       "      <td>False</td>\n",
       "      <td>Nova Scotia update from https://novascotia.ca/...</td>\n",
       "      <td>1</td>\n",
       "    </tr>\n",
       "    <tr>\n",
       "      <th>5648</th>\n",
       "      <td>24.113.170.82</td>\n",
       "      <td>False</td>\n",
       "      <td>[[WP:AES|←]]Changed redirect target from [[49e...</td>\n",
       "      <td>1</td>\n",
       "    </tr>\n",
       "    <tr>\n",
       "      <th>5647</th>\n",
       "      <td>24.115.150.125</td>\n",
       "      <td>False</td>\n",
       "      <td></td>\n",
       "      <td>1</td>\n",
       "    </tr>\n",
       "    <tr>\n",
       "      <th>...</th>\n",
       "      <td>...</td>\n",
       "      <td>...</td>\n",
       "      <td>...</td>\n",
       "      <td>...</td>\n",
       "    </tr>\n",
       "    <tr>\n",
       "      <th>4</th>\n",
       "      <td>Caber33</td>\n",
       "      <td>False</td>\n",
       "      <td></td>\n",
       "      <td>90</td>\n",
       "    </tr>\n",
       "    <tr>\n",
       "      <th>3</th>\n",
       "      <td>Simeon</td>\n",
       "      <td>False</td>\n",
       "      <td>add banner shell</td>\n",
       "      <td>101</td>\n",
       "    </tr>\n",
       "    <tr>\n",
       "      <th>2</th>\n",
       "      <td>Johnpacklambert</td>\n",
       "      <td>False</td>\n",
       "      <td></td>\n",
       "      <td>106</td>\n",
       "    </tr>\n",
       "    <tr>\n",
       "      <th>1</th>\n",
       "      <td>DeltaQuadBot</td>\n",
       "      <td>False</td>\n",
       "      <td>(Image Revdel) Orphaned non-free file(s) delet...</td>\n",
       "      <td>136</td>\n",
       "    </tr>\n",
       "    <tr>\n",
       "      <th>0</th>\n",
       "      <td>Simeon</td>\n",
       "      <td>False</td>\n",
       "      <td>[[Wikipedia:WikiProject|WikiProject]] tagging</td>\n",
       "      <td>142</td>\n",
       "    </tr>\n",
       "  </tbody>\n",
       "</table>\n",
       "<p>8463 rows × 4 columns</p>\n",
       "</div>"
      ],
      "text/plain": [
       "                 user    bot  \\\n",
       "4231            RoyMM  False   \n",
       "5650     24.108.18.81  False   \n",
       "5649     24.108.18.81  False   \n",
       "5648    24.113.170.82  False   \n",
       "5647   24.115.150.125  False   \n",
       "...               ...    ...   \n",
       "4             Caber33  False   \n",
       "3              Simeon  False   \n",
       "2     Johnpacklambert  False   \n",
       "1        DeltaQuadBot  False   \n",
       "0              Simeon  False   \n",
       "\n",
       "                                                comment  count  \n",
       "4231     Uploaded the newly released IMAX release image      1  \n",
       "5650  Nova Scotia reference; + QC update from https:...      1  \n",
       "5649  Nova Scotia update from https://novascotia.ca/...      1  \n",
       "5648  [[WP:AES|←]]Changed redirect target from [[49e...      1  \n",
       "5647                                                         1  \n",
       "...                                                 ...    ...  \n",
       "4                                                           90  \n",
       "3                                      add banner shell    101  \n",
       "2                                                          106  \n",
       "1     (Image Revdel) Orphaned non-free file(s) delet...    136  \n",
       "0         [[Wikipedia:WikiProject|WikiProject]] tagging    142  \n",
       "\n",
       "[8463 rows x 4 columns]"
      ]
     },
     "execution_count": 42,
     "metadata": {},
     "output_type": "execute_result"
    }
   ],
   "source": [
    "df[['user', 'bot' ,'comment']].value_counts().reset_index().sort_values('count', ascending=True)"
   ]
  },
  {
   "cell_type": "code",
   "execution_count": 43,
   "id": "22ea6e7c-0ce2-4d47-81fe-a4b1a063429a",
   "metadata": {},
   "outputs": [],
   "source": [
    "import math \n",
    "import hashlib\n",
    "import mmh3 \n",
    "from bitarray import bitarray \n",
    "  \n",
    "  \n",
    "class BloomFilterBaseline(object): \n",
    "    def __init__(self, filter_capacity, fp_error_rate):\n",
    "        # number of stored items in bloom filter, spreaded between bits (mask)\n",
    "        self._filter_capacity = filter_capacity\n",
    "        self._fp_error_rate = fp_error_rate\n",
    "        self._size = BloomFilter.calculate_size(self._filter_capacity, self._fp_error_rate)\n",
    "        self._hash_functions = [\n",
    "            lambda x: int.from_bytes(hashlib.sha256(x.encode('utf-8')).digest(), 'big'), \n",
    "            # mmh3.hash\n",
    "        ]\n",
    "        self._mask_array = [0] * self._size\n",
    "\n",
    "    @staticmethod\n",
    "    def calculate_size(items_number, fp_error_rate):\n",
    "        ''' \n",
    "        Size of bit array(m) to used using formula:\n",
    "        m = -(n * lg(p)) / (lg(2)^2) \n",
    "        '''        \n",
    "        return int(-(items_number * (math.log(fp_error_rate) / (math.log(2) ** 2))))\n",
    "\n",
    "    def fit(self, X, Y):\n",
    "        for x, y in zip(X, Y):\n",
    "            if not y:\n",
    "                continue\n",
    "            for hash_func in self._hash_functions:\n",
    "                index = hash_func(x) % self._size\n",
    "                self._mask_array[index] = 1\n",
    "\n",
    "    def predict_one(self, item):\n",
    "        for hash_func in self._hash_functions:\n",
    "            index = hash_func(item) % self._size\n",
    "            if not self._mask_array[index]:\n",
    "                return False\n",
    "        return True\n",
    "\n",
    "    def predict(self, items):\n",
    "        return [self.predict_one(item) for item in items]\n",
    "\n",
    "\n",
    "\n",
    "class BloomFilter(object): \n",
    "    def __init__(self, filter_capacity, fp_error_rate):\n",
    "        # number of stored items in bloom filter, spreaded between bits (mask)\n",
    "        self._filter_capacity = filter_capacity\n",
    "        self._fp_error_rate = fp_error_rate\n",
    "        # number of buckets\n",
    "        self._num_buckets = BloomFilter.calculate_num_buckets(self._filter_capacity, self._fp_error_rate)\n",
    "        # number of hash functions to use for registering single record (functions differs by seed)\n",
    "        self._num_hash_funcs = BloomFilter.calculate_num_of_hash_func(self._filter_capacity, self._num_buckets)\n",
    "        \n",
    "        self._buckets_array = [0] * self._num_buckets\n",
    "\n",
    "    @staticmethod\n",
    "    def calculate_num_buckets(items_number, fp_error_rate):\n",
    "        ''' \n",
    "        Size of bit array(m) to used using formula:\n",
    "        m = -(n * lg(p)) / (lg(2)^2) \n",
    "        '''        \n",
    "        return int(-(items_number * (math.log(fp_error_rate) / (math.log(2) ** 2))))\n",
    "\n",
    "    @staticmethod\n",
    "    def calculate_num_of_hash_func(items_number, num_bits):\n",
    "        return max(1, round(num_bits / items_number * math.log(2)))\n",
    "\n",
    "    def _calc_hash(self, x, seed):\n",
    "        return mmh3.hash(x, seed) % self._num_buckets\n",
    "\n",
    "    def _add(self, x):\n",
    "        for seed in range(self._num_hash_funcs):\n",
    "            index = self._calc_hash(x, seed)\n",
    "            self._buckets_array[index] = 1\n",
    "   \n",
    "    def fit(self, X, Y):\n",
    "        for x, y in zip(X, Y):\n",
    "            if not y:\n",
    "                continue\n",
    "            self._add(x)\n",
    "            \n",
    "    def predict_one(self, x):\n",
    "        for seed in range(self._num_hash_funcs):\n",
    "            index = self._calc_hash(x, seed)\n",
    "            if not self._buckets_array[index]:\n",
    "                return False\n",
    "        return True\n",
    "\n",
    "    def predict(self, items):\n",
    "        return [self.predict_one(item) for item in items]\n"
   ]
  },
  {
   "cell_type": "code",
   "execution_count": 44,
   "id": "2f7c74ed-6e6a-4af9-a503-38bef6616bed",
   "metadata": {},
   "outputs": [],
   "source": [
    "def extract_features(item):\n",
    "    return item['user']\n",
    "\n",
    "def extract_label(item):\n",
    "    return item['bot']"
   ]
  },
  {
   "cell_type": "code",
   "execution_count": 53,
   "id": "3896c7b8-e057-41eb-abe9-c1e3f1acf849",
   "metadata": {},
   "outputs": [],
   "source": [
    "import random\n",
    "import numpy as np\n",
    "from sklearn.metrics import classification_report, f1_score, confusion_matrix, ConfusionMatrixDisplay\n",
    "from sklearn.model_selection import train_test_split\n",
    "\n",
    "random.seed(42)\n",
    "\n",
    "def get_train_test_random(_df, _extract_features=extract_features, _extract_label=extract_label):\n",
    "    X = list(map(_extract_features, df.to_dict('records')))\n",
    "    Y = list(map(_extract_label, df.to_dict('records')))\n",
    "    X_train, X_test, Y_train, Y_test = train_test_split(X, Y, test_size=0.2, random_state=42)\n",
    "    return X_train, X_test, Y_train, Y_test\n",
    "\n",
    "def get_train_test_users(_df, _extract_features=extract_features, _extract_label=extract_label):\n",
    "    names = df.user.unique()\n",
    "    names_train = random.choices(names, k=int(len(names)*0.8))\n",
    "    df_train = df[df.user.isin(names_train)]\n",
    "    df_test = df[~df.user.isin(names_train)]\n",
    "    \n",
    "    X_train = list(map(extract_features, df_train.to_dict('records')))\n",
    "    Y_train = list(map(extract_label, df_train.to_dict('records')))\n",
    "    \n",
    "    X_test = list(map(extract_features, df_test.to_dict('records')))\n",
    "    Y_test = list(map(extract_label, df_test.to_dict('records')))\n",
    "    return X_train, X_test, Y_train, Y_test"
   ]
  },
  {
   "cell_type": "code",
   "execution_count": 46,
   "id": "2c5ac39b-1510-45de-ac67-e967468fce09",
   "metadata": {},
   "outputs": [],
   "source": [
    "X_train, X_test, Y_train, Y_test = get_train_test_random(df)"
   ]
  },
  {
   "cell_type": "code",
   "execution_count": null,
   "id": "8820988d-d888-470a-8b63-6b79a56df602",
   "metadata": {},
   "outputs": [],
   "source": []
  },
  {
   "cell_type": "markdown",
   "id": "52b66cf6-741c-42fe-af44-0dc5ae818981",
   "metadata": {},
   "source": [
    "### Sanity check"
   ]
  },
  {
   "cell_type": "code",
   "execution_count": 47,
   "id": "9592f53c-1ec5-4d72-bed3-8977ee0a0a78",
   "metadata": {},
   "outputs": [],
   "source": [
    "model = BloomFilter(np.sum(Y_train), 0.01)\n",
    "model.fit(X_train, Y_train)"
   ]
  },
  {
   "cell_type": "code",
   "execution_count": 48,
   "id": "6e512ca0-8758-4ff4-a00e-ec7b9ed0546c",
   "metadata": {},
   "outputs": [],
   "source": [
    "y_pred = model.predict(X_test)"
   ]
  },
  {
   "cell_type": "code",
   "execution_count": 49,
   "id": "6b078b84-8b04-424f-8006-97af4608f28e",
   "metadata": {},
   "outputs": [
    {
     "name": "stdout",
     "output_type": "stream",
     "text": [
      "              precision    recall  f1-score   support\n",
      "\n",
      "       False       1.00      0.98      0.99      1974\n",
      "        True       0.88      1.00      0.94       341\n",
      "\n",
      "    accuracy                           0.98      2315\n",
      "   macro avg       0.94      0.99      0.96      2315\n",
      "weighted avg       0.98      0.98      0.98      2315\n",
      "\n"
     ]
    }
   ],
   "source": [
    "print(classification_report(Y_test, y_pred))"
   ]
  },
  {
   "cell_type": "code",
   "execution_count": 57,
   "id": "ea8aa751-35f0-4333-aee5-3a8b0fda1262",
   "metadata": {},
   "outputs": [
    {
     "data": {
      "text/plain": [
       "<sklearn.metrics._plot.confusion_matrix.ConfusionMatrixDisplay at 0x1758ce210>"
      ]
     },
     "execution_count": 57,
     "metadata": {},
     "output_type": "execute_result"
    },
    {
     "data": {
      "image/png": "[encoded data removed]",
      "text/plain": [
       "<Figure size 640x480 with 2 Axes>"
      ]
     },
     "metadata": {},
     "output_type": "display_data"
    }
   ],
   "source": [
    "disp = ConfusionMatrixDisplay(confusion_matrix=confusion_matrix(Y_test, y_pred) / len(Y_test))\n",
    "disp.plot()"
   ]
  },
  {
   "cell_type": "code",
   "execution_count": 58,
   "id": "decb9f5b-6400-467b-8621-13d50d3d31bd",
   "metadata": {},
   "outputs": [
    {
     "data": {
      "text/plain": [
       "0.9366391184573004"
      ]
     },
     "execution_count": 58,
     "metadata": {},
     "output_type": "execute_result"
    }
   ],
   "source": [
    "f1_score(Y_test, y_pred)"
   ]
  },
  {
   "cell_type": "markdown",
   "id": "3a49b9d2-ab3d-4cba-8480-0601be1525ff",
   "metadata": {},
   "source": [
    "It looks classifier works as bot detection by names (it remembers user name of bots)."
   ]
  },
  {
   "cell_type": "markdown",
   "id": "0434cb59-c543-450c-86d8-02ba310daace",
   "metadata": {},
   "source": [
    "# Configuration search"
   ]
  },
  {
   "cell_type": "markdown",
   "id": "4f778f26-6e3a-4497-b82c-c8bab6a5e7f0",
   "metadata": {},
   "source": [
    "## Features\n",
    "\n",
    "- user name\n",
    "- comment\n",
    "- edit size\n",
    "- revision diff\n",
    "- edit + revision diff"
   ]
  },
  {
   "cell_type": "markdown",
   "id": "8ecfaf67-319c-43ae-999b-69617f09f8a5",
   "metadata": {},
   "source": [
    "### user name\n",
    "\n",
    "use split by users"
   ]
  },
  {
   "cell_type": "code",
   "execution_count": 59,
   "id": "14e0725c-ac87-44a7-9685-abf3e0e69792",
   "metadata": {},
   "outputs": [
    {
     "data": {
      "text/plain": [
       "0.0"
      ]
     },
     "execution_count": 59,
     "metadata": {},
     "output_type": "execute_result"
    }
   ],
   "source": [
    "def extract_features(item):\n",
    "    return item['user']\n",
    "\n",
    "X_train, X_test, Y_train, Y_test = get_train_test_users(df, _extract_features=extract_features)\n",
    "\n",
    "model = BloomFilter(np.sum(Y_train), 0.01)\n",
    "model.fit(X_train, Y_train)\n",
    "\n",
    "y_pred = np.array(model.predict(X_test))\n",
    "\n",
    "f1_score(Y_test, y_pred)"
   ]
  },
  {
   "cell_type": "code",
   "execution_count": 60,
   "id": "ac768e69-d036-468f-bfb2-9e0f48c466b1",
   "metadata": {},
   "outputs": [
    {
     "data": {
      "text/plain": [
       "<sklearn.metrics._plot.confusion_matrix.ConfusionMatrixDisplay at 0x175a16390>"
      ]
     },
     "execution_count": 60,
     "metadata": {},
     "output_type": "execute_result"
    },
    {
     "data": {
      "image/png": "[encoded data removed]",
      "text/plain": [
       "<Figure size 640x480 with 2 Axes>"
      ]
     },
     "metadata": {},
     "output_type": "display_data"
    }
   ],
   "source": [
    "disp = ConfusionMatrixDisplay(confusion_matrix=confusion_matrix(Y_test, y_pred) / len(Y_test))\n",
    "disp.plot()"
   ]
  },
  {
   "cell_type": "markdown",
   "id": "33b6b9df-3a36-4534-943d-4cdd3f2c5ff4",
   "metadata": {},
   "source": [
    "False positive rate is ~0.1% that is close to teoretical."
   ]
  },
  {
   "cell_type": "code",
   "execution_count": null,
   "id": "71f844f0-5b7b-4c80-9616-52c9d850fd6c",
   "metadata": {},
   "outputs": [],
   "source": []
  },
  {
   "cell_type": "markdown",
   "id": "8be86de1-2778-449c-98f1-3522143215df",
   "metadata": {},
   "source": [
    "### comment "
   ]
  },
  {
   "cell_type": "code",
   "execution_count": 61,
   "id": "bfbf3bec-bcec-4710-baa3-a548c3f4f15d",
   "metadata": {},
   "outputs": [],
   "source": [
    "def extract_features(item):\n",
    "    return item['comment']"
   ]
  },
  {
   "cell_type": "markdown",
   "id": "dd326553-9d43-4497-bf00-08c35880a231",
   "metadata": {},
   "source": [
    "#### Split randomly"
   ]
  },
  {
   "cell_type": "code",
   "execution_count": 62,
   "id": "ff0f0466-9eb1-41d3-85ff-593420ebe4f7",
   "metadata": {},
   "outputs": [
    {
     "data": {
      "text/plain": [
       "0.22670025188916876"
      ]
     },
     "execution_count": 62,
     "metadata": {},
     "output_type": "execute_result"
    }
   ],
   "source": [
    "X_train, X_test, Y_train, Y_test = get_train_test_random(df, _extract_features=extract_features)\n",
    "\n",
    "model = BloomFilter(np.sum(Y_train), 0.01)\n",
    "model.fit(X_train, Y_train)\n",
    "\n",
    "y_pred = model.predict(X_test)\n",
    "\n",
    "f1_score(Y_test, y_pred)"
   ]
  },
  {
   "cell_type": "markdown",
   "id": "b0c0cc8f-1ec6-46e9-ab7c-aa871838bf43",
   "metadata": {},
   "source": [
    "#### Split by user"
   ]
  },
  {
   "cell_type": "code",
   "execution_count": 63,
   "id": "44c5792c-42a5-4ed3-9268-6bf49869bf45",
   "metadata": {},
   "outputs": [
    {
     "data": {
      "text/plain": [
       "0.007772020725388601"
      ]
     },
     "execution_count": 63,
     "metadata": {},
     "output_type": "execute_result"
    }
   ],
   "source": [
    "X_train, X_test, Y_train, Y_test = get_train_test_users(df, _extract_features=extract_features)\n",
    "\n",
    "model = BloomFilter(np.sum(Y_train), 0.01)\n",
    "model.fit(X_train, Y_train)\n",
    "\n",
    "y_pred = model.predict(X_test)\n",
    "\n",
    "f1_score(Y_test, y_pred)"
   ]
  },
  {
   "cell_type": "markdown",
   "id": "86f72e87-3416-4ce6-912a-23b567ab2891",
   "metadata": {},
   "source": [
    "It seems bot users uses the same comments, but different bots uses different comments. This feature is not robust and needs additional investigation and preprocessing like BoW."
   ]
  },
  {
   "cell_type": "markdown",
   "id": "e689bfb1-4c1d-4bac-b904-546fa73ff50b",
   "metadata": {},
   "source": [
    "### edit length"
   ]
  },
  {
   "cell_type": "code",
   "execution_count": 64,
   "id": "fd8f4cfb-074a-42ae-91d4-08c1d8c37de5",
   "metadata": {},
   "outputs": [],
   "source": [
    "def extract_features(item):\n",
    "    return str(item['length_diff'])"
   ]
  },
  {
   "cell_type": "markdown",
   "id": "d2d7ae57-2dc9-4f57-91ef-5ee0622efa08",
   "metadata": {},
   "source": [
    "#### Split randomly"
   ]
  },
  {
   "cell_type": "code",
   "execution_count": 65,
   "id": "6ec9d134-7c41-49ee-aa06-d37ac9386eea",
   "metadata": {},
   "outputs": [
    {
     "data": {
      "text/plain": [
       "0.23574561403508776"
      ]
     },
     "execution_count": 65,
     "metadata": {},
     "output_type": "execute_result"
    }
   ],
   "source": [
    "X_train, X_test, Y_train, Y_test = get_train_test_random(df, _extract_features=extract_features)\n",
    "\n",
    "model = BloomFilter(np.sum(Y_train), 0.01)\n",
    "model.fit(X_train, Y_train)\n",
    "\n",
    "y_pred = model.predict(X_test)\n",
    "\n",
    "f1_score(Y_test, y_pred)"
   ]
  },
  {
   "cell_type": "markdown",
   "id": "12e862a2-dca4-403e-b952-a612ee1e26bc",
   "metadata": {},
   "source": [
    "#### Split by user"
   ]
  },
  {
   "cell_type": "code",
   "execution_count": 66,
   "id": "5f74df84-8030-436a-8eb6-e92fee394ddb",
   "metadata": {},
   "outputs": [
    {
     "data": {
      "text/plain": [
       "0.23694193171870442"
      ]
     },
     "execution_count": 66,
     "metadata": {},
     "output_type": "execute_result"
    }
   ],
   "source": [
    "X_train, X_test, Y_train, Y_test = get_train_test_users(df, _extract_features=extract_features)\n",
    "\n",
    "model = BloomFilter(np.sum(Y_train), 0.01)\n",
    "model.fit(X_train, Y_train)\n",
    "\n",
    "y_pred = model.predict(X_test)\n",
    "\n",
    "f1_score(Y_test, y_pred)"
   ]
  },
  {
   "cell_type": "markdown",
   "id": "799fd313-3fd7-4e1e-9593-87144e0e12ec",
   "metadata": {},
   "source": [
    "### edit length bucket"
   ]
  },
  {
   "cell_type": "code",
   "execution_count": 67,
   "id": "7aacad07-eb6c-409b-9a81-2915463f3f2c",
   "metadata": {},
   "outputs": [],
   "source": [
    "def extract_features(item):\n",
    "    return str(item['length_bucket'])"
   ]
  },
  {
   "cell_type": "markdown",
   "id": "b81870f1-61e6-4972-9576-553a3235fb3d",
   "metadata": {},
   "source": [
    "#### Split randomly"
   ]
  },
  {
   "cell_type": "code",
   "execution_count": 68,
   "id": "d81005c8-b4a1-43c1-bfa7-87fa9332803a",
   "metadata": {},
   "outputs": [
    {
     "data": {
      "text/plain": [
       "0.23932281646787226"
      ]
     },
     "execution_count": 68,
     "metadata": {},
     "output_type": "execute_result"
    }
   ],
   "source": [
    "X_train, X_test, Y_train, Y_test = get_train_test_random(df, _extract_features=extract_features)\n",
    "\n",
    "model = BloomFilter(np.sum(Y_train), 0.01)\n",
    "model.fit(X_train, Y_train)\n",
    "\n",
    "y_pred = model.predict(X_test)\n",
    "\n",
    "f1_score(Y_test, y_pred)"
   ]
  },
  {
   "cell_type": "markdown",
   "id": "27a4855d-4286-4c48-9b97-0a935cfc2dd5",
   "metadata": {},
   "source": [
    "#### Split by user"
   ]
  },
  {
   "cell_type": "code",
   "execution_count": 69,
   "id": "1cf4d168-f8cc-4fd2-bcc8-92e7fd819793",
   "metadata": {},
   "outputs": [
    {
     "data": {
      "text/plain": [
       "0.08958377350517642"
      ]
     },
     "execution_count": 69,
     "metadata": {},
     "output_type": "execute_result"
    }
   ],
   "source": [
    "X_train, X_test, Y_train, Y_test = get_train_test_users(df, _extract_features=extract_features)\n",
    "\n",
    "model = BloomFilter(np.sum(Y_train), 0.01)\n",
    "model.fit(X_train, Y_train)\n",
    "\n",
    "y_pred = model.predict(X_test)\n",
    "\n",
    "f1_score(Y_test, y_pred)"
   ]
  },
  {
   "cell_type": "code",
   "execution_count": null,
   "id": "791894d1-f42c-4aec-b160-079ac5bc5a1e",
   "metadata": {},
   "outputs": [],
   "source": []
  },
  {
   "cell_type": "markdown",
   "id": "76be5d60-c010-4496-9c98-52caae484938",
   "metadata": {},
   "source": [
    "### revision diff"
   ]
  },
  {
   "cell_type": "code",
   "execution_count": 70,
   "id": "c3b65c60-1d87-4f55-9b7a-96e42bd6e211",
   "metadata": {},
   "outputs": [],
   "source": [
    "def extract_features(item):\n",
    "    return str(item['revision_diff'])"
   ]
  },
  {
   "cell_type": "markdown",
   "id": "830e8b07-8a36-40a8-8f40-d5fc4536d9ea",
   "metadata": {},
   "source": [
    "#### Split randomly"
   ]
  },
  {
   "cell_type": "code",
   "execution_count": 71,
   "id": "562e5407-fd1e-4c14-9d26-4f9d2f0c85fb",
   "metadata": {},
   "outputs": [
    {
     "data": {
      "text/plain": [
       "0.13488372093023257"
      ]
     },
     "execution_count": 71,
     "metadata": {},
     "output_type": "execute_result"
    }
   ],
   "source": [
    "X_train, X_test, Y_train, Y_test = get_train_test_random(df, _extract_features=extract_features)\n",
    "\n",
    "model = BloomFilter(np.sum(Y_train), 0.01)\n",
    "model.fit(X_train, Y_train)\n",
    "\n",
    "y_pred = model.predict(X_test)\n",
    "\n",
    "f1_score(Y_test, y_pred)"
   ]
  },
  {
   "cell_type": "markdown",
   "id": "27aeb7aa-ba74-4a26-bf2c-07e5c81b0ea2",
   "metadata": {},
   "source": [
    "#### Split by user"
   ]
  },
  {
   "cell_type": "code",
   "execution_count": 72,
   "id": "8e4af460-8add-4ace-99ff-43f695528887",
   "metadata": {},
   "outputs": [
    {
     "data": {
      "text/plain": [
       "0.05755395683453238"
      ]
     },
     "execution_count": 72,
     "metadata": {},
     "output_type": "execute_result"
    }
   ],
   "source": [
    "X_train, X_test, Y_train, Y_test = get_train_test_users(df, _extract_features=extract_features)\n",
    "\n",
    "model = BloomFilter(np.sum(Y_train), 0.01)\n",
    "model.fit(X_train, Y_train)\n",
    "\n",
    "y_pred = model.predict(X_test)\n",
    "\n",
    "f1_score(Y_test, y_pred)"
   ]
  },
  {
   "cell_type": "markdown",
   "id": "8281a1f3-ea5f-4afa-9a5f-f41584103326",
   "metadata": {},
   "source": [
    "### revision diff bucket"
   ]
  },
  {
   "cell_type": "code",
   "execution_count": 73,
   "id": "4d34d771-8432-4c24-83df-da6ce2d92ce0",
   "metadata": {},
   "outputs": [],
   "source": [
    "def extract_features(item):\n",
    "    return str(item['revision_bucket'])"
   ]
  },
  {
   "cell_type": "markdown",
   "id": "c54c3618-e98b-4a82-a221-fe76cf259619",
   "metadata": {},
   "source": [
    "#### Split randomly"
   ]
  },
  {
   "cell_type": "code",
   "execution_count": 74,
   "id": "e76de487-4843-453e-a5fe-d66795a05f6f",
   "metadata": {},
   "outputs": [
    {
     "data": {
      "text/plain": [
       "0.13165266106442577"
      ]
     },
     "execution_count": 74,
     "metadata": {},
     "output_type": "execute_result"
    }
   ],
   "source": [
    "X_train, X_test, Y_train, Y_test = get_train_test_random(df, _extract_features=extract_features)\n",
    "\n",
    "model = BloomFilter(np.sum(Y_train), 0.01)\n",
    "model.fit(X_train, Y_train)\n",
    "\n",
    "y_pred = model.predict(X_test)\n",
    "\n",
    "f1_score(Y_test, y_pred)"
   ]
  },
  {
   "cell_type": "markdown",
   "id": "19f9e05e-47cb-4e5b-92df-c6bfcf917b01",
   "metadata": {},
   "source": [
    "#### Split by user"
   ]
  },
  {
   "cell_type": "code",
   "execution_count": 75,
   "id": "4c04a119-c733-4d90-8363-0555df3446f3",
   "metadata": {},
   "outputs": [
    {
     "data": {
      "text/plain": [
       "0.023405500292568753"
      ]
     },
     "execution_count": 75,
     "metadata": {},
     "output_type": "execute_result"
    }
   ],
   "source": [
    "X_train, X_test, Y_train, Y_test = get_train_test_users(df, _extract_features=extract_features)\n",
    "\n",
    "model = BloomFilter(np.sum(Y_train), 0.01)\n",
    "model.fit(X_train, Y_train)\n",
    "\n",
    "y_pred = model.predict(X_test)\n",
    "\n",
    "f1_score(Y_test, y_pred)"
   ]
  },
  {
   "cell_type": "markdown",
   "id": "1d1c5fef-e758-480f-948b-5bc956cd1154",
   "metadata": {},
   "source": [
    "### Conclusions\n",
    "\n",
    "- we observe significant gap between f1-scores depending on dataset split strategy: random split and per user split.\n",
    "- Such a small scores for per user split strategy (considering Bloom filter specifics) were cased by small sample (only 3205 users contains in dataset, 51 users are bots). To increase scores we should increase test size\n",
    "- there are few potential interesting features: comments and revision diff bucket that could be used for bot training.\n",
    "- numbers bucketing improves performance of the model comparing to using actual numeric values. This idea matches with Bloom filter intuition but mask is generated depending on the value and is comparable (close values has higher chance to have the same hash sum)"
   ]
  },
  {
   "cell_type": "markdown",
   "id": "6cd2a283-d006-467d-8669-eff01a9cca5a",
   "metadata": {},
   "source": [
    "## Parameters finetuning\n",
    "\n",
    "There are few Bloom filter's parameters to finetune:\n",
    "- filter capacity\n",
    "- FP rate\n",
    "\n",
    "Let's use comment as primary feature and find the best parameters to maximize f1 score for per-user split"
   ]
  },
  {
   "cell_type": "code",
   "execution_count": 76,
   "id": "72387fa8-0de1-415d-bde8-338ee838e384",
   "metadata": {},
   "outputs": [
    {
     "data": {
      "text/html": [
       "<div>\n",
       "<style scoped>\n",
       "    .dataframe tbody tr th:only-of-type {\n",
       "        vertical-align: middle;\n",
       "    }\n",
       "\n",
       "    .dataframe tbody tr th {\n",
       "        vertical-align: top;\n",
       "    }\n",
       "\n",
       "    .dataframe thead th {\n",
       "        text-align: right;\n",
       "    }\n",
       "</style>\n",
       "<table border=\"1\" class=\"dataframe\">\n",
       "  <thead>\n",
       "    <tr style=\"text-align: right;\">\n",
       "      <th></th>\n",
       "      <th>fp_rate</th>\n",
       "      <th>item_count</th>\n",
       "      <th>f1_score</th>\n",
       "    </tr>\n",
       "  </thead>\n",
       "  <tbody>\n",
       "    <tr>\n",
       "      <th>16</th>\n",
       "      <td>0.05</td>\n",
       "      <td>101.0</td>\n",
       "      <td>0.225215</td>\n",
       "    </tr>\n",
       "    <tr>\n",
       "      <th>18</th>\n",
       "      <td>0.20</td>\n",
       "      <td>101.0</td>\n",
       "      <td>0.224443</td>\n",
       "    </tr>\n",
       "    <tr>\n",
       "      <th>24</th>\n",
       "      <td>0.30</td>\n",
       "      <td>505.0</td>\n",
       "      <td>0.224289</td>\n",
       "    </tr>\n",
       "    <tr>\n",
       "      <th>10</th>\n",
       "      <td>0.01</td>\n",
       "      <td>50.0</td>\n",
       "      <td>0.224024</td>\n",
       "    </tr>\n",
       "    <tr>\n",
       "      <th>17</th>\n",
       "      <td>0.10</td>\n",
       "      <td>101.0</td>\n",
       "      <td>0.224024</td>\n",
       "    </tr>\n",
       "    <tr>\n",
       "      <th>1</th>\n",
       "      <td>0.05</td>\n",
       "      <td>1.0</td>\n",
       "      <td>0.224024</td>\n",
       "    </tr>\n",
       "    <tr>\n",
       "      <th>14</th>\n",
       "      <td>0.30</td>\n",
       "      <td>50.0</td>\n",
       "      <td>0.224024</td>\n",
       "    </tr>\n",
       "    <tr>\n",
       "      <th>13</th>\n",
       "      <td>0.20</td>\n",
       "      <td>50.0</td>\n",
       "      <td>0.224024</td>\n",
       "    </tr>\n",
       "    <tr>\n",
       "      <th>12</th>\n",
       "      <td>0.10</td>\n",
       "      <td>50.0</td>\n",
       "      <td>0.224024</td>\n",
       "    </tr>\n",
       "    <tr>\n",
       "      <th>11</th>\n",
       "      <td>0.05</td>\n",
       "      <td>50.0</td>\n",
       "      <td>0.224024</td>\n",
       "    </tr>\n",
       "    <tr>\n",
       "      <th>0</th>\n",
       "      <td>0.01</td>\n",
       "      <td>1.0</td>\n",
       "      <td>0.224024</td>\n",
       "    </tr>\n",
       "    <tr>\n",
       "      <th>8</th>\n",
       "      <td>0.20</td>\n",
       "      <td>20.0</td>\n",
       "      <td>0.224024</td>\n",
       "    </tr>\n",
       "    <tr>\n",
       "      <th>7</th>\n",
       "      <td>0.10</td>\n",
       "      <td>20.0</td>\n",
       "      <td>0.224024</td>\n",
       "    </tr>\n",
       "    <tr>\n",
       "      <th>6</th>\n",
       "      <td>0.05</td>\n",
       "      <td>20.0</td>\n",
       "      <td>0.224024</td>\n",
       "    </tr>\n",
       "    <tr>\n",
       "      <th>5</th>\n",
       "      <td>0.01</td>\n",
       "      <td>20.0</td>\n",
       "      <td>0.224024</td>\n",
       "    </tr>\n",
       "    <tr>\n",
       "      <th>4</th>\n",
       "      <td>0.30</td>\n",
       "      <td>1.0</td>\n",
       "      <td>0.224024</td>\n",
       "    </tr>\n",
       "    <tr>\n",
       "      <th>3</th>\n",
       "      <td>0.20</td>\n",
       "      <td>1.0</td>\n",
       "      <td>0.224024</td>\n",
       "    </tr>\n",
       "    <tr>\n",
       "      <th>2</th>\n",
       "      <td>0.10</td>\n",
       "      <td>1.0</td>\n",
       "      <td>0.224024</td>\n",
       "    </tr>\n",
       "    <tr>\n",
       "      <th>9</th>\n",
       "      <td>0.30</td>\n",
       "      <td>20.0</td>\n",
       "      <td>0.224024</td>\n",
       "    </tr>\n",
       "    <tr>\n",
       "      <th>15</th>\n",
       "      <td>0.01</td>\n",
       "      <td>101.0</td>\n",
       "      <td>0.223450</td>\n",
       "    </tr>\n",
       "    <tr>\n",
       "      <th>19</th>\n",
       "      <td>0.30</td>\n",
       "      <td>101.0</td>\n",
       "      <td>0.222600</td>\n",
       "    </tr>\n",
       "    <tr>\n",
       "      <th>21</th>\n",
       "      <td>0.05</td>\n",
       "      <td>505.0</td>\n",
       "      <td>0.192494</td>\n",
       "    </tr>\n",
       "    <tr>\n",
       "      <th>29</th>\n",
       "      <td>0.30</td>\n",
       "      <td>1010.0</td>\n",
       "      <td>0.186162</td>\n",
       "    </tr>\n",
       "    <tr>\n",
       "      <th>22</th>\n",
       "      <td>0.10</td>\n",
       "      <td>505.0</td>\n",
       "      <td>0.173492</td>\n",
       "    </tr>\n",
       "    <tr>\n",
       "      <th>23</th>\n",
       "      <td>0.20</td>\n",
       "      <td>505.0</td>\n",
       "      <td>0.167870</td>\n",
       "    </tr>\n",
       "    <tr>\n",
       "      <th>28</th>\n",
       "      <td>0.20</td>\n",
       "      <td>1010.0</td>\n",
       "      <td>0.141428</td>\n",
       "    </tr>\n",
       "    <tr>\n",
       "      <th>20</th>\n",
       "      <td>0.01</td>\n",
       "      <td>505.0</td>\n",
       "      <td>0.109589</td>\n",
       "    </tr>\n",
       "    <tr>\n",
       "      <th>27</th>\n",
       "      <td>0.10</td>\n",
       "      <td>1010.0</td>\n",
       "      <td>0.072491</td>\n",
       "    </tr>\n",
       "    <tr>\n",
       "      <th>26</th>\n",
       "      <td>0.05</td>\n",
       "      <td>1010.0</td>\n",
       "      <td>0.047114</td>\n",
       "    </tr>\n",
       "    <tr>\n",
       "      <th>25</th>\n",
       "      <td>0.01</td>\n",
       "      <td>1010.0</td>\n",
       "      <td>0.010667</td>\n",
       "    </tr>\n",
       "  </tbody>\n",
       "</table>\n",
       "</div>"
      ],
      "text/plain": [
       "    fp_rate  item_count  f1_score\n",
       "16     0.05       101.0  0.225215\n",
       "18     0.20       101.0  0.224443\n",
       "24     0.30       505.0  0.224289\n",
       "10     0.01        50.0  0.224024\n",
       "17     0.10       101.0  0.224024\n",
       "1      0.05         1.0  0.224024\n",
       "14     0.30        50.0  0.224024\n",
       "13     0.20        50.0  0.224024\n",
       "12     0.10        50.0  0.224024\n",
       "11     0.05        50.0  0.224024\n",
       "0      0.01         1.0  0.224024\n",
       "8      0.20        20.0  0.224024\n",
       "7      0.10        20.0  0.224024\n",
       "6      0.05        20.0  0.224024\n",
       "5      0.01        20.0  0.224024\n",
       "4      0.30         1.0  0.224024\n",
       "3      0.20         1.0  0.224024\n",
       "2      0.10         1.0  0.224024\n",
       "9      0.30        20.0  0.224024\n",
       "15     0.01       101.0  0.223450\n",
       "19     0.30       101.0  0.222600\n",
       "21     0.05       505.0  0.192494\n",
       "29     0.30      1010.0  0.186162\n",
       "22     0.10       505.0  0.173492\n",
       "23     0.20       505.0  0.167870\n",
       "28     0.20      1010.0  0.141428\n",
       "20     0.01       505.0  0.109589\n",
       "27     0.10      1010.0  0.072491\n",
       "26     0.05      1010.0  0.047114\n",
       "25     0.01      1010.0  0.010667"
      ]
     },
     "execution_count": 76,
     "metadata": {},
     "output_type": "execute_result"
    }
   ],
   "source": [
    "def extract_features(item):\n",
    "    return item['comment']\n",
    "\n",
    "def extract_label(item):\n",
    "    return item['bot']\n",
    "\n",
    "\n",
    "X_train, X_test, Y_train, Y_test = get_train_test_users(df, _extract_features=extract_features, _extract_label=extract_label)\n",
    "\n",
    "results = []\n",
    "\n",
    "for item_count in [1, np.sum(Y_train)//50, np.sum(Y_train)//20, np.sum(Y_train)//10, np.sum(Y_train)/2, np.sum(Y_train)]:\n",
    "    for fp_rate in [0.01, 0.05, 0.1, 0.2, 0.3]:\n",
    "\n",
    "        model = BloomFilter(item_count, fp_rate)\n",
    "        model.fit(X_train, Y_train)\n",
    "\n",
    "        y_pred = model.predict(X_test)\n",
    "        results.append({\n",
    "            'fp_rate': fp_rate,\n",
    "            'item_count': item_count,\n",
    "            'f1_score': f1_score(Y_test, y_pred)\n",
    "        })\n",
    "pd.DataFrame(results).sort_values('f1_score', ascending=False)"
   ]
  },
  {
   "cell_type": "markdown",
   "id": "b1c29f24-e485-4405-80c4-f26b19cd2b25",
   "metadata": {},
   "source": [
    "The best score we can get for item numbers 53 and fp_rate = 5%"
   ]
  },
  {
   "cell_type": "code",
   "execution_count": 77,
   "id": "45f33cd1-e2fc-4596-a47f-9b852953a096",
   "metadata": {},
   "outputs": [
    {
     "name": "stdout",
     "output_type": "stream",
     "text": [
      "              precision    recall  f1-score   support\n",
      "\n",
      "       False       0.91      0.03      0.05      5071\n",
      "        True       0.13      0.98      0.23       732\n",
      "\n",
      "    accuracy                           0.15      5803\n",
      "   macro avg       0.52      0.50      0.14      5803\n",
      "weighted avg       0.81      0.15      0.07      5803\n",
      "\n"
     ]
    }
   ],
   "source": [
    "model = BloomFilter(101, 0.05)\n",
    "model.fit(X_train, Y_train)\n",
    "\n",
    "y_pred = model.predict(X_test)\n",
    "\n",
    "print(classification_report(Y_test, y_pred))"
   ]
  },
  {
   "cell_type": "code",
   "execution_count": null,
   "id": "c9613eaa-4078-486d-9030-1d7055e4d96b",
   "metadata": {},
   "outputs": [],
   "source": []
  }
 ],
 "metadata": {
  "kernelspec": {
   "display_name": "Python 3 (ipykernel)",
   "language": "python",
   "name": "python3"
  },
  "language_info": {
   "codemirror_mode": {
    "name": "ipython",
    "version": 3
   },
   "file_extension": ".py",
   "mimetype": "text/x-python",
   "name": "python",
   "nbconvert_exporter": "python",
   "pygments_lexer": "ipython3",
   "version": "3.11.6"
  }
 },
 "nbformat": 4,
 "nbformat_minor": 5
}
