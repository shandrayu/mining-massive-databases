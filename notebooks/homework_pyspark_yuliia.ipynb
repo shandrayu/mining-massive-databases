{
  "nbformat": 4,
  "nbformat_minor": 0,
  "metadata": {
    "colab": {
      "provenance": [],
      "collapsed_sections": [
        "ww7HprkkTJJx",
        "O2AQ2fNxTMsX",
        "yz0xZ-4v6rv0",
        "yyuAaK0GURWU",
        "LXgRKD6uUXzG"
      ],
      "include_colab_link": true
    },
    "kernelspec": {
      "name": "python3",
      "display_name": "Python 3"
    },
    "language_info": {
      "name": "python"
    }
  },
  "cells": [
    {
      "cell_type": "markdown",
      "metadata": {
        "id": "view-in-github",
        "colab_type": "text"
      },
      "source": [
        "<a href=\"https://colab.research.google.com/github/shandrayu/mining-massive-databases/blob/main/notebooks/homework_pyspark_yuliia.ipynb\" target=\"_parent\"><img src=\"https://colab.research.google.com/assets/colab-badge.svg\" alt=\"Open In Colab\"/></a>"
      ]
    },
    {
      "cell_type": "markdown",
      "source": [
        "# Mining massive databases homework"
      ],
      "metadata": {
        "id": "Jfj4si7Oh9yr"
      }
    },
    {
      "cell_type": "markdown",
      "source": [
        "## Colab setup\n"
      ],
      "metadata": {
        "id": "vCknlinbjxyC"
      }
    },
    {
      "cell_type": "markdown",
      "source": [
        "### Clone repo"
      ],
      "metadata": {
        "id": "ww7HprkkTJJx"
      }
    },
    {
      "cell_type": "code",
      "metadata": {
        "id": "1S0-y03LBMyY",
        "colab": {
          "base_uri": "https://localhost:8080/"
        },
        "outputId": "39a6f7d5-4577-4b2a-e8d1-00fd6b94105e"
      },
      "source": [
        "from google.colab import drive\n",
        "drive.mount('/content/drive')"
      ],
      "execution_count": null,
      "outputs": [
        {
          "output_type": "stream",
          "name": "stdout",
          "text": [
            "Mounted at /content/drive\n"
          ]
        }
      ]
    },
    {
      "cell_type": "code",
      "source": [
        "# !wget -q https://raw.githubusercontent.com/tsunrise/colab-github/main/colab_github.py\n",
        "# import colab_github\n",
        "# colab_github.github_auth(persistent_key=True)"
      ],
      "metadata": {
        "id": "RYYNG7SuLM8w"
      },
      "execution_count": null,
      "outputs": []
    },
    {
      "cell_type": "code",
      "source": [
        "!git clone git@github.com:shandrayu/mining-massive-databases.git"
      ],
      "metadata": {
        "colab": {
          "base_uri": "https://localhost:8080/"
        },
        "id": "dTHMNvSMLkG_",
        "outputId": "931fae43-87b5-4d2e-a1b2-2ba9162b7a51"
      },
      "execution_count": null,
      "outputs": [
        {
          "output_type": "stream",
          "name": "stdout",
          "text": [
            "Cloning into 'mining-massive-databases'...\n",
            "Host key verification failed.\r\n",
            "fatal: Could not read from remote repository.\n",
            "\n",
            "Please make sure you have the correct access rights\n",
            "and the repository exists.\n"
          ]
        }
      ]
    },
    {
      "cell_type": "code",
      "source": [
        "!ls && ls mining-massive-databases"
      ],
      "metadata": {
        "colab": {
          "base_uri": "https://localhost:8080/"
        },
        "id": "VX5KNtUcTtFk",
        "outputId": "3459defb-abd7-4903-cda6-0ceca8d38271"
      },
      "execution_count": null,
      "outputs": [
        {
          "output_type": "stream",
          "name": "stdout",
          "text": [
            "drive  sample_data\n",
            "ls: cannot access 'mining-massive-databases': No such file or directory\n"
          ]
        }
      ]
    },
    {
      "cell_type": "markdown",
      "source": [
        "### PySpark"
      ],
      "metadata": {
        "id": "O2AQ2fNxTMsX"
      }
    },
    {
      "cell_type": "code",
      "metadata": {
        "id": "VFcjNULKUAVB"
      },
      "source": [
        "!apt-get install openjdk-8-jdk-headless -qq > /dev/null"
      ],
      "execution_count": null,
      "outputs": []
    },
    {
      "cell_type": "code",
      "metadata": {
        "colab": {
          "base_uri": "https://localhost:8080/"
        },
        "id": "OuzNyZG3URNv",
        "outputId": "bf7e9ee7-2404-4433-a895-a320599a47a3"
      },
      "source": [
        "!wget https://downloads.apache.org/spark/spark-3.5.0/spark-3.5.0-bin-hadoop3.tgz"
      ],
      "execution_count": null,
      "outputs": [
        {
          "output_type": "stream",
          "name": "stdout",
          "text": [
            "--2023-11-11 19:43:46--  https://downloads.apache.org/spark/spark-3.5.0/spark-3.5.0-bin-hadoop3.tgz\n",
            "Resolving downloads.apache.org (downloads.apache.org)... 88.99.95.219, 135.181.214.104, 2a01:4f9:3a:2c57::2, ...\n",
            "Connecting to downloads.apache.org (downloads.apache.org)|88.99.95.219|:443... connected.\n",
            "HTTP request sent, awaiting response... 200 OK\n",
            "Length: 400395283 (382M) [application/x-gzip]\n",
            "Saving to: ‘spark-3.5.0-bin-hadoop3.tgz’\n",
            "\n",
            "spark-3.5.0-bin-had 100%[===================>] 381.85M  31.6MB/s    in 12s     \n",
            "\n",
            "2023-11-11 19:43:59 (31.9 MB/s) - ‘spark-3.5.0-bin-hadoop3.tgz’ saved [400395283/400395283]\n",
            "\n"
          ]
        }
      ]
    },
    {
      "cell_type": "code",
      "metadata": {
        "id": "4k34wqDQUT_i"
      },
      "source": [
        "!tar xzvf spark-3.5.0-bin-hadoop3.tgz > /dev/null\n"
      ],
      "execution_count": null,
      "outputs": []
    },
    {
      "cell_type": "code",
      "metadata": {
        "id": "Vz4Gg28oUcSr"
      },
      "source": [
        "!pip install -q findspark"
      ],
      "execution_count": null,
      "outputs": []
    },
    {
      "cell_type": "code",
      "metadata": {
        "id": "Jf2XBqxtUmTM"
      },
      "source": [
        "import os\n",
        "os.environ[\"JAVA_HOME\"] = \"/usr/lib/jvm/java-8-openjdk-amd64\"\n",
        "os.environ[\"SPARK_HOME\"] = \"/content/spark-3.5.0-bin-hadoop3\""
      ],
      "execution_count": null,
      "outputs": []
    },
    {
      "cell_type": "code",
      "metadata": {
        "id": "gus5Y6IXWmFp"
      },
      "source": [
        "import findspark\n",
        "findspark.init()"
      ],
      "execution_count": null,
      "outputs": []
    },
    {
      "cell_type": "code",
      "metadata": {
        "id": "bfy8BLe5Wpyr"
      },
      "source": [
        "import pyspark\n",
        "from pyspark.sql import SparkSession\n",
        "from pyspark.sql.types import *\n",
        "from pyspark.sql.functions import col, avg, when\n",
        "import pandas as pd"
      ],
      "execution_count": null,
      "outputs": []
    },
    {
      "cell_type": "code",
      "metadata": {
        "colab": {
          "base_uri": "https://localhost:8080/"
        },
        "id": "qQgIL5nwY64d",
        "outputId": "f18c7854-cfef-4653-ee5d-234489e1c0f4"
      },
      "source": [
        "sc = pyspark.SparkContext('local[*]')\n",
        "spark = SparkSession(sc)\n",
        "spark"
      ],
      "execution_count": null,
      "outputs": [
        {
          "output_type": "execute_result",
          "data": {
            "text/plain": [
              "<pyspark.sql.session.SparkSession at 0x7e8dfc31e5f0>"
            ],
            "text/html": [
              "\n",
              "            <div>\n",
              "                <p><b>SparkSession - in-memory</b></p>\n",
              "                \n",
              "        <div>\n",
              "            <p><b>SparkContext</b></p>\n",
              "\n",
              "            <p><a href=\"http://9bc50c0edb39:4040\">Spark UI</a></p>\n",
              "\n",
              "            <dl>\n",
              "              <dt>Version</dt>\n",
              "                <dd><code>v3.5.0</code></dd>\n",
              "              <dt>Master</dt>\n",
              "                <dd><code>local[*]</code></dd>\n",
              "              <dt>AppName</dt>\n",
              "                <dd><code>pyspark-shell</code></dd>\n",
              "            </dl>\n",
              "        </div>\n",
              "        \n",
              "            </div>\n",
              "        "
            ]
          },
          "metadata": {},
          "execution_count": 12
        }
      ]
    },
    {
      "cell_type": "markdown",
      "source": [
        "## Barcelona dataset recommendation system\n",
        "\n",
        "The goal of this task is to recommend similar apartments (items) based on input query (apartment description).\n",
        "\n",
        "Tasks:\n",
        "\n",
        "- Convert text feature with TF-IDF to vector of features\n",
        "- Grid search for parameters\n",
        "- Grid search for number of features\n",
        "- Calculate ground truth\n",
        "- Choose metrics. Explain choice\n",
        "\n",
        "- Add to report:\n",
        "  - Accuracy for 4 different set of parameters\n",
        "  - Computation time for tuning (grid search) procedure\n",
        "  - Machine characteristics"
      ],
      "metadata": {
        "id": "PH9BNRLSiLrD"
      }
    },
    {
      "cell_type": "markdown",
      "source": [
        "## Download and preprocess data"
      ],
      "metadata": {
        "id": "g1WCPVFDiuwD"
      }
    },
    {
      "cell_type": "code",
      "source": [
        "from pyspark import SparkFiles\n",
        "from pyspark.sql.functions import substring\n",
        "from pyspark.sql.functions import split\n",
        "from pyspark.sql import functions as F\n",
        "import pyspark.sql.types as T\n",
        "\n",
        "# listings_url = \"http://data.insideairbnb.com/spain/catalonia/barcelona/2023-09-06/data/listings.csv.gz\" # full data\n",
        "listings_url = \"http://data.insideairbnb.com/spain/catalonia/barcelona/2023-09-06/visualisations/listings.csv\" # short data\n",
        "\n",
        "def load_file_to_spark(url):\n",
        "  spark.sparkContext.addFile(url)\n",
        "  filename = url.split(\"/\")[-1]\n",
        "  df = spark.read.csv(\"file://\" + SparkFiles.get(filename), header=True, multiLine=True, escape='\\\"', inferSchema=True)\n",
        "  return df\n",
        "\n",
        "def bucket_rating(arr):\n",
        "  \"\"\"\n",
        "  Preprocess rating into 6 buckets:\n",
        "  - 5\n",
        "  - 4.5\n",
        "  - 4\n",
        "  - 3.5\n",
        "  - 3\n",
        "  - 2\n",
        "  \"\"\"\n",
        "  if arr and len(arr) >= 2:\n",
        "    if isinstance(arr[1], str) and arr[1].startswith(\"★\"):\n",
        "      try:\n",
        "        num = float(arr[1][1:])\n",
        "\n",
        "        if num >= 4.8:\n",
        "          arr[1] = \"5\"\n",
        "        elif num < 4.8 and num >= 4.5:\n",
        "          arr[1] = \"4.5\"\n",
        "        elif num < 4.5 and num >= 4:\n",
        "          arr[1] = \"4\"\n",
        "        elif num < 4 and num >= 3.5:\n",
        "          arr[1] = \"3.5\"\n",
        "        elif num < 3.5 and num >= 3.0:\n",
        "          arr[1] = \"3\"\n",
        "        else:\n",
        "          arr[1] = \"2\"\n",
        "      except:\n",
        "        # New listitng, no rating. OK for categorical classification\n",
        "        arr[1] = \"0\"\n",
        "  return arr\n",
        "\n",
        "def preprocess_listing_database(df):\n",
        "  df_preprocessed = df.withColumn(\"name_tokens\", split(\"name\", \"\\\\ · \"))\n",
        "  df_preprocessed = df_preprocessed.withColumn(\"split_tokens\", bucket_rating_udf(\"name_tokens\"))\n",
        "  df_preprocessed = df_preprocessed.withColumn(\"rating_bucket\", col(\"split_tokens\")[1].cast('float'))\n",
        "  return df_preprocessed\n",
        "\n",
        "\n",
        "bucket_rating_udf = F.udf(bucket_rating, T.ArrayType(T.StringType()))\n",
        "listings_df = load_file_to_spark(listings_url)\n",
        "listings_df = preprocess_listing_database(listings_df)\n",
        "listings_df.select(\"name\", \"name_tokens\", \"split_tokens\", \"rating_bucket\").show(15, False)"
      ],
      "metadata": {
        "colab": {
          "base_uri": "https://localhost:8080/"
        },
        "id": "sLHI0vanixer",
        "outputId": "d3aef7e3-c090-40e7-85f4-e216020f8494"
      },
      "execution_count": null,
      "outputs": [
        {
          "output_type": "stream",
          "name": "stdout",
          "text": [
            "+--------------------------------------------------------------------------+------------------------------------------------------------------------+----------------------------------------------------------------------+-------------+\n",
            "|name                                                                      |name_tokens                                                             |split_tokens                                                          |rating_bucket|\n",
            "+--------------------------------------------------------------------------+------------------------------------------------------------------------+----------------------------------------------------------------------+-------------+\n",
            "|Rental unit in Barcelona · ★4.30 · 3 bedrooms · 6 beds · 2 baths          |[Rental unit in Barcelona, ★4.30, 3 bedrooms, 6 beds, 2 baths]          |[Rental unit in Barcelona, 4, 3 bedrooms, 6 beds, 2 baths]            |4.0          |\n",
            "|Rental unit in Sant Adria de Besos · ★4.77 · 3 bedrooms · 4 beds · 2 baths|[Rental unit in Sant Adria de Besos, ★4.77, 3 bedrooms, 4 beds, 2 baths]|[Rental unit in Sant Adria de Besos, 4.5, 3 bedrooms, 4 beds, 2 baths]|4.5          |\n",
            "|Rental unit in Barcelona · ★4.46 · 2 bedrooms · 3 beds · 1.5 baths        |[Rental unit in Barcelona, ★4.46, 2 bedrooms, 3 beds, 1.5 baths]        |[Rental unit in Barcelona, 4, 2 bedrooms, 3 beds, 1.5 baths]          |4.0          |\n",
            "|Rental unit in Barcelona · ★4.81 · 2 bedrooms · 2 beds · 1 bath           |[Rental unit in Barcelona, ★4.81, 2 bedrooms, 2 beds, 1 bath]           |[Rental unit in Barcelona, 5, 2 bedrooms, 2 beds, 1 bath]             |5.0          |\n",
            "|Rental unit in Barcelona · ★4.71 · 2 bedrooms · 3 beds · 1 bath           |[Rental unit in Barcelona, ★4.71, 2 bedrooms, 3 beds, 1 bath]           |[Rental unit in Barcelona, 4.5, 2 bedrooms, 3 beds, 1 bath]           |4.5          |\n",
            "|Rental unit in Barcelona · ★4.53 · 4 bedrooms · 6 beds · 3 baths          |[Rental unit in Barcelona, ★4.53, 4 bedrooms, 6 beds, 3 baths]          |[Rental unit in Barcelona, 4.5, 4 bedrooms, 6 beds, 3 baths]          |4.5          |\n",
            "|Rental unit in Barcelona · ★4.79 · 1 bedroom · 1 bed · 1 shared bath      |[Rental unit in Barcelona, ★4.79, 1 bedroom, 1 bed, 1 shared bath]      |[Rental unit in Barcelona, 4.5, 1 bedroom, 1 bed, 1 shared bath]      |4.5          |\n",
            "|Rental unit in Barcelona · ★4.39 · 3 bedrooms · 6 beds · 1.5 baths        |[Rental unit in Barcelona, ★4.39, 3 bedrooms, 6 beds, 1.5 baths]        |[Rental unit in Barcelona, 4, 3 bedrooms, 6 beds, 1.5 baths]          |4.0          |\n",
            "|Condo in Barcelona · ★4.38 · 1 bedroom · 2 beds · 1 bath                  |[Condo in Barcelona, ★4.38, 1 bedroom, 2 beds, 1 bath]                  |[Condo in Barcelona, 4, 1 bedroom, 2 beds, 1 bath]                    |4.0          |\n",
            "|Rental unit in Barcelona · ★4.89 · 1 bedroom · 2 beds · 1 shared bath     |[Rental unit in Barcelona, ★4.89, 1 bedroom, 2 beds, 1 shared bath]     |[Rental unit in Barcelona, 5, 1 bedroom, 2 beds, 1 shared bath]       |5.0          |\n",
            "|Rental unit in Barcelona · ★4.70 · 3 bedrooms · 4 beds · 2 baths          |[Rental unit in Barcelona, ★4.70, 3 bedrooms, 4 beds, 2 baths]          |[Rental unit in Barcelona, 4.5, 3 bedrooms, 4 beds, 2 baths]          |4.5          |\n",
            "|Rental unit in Barcelona · ★4.35 · 2 bedrooms · 4 beds · 2 baths          |[Rental unit in Barcelona, ★4.35, 2 bedrooms, 4 beds, 2 baths]          |[Rental unit in Barcelona, 4, 2 bedrooms, 4 beds, 2 baths]            |4.0          |\n",
            "|Rental unit in Barcelona · 1 bedroom · 1 bed · 1 bath                     |[Rental unit in Barcelona, 1 bedroom, 1 bed, 1 bath]                    |[Rental unit in Barcelona, 1 bedroom, 1 bed, 1 bath]                  |NULL         |\n",
            "|Rental unit in Barcelona · ★4.17 · 2 bedrooms · 3 beds · 1 bath           |[Rental unit in Barcelona, ★4.17, 2 bedrooms, 3 beds, 1 bath]           |[Rental unit in Barcelona, 4, 2 bedrooms, 3 beds, 1 bath]             |4.0          |\n",
            "|Rental unit in Barcelona · ★4.94 · 4 bedrooms · 5 beds · 4 baths          |[Rental unit in Barcelona, ★4.94, 4 bedrooms, 5 beds, 4 baths]          |[Rental unit in Barcelona, 5, 4 bedrooms, 5 beds, 4 baths]            |5.0          |\n",
            "+--------------------------------------------------------------------------+------------------------------------------------------------------------+----------------------------------------------------------------------+-------------+\n",
            "only showing top 15 rows\n",
            "\n"
          ]
        }
      ]
    },
    {
      "cell_type": "markdown",
      "source": [
        "## Convert text feature with TF-IDF to vector of features"
      ],
      "metadata": {
        "id": "qYScij_sl-mF"
      }
    },
    {
      "cell_type": "code",
      "source": [
        "from pyspark.ml.feature import HashingTF, IDF, Tokenizer\n",
        "from pyspark.ml.feature import StopWordsRemover\n",
        "from pyspark.sql.functions import col, concat, slice, size\n",
        "\n",
        "def convert_to_tokens(df, input_column_name, additional_stop_words, stop_words_exceptions):\n",
        "    tokenizer = Tokenizer(inputCol=input_column_name, outputCol=\"tokens\")\n",
        "    with_tokens = tokenizer.transform(df)\n",
        "\n",
        "    stopwords_filename = \"stopwords-en.txt\"\n",
        "    if not os. path. exists(stopwords_filename):\n",
        "      !wget https://raw.githubusercontent.com/stopwords-iso/stopwords-en/master/stopwords-en.txt\n",
        "\n",
        "\n",
        "    stop_words = []\n",
        "    with open(stopwords_filename) as file:\n",
        "        for line in file:\n",
        "          word = line.rstrip()\n",
        "          if word not in stop_words_exceptions:\n",
        "            stop_words.append(word)\n",
        "\n",
        "    stop_words.extend(additional_stop_words)\n",
        "    remover = StopWordsRemover(stopWords=stop_words)\n",
        "    remover.setInputCol(\"tokens\")\n",
        "    remover.setOutputCol(\"clean_tokens\")\n",
        "    clean_tokens = remover.transform(with_tokens)\n",
        "\n",
        "    return clean_tokens\n",
        "\n",
        "\n",
        "def tf_idf(df, clean_tokens_column_name, num_features):\n",
        "    # Perform TFIDF\n",
        "    hashing_tf = HashingTF(inputCol=clean_tokens_column_name, outputCol=\"raw_features\", numFeatures=num_features)\n",
        "    featurized_data = hashing_tf.transform(df)\n",
        "\n",
        "    idf = IDF(inputCol=\"raw_features\", outputCol=\"vector_space\")\n",
        "    idf_model = idf.fit(featurized_data)\n",
        "    results = idf_model.transform(featurized_data)\n",
        "\n",
        "    return results\n",
        "\n",
        "def convert_title_to_features(df, num_features):\n",
        "    df_with_title = df.withColumn(\"title\", col(\"split_tokens\")[0])\n",
        "    clean_tokens = convert_to_tokens(df=df_with_title, input_column_name=\"title\", additional_stop_words=['·', '★', '1', 'in'], stop_words_exceptions={\"home\"})\n",
        "    # Extend clean tokens with hand-crafted split tokens\n",
        "    clean_tokens = clean_tokens.withColumn(\"clean_tokens\", concat(col(\"clean_tokens\"), slice(col(\"split_tokens\"), 2, size(col(\"split_tokens\")) - 1)))\n",
        "    # TODO: why??? why \"home\" is in stop words???\n",
        "    results = tf_idf(df=clean_tokens, clean_tokens_column_name=\"clean_tokens\", num_features=num_features)\n",
        "    return results\n",
        "\n",
        "num_features = 15\n",
        "results = convert_title_to_features(df=listings_df, num_features=num_features)\n",
        "results.select(\"title\", \"name\", \"split_tokens\", \"clean_tokens\", \"raw_features\", \"vector_space\").show(20, False)"
      ],
      "metadata": {
        "colab": {
          "base_uri": "https://localhost:8080/"
        },
        "id": "PpJa_j1Vm9j8",
        "outputId": "7e319699-673b-445a-88ae-628fbb893107"
      },
      "execution_count": null,
      "outputs": [
        {
          "output_type": "stream",
          "name": "stdout",
          "text": [
            "--2023-11-11 19:44:55--  https://raw.githubusercontent.com/stopwords-iso/stopwords-en/master/stopwords-en.txt\n",
            "Resolving raw.githubusercontent.com (raw.githubusercontent.com)... 185.199.110.133, 185.199.108.133, 185.199.111.133, ...\n",
            "Connecting to raw.githubusercontent.com (raw.githubusercontent.com)|185.199.110.133|:443... connected.\n",
            "HTTP request sent, awaiting response... 200 OK\n",
            "Length: 7677 (7.5K) [text/plain]\n",
            "Saving to: ‘stopwords-en.txt’\n",
            "\n",
            "\rstopwords-en.txt      0%[                    ]       0  --.-KB/s               \rstopwords-en.txt    100%[===================>]   7.50K  --.-KB/s    in 0s      \n",
            "\n",
            "2023-11-11 19:44:55 (57.8 MB/s) - ‘stopwords-en.txt’ saved [7677/7677]\n",
            "\n",
            "+----------------------------------+--------------------------------------------------------------------------+----------------------------------------------------------------------+--------------------------------------------------------------------+-----------------------------------------------------+------------------------------------------------------------------------------------------------------------------------------------------------------------------+\n",
            "|title                             |name                                                                      |split_tokens                                                          |clean_tokens                                                        |raw_features                                         |vector_space                                                                                                                                                      |\n",
            "+----------------------------------+--------------------------------------------------------------------------+----------------------------------------------------------------------+--------------------------------------------------------------------+-----------------------------------------------------+------------------------------------------------------------------------------------------------------------------------------------------------------------------+\n",
            "|Rental unit in Barcelona          |Rental unit in Barcelona · ★4.30 · 3 bedrooms · 6 beds · 2 baths          |[Rental unit in Barcelona, 4, 3 bedrooms, 6 beds, 2 baths]            |[rental, unit, barcelona, 4, 3 bedrooms, 6 beds, 2 baths]           |(15,[4,5,10,12],[3.0,1.0,1.0,2.0])                   |(15,[4,5,10,12],[0.36706427154116883,0.13139323196867628,0.8652047902150726,0.006312821920304687])                                                                |\n",
            "|Rental unit in Sant Adria de Besos|Rental unit in Sant Adria de Besos · ★4.77 · 3 bedrooms · 4 beds · 2 baths|[Rental unit in Sant Adria de Besos, 4.5, 3 bedrooms, 4 beds, 2 baths]|[rental, unit, sant, adria, besos, 4.5, 3 bedrooms, 4 beds, 2 baths]|(15,[1,4,5,6,7,10,12],[1.0,2.0,1.0,1.0,2.0,1.0,1.0]) |(15,[1,4,5,6,7,10,12],[2.1353226355725248,0.2447095143607792,0.13139323196867628,6.507111861153186,1.4066329543315084,0.8652047902150726,0.0031564109601523436])  |\n",
            "|Rental unit in Barcelona          |Rental unit in Barcelona · ★4.46 · 2 bedrooms · 3 beds · 1.5 baths        |[Rental unit in Barcelona, 4, 2 bedrooms, 3 beds, 1.5 baths]          |[rental, unit, barcelona, 4, 2 bedrooms, 3 beds, 1.5 baths]         |(15,[4,5,9,10,12],[1.0,1.0,2.0,2.0,1.0])             |(15,[4,5,9,10,12],[0.1223547571803896,0.13139323196867628,2.2534052117733547,1.7304095804301451,0.0031564109601523436])                                           |\n",
            "|Rental unit in Barcelona          |Rental unit in Barcelona · ★4.81 · 2 bedrooms · 2 beds · 1 bath           |[Rental unit in Barcelona, 5, 2 bedrooms, 2 beds, 1 bath]             |[rental, unit, barcelona, 5, 2 bedrooms, 2 beds, 1 bath]            |(15,[4,5,9,11,12,13],[1.0,1.0,1.0,1.0,1.0,2.0])      |(15,[4,5,9,11,12,13],[0.1223547571803896,0.13139323196867628,1.1267026058866774,1.4639257214127563,0.0031564109601523436,1.3000512521025664])                     |\n",
            "|Rental unit in Barcelona          |Rental unit in Barcelona · ★4.71 · 2 bedrooms · 3 beds · 1 bath           |[Rental unit in Barcelona, 4.5, 2 bedrooms, 3 beds, 1 bath]           |[rental, unit, barcelona, 4.5, 2 bedrooms, 3 beds, 1 bath]          |(15,[4,5,9,10,12,13],[1.0,1.0,2.0,1.0,1.0,1.0])      |(15,[4,5,9,10,12,13],[0.1223547571803896,0.13139323196867628,2.2534052117733547,0.8652047902150726,0.0031564109601523436,0.6500256260512832])                     |\n",
            "|Rental unit in Barcelona          |Rental unit in Barcelona · ★4.53 · 4 bedrooms · 6 beds · 3 baths          |[Rental unit in Barcelona, 4.5, 4 bedrooms, 6 beds, 3 baths]          |[rental, unit, barcelona, 4.5, 4 bedrooms, 6 beds, 3 baths]         |(15,[4,5,8,10,12],[3.0,1.0,1.0,1.0,1.0])             |(15,[4,5,8,10,12],[0.36706427154116883,0.13139323196867628,0.5505071791626972,0.8652047902150726,0.0031564109601523436])                                          |\n",
            "|Rental unit in Barcelona          |Rental unit in Barcelona · ★4.79 · 1 bedroom · 1 bed · 1 shared bath      |[Rental unit in Barcelona, 4.5, 1 bedroom, 1 bed, 1 shared bath]      |[rental, unit, barcelona, 4.5, 1 bedroom, 1 bed, 1 shared bath]     |(15,[4,5,7,8,10,12],[2.0,1.0,1.0,1.0,1.0,1.0])       |(15,[4,5,7,8,10,12],[0.2447095143607792,0.13139323196867628,0.7033164771657542,0.5505071791626972,0.8652047902150726,0.0031564109601523436])                      |\n",
            "|Rental unit in Barcelona          |Rental unit in Barcelona · ★4.39 · 3 bedrooms · 6 beds · 1.5 baths        |[Rental unit in Barcelona, 4, 3 bedrooms, 6 beds, 1.5 baths]          |[rental, unit, barcelona, 4, 3 bedrooms, 6 beds, 1.5 baths]         |(15,[4,5,10,12],[3.0,1.0,2.0,1.0])                   |(15,[4,5,10,12],[0.36706427154116883,0.13139323196867628,1.7304095804301451,0.0031564109601523436])                                                               |\n",
            "|Condo in Barcelona                |Condo in Barcelona · ★4.38 · 1 bedroom · 2 beds · 1 bath                  |[Condo in Barcelona, 4, 1 bedroom, 2 beds, 1 bath]                    |[condo, barcelona, 4, 1 bedroom, 2 beds, 1 bath]                    |(15,[5,8,10,12,13],[1.0,1.0,1.0,1.0,2.0])            |(15,[5,8,10,12,13],[0.13139323196867628,0.5505071791626972,0.8652047902150726,0.0031564109601523436,1.3000512521025664])                                          |\n",
            "|Rental unit in Barcelona          |Rental unit in Barcelona · ★4.89 · 1 bedroom · 2 beds · 1 shared bath     |[Rental unit in Barcelona, 5, 1 bedroom, 2 beds, 1 shared bath]       |[rental, unit, barcelona, 5, 1 bedroom, 2 beds, 1 shared bath]      |(15,[4,5,8,11,12,13],[2.0,1.0,1.0,1.0,1.0,1.0])      |(15,[4,5,8,11,12,13],[0.2447095143607792,0.13139323196867628,0.5505071791626972,1.4639257214127563,0.0031564109601523436,0.6500256260512832])                     |\n",
            "|Rental unit in Barcelona          |Rental unit in Barcelona · ★4.70 · 3 bedrooms · 4 beds · 2 baths          |[Rental unit in Barcelona, 4.5, 3 bedrooms, 4 beds, 2 baths]          |[rental, unit, barcelona, 4.5, 3 bedrooms, 4 beds, 2 baths]         |(15,[1,4,5,10,12],[1.0,2.0,1.0,1.0,2.0])             |(15,[1,4,5,10,12],[2.1353226355725248,0.2447095143607792,0.13139323196867628,0.8652047902150726,0.006312821920304687])                                            |\n",
            "|Rental unit in Barcelona          |Rental unit in Barcelona · ★4.35 · 2 bedrooms · 4 beds · 2 baths          |[Rental unit in Barcelona, 4, 2 bedrooms, 4 beds, 2 baths]            |[rental, unit, barcelona, 4, 2 bedrooms, 4 beds, 2 baths]           |(15,[1,4,5,9,10,12],[1.0,1.0,1.0,1.0,1.0,2.0])       |(15,[1,4,5,9,10,12],[2.1353226355725248,0.1223547571803896,0.13139323196867628,1.1267026058866774,0.8652047902150726,0.006312821920304687])                       |\n",
            "|Rental unit in Barcelona          |Rental unit in Barcelona · 1 bedroom · 1 bed · 1 bath                     |[Rental unit in Barcelona, 1 bedroom, 1 bed, 1 bath]                  |[rental, unit, barcelona, 1 bedroom, 1 bed, 1 bath]                 |(15,[4,5,7,8,12,13],[1.0,1.0,1.0,1.0,1.0,1.0])       |(15,[4,5,7,8,12,13],[0.1223547571803896,0.13139323196867628,0.7033164771657542,0.5505071791626972,0.0031564109601523436,0.6500256260512832])                      |\n",
            "|Rental unit in Barcelona          |Rental unit in Barcelona · ★4.17 · 2 bedrooms · 3 beds · 1 bath           |[Rental unit in Barcelona, 4, 2 bedrooms, 3 beds, 1 bath]             |[rental, unit, barcelona, 4, 2 bedrooms, 3 beds, 1 bath]            |(15,[4,5,9,10,12,13],[1.0,1.0,2.0,1.0,1.0,1.0])      |(15,[4,5,9,10,12,13],[0.1223547571803896,0.13139323196867628,2.2534052117733547,0.8652047902150726,0.0031564109601523436,0.6500256260512832])                     |\n",
            "|Rental unit in Barcelona          |Rental unit in Barcelona · ★4.94 · 4 bedrooms · 5 beds · 4 baths          |[Rental unit in Barcelona, 5, 4 bedrooms, 5 beds, 4 baths]            |[rental, unit, barcelona, 5, 4 bedrooms, 5 beds, 4 baths]           |(15,[0,4,5,8,10,11,12],[1.0,1.0,1.0,1.0,1.0,1.0,1.0])|(15,[0,4,5,8,10,11,12],[1.7535216700468217,0.1223547571803896,0.13139323196867628,0.5505071791626972,0.8652047902150726,1.4639257214127563,0.0031564109601523436])|\n",
            "|Rental unit in Barcelona          |Rental unit in Barcelona · ★4.43 · 4 bedrooms · 7 beds · 2 baths          |[Rental unit in Barcelona, 4, 4 bedrooms, 7 beds, 2 baths]            |[rental, unit, barcelona, 4, 4 bedrooms, 7 beds, 2 baths]           |(15,[1,4,5,8,10,12],[1.0,1.0,1.0,1.0,1.0,2.0])       |(15,[1,4,5,8,10,12],[2.1353226355725248,0.1223547571803896,0.13139323196867628,0.5505071791626972,0.8652047902150726,0.006312821920304687])                       |\n",
            "|Rental unit in Barcelona          |Rental unit in Barcelona · ★4.59 · 2 bedrooms · 7 beds · 1 bath           |[Rental unit in Barcelona, 4.5, 2 bedrooms, 7 beds, 1 bath]           |[rental, unit, barcelona, 4.5, 2 bedrooms, 7 beds, 1 bath]          |(15,[1,4,5,9,10,12,13],[1.0,1.0,1.0,1.0,1.0,1.0,1.0])|(15,[1,4,5,9,10,12,13],[2.1353226355725248,0.1223547571803896,0.13139323196867628,1.1267026058866774,0.8652047902150726,0.0031564109601523436,0.6500256260512832])|\n",
            "|Rental unit in Barcelona          |Rental unit in Barcelona · ★4.52 · 1 bedroom · 2 beds · 1 bath            |[Rental unit in Barcelona, 4.5, 1 bedroom, 2 beds, 1 bath]            |[rental, unit, barcelona, 4.5, 1 bedroom, 2 beds, 1 bath]           |(15,[4,5,8,10,12,13],[1.0,1.0,1.0,1.0,1.0,2.0])      |(15,[4,5,8,10,12,13],[0.1223547571803896,0.13139323196867628,0.5505071791626972,0.8652047902150726,0.0031564109601523436,1.3000512521025664])                     |\n",
            "|Rental unit in Barcelona          |Rental unit in Barcelona · ★4.74 · 1 bedroom · 2 beds · 2 baths           |[Rental unit in Barcelona, 4.5, 1 bedroom, 2 beds, 2 baths]           |[rental, unit, barcelona, 4.5, 1 bedroom, 2 beds, 2 baths]          |(15,[4,5,8,10,12,13],[1.0,1.0,1.0,1.0,2.0,1.0])      |(15,[4,5,8,10,12,13],[0.1223547571803896,0.13139323196867628,0.5505071791626972,0.8652047902150726,0.006312821920304687,0.6500256260512832])                      |\n",
            "|Rental unit in Barcelona          |Rental unit in Barcelona · ★4.67 · 4 bedrooms · 6 beds · 2 baths          |[Rental unit in Barcelona, 4.5, 4 bedrooms, 6 beds, 2 baths]          |[rental, unit, barcelona, 4.5, 4 bedrooms, 6 beds, 2 baths]         |(15,[4,5,8,10,12],[2.0,1.0,1.0,1.0,2.0])             |(15,[4,5,8,10,12],[0.2447095143607792,0.13139323196867628,0.5505071791626972,0.8652047902150726,0.006312821920304687])                                            |\n",
            "+----------------------------------+--------------------------------------------------------------------------+----------------------------------------------------------------------+--------------------------------------------------------------------+-----------------------------------------------------+------------------------------------------------------------------------------------------------------------------------------------------------------------------+\n",
            "only showing top 20 rows\n",
            "\n"
          ]
        }
      ]
    },
    {
      "cell_type": "markdown",
      "source": [
        "### LSH"
      ],
      "metadata": {
        "id": "RsU2MuNfvdx-"
      }
    },
    {
      "cell_type": "markdown",
      "source": [
        "### Implement"
      ],
      "metadata": {
        "id": "yz0xZ-4v6rv0"
      }
    },
    {
      "cell_type": "code",
      "source": [
        "from pyspark.ml.feature import BucketedRandomProjectionLSH\n",
        "\n",
        "def run_lsh(df, input_column, output_column, bucket_length, num_hash_tables):\n",
        "    \"\"\"\n",
        "    Parameter meaning:\n",
        "     - bucket_length - the length of each hash bucket, a larger bucket lowers the false negative rate\n",
        "     - num_hash_tables - number of hash tables, where increasing number of hash tables lowers the false negative rate, and decreasing it improves the running performance\n",
        "    \"\"\"\n",
        "    brp = BucketedRandomProjectionLSH()\n",
        "    brp.setInputCol(input_column)\n",
        "    brp.setOutputCol(output_column)\n",
        "\n",
        "    brp.setSeed(123456)\n",
        "    brp.setBucketLength(bucket_length)\n",
        "    brp.setNumHashTables(num_hash_tables)\n",
        "\n",
        "    model = brp.fit(df)\n",
        "    model.setOutputCol(output_column)\n",
        "\n",
        "    return model\n",
        "\n",
        "model = run_lsh(df=results, input_column=\"vector_space\", output_column=\"hashes\", bucket_length=1.0, num_hash_tables=1)"
      ],
      "metadata": {
        "id": "4brAPA4-vdNo"
      },
      "execution_count": null,
      "outputs": []
    },
    {
      "cell_type": "markdown",
      "source": [
        "### Query"
      ],
      "metadata": {
        "id": "dmfz2M8P6uvg"
      }
    },
    {
      "cell_type": "markdown",
      "source": [
        "#### first"
      ],
      "metadata": {
        "id": "yyuAaK0GURWU"
      }
    },
    {
      "cell_type": "code",
      "source": [
        "query = results.first()\n",
        "\n",
        "print(f\"Query name: {query.asDict()['name']}\")\n",
        "print(f\"Query ID: {query.asDict()['id']}\")\n",
        "\n",
        "# Parameters\n",
        "# number of neighbour points which are taken for the comparison\n",
        "num_neighbours = 50\n",
        "\n",
        "reccomendations = model.approxNearestNeighbors(results, query.vector_space, num_neighbours, distCol=\"distance\")\n",
        "reccomendations.select(\"id\", \"name\", \"clean_tokens\", \"distance\").show(num_neighbours, False)"
      ],
      "metadata": {
        "colab": {
          "base_uri": "https://localhost:8080/"
        },
        "id": "W5sQ5UHrFhzj",
        "outputId": "51b9e582-ee9f-466f-dc60-89ef21c682f7"
      },
      "execution_count": null,
      "outputs": [
        {
          "output_type": "stream",
          "name": "stdout",
          "text": [
            "Query name: Rental unit in Barcelona · ★4.30 · 3 bedrooms · 6 beds · 2 baths\n",
            "Query ID: 18674\n",
            "+--------+----------------------------------------------------------------+-----------------------------------------------------------+--------+\n",
            "|id      |name                                                            |clean_tokens                                               |distance|\n",
            "+--------+----------------------------------------------------------------+-----------------------------------------------------------+--------+\n",
            "|7663286 |Rental unit in Barcelona · ★4.64 · 3 bedrooms · 6 beds · 2 baths|[rental, unit, barcelona, 4.5, 3 bedrooms, 6 beds, 2 baths]|0.0     |\n",
            "|1814378 |Rental unit in Barcelona · ★4.20 · 3 bedrooms · 6 beds · 2 baths|[rental, unit, barcelona, 4, 3 bedrooms, 6 beds, 2 baths]  |0.0     |\n",
            "|112538  |Rental unit in Barcelona · ★4.38 · 3 bedrooms · 6 beds · 2 baths|[rental, unit, barcelona, 4, 3 bedrooms, 6 beds, 2 baths]  |0.0     |\n",
            "|22475001|Rental unit in Barcelona · ★4.14 · 3 bedrooms · 6 beds · 2 baths|[rental, unit, barcelona, 4, 3 bedrooms, 6 beds, 2 baths]  |0.0     |\n",
            "|9518537 |Rental unit in Barcelona · ★4.60 · 5 bedrooms · 9 beds · 3 baths|[rental, unit, barcelona, 4.5, 5 bedrooms, 9 beds, 3 baths]|0.0     |\n",
            "|138055  |Rental unit in Barcelona · ★4.49 · 3 bedrooms · 6 beds · 2 baths|[rental, unit, barcelona, 4, 3 bedrooms, 6 beds, 2 baths]  |0.0     |\n",
            "|11050889|Rental unit in Barcelona · ★4.54 · 3 bedrooms · 6 beds · 2 baths|[rental, unit, barcelona, 4.5, 3 bedrooms, 6 beds, 2 baths]|0.0     |\n",
            "|385049  |Rental unit in Barcelona · ★4.64 · 3 bedrooms · 6 beds · 2 baths|[rental, unit, barcelona, 4.5, 3 bedrooms, 6 beds, 2 baths]|0.0     |\n",
            "|12744761|Rental unit in Barcelona · ★4.65 · 3 bedrooms · 6 beds · 2 baths|[rental, unit, barcelona, 4.5, 3 bedrooms, 6 beds, 2 baths]|0.0     |\n",
            "|892943  |Rental unit in Barcelona · ★4.58 · 3 bedrooms · 6 beds · 2 baths|[rental, unit, barcelona, 4.5, 3 bedrooms, 6 beds, 2 baths]|0.0     |\n",
            "|12556633|Rental unit in Barcelona · ★4.44 · 3 bedrooms · 6 beds · 2 baths|[rental, unit, barcelona, 4, 3 bedrooms, 6 beds, 2 baths]  |0.0     |\n",
            "|965712  |Rental unit in Barcelona · ★4.44 · 3 bedrooms · 6 beds · 2 baths|[rental, unit, barcelona, 4, 3 bedrooms, 6 beds, 2 baths]  |0.0     |\n",
            "|13103577|Rental unit in Barcelona · ★4.33 · 3 bedrooms · 6 beds · 2 baths|[rental, unit, barcelona, 4, 3 bedrooms, 6 beds, 2 baths]  |0.0     |\n",
            "|1039162 |Rental unit in Barcelona · ★4.77 · 3 bedrooms · 6 beds · 2 baths|[rental, unit, barcelona, 4.5, 3 bedrooms, 6 beds, 2 baths]|0.0     |\n",
            "|13270031|Rental unit in Barcelona · ★4.71 · 3 bedrooms · 6 beds · 2 baths|[rental, unit, barcelona, 4.5, 3 bedrooms, 6 beds, 2 baths]|0.0     |\n",
            "|1505365 |Rental unit in Barcelona · ★4.65 · 3 bedrooms · 6 beds · 2 baths|[rental, unit, barcelona, 4.5, 3 bedrooms, 6 beds, 2 baths]|0.0     |\n",
            "|14981606|Rental unit in Barcelona · ★4.77 · 3 bedrooms · 6 beds · 2 baths|[rental, unit, barcelona, 4.5, 3 bedrooms, 6 beds, 2 baths]|0.0     |\n",
            "|6722829 |Rental unit in Barcelona · ★4.45 · 3 bedrooms · 6 beds · 2 baths|[rental, unit, barcelona, 4, 3 bedrooms, 6 beds, 2 baths]  |0.0     |\n",
            "|15124297|Rental unit in Barcelona · ★4.48 · 3 bedrooms · 6 beds · 2 baths|[rental, unit, barcelona, 4, 3 bedrooms, 6 beds, 2 baths]  |0.0     |\n",
            "|1899692 |Rental unit in Barcelona · ★4.60 · 3 bedrooms · 6 beds · 2 baths|[rental, unit, barcelona, 4.5, 3 bedrooms, 6 beds, 2 baths]|0.0     |\n",
            "|14676014|Rental unit in Barcelona · ★4.33 · 3 bedrooms · 9 beds · 3 baths|[rental, unit, barcelona, 4, 3 bedrooms, 9 beds, 3 baths]  |0.0     |\n",
            "|3228260 |Rental unit in Barcelona · ★4.38 · 3 bedrooms · 6 beds · 2 baths|[rental, unit, barcelona, 4, 3 bedrooms, 6 beds, 2 baths]  |0.0     |\n",
            "|16060688|Rental unit in Barcelona · ★4.66 · 3 bedrooms · 6 beds · 2 baths|[rental, unit, barcelona, 4.5, 3 bedrooms, 6 beds, 2 baths]|0.0     |\n",
            "|4346136 |Rental unit in Barcelona · ★4.29 · 3 bedrooms · 6 beds · 2 baths|[rental, unit, barcelona, 4, 3 bedrooms, 6 beds, 2 baths]  |0.0     |\n",
            "|16496029|Rental unit in Barcelona · ★4.69 · 3 bedrooms · 6 beds · 2 baths|[rental, unit, barcelona, 4.5, 3 bedrooms, 6 beds, 2 baths]|0.0     |\n",
            "|4929694 |Rental unit in Barcelona · ★4.08 · 3 bedrooms · 6 beds · 2 baths|[rental, unit, barcelona, 4, 3 bedrooms, 6 beds, 2 baths]  |0.0     |\n",
            "|17049139|Rental unit in Barcelona · ★4.60 · 3 bedrooms · 6 beds · 2 baths|[rental, unit, barcelona, 4.5, 3 bedrooms, 6 beds, 2 baths]|0.0     |\n",
            "|23050270|Rental unit in Barcelona · ★4.51 · 3 bedrooms · 6 beds · 2 baths|[rental, unit, barcelona, 4.5, 3 bedrooms, 6 beds, 2 baths]|0.0     |\n",
            "|18338221|Rental unit in Barcelona · ★4.64 · 3 bedrooms · 6 beds · 2 baths|[rental, unit, barcelona, 4.5, 3 bedrooms, 6 beds, 2 baths]|0.0     |\n",
            "|117010  |Rental unit in Barcelona · ★4.55 · 3 bedrooms · 6 beds · 2 baths|[rental, unit, barcelona, 4.5, 3 bedrooms, 6 beds, 2 baths]|0.0     |\n",
            "|18918159|Rental unit in Barcelona · ★4.13 · 3 bedrooms · 6 beds · 2 baths|[rental, unit, barcelona, 4, 3 bedrooms, 6 beds, 2 baths]  |0.0     |\n",
            "|624427  |Rental unit in Barcelona · ★4.29 · 3 bedrooms · 6 beds · 2 baths|[rental, unit, barcelona, 4, 3 bedrooms, 6 beds, 2 baths]  |0.0     |\n",
            "|18918162|Rental unit in Barcelona · ★4.79 · 3 bedrooms · 6 beds · 2 baths|[rental, unit, barcelona, 4.5, 3 bedrooms, 6 beds, 2 baths]|0.0     |\n",
            "|1145940 |Rental unit in Barcelona · ★4.75 · 3 bedrooms · 6 beds · 2 baths|[rental, unit, barcelona, 4.5, 3 bedrooms, 6 beds, 2 baths]|0.0     |\n",
            "|18918163|Rental unit in Barcelona · ★4.69 · 3 bedrooms · 6 beds · 2 baths|[rental, unit, barcelona, 4.5, 3 bedrooms, 6 beds, 2 baths]|0.0     |\n",
            "|1429809 |Rental unit in Barcelona · ★4.33 · 3 bedrooms · 6 beds · 2 baths|[rental, unit, barcelona, 4, 3 bedrooms, 6 beds, 2 baths]  |0.0     |\n",
            "|18884784|Rental unit in Barcelona · ★4.73 · 3 bedrooms · 6 beds · 2 baths|[rental, unit, barcelona, 4.5, 3 bedrooms, 6 beds, 2 baths]|0.0     |\n",
            "|3127809 |Rental unit in Barcelona · ★4.05 · 3 bedrooms · 6 beds · 2 baths|[rental, unit, barcelona, 4, 3 bedrooms, 6 beds, 2 baths]  |0.0     |\n",
            "|18918178|Rental unit in Barcelona · ★4.53 · 3 bedrooms · 6 beds · 2 baths|[rental, unit, barcelona, 4.5, 3 bedrooms, 6 beds, 2 baths]|0.0     |\n",
            "|4929018 |Rental unit in Barcelona · ★4.32 · 3 bedrooms · 6 beds · 2 baths|[rental, unit, barcelona, 4, 3 bedrooms, 6 beds, 2 baths]  |0.0     |\n",
            "|18983216|Rental unit in Barcelona · ★4.49 · 3 bedrooms · 6 beds · 2 baths|[rental, unit, barcelona, 4, 3 bedrooms, 6 beds, 2 baths]  |0.0     |\n",
            "|22475072|Rental unit in Barcelona · ★4.47 · 3 bedrooms · 6 beds · 2 baths|[rental, unit, barcelona, 4, 3 bedrooms, 6 beds, 2 baths]  |0.0     |\n",
            "|20239670|Rental unit in Barcelona · ★4.67 · 3 bedrooms · 6 beds · 2 baths|[rental, unit, barcelona, 4.5, 3 bedrooms, 6 beds, 2 baths]|0.0     |\n",
            "|846423  |Rental unit in Barcelona · ★4.77 · 3 bedrooms · 6 beds · 2 baths|[rental, unit, barcelona, 4.5, 3 bedrooms, 6 beds, 2 baths]|0.0     |\n",
            "|21719737|Rental unit in BARCELONA · ★4.15 · 3 bedrooms · 6 beds · 2 baths|[rental, unit, barcelona, 4, 3 bedrooms, 6 beds, 2 baths]  |0.0     |\n",
            "|18674   |Rental unit in Barcelona · ★4.30 · 3 bedrooms · 6 beds · 2 baths|[rental, unit, barcelona, 4, 3 bedrooms, 6 beds, 2 baths]  |0.0     |\n",
            "|21722004|Rental unit in Barcelona · ★4.65 · 3 bedrooms · 6 beds · 2 baths|[rental, unit, barcelona, 4.5, 3 bedrooms, 6 beds, 2 baths]|0.0     |\n",
            "|4970513 |Rental unit in Barcelona · ★4.15 · 3 bedrooms · 6 beds · 2 baths|[rental, unit, barcelona, 4, 3 bedrooms, 6 beds, 2 baths]  |0.0     |\n",
            "|22463569|Rental unit in Barcelona · ★4.50 · 3 bedrooms · 6 beds · 2 baths|[rental, unit, barcelona, 4.5, 3 bedrooms, 6 beds, 2 baths]|0.0     |\n",
            "|1338105 |Rental unit in Barcelona · ★4.50 · 3 bedrooms · 6 beds · 2 baths|[rental, unit, barcelona, 4.5, 3 bedrooms, 6 beds, 2 baths]|0.0     |\n",
            "+--------+----------------------------------------------------------------+-----------------------------------------------------------+--------+\n",
            "\n"
          ]
        }
      ]
    },
    {
      "cell_type": "code",
      "source": [
        "import numpy as np\n",
        "\n",
        "reccomended_ids = np.array(reccomendations.select(\"id\").collect())"
      ],
      "metadata": {
        "id": "j0WdvqUO7F-_"
      },
      "execution_count": null,
      "outputs": []
    },
    {
      "cell_type": "markdown",
      "source": [
        "#### least"
      ],
      "metadata": {
        "id": "LXgRKD6uUXzG"
      }
    },
    {
      "cell_type": "code",
      "source": [
        "rating_threshold = 3.1\n",
        "query_3 = results.filter(results[\"rating_bucket\"] < rating_threshold).head()\n",
        "print(f\"Query name: {query_3.asDict()['name']}\")\n",
        "print(f\"Query ID: {query_3.asDict()['id']}\")\n",
        "\n",
        "reccomendations = model.approxNearestNeighbors(results, query_3.vector_space, num_neighbours, distCol=\"distance\")\n",
        "reccomendations.select(\"id\", \"name\", \"clean_tokens\", \"distance\").show(num_neighbours, False)"
      ],
      "metadata": {
        "id": "AKLZsOUHLfxA",
        "colab": {
          "base_uri": "https://localhost:8080/"
        },
        "outputId": "7f539250-902c-4c89-a24d-563c5cccb320"
      },
      "execution_count": null,
      "outputs": [
        {
          "output_type": "stream",
          "name": "stdout",
          "text": [
            "Query name: Rental unit in Barcelona · ★2.50 · 1 bedroom · 3 beds · 1 bath\n",
            "Query ID: 562020\n",
            "+------------------+--------------------------------------------------------------------+---------------------------------------------------------+---------------------+\n",
            "|id                |name                                                                |clean_tokens                                             |distance             |\n",
            "+------------------+--------------------------------------------------------------------+---------------------------------------------------------+---------------------+\n",
            "|562020            |Rental unit in Barcelona · ★2.50 · 1 bedroom · 3 beds · 1 bath      |[rental, unit, barcelona, 2, 1 bedroom, 3 beds, 1 bath]  |0.0                  |\n",
            "|548085            |Rental unit in Barcelona · 1 bedroom · 3 beds · 1 bath              |[rental, unit, barcelona, 1 bedroom, 3 beds, 1 bath]     |0.0031564109601523436|\n",
            "|1978145           |Rental unit in Barcelona · 1 bedroom · 3 beds · 1 bath              |[rental, unit, barcelona, 1 bedroom, 3 beds, 1 bath]     |0.0031564109601523436|\n",
            "|3801715           |Rental unit in Barcelona · 1 bedroom · 3 beds · 1 bath              |[rental, unit, barcelona, 1 bedroom, 3 beds, 1 bath]     |0.0031564109601523436|\n",
            "|8352635           |Rental unit in Barcelona · 1 bedroom · 3 beds · 1 bath              |[rental, unit, barcelona, 1 bedroom, 3 beds, 1 bath]     |0.0031564109601523436|\n",
            "|9182647           |Rental unit in Barcelona · 1 bedroom · 3 beds · 1 bath              |[rental, unit, barcelona, 1 bedroom, 3 beds, 1 bath]     |0.0031564109601523436|\n",
            "|8747669           |Rental unit in Barcelona · 1 bedroom · 3 beds · 1 bath              |[rental, unit, barcelona, 1 bedroom, 3 beds, 1 bath]     |0.0031564109601523436|\n",
            "|11354679          |Rental unit in Barcelona · 1 bedroom · 3 beds · 1 bath              |[rental, unit, barcelona, 1 bedroom, 3 beds, 1 bath]     |0.0031564109601523436|\n",
            "|13808970          |Rental unit in Barcelona · 1 bedroom · 3 beds · 1 bath              |[rental, unit, barcelona, 1 bedroom, 3 beds, 1 bath]     |0.0031564109601523436|\n",
            "|20638468          |Rental unit in Barcelona · 1 bedroom · 3 beds · 1 bath              |[rental, unit, barcelona, 1 bedroom, 3 beds, 1 bath]     |0.0031564109601523436|\n",
            "|26584756          |Rental unit in Barcelona · 1 bedroom · 3 beds · 1 bath              |[rental, unit, barcelona, 1 bedroom, 3 beds, 1 bath]     |0.0031564109601523436|\n",
            "|29473763          |Rental unit in Barcelona · 1 bedroom · 3 beds · 1 bath              |[rental, unit, barcelona, 1 bedroom, 3 beds, 1 bath]     |0.0031564109601523436|\n",
            "|29754307          |Rental unit in Barcelona · 1 bedroom · 3 beds · 1 bath              |[rental, unit, barcelona, 1 bedroom, 3 beds, 1 bath]     |0.0031564109601523436|\n",
            "|36102374          |Rental unit in Barcelona · 1 bedroom · 3 beds · 1 bath              |[rental, unit, barcelona, 1 bedroom, 3 beds, 1 bath]     |0.0031564109601523436|\n",
            "|40090804          |Rental unit in Barcelona · 1 bedroom · 3 beds · 1 bath              |[rental, unit, barcelona, 1 bedroom, 3 beds, 1 bath]     |0.0031564109601523436|\n",
            "|40482518          |Rental unit in Barcelona · 1 bedroom · 3 beds · 1 bath              |[rental, unit, barcelona, 1 bedroom, 3 beds, 1 bath]     |0.0031564109601523436|\n",
            "|42135410          |Rental unit in Barcelona · 1 bedroom · 3 beds · 1 bath              |[rental, unit, barcelona, 1 bedroom, 3 beds, 1 bath]     |0.0031564109601523436|\n",
            "|42660146          |Rental unit in Barcelona · 1 bedroom · 3 beds · 1 bath              |[rental, unit, barcelona, 1 bedroom, 3 beds, 1 bath]     |0.0031564109601523436|\n",
            "|644090331840258994|Rental unit in Barcelona · 1 bedroom · 3 beds · 1 bath              |[rental, unit, barcelona, 1 bedroom, 3 beds, 1 bath]     |0.0031564109601523436|\n",
            "|669275662112597904|Rental unit in Barcelona · 1 bedroom · 3 beds · 1 bath              |[rental, unit, barcelona, 1 bedroom, 3 beds, 1 bath]     |0.0031564109601523436|\n",
            "|681826087489577133|Rental unit in Barcelona · 1 bedroom · 3 beds · 1 bath              |[rental, unit, barcelona, 1 bedroom, 3 beds, 1 bath]     |0.0031564109601523436|\n",
            "|691856363255456039|Rental unit in Barcelona · 1 bedroom · 3 beds · 1 bath              |[rental, unit, barcelona, 1 bedroom, 3 beds, 1 bath]     |0.0031564109601523436|\n",
            "|765078460325163075|Rental unit in Barcelona · 1 bedroom · 3 beds · 1 bath              |[rental, unit, barcelona, 1 bedroom, 3 beds, 1 bath]     |0.0031564109601523436|\n",
            "|767984083749434568|Rental unit in Barcelona · 1 bedroom · 3 beds · 1 bath              |[rental, unit, barcelona, 1 bedroom, 3 beds, 1 bath]     |0.0031564109601523436|\n",
            "|786013807162775169|Rental unit in Barcelona · 1 bedroom · 3 beds · 1 bath              |[rental, unit, barcelona, 1 bedroom, 3 beds, 1 bath]     |0.0031564109601523436|\n",
            "|805860261937289839|Rental unit in Barcelona · 1 bedroom · 3 beds · 1 bath              |[rental, unit, barcelona, 1 bedroom, 3 beds, 1 bath]     |0.0031564109601523436|\n",
            "|847579072395779970|Rental unit in Barcelona · 1 bedroom · 3 beds · 1 bath              |[rental, unit, barcelona, 1 bedroom, 3 beds, 1 bath]     |0.0031564109601523436|\n",
            "|892634527770361498|Rental unit in Barcelona · 1 bedroom · 3 beds · 1 bath              |[rental, unit, barcelona, 1 bedroom, 3 beds, 1 bath]     |0.0031564109601523436|\n",
            "|13683831          |Home in Barcelona · 1 bedroom · 3 beds · 1 bath                     |[home, barcelona, 1 bedroom, 3 beds, 1 bath]             |0.12239546370197496  |\n",
            "|7270667           |Home in Barcelona · 1 bedroom · 3 beds · 1 bath                     |[home, barcelona, 1 bedroom, 3 beds, 1 bath]             |0.12239546370197496  |\n",
            "|575011990203836509|Condo in Barcelona · 1 bedroom · 3 beds · 1 bath                    |[condo, barcelona, 1 bedroom, 3 beds, 1 bath]            |0.12239546370197496  |\n",
            "|662197604119813685|Condo in Barcelona · 1 bedroom · 3 beds · 1 bath                    |[condo, barcelona, 1 bedroom, 3 beds, 1 bath]            |0.12239546370197496  |\n",
            "|683756526848386016|Condo in Barcelona · 1 bedroom · 3 beds · 1 bath                    |[condo, barcelona, 1 bedroom, 3 beds, 1 bath]            |0.12239546370197496  |\n",
            "|751960547854238662|Condo in Barcelona · 1 bedroom · 3 beds · 1 bath                    |[condo, barcelona, 1 bedroom, 3 beds, 1 bath]            |0.12239546370197496  |\n",
            "|1436676           |Rental unit in Barcelona · ★3.93 · 1 bedroom · 3 beds · 1 bath      |[rental, unit, barcelona, 3.5, 1 bedroom, 3 beds, 1 bath]|0.13143113914641288  |\n",
            "|18748104          |Rental unit in barcelona · ★3.97 · 1 bedroom · 3 beds · 1 bath      |[rental, unit, barcelona, 3.5, 1 bedroom, 3 beds, 1 bath]|0.13143113914641288  |\n",
            "|18748105          |Rental unit in barcelona · ★3.70 · 1 bedroom · 3 beds · 1 bath      |[rental, unit, barcelona, 3.5, 1 bedroom, 3 beds, 1 bath]|0.13143113914641288  |\n",
            "|26561889          |Rental unit in Barcelona · ★3.91 · 1 bedroom · 3 beds · 1 bath      |[rental, unit, barcelona, 3.5, 1 bedroom, 3 beds, 1 bath]|0.13143113914641288  |\n",
            "|638363133062684374|casa particular in Barcelona · 1 bedroom · 3 beds · 1.5 shared baths|[casa, barcelona, 1 bedroom, 3 beds, 1.5 shared baths]   |0.13143113914641288  |\n",
            "|732608700300788822|Hotel in Barcelona · 1 bedroom · 3 beds · 1 shared bath             |[hotel, barcelona, 1 bedroom, 3 beds, 1 shared bath]     |0.13143113914641288  |\n",
            "|24231425          |Villa in Barcelona · 2 bedrooms · 2 beds · 2 baths                  |[villa, barcelona, 2 bedrooms, 2 beds, 2 baths]          |0.17954071407858016  |\n",
            "|599024144917672674|Condo in Barcelona · ★3.77 · 1 bedroom · 3 beds · 1 bath            |[condo, barcelona, 3.5, 1 bedroom, 3 beds, 1 bath]       |0.17956845753638317  |\n",
            "|34302558          |Rental unit in Barcelona · 2 bedrooms · 2 beds · 2 baths            |[rental, unit, barcelona, 2 bedrooms, 2 beds, 2 baths]   |0.5505071791626972   |\n",
            "|42377083          |Rental unit in Barcelona · 2 bedrooms · 2 beds · 2 baths            |[rental, unit, barcelona, 2 bedrooms, 2 beds, 2 baths]   |0.5505071791626972   |\n",
            "|35144410          |Rental unit in Barcelona · 2 bedrooms · 2 beds · 2 baths            |[rental, unit, barcelona, 2 bedrooms, 2 beds, 2 baths]   |0.5505071791626972   |\n",
            "|23075564          |Rental unit in Barcelona · 2 bedrooms · 2 beds · 2 baths            |[rental, unit, barcelona, 2 bedrooms, 2 beds, 2 baths]   |0.5505071791626972   |\n",
            "|19735557          |Rental unit in Barcelona · 2 bedrooms · 2 beds · 2 baths            |[rental, unit, barcelona, 2 bedrooms, 2 beds, 2 baths]   |0.5505071791626972   |\n",
            "|24169610          |Rental unit in Barcelona · 2 bedrooms · 2 beds · 2 baths            |[rental, unit, barcelona, 2 bedrooms, 2 beds, 2 baths]   |0.5505071791626972   |\n",
            "|26550311          |Rental unit in Barcelona · 2 bedrooms · 2 beds · 2 baths            |[rental, unit, barcelona, 2 bedrooms, 2 beds, 2 baths]   |0.5505071791626972   |\n",
            "|42249998          |Rental unit in Barcelona · 2 bedrooms · 2 beds · 2 baths            |[rental, unit, barcelona, 2 bedrooms, 2 beds, 2 baths]   |0.5505071791626972   |\n",
            "+------------------+--------------------------------------------------------------------+---------------------------------------------------------+---------------------+\n",
            "\n"
          ]
        }
      ]
    },
    {
      "cell_type": "markdown",
      "source": [
        "## Nearest neighbours ground truth"
      ],
      "metadata": {
        "id": "ywWiFdpsKtv5"
      }
    },
    {
      "cell_type": "code",
      "source": [
        "from sklearn.neighbors import KDTree\n",
        "\n",
        "def convert_spark_df_to_pandas(spark_df):\n",
        "    pandas_df = spark_df.select(\"id\", \"name\", \"vector_space\").toPandas()\n",
        "    vectors = pandas_df[\"vector_space\"].apply(lambda x : np.array(x.toArray()))\n",
        "    vectors = vectors.to_numpy()\n",
        "    vectors = np.stack(vectors, axis=0)\n",
        "    return pandas_df, vectors\n",
        "\n",
        "def get_gt(query: np.ndarray, query_id: int, num_neighbours: int, real_ids: np.ndarray, vectors_pandas: np.ndarray):\n",
        "    kdt = KDTree(vectors_pandas, leaf_size=30, metric=\"euclidean\")\n",
        "    gt_neighbours_idx = kdt.query(query, k=num_neighbours, return_distance=False)\n",
        "    gt_real_ids = real_ids[gt_neighbours_idx.flatten()]\n",
        "    gt_ids_without_query_id = np.delete(gt_real_ids, np.where(gt_real_ids == query_id))\n",
        "\n",
        "    return gt_ids_without_query_id\n",
        "\n",
        "pandas_df, vectors_pandas = convert_spark_df_to_pandas(results)\n",
        "ID = 23197\n",
        "query = results.where(results.id == ID).first()\n",
        "query_pandas = np.array(query.asDict()[\"vector_space\"].toArray()).reshape(1, -1)\n",
        "query_id = query.asDict()['id']\n",
        "\n",
        "num_neighbours= 6\n",
        "gt_ids = get_gt(query_pandas, query_id, num_neighbours, pandas_df[\"id\"].to_numpy(), vectors_pandas)\n",
        "print(gt_ids)\n"
      ],
      "metadata": {
        "id": "_l9PH2h-KycO",
        "colab": {
          "base_uri": "https://localhost:8080/"
        },
        "outputId": "6cac8c49-6bf4-48a5-e0c9-c588e4e9ca09"
      },
      "execution_count": null,
      "outputs": [
        {
          "output_type": "stream",
          "name": "stdout",
          "text": [
            "[          18918165 967279668909991276           32300579\n",
            "           31910915 811538092074095964]\n"
          ]
        }
      ]
    },
    {
      "cell_type": "code",
      "source": [
        "from pyspark.sql.functions import udf, array, lit\n",
        "\n",
        "def calculate_gt(df, num_neighbours):\n",
        "    def get_gt_one_row(query_id, query_vector):\n",
        "        \"\"\"\n",
        "        WARNING: function uses global variables.\n",
        "        TODO: Is there a way to pass pandas dataframe to UDF?\n",
        "        \"\"\"\n",
        "        query_pandas = np.array(query_vector.toArray()).reshape(1, -1)\n",
        "        gt_ids = get_gt(query_pandas, query_id, num_neighbours, pandas_df[\"id\"].to_numpy(), vectors_pandas)\n",
        "        return [int(n) for n in gt_ids]\n",
        "\n",
        "    pandas_df, vectors_pandas = convert_spark_df_to_pandas(results)\n",
        "    get_gt_one_row_udf = F.udf(get_gt_one_row, T.ArrayType(T.LongType()))\n",
        "\n",
        "    df_with_gt = df.withColumn(\"ground_truth\", get_gt_one_row_udf(\"id\", \"vector_space\"))\n",
        "    return df_with_gt\n",
        "\n",
        "num_neighbours = 6\n",
        "newgt = calculate_gt(df=results, num_neighbours=num_neighbours)\n",
        "newgt.select(\"id\", \"name\", \"ground_truth\").show(10, False)"
      ],
      "metadata": {
        "id": "vhPmB-b2Co7T",
        "colab": {
          "base_uri": "https://localhost:8080/"
        },
        "outputId": "bde9b144-d582-4a97-edab-4da2159f2cf9"
      },
      "execution_count": null,
      "outputs": [
        {
          "output_type": "stream",
          "name": "stdout",
          "text": [
            "+------+--------------------------------------------------------------------------+----------------------------------------------------------------------+\n",
            "|id    |name                                                                      |ground_truth                                                          |\n",
            "+------+--------------------------------------------------------------------------+----------------------------------------------------------------------+\n",
            "|18674 |Rental unit in Barcelona · ★4.30 · 3 bedrooms · 6 beds · 2 baths          |[162091, 385049, 117010, 112538, 138055]                              |\n",
            "|23197 |Rental unit in Sant Adria de Besos · ★4.77 · 3 bedrooms · 4 beds · 2 baths|[18918165, 967279668909991276, 32300579, 31910915, 811538092074095964]|\n",
            "|32711 |Rental unit in Barcelona · ★4.46 · 2 bedrooms · 3 beds · 1.5 baths        |[1242470, 1199594, 384155, 135513, 1061343]                           |\n",
            "|171646|Rental unit in Barcelona · ★4.81 · 2 bedrooms · 2 beds · 1 bath           |[959089, 594235, 399772, 508212, 988917]                              |\n",
            "|171816|Rental unit in Barcelona · ★4.71 · 2 bedrooms · 3 beds · 1 bath           |[75003, 443222, 209673, 46153, 335861]                                |\n",
            "|34981 |Rental unit in Barcelona · ★4.53 · 4 bedrooms · 6 beds · 3 baths          |[16223518, 6562503, 931437, 5197752, 1613942]                         |\n",
            "|36763 |Rental unit in Barcelona · ★4.79 · 1 bedroom · 1 bed · 1 shared bath      |[136670, 95719, 83283, 214970, 256677]                                |\n",
            "|174382|Rental unit in Barcelona · ★4.39 · 3 bedrooms · 6 beds · 1.5 baths        |[50230242, 45794650, 615381, 2355423, 3027670]                        |\n",
            "|40983 |Condo in Barcelona · ★4.38 · 1 bedroom · 2 beds · 1 bath                  |[35254877, 50299696, 33634238, 7120827, 43918687]                     |\n",
            "|177502|Rental unit in Barcelona · ★4.89 · 1 bedroom · 2 beds · 1 shared bath     |[20128592, 13269213, 12833452, 10519952, 2306347]                     |\n",
            "+------+--------------------------------------------------------------------------+----------------------------------------------------------------------+\n",
            "only showing top 10 rows\n",
            "\n"
          ]
        }
      ]
    },
    {
      "cell_type": "code",
      "source": [
        "newgt.where(results.id == ID).select(\"id\", \"name\", \"ground_truth\").show(1, False)"
      ],
      "metadata": {
        "colab": {
          "base_uri": "https://localhost:8080/"
        },
        "id": "u0xP3ReOjFL7",
        "outputId": "acd31482-030b-401e-d802-9c0d67badb36"
      },
      "execution_count": null,
      "outputs": [
        {
          "output_type": "stream",
          "name": "stdout",
          "text": [
            "+-----+--------------------------------------------------------------------------+----------------------------------------------------------------------+\n",
            "|id   |name                                                                      |ground_truth                                                          |\n",
            "+-----+--------------------------------------------------------------------------+----------------------------------------------------------------------+\n",
            "|23197|Rental unit in Sant Adria de Besos · ★4.77 · 3 bedrooms · 4 beds · 2 baths|[18918165, 967279668909991276, 32300579, 31910915, 811538092074095964]|\n",
            "+-----+--------------------------------------------------------------------------+----------------------------------------------------------------------+\n",
            "\n"
          ]
        }
      ]
    },
    {
      "cell_type": "code",
      "source": [
        "IDs = list(gt_ids) #[967279668909991276, 18918165]\n",
        "newgt.where(results.id.isin(IDs)).select(\"id\", \"name\", \"ground_truth\").show(len(IDs), False)"
      ],
      "metadata": {
        "colab": {
          "base_uri": "https://localhost:8080/"
        },
        "id": "ljmxh4aXhCWc",
        "outputId": "b9fa6882-9f02-46e1-e4b5-73d72c32c080"
      },
      "execution_count": null,
      "outputs": [
        {
          "output_type": "stream",
          "name": "stdout",
          "text": [
            "+------------------+-----------------------------------------------------------------------------------------+-----------------------------------------------------------------------------+\n",
            "|id                |name                                                                                     |ground_truth                                                                 |\n",
            "+------------------+-----------------------------------------------------------------------------------------+-----------------------------------------------------------------------------+\n",
            "|18918165          |Rental unit in Sant Adria de Besos · ★4.49 · 3 bedrooms · 6 beds · 2 baths               |[32300579, 811538092074095964, 899131976222097946, 30944649, 23197]          |\n",
            "|31910915          |Bed and breakfast in Santa Coloma de Gramenet · ★4.94 · 1 bedroom · 1 bed · 1 shared bath|[967279668909991276, 631760606413807974, 23197, 50804944, 641020247716930473]|\n",
            "|32300579          |Hostel in Barcelona · 1 bedroom · 1 bed · 5.5 shared baths                               |[811538092074095964, 18918165, 30944649, 899131976222097946, 32301094]       |\n",
            "|811538092074095964|Camper/RV in Barcelona · 1 bedroom · 1 bed · 1 bath                                      |[32300579, 30944649, 18918165, 899131976222097946, 32301094]                 |\n",
            "|967279668909991276|Rental unit in Santa Coloma de Gramenet · ★New · 1 bedroom · 1 bed · 1 bath              |[31910915, 23197, 746876888101934158, 614381789333370926, 631760606413807974]|\n",
            "+------------------+-----------------------------------------------------------------------------------------+-----------------------------------------------------------------------------+\n",
            "\n"
          ]
        }
      ]
    },
    {
      "cell_type": "code",
      "source": [
        "real_ids = pandas_df[\"id\"].to_numpy()\n",
        "print(real_ids[-10:])"
      ],
      "metadata": {
        "colab": {
          "base_uri": "https://localhost:8080/"
        },
        "id": "dEu6cfBnfbwE",
        "outputId": "bbfd3aef-52c3-41ba-a2c3-1915dd96d7be"
      },
      "execution_count": null,
      "outputs": [
        {
          "output_type": "stream",
          "name": "stdout",
          "text": [
            "[971845785379403969 971878671238422092 971879970019192691\n",
            " 972199746143686425 972213525609560702 972414398498867957\n",
            " 972517151783308573 972525401820905576 972527438522389761\n",
            " 972529324055119972]\n"
          ]
        }
      ]
    },
    {
      "cell_type": "markdown",
      "source": [
        "## Grid serach for LSH parameters"
      ],
      "metadata": {
        "id": "4Fpy_f8i4iXr"
      }
    },
    {
      "cell_type": "code",
      "source": [
        "from sklearn.base import BaseEstimator\n",
        "from sklearn.utils.estimator_checks import check_estimator\n",
        "\n",
        "\n",
        "class LshEstimator():\n",
        "    def __init__(self, num_neighbours=5, num_features=10, bucket_length=1.0, num_hash_tables=1):\n",
        "        self.num_neighbours = num_neighbours\n",
        "        self.num_features = num_features\n",
        "        self.bucket_length = bucket_length\n",
        "        self.num_hash_tables = num_hash_tables\n",
        "\n",
        "\n",
        "    def fit(self, X, y=None):\n",
        "        self.df = convert_title_to_features(df=X, num_features=self.num_features)\n",
        "        self.model = run_lsh(df=self.df, input_column=\"vector_space\", output_column=\"hashes\", bucket_length=self.bucket_length, num_hash_tables=self.num_hash_tables)\n",
        "        self.df = calculate_gt(df=self.df, num_neighbours=self.num_neighbours)\n",
        "\n",
        "    def predict(self, X, y=None):\n",
        "        # TODO: will the code work if I pass several queries at a time?\n",
        "        query = X\n",
        "        reccomendations = model.approxNearestNeighbors(self.df, query.vector_space, num_neighbours, distCol=\"distance\")\n",
        "        reccomended_ids = np.array(reccomendations.select(\"id\").collect())\n",
        "        query_id = query.asDict()['id']\n",
        "        reccomended_ids = np.delete(reccomended_ids, np.where(reccomended_ids == query_id))\n",
        "\n",
        "        return reccomended_ids\n",
        "\n",
        "    def score(self, X, y=None):\n",
        "        # ground_truth_k_neighbours = y[:, :self.num_neighbours] # check dimentions\n",
        "        reccomensations = self.predict(self, X)\n",
        "        score = np.sum(np.isin(reccomensations, self.df_with_ground_truth[\"ground_truth\"]), axis=0)\n",
        "        return score"
      ],
      "metadata": {
        "id": "e1kyK5ts1DZZ"
      },
      "execution_count": null,
      "outputs": []
    },
    {
      "cell_type": "code",
      "source": [
        "from sklearn.metrics import make_scorer\n",
        "from sklearn.model_selection import GridSearchCV\n",
        "import numpy as np\n",
        "\n",
        "\n",
        "param_grid = {\n",
        "    # number of features for TF-IDF\n",
        "    \"num_features\": [20, 30],#[5, 10, 20, 30, 50],\n",
        "    # the length of each hash bucket, a larger bucket lowers the false negative rate.\n",
        "    \"bucket_length\": [2.0],#[1.0, 2.0, 3.0],\n",
        "    # number of hash tables, where increasing number of hash tables lowers the false negative rate, and decreasing it improves the running performance.\n",
        "    \"num_hash_tables\": [1],#[1, 3, 7, 10],\n",
        "    \"num_neighbours\": [5, 15, 50, 100]\n",
        "}\n",
        "\n",
        "lsh_estimator = LshEstimator()\n",
        "grid_search = GridSearchCV(lsh_estimator, param_grid)\n",
        "best_parameters = grid_search.fit(listings_df)\n",
        "# score must be somewhere here????\n",
        "# score = grid_search.score()\n",
        "\n",
        "print('Best parameter:', best_parameters.best_params_)\n",
        "print('Best score:', best_parameters.best_score_)\n"
      ],
      "metadata": {
        "id": "Crr8X8rGJXvo",
        "colab": {
          "base_uri": "https://localhost:8080/",
          "height": 399
        },
        "outputId": "ba52139f-af9e-4f57-fcb2-849cc4eb0414"
      },
      "execution_count": null,
      "outputs": [
        {
          "output_type": "error",
          "ename": "TypeError",
          "evalue": "ignored",
          "traceback": [
            "\u001b[0;31m---------------------------------------------------------------------------\u001b[0m",
            "\u001b[0;31mTypeError\u001b[0m                                 Traceback (most recent call last)",
            "\u001b[0;32m<ipython-input-42-3a24fb009654>\u001b[0m in \u001b[0;36m<cell line: 18>\u001b[0;34m()\u001b[0m\n\u001b[1;32m     16\u001b[0m \u001b[0mlsh_estimator\u001b[0m \u001b[0;34m=\u001b[0m \u001b[0mLshEstimator\u001b[0m\u001b[0;34m(\u001b[0m\u001b[0;34m)\u001b[0m\u001b[0;34m\u001b[0m\u001b[0;34m\u001b[0m\u001b[0m\n\u001b[1;32m     17\u001b[0m \u001b[0mgrid_search\u001b[0m \u001b[0;34m=\u001b[0m \u001b[0mGridSearchCV\u001b[0m\u001b[0;34m(\u001b[0m\u001b[0mlsh_estimator\u001b[0m\u001b[0;34m,\u001b[0m \u001b[0mparam_grid\u001b[0m\u001b[0;34m)\u001b[0m\u001b[0;34m\u001b[0m\u001b[0;34m\u001b[0m\u001b[0m\n\u001b[0;32m---> 18\u001b[0;31m \u001b[0mbest_parameters\u001b[0m \u001b[0;34m=\u001b[0m \u001b[0mgrid_search\u001b[0m\u001b[0;34m.\u001b[0m\u001b[0mfit\u001b[0m\u001b[0;34m(\u001b[0m\u001b[0mlistings_df\u001b[0m\u001b[0;34m)\u001b[0m\u001b[0;34m\u001b[0m\u001b[0;34m\u001b[0m\u001b[0m\n\u001b[0m\u001b[1;32m     19\u001b[0m \u001b[0;31m# score must be somewhere here????\u001b[0m\u001b[0;34m\u001b[0m\u001b[0;34m\u001b[0m\u001b[0m\n\u001b[1;32m     20\u001b[0m \u001b[0;31m# score = grid_search.score()\u001b[0m\u001b[0;34m\u001b[0m\u001b[0;34m\u001b[0m\u001b[0m\n",
            "\u001b[0;32m/usr/local/lib/python3.10/dist-packages/sklearn/model_selection/_search.py\u001b[0m in \u001b[0;36mfit\u001b[0;34m(self, X, y, groups, **fit_params)\u001b[0m\n\u001b[1;32m    780\u001b[0m             \u001b[0mrefit_metric\u001b[0m \u001b[0;34m=\u001b[0m \u001b[0mself\u001b[0m\u001b[0;34m.\u001b[0m\u001b[0mrefit\u001b[0m\u001b[0;34m\u001b[0m\u001b[0;34m\u001b[0m\u001b[0m\n\u001b[1;32m    781\u001b[0m \u001b[0;34m\u001b[0m\u001b[0m\n\u001b[0;32m--> 782\u001b[0;31m         \u001b[0mX\u001b[0m\u001b[0;34m,\u001b[0m \u001b[0my\u001b[0m\u001b[0;34m,\u001b[0m \u001b[0mgroups\u001b[0m \u001b[0;34m=\u001b[0m \u001b[0mindexable\u001b[0m\u001b[0;34m(\u001b[0m\u001b[0mX\u001b[0m\u001b[0;34m,\u001b[0m \u001b[0my\u001b[0m\u001b[0;34m,\u001b[0m \u001b[0mgroups\u001b[0m\u001b[0;34m)\u001b[0m\u001b[0;34m\u001b[0m\u001b[0;34m\u001b[0m\u001b[0m\n\u001b[0m\u001b[1;32m    783\u001b[0m         \u001b[0mfit_params\u001b[0m \u001b[0;34m=\u001b[0m \u001b[0m_check_fit_params\u001b[0m\u001b[0;34m(\u001b[0m\u001b[0mX\u001b[0m\u001b[0;34m,\u001b[0m \u001b[0mfit_params\u001b[0m\u001b[0;34m)\u001b[0m\u001b[0;34m\u001b[0m\u001b[0;34m\u001b[0m\u001b[0m\n\u001b[1;32m    784\u001b[0m \u001b[0;34m\u001b[0m\u001b[0m\n",
            "\u001b[0;32m/usr/local/lib/python3.10/dist-packages/sklearn/utils/validation.py\u001b[0m in \u001b[0;36mindexable\u001b[0;34m(*iterables)\u001b[0m\n\u001b[1;32m    441\u001b[0m \u001b[0;34m\u001b[0m\u001b[0m\n\u001b[1;32m    442\u001b[0m     \u001b[0mresult\u001b[0m \u001b[0;34m=\u001b[0m \u001b[0;34m[\u001b[0m\u001b[0m_make_indexable\u001b[0m\u001b[0;34m(\u001b[0m\u001b[0mX\u001b[0m\u001b[0;34m)\u001b[0m \u001b[0;32mfor\u001b[0m \u001b[0mX\u001b[0m \u001b[0;32min\u001b[0m \u001b[0miterables\u001b[0m\u001b[0;34m]\u001b[0m\u001b[0;34m\u001b[0m\u001b[0;34m\u001b[0m\u001b[0m\n\u001b[0;32m--> 443\u001b[0;31m     \u001b[0mcheck_consistent_length\u001b[0m\u001b[0;34m(\u001b[0m\u001b[0;34m*\u001b[0m\u001b[0mresult\u001b[0m\u001b[0;34m)\u001b[0m\u001b[0;34m\u001b[0m\u001b[0;34m\u001b[0m\u001b[0m\n\u001b[0m\u001b[1;32m    444\u001b[0m     \u001b[0;32mreturn\u001b[0m \u001b[0mresult\u001b[0m\u001b[0;34m\u001b[0m\u001b[0;34m\u001b[0m\u001b[0m\n\u001b[1;32m    445\u001b[0m \u001b[0;34m\u001b[0m\u001b[0m\n",
            "\u001b[0;32m/usr/local/lib/python3.10/dist-packages/sklearn/utils/validation.py\u001b[0m in \u001b[0;36mcheck_consistent_length\u001b[0;34m(*arrays)\u001b[0m\n\u001b[1;32m    392\u001b[0m     \"\"\"\n\u001b[1;32m    393\u001b[0m \u001b[0;34m\u001b[0m\u001b[0m\n\u001b[0;32m--> 394\u001b[0;31m     \u001b[0mlengths\u001b[0m \u001b[0;34m=\u001b[0m \u001b[0;34m[\u001b[0m\u001b[0m_num_samples\u001b[0m\u001b[0;34m(\u001b[0m\u001b[0mX\u001b[0m\u001b[0;34m)\u001b[0m \u001b[0;32mfor\u001b[0m \u001b[0mX\u001b[0m \u001b[0;32min\u001b[0m \u001b[0marrays\u001b[0m \u001b[0;32mif\u001b[0m \u001b[0mX\u001b[0m \u001b[0;32mis\u001b[0m \u001b[0;32mnot\u001b[0m \u001b[0;32mNone\u001b[0m\u001b[0;34m]\u001b[0m\u001b[0;34m\u001b[0m\u001b[0;34m\u001b[0m\u001b[0m\n\u001b[0m\u001b[1;32m    395\u001b[0m     \u001b[0muniques\u001b[0m \u001b[0;34m=\u001b[0m \u001b[0mnp\u001b[0m\u001b[0;34m.\u001b[0m\u001b[0munique\u001b[0m\u001b[0;34m(\u001b[0m\u001b[0mlengths\u001b[0m\u001b[0;34m)\u001b[0m\u001b[0;34m\u001b[0m\u001b[0;34m\u001b[0m\u001b[0m\n\u001b[1;32m    396\u001b[0m     \u001b[0;32mif\u001b[0m \u001b[0mlen\u001b[0m\u001b[0;34m(\u001b[0m\u001b[0muniques\u001b[0m\u001b[0;34m)\u001b[0m \u001b[0;34m>\u001b[0m \u001b[0;36m1\u001b[0m\u001b[0;34m:\u001b[0m\u001b[0;34m\u001b[0m\u001b[0;34m\u001b[0m\u001b[0m\n",
            "\u001b[0;32m/usr/local/lib/python3.10/dist-packages/sklearn/utils/validation.py\u001b[0m in \u001b[0;36m<listcomp>\u001b[0;34m(.0)\u001b[0m\n\u001b[1;32m    392\u001b[0m     \"\"\"\n\u001b[1;32m    393\u001b[0m \u001b[0;34m\u001b[0m\u001b[0m\n\u001b[0;32m--> 394\u001b[0;31m     \u001b[0mlengths\u001b[0m \u001b[0;34m=\u001b[0m \u001b[0;34m[\u001b[0m\u001b[0m_num_samples\u001b[0m\u001b[0;34m(\u001b[0m\u001b[0mX\u001b[0m\u001b[0;34m)\u001b[0m \u001b[0;32mfor\u001b[0m \u001b[0mX\u001b[0m \u001b[0;32min\u001b[0m \u001b[0marrays\u001b[0m \u001b[0;32mif\u001b[0m \u001b[0mX\u001b[0m \u001b[0;32mis\u001b[0m \u001b[0;32mnot\u001b[0m \u001b[0;32mNone\u001b[0m\u001b[0;34m]\u001b[0m\u001b[0;34m\u001b[0m\u001b[0;34m\u001b[0m\u001b[0m\n\u001b[0m\u001b[1;32m    395\u001b[0m     \u001b[0muniques\u001b[0m \u001b[0;34m=\u001b[0m \u001b[0mnp\u001b[0m\u001b[0;34m.\u001b[0m\u001b[0munique\u001b[0m\u001b[0;34m(\u001b[0m\u001b[0mlengths\u001b[0m\u001b[0;34m)\u001b[0m\u001b[0;34m\u001b[0m\u001b[0;34m\u001b[0m\u001b[0m\n\u001b[1;32m    396\u001b[0m     \u001b[0;32mif\u001b[0m \u001b[0mlen\u001b[0m\u001b[0;34m(\u001b[0m\u001b[0muniques\u001b[0m\u001b[0;34m)\u001b[0m \u001b[0;34m>\u001b[0m \u001b[0;36m1\u001b[0m\u001b[0;34m:\u001b[0m\u001b[0;34m\u001b[0m\u001b[0;34m\u001b[0m\u001b[0m\n",
            "\u001b[0;32m/usr/local/lib/python3.10/dist-packages/sklearn/utils/validation.py\u001b[0m in \u001b[0;36m_num_samples\u001b[0;34m(x)\u001b[0m\n\u001b[1;32m    329\u001b[0m             \u001b[0mx\u001b[0m \u001b[0;34m=\u001b[0m \u001b[0mnp\u001b[0m\u001b[0;34m.\u001b[0m\u001b[0masarray\u001b[0m\u001b[0;34m(\u001b[0m\u001b[0mx\u001b[0m\u001b[0;34m)\u001b[0m\u001b[0;34m\u001b[0m\u001b[0;34m\u001b[0m\u001b[0m\n\u001b[1;32m    330\u001b[0m         \u001b[0;32melse\u001b[0m\u001b[0;34m:\u001b[0m\u001b[0;34m\u001b[0m\u001b[0;34m\u001b[0m\u001b[0m\n\u001b[0;32m--> 331\u001b[0;31m             \u001b[0;32mraise\u001b[0m \u001b[0mTypeError\u001b[0m\u001b[0;34m(\u001b[0m\u001b[0mmessage\u001b[0m\u001b[0;34m)\u001b[0m\u001b[0;34m\u001b[0m\u001b[0;34m\u001b[0m\u001b[0m\n\u001b[0m\u001b[1;32m    332\u001b[0m \u001b[0;34m\u001b[0m\u001b[0m\n\u001b[1;32m    333\u001b[0m     \u001b[0;32mif\u001b[0m \u001b[0mhasattr\u001b[0m\u001b[0;34m(\u001b[0m\u001b[0mx\u001b[0m\u001b[0;34m,\u001b[0m \u001b[0;34m\"shape\"\u001b[0m\u001b[0;34m)\u001b[0m \u001b[0;32mand\u001b[0m \u001b[0mx\u001b[0m\u001b[0;34m.\u001b[0m\u001b[0mshape\u001b[0m \u001b[0;32mis\u001b[0m \u001b[0;32mnot\u001b[0m \u001b[0;32mNone\u001b[0m\u001b[0;34m:\u001b[0m\u001b[0;34m\u001b[0m\u001b[0;34m\u001b[0m\u001b[0m\n",
            "\u001b[0;31mTypeError\u001b[0m: Expected sequence or array-like, got <class 'pyspark.sql.dataframe.DataFrame'>"
          ]
        }
      ]
    },
    {
      "cell_type": "code",
      "source": [
        "\n",
        "from sklearn.utils.estimator_checks import check_estimator\n",
        "# from sklearn.utils\n",
        "check_estimator(LshEstimator())\n",
        "\n"
      ],
      "metadata": {
        "id": "IWvGXny1HmtZ"
      },
      "execution_count": null,
      "outputs": []
    },
    {
      "cell_type": "markdown",
      "source": [
        "## Grid search for number of features"
      ],
      "metadata": {
        "id": "ArmK9S9d4s5e"
      }
    },
    {
      "cell_type": "code",
      "source": [],
      "metadata": {
        "id": "dumfa8fsZ0wI"
      },
      "execution_count": null,
      "outputs": []
    },
    {
      "cell_type": "markdown",
      "source": [
        "Todo:\n",
        "- check other options of grid search for pyspark, skikit learn seems incompatible\n",
        "Options: pyspark.ml.tuning"
      ],
      "metadata": {
        "id": "NDFrrDwFZ1eL"
      }
    }
  ]
}