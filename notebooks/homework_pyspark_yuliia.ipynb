{
  "nbformat": 4,
  "nbformat_minor": 0,
  "metadata": {
    "colab": {
      "provenance": [],
      "collapsed_sections": [
        "ww7HprkkTJJx",
        "O2AQ2fNxTMsX"
      ],
      "include_colab_link": true
    },
    "kernelspec": {
      "name": "python3",
      "display_name": "Python 3"
    },
    "language_info": {
      "name": "python"
    }
  },
  "cells": [
    {
      "cell_type": "markdown",
      "metadata": {
        "id": "view-in-github",
        "colab_type": "text"
      },
      "source": [
        "<a href=\"https://colab.research.google.com/github/shandrayu/mining-massive-databases/blob/main/notebooks/homework_pyspark_yuliia.ipynb\" target=\"_parent\"><img src=\"https://colab.research.google.com/assets/colab-badge.svg\" alt=\"Open In Colab\"/></a>"
      ]
    },
    {
      "cell_type": "markdown",
      "source": [
        "# Mining massive databases homework"
      ],
      "metadata": {
        "id": "Jfj4si7Oh9yr"
      }
    },
    {
      "cell_type": "markdown",
      "source": [
        "## Colab setup\n"
      ],
      "metadata": {
        "id": "vCknlinbjxyC"
      }
    },
    {
      "cell_type": "markdown",
      "source": [
        "### Clone repo"
      ],
      "metadata": {
        "id": "ww7HprkkTJJx"
      }
    },
    {
      "cell_type": "code",
      "metadata": {
        "id": "1S0-y03LBMyY",
        "colab": {
          "base_uri": "https://localhost:8080/"
        },
        "outputId": "61196ec3-9005-4f01-f013-454b04c6f047"
      },
      "source": [
        "from google.colab import drive\n",
        "drive.mount('/content/drive')"
      ],
      "execution_count": 1,
      "outputs": [
        {
          "output_type": "stream",
          "name": "stdout",
          "text": [
            "Mounted at /content/drive\n"
          ]
        }
      ]
    },
    {
      "cell_type": "code",
      "source": [
        "# !wget -q https://raw.githubusercontent.com/tsunrise/colab-github/main/colab_github.py\n",
        "# import colab_github\n",
        "# colab_github.github_auth(persistent_key=True)"
      ],
      "metadata": {
        "id": "RYYNG7SuLM8w"
      },
      "execution_count": 2,
      "outputs": []
    },
    {
      "cell_type": "code",
      "source": [
        "!git clone git@github.com:shandrayu/mining-massive-databases.git"
      ],
      "metadata": {
        "colab": {
          "base_uri": "https://localhost:8080/"
        },
        "id": "dTHMNvSMLkG_",
        "outputId": "224ad726-056f-4400-ea01-91b610265b8f"
      },
      "execution_count": 3,
      "outputs": [
        {
          "output_type": "stream",
          "name": "stdout",
          "text": [
            "Cloning into 'mining-massive-databases'...\n",
            "Host key verification failed.\r\n",
            "fatal: Could not read from remote repository.\n",
            "\n",
            "Please make sure you have the correct access rights\n",
            "and the repository exists.\n"
          ]
        }
      ]
    },
    {
      "cell_type": "code",
      "source": [
        "!ls && ls mining-massive-databases"
      ],
      "metadata": {
        "colab": {
          "base_uri": "https://localhost:8080/"
        },
        "id": "VX5KNtUcTtFk",
        "outputId": "503eaa91-1802-4b5e-d197-935b02f6618f"
      },
      "execution_count": 4,
      "outputs": [
        {
          "output_type": "stream",
          "name": "stdout",
          "text": [
            "drive  sample_data\n",
            "ls: cannot access 'mining-massive-databases': No such file or directory\n"
          ]
        }
      ]
    },
    {
      "cell_type": "markdown",
      "source": [
        "### PySpark"
      ],
      "metadata": {
        "id": "O2AQ2fNxTMsX"
      }
    },
    {
      "cell_type": "code",
      "metadata": {
        "id": "VFcjNULKUAVB"
      },
      "source": [
        "!apt-get install openjdk-8-jdk-headless -qq > /dev/null"
      ],
      "execution_count": 5,
      "outputs": []
    },
    {
      "cell_type": "code",
      "metadata": {
        "colab": {
          "base_uri": "https://localhost:8080/"
        },
        "id": "OuzNyZG3URNv",
        "outputId": "200be4bb-0ace-4179-d5ff-3e49c062ddf9"
      },
      "source": [
        "!wget https://downloads.apache.org/spark/spark-3.5.0/spark-3.5.0-bin-hadoop3.tgz"
      ],
      "execution_count": 6,
      "outputs": [
        {
          "output_type": "stream",
          "name": "stdout",
          "text": [
            "--2023-11-03 12:51:24--  https://downloads.apache.org/spark/spark-3.5.0/spark-3.5.0-bin-hadoop3.tgz\n",
            "Resolving downloads.apache.org (downloads.apache.org)... 135.181.214.104, 88.99.95.219, 2a01:4f8:10a:201a::2, ...\n",
            "Connecting to downloads.apache.org (downloads.apache.org)|135.181.214.104|:443... connected.\n",
            "HTTP request sent, awaiting response... 200 OK\n",
            "Length: 400395283 (382M) [application/x-gzip]\n",
            "Saving to: ‘spark-3.5.0-bin-hadoop3.tgz’\n",
            "\n",
            "spark-3.5.0-bin-had 100%[===================>] 381.85M  28.5MB/s    in 14s     \n",
            "\n",
            "2023-11-03 12:51:38 (26.7 MB/s) - ‘spark-3.5.0-bin-hadoop3.tgz’ saved [400395283/400395283]\n",
            "\n"
          ]
        }
      ]
    },
    {
      "cell_type": "code",
      "metadata": {
        "id": "4k34wqDQUT_i"
      },
      "source": [
        "!tar xzvf spark-3.5.0-bin-hadoop3.tgz > /dev/null\n"
      ],
      "execution_count": 7,
      "outputs": []
    },
    {
      "cell_type": "code",
      "metadata": {
        "id": "Vz4Gg28oUcSr"
      },
      "source": [
        "!pip install -q findspark"
      ],
      "execution_count": 8,
      "outputs": []
    },
    {
      "cell_type": "code",
      "metadata": {
        "id": "Jf2XBqxtUmTM"
      },
      "source": [
        "import os\n",
        "os.environ[\"JAVA_HOME\"] = \"/usr/lib/jvm/java-8-openjdk-amd64\"\n",
        "os.environ[\"SPARK_HOME\"] = \"/content/spark-3.5.0-bin-hadoop3\""
      ],
      "execution_count": 9,
      "outputs": []
    },
    {
      "cell_type": "code",
      "metadata": {
        "id": "gus5Y6IXWmFp"
      },
      "source": [
        "import findspark\n",
        "findspark.init()"
      ],
      "execution_count": 10,
      "outputs": []
    },
    {
      "cell_type": "code",
      "metadata": {
        "id": "bfy8BLe5Wpyr"
      },
      "source": [
        "import pyspark\n",
        "from pyspark.sql import SparkSession\n",
        "from pyspark.sql.types import *\n",
        "from pyspark.sql.functions import col, avg, when\n",
        "import pandas as pd"
      ],
      "execution_count": 11,
      "outputs": []
    },
    {
      "cell_type": "code",
      "metadata": {
        "colab": {
          "base_uri": "https://localhost:8080/",
          "height": 0
        },
        "id": "qQgIL5nwY64d",
        "outputId": "f0e40714-cfc2-4209-9c6f-1de9d99a7098"
      },
      "source": [
        "sc = pyspark.SparkContext('local[*]')\n",
        "spark = SparkSession(sc)\n",
        "spark"
      ],
      "execution_count": 12,
      "outputs": [
        {
          "output_type": "execute_result",
          "data": {
            "text/plain": [
              "<pyspark.sql.session.SparkSession at 0x78a184041c30>"
            ],
            "text/html": [
              "\n",
              "            <div>\n",
              "                <p><b>SparkSession - in-memory</b></p>\n",
              "                \n",
              "        <div>\n",
              "            <p><b>SparkContext</b></p>\n",
              "\n",
              "            <p><a href=\"http://bbe26aa1c79a:4040\">Spark UI</a></p>\n",
              "\n",
              "            <dl>\n",
              "              <dt>Version</dt>\n",
              "                <dd><code>v3.5.0</code></dd>\n",
              "              <dt>Master</dt>\n",
              "                <dd><code>local[*]</code></dd>\n",
              "              <dt>AppName</dt>\n",
              "                <dd><code>pyspark-shell</code></dd>\n",
              "            </dl>\n",
              "        </div>\n",
              "        \n",
              "            </div>\n",
              "        "
            ]
          },
          "metadata": {},
          "execution_count": 12
        }
      ]
    },
    {
      "cell_type": "markdown",
      "source": [
        "## Barcelona dataset recommendation system\n",
        "\n",
        "The goal of this task is to recommend similar apartments (items) based on input query (apartment description).\n",
        "\n",
        "Tasks:\n",
        "\n",
        "- Convert text feature with TF-IDF to vector of features\n",
        "- Grid search for parameters\n",
        "- Grid search for number of features\n",
        "- Calculate ground truth\n",
        "- Choose metrics. Explain choice\n",
        "\n",
        "- Add to report:\n",
        "  - Accuracy for 4 different set of parameters\n",
        "  - Computation time for tuning (grid search) procedure\n",
        "  - Machine characteristics"
      ],
      "metadata": {
        "id": "PH9BNRLSiLrD"
      }
    },
    {
      "cell_type": "markdown",
      "source": [
        "## Download and preprocess data"
      ],
      "metadata": {
        "id": "g1WCPVFDiuwD"
      }
    },
    {
      "cell_type": "code",
      "source": [
        "from pyspark import SparkFiles\n",
        "from pyspark.sql.functions import substring\n",
        "from pyspark.sql.functions import split\n",
        "from pyspark.sql import functions as F\n",
        "import pyspark.sql.types as T\n",
        "\n",
        "# listings_url = \"http://data.insideairbnb.com/spain/catalonia/barcelona/2023-09-06/data/listings.csv.gz\" # full data\n",
        "listings_url = \"http://data.insideairbnb.com/spain/catalonia/barcelona/2023-09-06/visualisations/listings.csv\" # short data\n",
        "\n",
        "def load_file_to_spark(url):\n",
        "  spark.sparkContext.addFile(url)\n",
        "  filename = url.split(\"/\")[-1]\n",
        "  df = spark.read.csv(\"file://\" + SparkFiles.get(filename), header=True, multiLine=True, escape='\\\"', inferSchema=True)\n",
        "  return df\n",
        "\n",
        "def bucket_rating(arr):\n",
        "  \"\"\"\n",
        "  Preprocess rating into 6 buckets:\n",
        "  - 5\n",
        "  - 4.5\n",
        "  - 4\n",
        "  - 3.5\n",
        "  - 3\n",
        "  - 2\n",
        "  \"\"\"\n",
        "  if arr and len(arr) >= 2:\n",
        "    if isinstance(arr[1], str) and arr[1].startswith(\"★\"):\n",
        "      try:\n",
        "        num = float(arr[1][1:])\n",
        "\n",
        "        if num >= 4.8:\n",
        "          arr[1] = \"5\"\n",
        "        elif num < 4.8 and num >= 4.5:\n",
        "          arr[1] = \"4.5\"\n",
        "        elif num < 4.5 and num >= 4:\n",
        "          arr[1] = \"4\"\n",
        "        elif num < 4 and num >= 3.5:\n",
        "          arr[1] = \"3.5\"\n",
        "        elif num < 3.5 and num >= 3.0:\n",
        "          arr[1] = \"3\"\n",
        "        else:\n",
        "          arr[1] = \"2\"\n",
        "      except:\n",
        "        # Remove token, most propably some kind of parsing error\n",
        "        arr.pop(1)\n",
        "  return arr\n",
        "\n",
        "def preprocess_listing_names(df):\n",
        "  df_preprocessed = df.withColumn(\"name_tokens\", split(\"name\", \"\\\\ · \"))\n",
        "  df_preprocessed = df_preprocessed.withColumn(\"clean_tokens\", bucket_rating_udf(\"name_tokens\"))\n",
        "  return df_preprocessed\n",
        "\n",
        "bucket_rating_udf = F.udf(bucket_rating, T.ArrayType(T.StringType()))\n",
        "\n",
        "listings_df = load_file_to_spark(listings_url)\n",
        "print(f\"Dataset size {listings_df.count()}, number of columns {len(listings_df.columns)}\")\n",
        "\n",
        "listings_df = preprocess_listing_names(listings_df)\n",
        "listings_df.select(\"name\", \"price\", \"name_tokens\", \"clean_tokens\").show(15, False)"
      ],
      "metadata": {
        "colab": {
          "base_uri": "https://localhost:8080/"
        },
        "id": "sLHI0vanixer",
        "outputId": "de567f31-a90a-40c9-f1f1-5f2ac51f375a"
      },
      "execution_count": 13,
      "outputs": [
        {
          "output_type": "stream",
          "name": "stdout",
          "text": [
            "Dataset size 18086, number of columns 18\n",
            "+--------------------------------------------------------------------------+-----+------------------------------------------------------------------------+----------------------------------------------------------------------+\n",
            "|name                                                                      |price|name_tokens                                                             |clean_tokens                                                          |\n",
            "+--------------------------------------------------------------------------+-----+------------------------------------------------------------------------+----------------------------------------------------------------------+\n",
            "|Rental unit in Barcelona · ★4.30 · 3 bedrooms · 6 beds · 2 baths          |202  |[Rental unit in Barcelona, ★4.30, 3 bedrooms, 6 beds, 2 baths]          |[Rental unit in Barcelona, 4, 3 bedrooms, 6 beds, 2 baths]            |\n",
            "|Rental unit in Sant Adria de Besos · ★4.77 · 3 bedrooms · 4 beds · 2 baths|255  |[Rental unit in Sant Adria de Besos, ★4.77, 3 bedrooms, 4 beds, 2 baths]|[Rental unit in Sant Adria de Besos, 4.5, 3 bedrooms, 4 beds, 2 baths]|\n",
            "|Rental unit in Barcelona · ★4.46 · 2 bedrooms · 3 beds · 1.5 baths        |171  |[Rental unit in Barcelona, ★4.46, 2 bedrooms, 3 beds, 1.5 baths]        |[Rental unit in Barcelona, 4, 2 bedrooms, 3 beds, 1.5 baths]          |\n",
            "|Rental unit in Barcelona · ★4.81 · 2 bedrooms · 2 beds · 1 bath           |152  |[Rental unit in Barcelona, ★4.81, 2 bedrooms, 2 beds, 1 bath]           |[Rental unit in Barcelona, 5, 2 bedrooms, 2 beds, 1 bath]             |\n",
            "|Rental unit in Barcelona · ★4.71 · 2 bedrooms · 3 beds · 1 bath           |150  |[Rental unit in Barcelona, ★4.71, 2 bedrooms, 3 beds, 1 bath]           |[Rental unit in Barcelona, 4.5, 2 bedrooms, 3 beds, 1 bath]           |\n",
            "|Rental unit in Barcelona · ★4.53 · 4 bedrooms · 6 beds · 3 baths          |322  |[Rental unit in Barcelona, ★4.53, 4 bedrooms, 6 beds, 3 baths]          |[Rental unit in Barcelona, 4.5, 4 bedrooms, 6 beds, 3 baths]          |\n",
            "|Rental unit in Barcelona · ★4.79 · 1 bedroom · 1 bed · 1 shared bath      |30   |[Rental unit in Barcelona, ★4.79, 1 bedroom, 1 bed, 1 shared bath]      |[Rental unit in Barcelona, 4.5, 1 bedroom, 1 bed, 1 shared bath]      |\n",
            "|Rental unit in Barcelona · ★4.39 · 3 bedrooms · 6 beds · 1.5 baths        |323  |[Rental unit in Barcelona, ★4.39, 3 bedrooms, 6 beds, 1.5 baths]        |[Rental unit in Barcelona, 4, 3 bedrooms, 6 beds, 1.5 baths]          |\n",
            "|Condo in Barcelona · ★4.38 · 1 bedroom · 2 beds · 1 bath                  |155  |[Condo in Barcelona, ★4.38, 1 bedroom, 2 beds, 1 bath]                  |[Condo in Barcelona, 4, 1 bedroom, 2 beds, 1 bath]                    |\n",
            "|Rental unit in Barcelona · ★4.89 · 1 bedroom · 2 beds · 1 shared bath     |45   |[Rental unit in Barcelona, ★4.89, 1 bedroom, 2 beds, 1 shared bath]     |[Rental unit in Barcelona, 5, 1 bedroom, 2 beds, 1 shared bath]       |\n",
            "|Rental unit in Barcelona · ★4.70 · 3 bedrooms · 4 beds · 2 baths          |348  |[Rental unit in Barcelona, ★4.70, 3 bedrooms, 4 beds, 2 baths]          |[Rental unit in Barcelona, 4.5, 3 bedrooms, 4 beds, 2 baths]          |\n",
            "|Rental unit in Barcelona · ★4.35 · 2 bedrooms · 4 beds · 2 baths          |164  |[Rental unit in Barcelona, ★4.35, 2 bedrooms, 4 beds, 2 baths]          |[Rental unit in Barcelona, 4, 2 bedrooms, 4 beds, 2 baths]            |\n",
            "|Rental unit in Barcelona · 1 bedroom · 1 bed · 1 bath                     |46   |[Rental unit in Barcelona, 1 bedroom, 1 bed, 1 bath]                    |[Rental unit in Barcelona, 1 bedroom, 1 bed, 1 bath]                  |\n",
            "|Rental unit in Barcelona · ★4.17 · 2 bedrooms · 3 beds · 1 bath           |45   |[Rental unit in Barcelona, ★4.17, 2 bedrooms, 3 beds, 1 bath]           |[Rental unit in Barcelona, 4, 2 bedrooms, 3 beds, 1 bath]             |\n",
            "|Rental unit in Barcelona · ★4.94 · 4 bedrooms · 5 beds · 4 baths          |386  |[Rental unit in Barcelona, ★4.94, 4 bedrooms, 5 beds, 4 baths]          |[Rental unit in Barcelona, 5, 4 bedrooms, 5 beds, 4 baths]            |\n",
            "+--------------------------------------------------------------------------+-----+------------------------------------------------------------------------+----------------------------------------------------------------------+\n",
            "only showing top 15 rows\n",
            "\n"
          ]
        }
      ]
    },
    {
      "cell_type": "code",
      "source": [
        "listings_df.printSchema()"
      ],
      "metadata": {
        "colab": {
          "base_uri": "https://localhost:8080/"
        },
        "id": "qawjb2-BkzfP",
        "outputId": "4e20c109-9067-4a3e-caf0-e9aa75731544"
      },
      "execution_count": 14,
      "outputs": [
        {
          "output_type": "stream",
          "name": "stdout",
          "text": [
            "root\n",
            " |-- id: long (nullable = true)\n",
            " |-- name: string (nullable = true)\n",
            " |-- host_id: integer (nullable = true)\n",
            " |-- host_name: string (nullable = true)\n",
            " |-- neighbourhood_group: string (nullable = true)\n",
            " |-- neighbourhood: string (nullable = true)\n",
            " |-- latitude: double (nullable = true)\n",
            " |-- longitude: double (nullable = true)\n",
            " |-- room_type: string (nullable = true)\n",
            " |-- price: integer (nullable = true)\n",
            " |-- minimum_nights: integer (nullable = true)\n",
            " |-- number_of_reviews: integer (nullable = true)\n",
            " |-- last_review: date (nullable = true)\n",
            " |-- reviews_per_month: double (nullable = true)\n",
            " |-- calculated_host_listings_count: integer (nullable = true)\n",
            " |-- availability_365: integer (nullable = true)\n",
            " |-- number_of_reviews_ltm: integer (nullable = true)\n",
            " |-- license: string (nullable = true)\n",
            " |-- name_tokens: array (nullable = true)\n",
            " |    |-- element: string (containsNull = false)\n",
            " |-- clean_tokens: array (nullable = true)\n",
            " |    |-- element: string (containsNull = true)\n",
            "\n"
          ]
        }
      ]
    },
    {
      "cell_type": "markdown",
      "source": [
        "## Convert text feature with TF-IDF to vector of features"
      ],
      "metadata": {
        "id": "qYScij_sl-mF"
      }
    },
    {
      "cell_type": "code",
      "source": [
        "from pyspark.ml.feature import HashingTF, IDF, Tokenizer\n",
        "from pyspark.ml.feature import StopWordsRemover\n",
        "\n",
        "def tf_idf(df, input_column_name, num_features, additional_stop_words, tokenize=True, remove_stop_words=True):\n",
        "    if tokenize:\n",
        "      tokenizer = Tokenizer(inputCol=input_column_name, outputCol=\"tokens\")\n",
        "      with_tokens = tokenizer.transform(df)\n",
        "    else:\n",
        "      with_tokens = df\n",
        "\n",
        "    if remove_stop_words:\n",
        "      stopwords_filename = \"stopwords-en.txt\"\n",
        "      if not os. path. exists(stopwords_filename):\n",
        "        !wget https://raw.githubusercontent.com/stopwords-iso/stopwords-en/master/stopwords-en.txt\n",
        "\n",
        "\n",
        "      stop_words = []\n",
        "      with open(stopwords_filename) as file:\n",
        "          for line in file:\n",
        "            stop_words.append(line.rstrip())\n",
        "\n",
        "      stop_words.extend(additional_stop_words)\n",
        "      remover = StopWordsRemover(stopWords=stop_words)\n",
        "      remover.setInputCol(\"tokens\")\n",
        "      remover.setOutputCol(\"clean_tokens\")\n",
        "      clean_tokens = remover.transform(with_tokens)\n",
        "    else:\n",
        "      clean_tokens = with_tokens\n",
        "\n",
        "    # Perform TFIDF\n",
        "    hashing_tf = HashingTF(inputCol=\"clean_tokens\", outputCol=\"raw_features\", numFeatures=num_features)\n",
        "    featurized_data = hashing_tf.transform(clean_tokens)\n",
        "\n",
        "    idf = IDF(inputCol=\"raw_features\", outputCol=\"vector_space\")\n",
        "    idf_model = idf.fit(featurized_data)\n",
        "    results = idf_model.transform(featurized_data)\n",
        "\n",
        "    return results\n",
        "\n",
        "results = tf_idf(listings_df, \"clean_tokens\", 50, ['·', '★', '1', 'in', '<br', '/>', '<b>', '</b>'], tokenize=False, remove_stop_words=False)\n",
        "results.select(\"name\", \"price\", \"name_tokens\", \"clean_tokens\", \"raw_features\", \"vector_space\").show(20, False)"
      ],
      "metadata": {
        "colab": {
          "base_uri": "https://localhost:8080/"
        },
        "id": "PpJa_j1Vm9j8",
        "outputId": "48959953-298b-48f5-f01c-f59dc53233ac"
      },
      "execution_count": 15,
      "outputs": [
        {
          "output_type": "stream",
          "name": "stdout",
          "text": [
            "+--------------------------------------------------------------------------+-----+------------------------------------------------------------------------+----------------------------------------------------------------------+-------------------------------------------+---------------------------------------------------------------------------------------------------------------------+\n",
            "|name                                                                      |price|name_tokens                                                             |clean_tokens                                                          |raw_features                               |vector_space                                                                                                         |\n",
            "+--------------------------------------------------------------------------+-----+------------------------------------------------------------------------+----------------------------------------------------------------------+-------------------------------------------+---------------------------------------------------------------------------------------------------------------------+\n",
            "|Rental unit in Barcelona · ★4.30 · 3 bedrooms · 6 beds · 2 baths          |202  |[Rental unit in Barcelona, ★4.30, 3 bedrooms, 6 beds, 2 baths]          |[Rental unit in Barcelona, 4, 3 bedrooms, 6 beds, 2 baths]            |(50,[4,9,30,42],[1.0,1.0,2.0,1.0])         |(50,[4,9,30,42],[1.6871290259461886,1.8923581149010373,0.3476644660269918,1.659721976790071])                        |\n",
            "|Rental unit in Sant Adria de Besos · ★4.77 · 3 bedrooms · 4 beds · 2 baths|255  |[Rental unit in Sant Adria de Besos, ★4.77, 3 bedrooms, 4 beds, 2 baths]|[Rental unit in Sant Adria de Besos, 4.5, 3 bedrooms, 4 beds, 2 baths]|(50,[6,9,21,25,42],[1.0,1.0,1.0,1.0,1.0])  |(50,[6,9,21,25,42],[4.189820620769445,1.8923581149010373,2.3208298036054,1.4002689225300387,1.659721976790071])      |\n",
            "|Rental unit in Barcelona · ★4.46 · 2 bedrooms · 3 beds · 1.5 baths        |171  |[Rental unit in Barcelona, ★4.46, 2 bedrooms, 3 beds, 1.5 baths]        |[Rental unit in Barcelona, 4, 2 bedrooms, 3 beds, 1.5 baths]          |(50,[15,30,34,39],[1.0,2.0,1.0,1.0])       |(50,[15,30,34,39],[3.086353953636537,0.3476644660269918,1.4282411840380331,1.9168673253817705])                      |\n",
            "|Rental unit in Barcelona · ★4.81 · 2 bedrooms · 2 beds · 1 bath           |152  |[Rental unit in Barcelona, ★4.81, 2 bedrooms, 2 beds, 1 bath]           |[Rental unit in Barcelona, 5, 2 bedrooms, 2 beds, 1 bath]             |(50,[3,30,33,34,41],[1.0,1.0,1.0,1.0,1.0]) |(50,[3,30,33,34,41],[0.8931730534641272,0.1738322330134959,1.5966380013634942,1.4282411840380331,1.6542139182203466])|\n",
            "|Rental unit in Barcelona · ★4.71 · 2 bedrooms · 3 beds · 1 bath           |150  |[Rental unit in Barcelona, ★4.71, 2 bedrooms, 3 beds, 1 bath]           |[Rental unit in Barcelona, 4.5, 2 bedrooms, 3 beds, 1 bath]           |(50,[3,25,30,34,39],[1.0,1.0,1.0,1.0,1.0]) |(50,[3,25,30,34,39],[0.8931730534641272,1.4002689225300387,0.1738322330134959,1.4282411840380331,1.9168673253817705])|\n",
            "|Rental unit in Barcelona · ★4.53 · 4 bedrooms · 6 beds · 3 baths          |322  |[Rental unit in Barcelona, ★4.53, 4 bedrooms, 6 beds, 3 baths]          |[Rental unit in Barcelona, 4.5, 4 bedrooms, 6 beds, 3 baths]          |(50,[4,23,25,30,49],[1.0,1.0,1.0,1.0,1.0]) |(50,[4,23,25,30,49],[1.6871290259461886,0.5620791501465097,1.4002689225300387,0.1738322330134959,4.037757624372671]) |\n",
            "|Rental unit in Barcelona · ★4.79 · 1 bedroom · 1 bed · 1 shared bath      |30   |[Rental unit in Barcelona, ★4.79, 1 bedroom, 1 bed, 1 shared bath]      |[Rental unit in Barcelona, 4.5, 1 bedroom, 1 bed, 1 shared bath]      |(50,[4,17,23,25,30],[1.0,1.0,1.0,1.0,1.0]) |(50,[4,17,23,25,30],[1.6871290259461886,0.8222731234858077,0.5620791501465097,1.4002689225300387,0.1738322330134959])|\n",
            "|Rental unit in Barcelona · ★4.39 · 3 bedrooms · 6 beds · 1.5 baths        |323  |[Rental unit in Barcelona, ★4.39, 3 bedrooms, 6 beds, 1.5 baths]        |[Rental unit in Barcelona, 4, 3 bedrooms, 6 beds, 1.5 baths]          |(50,[4,9,15,30],[1.0,1.0,1.0,2.0])         |(50,[4,9,15,30],[1.6871290259461886,1.8923581149010373,3.086353953636537,0.3476644660269918])                        |\n",
            "|Condo in Barcelona · ★4.38 · 1 bedroom · 2 beds · 1 bath                  |155  |[Condo in Barcelona, ★4.38, 1 bedroom, 2 beds, 1 bath]                  |[Condo in Barcelona, 4, 1 bedroom, 2 beds, 1 bath]                    |(50,[3,23,30,31,33],[1.0,1.0,1.0,1.0,1.0]) |(50,[3,23,30,31,33],[0.8931730534641272,0.5620791501465097,0.1738322330134959,3.3862164446451892,1.5966380013634942])|\n",
            "|Rental unit in Barcelona · ★4.89 · 1 bedroom · 2 beds · 1 shared bath     |45   |[Rental unit in Barcelona, ★4.89, 1 bedroom, 2 beds, 1 shared bath]     |[Rental unit in Barcelona, 5, 1 bedroom, 2 beds, 1 shared bath]       |(50,[4,23,30,33,41],[1.0,1.0,1.0,1.0,1.0]) |(50,[4,23,30,33,41],[1.6871290259461886,0.5620791501465097,0.1738322330134959,1.5966380013634942,1.6542139182203466])|\n",
            "|Rental unit in Barcelona · ★4.70 · 3 bedrooms · 4 beds · 2 baths          |348  |[Rental unit in Barcelona, ★4.70, 3 bedrooms, 4 beds, 2 baths]          |[Rental unit in Barcelona, 4.5, 3 bedrooms, 4 beds, 2 baths]          |(50,[9,21,25,30,42],[1.0,1.0,1.0,1.0,1.0]) |(50,[9,21,25,30,42],[1.8923581149010373,2.3208298036054,1.4002689225300387,0.1738322330134959,1.659721976790071])    |\n",
            "|Rental unit in Barcelona · ★4.35 · 2 bedrooms · 4 beds · 2 baths          |164  |[Rental unit in Barcelona, ★4.35, 2 bedrooms, 4 beds, 2 baths]          |[Rental unit in Barcelona, 4, 2 bedrooms, 4 beds, 2 baths]            |(50,[21,30,34,42],[1.0,2.0,1.0,1.0])       |(50,[21,30,34,42],[2.3208298036054,0.3476644660269918,1.4282411840380331,1.659721976790071])                         |\n",
            "|Rental unit in Barcelona · 1 bedroom · 1 bed · 1 bath                     |46   |[Rental unit in Barcelona, 1 bedroom, 1 bed, 1 bath]                    |[Rental unit in Barcelona, 1 bedroom, 1 bed, 1 bath]                  |(50,[3,17,23,30],[1.0,1.0,1.0,1.0])        |(50,[3,17,23,30],[0.8931730534641272,0.8222731234858077,0.5620791501465097,0.1738322330134959])                      |\n",
            "|Rental unit in Barcelona · ★4.17 · 2 bedrooms · 3 beds · 1 bath           |45   |[Rental unit in Barcelona, ★4.17, 2 bedrooms, 3 beds, 1 bath]           |[Rental unit in Barcelona, 4, 2 bedrooms, 3 beds, 1 bath]             |(50,[3,30,34,39],[1.0,2.0,1.0,1.0])        |(50,[3,30,34,39],[0.8931730534641272,0.3476644660269918,1.4282411840380331,1.9168673253817705])                      |\n",
            "|Rental unit in Barcelona · ★4.94 · 4 bedrooms · 5 beds · 4 baths          |386  |[Rental unit in Barcelona, ★4.94, 4 bedrooms, 5 beds, 4 baths]          |[Rental unit in Barcelona, 5, 4 bedrooms, 5 beds, 4 baths]            |(50,[0,10,23,30,41],[1.0,1.0,1.0,1.0,1.0]) |(50,[0,10,23,30,41],[4.905108927206604,2.5508947753047013,0.5620791501465097,0.1738322330134959,1.6542139182203466]) |\n",
            "|Rental unit in Barcelona · ★4.43 · 4 bedrooms · 7 beds · 2 baths          |342  |[Rental unit in Barcelona, ★4.43, 4 bedrooms, 7 beds, 2 baths]          |[Rental unit in Barcelona, 4, 4 bedrooms, 7 beds, 2 baths]            |(50,[23,30,42,46],[1.0,2.0,1.0,1.0])       |(50,[23,30,42,46],[0.5620791501465097,0.3476644660269918,1.659721976790071,4.360531016635722])                       |\n",
            "|Rental unit in Barcelona · ★4.59 · 2 bedrooms · 7 beds · 1 bath           |177  |[Rental unit in Barcelona, ★4.59, 2 bedrooms, 7 beds, 1 bath]           |[Rental unit in Barcelona, 4.5, 2 bedrooms, 7 beds, 1 bath]           |(50,[3,25,30,34,46],[1.0,1.0,1.0,1.0,1.0]) |(50,[3,25,30,34,46],[0.8931730534641272,1.4002689225300387,0.1738322330134959,1.4282411840380331,4.360531016635722]) |\n",
            "|Rental unit in Barcelona · ★4.52 · 1 bedroom · 2 beds · 1 bath            |42   |[Rental unit in Barcelona, ★4.52, 1 bedroom, 2 beds, 1 bath]            |[Rental unit in Barcelona, 4.5, 1 bedroom, 2 beds, 1 bath]            |(50,[3,23,25,30,33],[1.0,1.0,1.0,1.0,1.0]) |(50,[3,23,25,30,33],[0.8931730534641272,0.5620791501465097,1.4002689225300387,0.1738322330134959,1.5966380013634942])|\n",
            "|Rental unit in Barcelona · ★4.74 · 1 bedroom · 2 beds · 2 baths           |150  |[Rental unit in Barcelona, ★4.74, 1 bedroom, 2 beds, 2 baths]           |[Rental unit in Barcelona, 4.5, 1 bedroom, 2 beds, 2 baths]           |(50,[23,25,30,33,42],[1.0,1.0,1.0,1.0,1.0])|(50,[23,25,30,33,42],[0.5620791501465097,1.4002689225300387,0.1738322330134959,1.5966380013634942,1.659721976790071])|\n",
            "|Rental unit in Barcelona · ★4.67 · 4 bedrooms · 6 beds · 2 baths          |450  |[Rental unit in Barcelona, ★4.67, 4 bedrooms, 6 beds, 2 baths]          |[Rental unit in Barcelona, 4.5, 4 bedrooms, 6 beds, 2 baths]          |(50,[4,23,25,30,42],[1.0,1.0,1.0,1.0,1.0]) |(50,[4,23,25,30,42],[1.6871290259461886,0.5620791501465097,1.4002689225300387,0.1738322330134959,1.659721976790071]) |\n",
            "+--------------------------------------------------------------------------+-----+------------------------------------------------------------------------+----------------------------------------------------------------------+-------------------------------------------+---------------------------------------------------------------------------------------------------------------------+\n",
            "only showing top 20 rows\n",
            "\n"
          ]
        }
      ]
    },
    {
      "cell_type": "markdown",
      "source": [
        "### LSH"
      ],
      "metadata": {
        "id": "RsU2MuNfvdx-"
      }
    },
    {
      "cell_type": "code",
      "source": [
        "from pyspark.ml.feature import BucketedRandomProjectionLSH\n",
        "\n",
        "brp = BucketedRandomProjectionLSH()\n",
        "brp.setInputCol(\"vector_space\")\n",
        "brp.setOutputCol(\"hashes\")\n",
        "\n",
        "# Parameters\n",
        "# the length of each hash bucket, a larger bucket lowers the false negative rate.\n",
        "bucket_length = 1.0\n",
        "# number of hash tables, where increasing number of hash tables lowers the false negative rate, and decreasing it improves the running performance.\n",
        "num_hash_tables = 1\n",
        "\n",
        "brp.setSeed(12345)\n",
        "brp.setBucketLength(bucket_length)\n",
        "brp.setNumHashTables(num_hash_tables)\n",
        "\n",
        "model = brp.fit(results)\n",
        "model.setOutputCol(\"hashes\")"
      ],
      "metadata": {
        "colab": {
          "base_uri": "https://localhost:8080/"
        },
        "id": "4brAPA4-vdNo",
        "outputId": "7a3b3e75-8b6b-4534-d2f5-b51135fd3571"
      },
      "execution_count": 16,
      "outputs": [
        {
          "output_type": "execute_result",
          "data": {
            "text/plain": [
              "BucketedRandomProjectionLSHModel: uid=BucketedRandomProjectionLSH_9bb88ca24558, numHashTables=1"
            ]
          },
          "metadata": {},
          "execution_count": 16
        }
      ]
    },
    {
      "cell_type": "code",
      "source": [
        "# TODO: select low rating apartments for query, there should be less of them\n",
        "\n",
        "# from pyspark.sql.types import BooleanType\n",
        "\n",
        "# def rating_less_than(arr, threshold):\n",
        "#   if arr and len(arr) >= 2:\n",
        "#     if isinstance(arr[1], str):\n",
        "#       try:\n",
        "#         num = float(arr[1][1:])\n",
        "\n",
        "#         return num < threshold\n",
        "#       except:\n",
        "#         False\n",
        "#   return False\n",
        "\n",
        "# rating_less_than_udf = F.udf(rating_less_than, T.ArrayType(T.StringType(), T.FloatType))\n",
        "# # second_element_less_than_udf = F.udf(second_element_less_than, BooleanType())\n",
        "\n",
        "# rating_threshold = 3.1\n",
        "# query_candidates = results.withColumn(\"less_than_3\", rating_less_than_udf(\"clean_tokens\", rating_threshold))\n",
        "# query_candidates.show()\n"
      ],
      "metadata": {
        "id": "AKLZsOUHLfxA"
      },
      "execution_count": 17,
      "outputs": []
    },
    {
      "cell_type": "code",
      "source": [
        "query = results.first()\n",
        "num_neighbours = 100\n",
        "print(query.asDict()[\"name\"])\n",
        "print(query.asDict()[\"id\"])\n",
        "\n",
        "reccomendations = model.approxNearestNeighbors(results, query.vector_space, num_neighbours, distCol=\"distance\")\n",
        "reccomendations.select(\"id\", \"name\", \"clean_tokens\", \"distance\").show(num_neighbours, False)"
      ],
      "metadata": {
        "colab": {
          "base_uri": "https://localhost:8080/"
        },
        "id": "W5sQ5UHrFhzj",
        "outputId": "a7e2b672-a96a-46fe-bf8a-5221c8552795"
      },
      "execution_count": 18,
      "outputs": [
        {
          "output_type": "stream",
          "name": "stdout",
          "text": [
            "Rental unit in Barcelona · ★4.30 · 3 bedrooms · 6 beds · 2 baths\n",
            "18674\n",
            "+------------------+----------------------------------------------------------------+------------------------------------------------------------+------------------+\n",
            "|id                |name                                                            |clean_tokens                                                |distance          |\n",
            "+------------------+----------------------------------------------------------------+------------------------------------------------------------+------------------+\n",
            "|4929694           |Rental unit in Barcelona · ★4.08 · 3 bedrooms · 6 beds · 2 baths|[Rental unit in Barcelona, 4, 3 bedrooms, 6 beds, 2 baths]  |0.0               |\n",
            "|112538            |Rental unit in Barcelona · ★4.38 · 3 bedrooms · 6 beds · 2 baths|[Rental unit in Barcelona, 4, 3 bedrooms, 6 beds, 2 baths]  |0.0               |\n",
            "|138055            |Rental unit in Barcelona · ★4.49 · 3 bedrooms · 6 beds · 2 baths|[Rental unit in Barcelona, 4, 3 bedrooms, 6 beds, 2 baths]  |0.0               |\n",
            "|624427            |Rental unit in Barcelona · ★4.29 · 3 bedrooms · 6 beds · 2 baths|[Rental unit in Barcelona, 4, 3 bedrooms, 6 beds, 2 baths]  |0.0               |\n",
            "|965712            |Rental unit in Barcelona · ★4.44 · 3 bedrooms · 6 beds · 2 baths|[Rental unit in Barcelona, 4, 3 bedrooms, 6 beds, 2 baths]  |0.0               |\n",
            "|4929018           |Rental unit in Barcelona · ★4.32 · 3 bedrooms · 6 beds · 2 baths|[Rental unit in Barcelona, 4, 3 bedrooms, 6 beds, 2 baths]  |0.0               |\n",
            "|1429809           |Rental unit in Barcelona · ★4.33 · 3 bedrooms · 6 beds · 2 baths|[Rental unit in Barcelona, 4, 3 bedrooms, 6 beds, 2 baths]  |0.0               |\n",
            "|1814378           |Rental unit in Barcelona · ★4.20 · 3 bedrooms · 6 beds · 2 baths|[Rental unit in Barcelona, 4, 3 bedrooms, 6 beds, 2 baths]  |0.0               |\n",
            "|3127809           |Rental unit in Barcelona · ★4.05 · 3 bedrooms · 6 beds · 2 baths|[Rental unit in Barcelona, 4, 3 bedrooms, 6 beds, 2 baths]  |0.0               |\n",
            "|3228260           |Rental unit in Barcelona · ★4.38 · 3 bedrooms · 6 beds · 2 baths|[Rental unit in Barcelona, 4, 3 bedrooms, 6 beds, 2 baths]  |0.0               |\n",
            "|4009675           |Rental unit in Barcelona · ★4.11 · 3 bedrooms · 6 beds · 2 baths|[Rental unit in Barcelona, 4, 3 bedrooms, 6 beds, 2 baths]  |0.0               |\n",
            "|4346136           |Rental unit in Barcelona · ★4.29 · 3 bedrooms · 6 beds · 2 baths|[Rental unit in Barcelona, 4, 3 bedrooms, 6 beds, 2 baths]  |0.0               |\n",
            "|18674             |Rental unit in Barcelona · ★4.30 · 3 bedrooms · 6 beds · 2 baths|[Rental unit in Barcelona, 4, 3 bedrooms, 6 beds, 2 baths]  |0.0               |\n",
            "|4970513           |Rental unit in Barcelona · ★4.15 · 3 bedrooms · 6 beds · 2 baths|[Rental unit in Barcelona, 4, 3 bedrooms, 6 beds, 2 baths]  |0.0               |\n",
            "|6722829           |Rental unit in Barcelona · ★4.45 · 3 bedrooms · 6 beds · 2 baths|[Rental unit in Barcelona, 4, 3 bedrooms, 6 beds, 2 baths]  |0.0               |\n",
            "|12556633          |Rental unit in Barcelona · ★4.44 · 3 bedrooms · 6 beds · 2 baths|[Rental unit in Barcelona, 4, 3 bedrooms, 6 beds, 2 baths]  |0.0               |\n",
            "|13103577          |Rental unit in Barcelona · ★4.33 · 3 bedrooms · 6 beds · 2 baths|[Rental unit in Barcelona, 4, 3 bedrooms, 6 beds, 2 baths]  |0.0               |\n",
            "|15124297          |Rental unit in Barcelona · ★4.48 · 3 bedrooms · 6 beds · 2 baths|[Rental unit in Barcelona, 4, 3 bedrooms, 6 beds, 2 baths]  |0.0               |\n",
            "|18918159          |Rental unit in Barcelona · ★4.13 · 3 bedrooms · 6 beds · 2 baths|[Rental unit in Barcelona, 4, 3 bedrooms, 6 beds, 2 baths]  |0.0               |\n",
            "|18983216          |Rental unit in Barcelona · ★4.49 · 3 bedrooms · 6 beds · 2 baths|[Rental unit in Barcelona, 4, 3 bedrooms, 6 beds, 2 baths]  |0.0               |\n",
            "|22475001          |Rental unit in Barcelona · ★4.14 · 3 bedrooms · 6 beds · 2 baths|[Rental unit in Barcelona, 4, 3 bedrooms, 6 beds, 2 baths]  |0.0               |\n",
            "|22475072          |Rental unit in Barcelona · ★4.47 · 3 bedrooms · 6 beds · 2 baths|[Rental unit in Barcelona, 4, 3 bedrooms, 6 beds, 2 baths]  |0.0               |\n",
            "|23761904          |Rental unit in Barcelona · ★4.44 · 3 bedrooms · 6 beds · 2 baths|[Rental unit in Barcelona, 4, 3 bedrooms, 6 beds, 2 baths]  |0.0               |\n",
            "|53023202          |Rental unit in Barcelona · ★4.29 · 5 bedrooms · 6 beds · 2 baths|[Rental unit in Barcelona, 4, 5 bedrooms, 6 beds, 2 baths]  |0.0               |\n",
            "|29407338          |Rental unit in Barcelona · ★4.27 · 3 bedrooms · 6 beds · 2 baths|[Rental unit in Barcelona, 4, 3 bedrooms, 6 beds, 2 baths]  |0.0               |\n",
            "|31034341          |Rental unit in Barcelona · ★4.37 · 3 bedrooms · 6 beds · 2 baths|[Rental unit in Barcelona, 4, 3 bedrooms, 6 beds, 2 baths]  |0.0               |\n",
            "|32161334          |Rental unit in Barcelona · ★4.17 · 3 bedrooms · 6 beds · 2 baths|[Rental unit in Barcelona, 4, 3 bedrooms, 6 beds, 2 baths]  |0.0               |\n",
            "|34729581          |Rental unit in Barcelona · ★4.40 · 3 bedrooms · 6 beds · 2 baths|[Rental unit in Barcelona, 4, 3 bedrooms, 6 beds, 2 baths]  |0.0               |\n",
            "|37544623          |Rental unit in Barcelona · ★4.47 · 3 bedrooms · 6 beds · 2 baths|[Rental unit in Barcelona, 4, 3 bedrooms, 6 beds, 2 baths]  |0.0               |\n",
            "|37593900          |Rental unit in Barcelona · ★4.11 · 5 bedrooms · 6 beds · 2 baths|[Rental unit in Barcelona, 4, 5 bedrooms, 6 beds, 2 baths]  |0.0               |\n",
            "|38744917          |Rental unit in Barcelona · ★4.35 · 3 bedrooms · 6 beds · 2 baths|[Rental unit in Barcelona, 4, 3 bedrooms, 6 beds, 2 baths]  |0.0               |\n",
            "|41734647          |Rental unit in Barcelona · ★4.41 · 3 bedrooms · 6 beds · 2 baths|[Rental unit in Barcelona, 4, 3 bedrooms, 6 beds, 2 baths]  |0.0               |\n",
            "|46185078          |Rental unit in Barcelona · ★4.43 · 3 bedrooms · 6 beds · 2 baths|[Rental unit in Barcelona, 4, 3 bedrooms, 6 beds, 2 baths]  |0.0               |\n",
            "|46524148          |Rental unit in Barcelona · ★4.22 · 3 bedrooms · 6 beds · 2 baths|[Rental unit in Barcelona, 4, 3 bedrooms, 6 beds, 2 baths]  |0.0               |\n",
            "|47724632          |Rental unit in Barcelona · ★4.25 · 3 bedrooms · 6 beds · 2 baths|[Rental unit in Barcelona, 4, 3 bedrooms, 6 beds, 2 baths]  |0.0               |\n",
            "|47724954          |Rental unit in Barcelona · ★4.33 · 3 bedrooms · 6 beds · 2 baths|[Rental unit in Barcelona, 4, 3 bedrooms, 6 beds, 2 baths]  |0.0               |\n",
            "|50060326          |Rental unit in Barcelona · ★4.15 · 3 bedrooms · 6 beds · 2 baths|[Rental unit in Barcelona, 4, 3 bedrooms, 6 beds, 2 baths]  |0.0               |\n",
            "|53001867          |Rental unit in Barcelona · ★4.40 · 3 bedrooms · 6 beds · 2 baths|[Rental unit in Barcelona, 4, 3 bedrooms, 6 beds, 2 baths]  |0.0               |\n",
            "|53228011          |Rental unit in Barcelona · ★4.23 · 3 bedrooms · 6 beds · 2 baths|[Rental unit in Barcelona, 4, 3 bedrooms, 6 beds, 2 baths]  |0.0               |\n",
            "|784685885691978254|Rental unit in Barcelona · ★4.33 · 3 bedrooms · 6 beds · 2 baths|[Rental unit in Barcelona, 4, 3 bedrooms, 6 beds, 2 baths]  |0.0               |\n",
            "|837476996787176436|Rental unit in Barcelona · ★4.21 · 3 bedrooms · 6 beds · 2 baths|[Rental unit in Barcelona, 4, 3 bedrooms, 6 beds, 2 baths]  |0.0               |\n",
            "|888877020540579542|Rental unit in Barcelona · ★4.33 · 3 bedrooms · 6 beds · 2 baths|[Rental unit in Barcelona, 4, 3 bedrooms, 6 beds, 2 baths]  |0.0               |\n",
            "|14918045          |Rental unit in Barcelona · 3 bedrooms · 6 beds · 2 baths        |[Rental unit in Barcelona, 3 bedrooms, 6 beds, 2 baths]     |0.1738322330134959|\n",
            "|6439762           |Rental unit in Barcelona · 3 bedrooms · 6 beds · 2 baths        |[Rental unit in Barcelona, 3 bedrooms, 6 beds, 2 baths]     |0.1738322330134959|\n",
            "|10846280          |Rental unit in Barcelona · 3 bedrooms · 6 beds · 2 baths        |[Rental unit in Barcelona, 3 bedrooms, 6 beds, 2 baths]     |0.1738322330134959|\n",
            "|19321989          |Rental unit in Barcelona · 3 bedrooms · 6 beds · 2 baths        |[Rental unit in Barcelona, 3 bedrooms, 6 beds, 2 baths]     |0.1738322330134959|\n",
            "|19962749          |Rental unit in Barcelona · 3 bedrooms · 6 beds · 2 baths        |[Rental unit in Barcelona, 3 bedrooms, 6 beds, 2 baths]     |0.1738322330134959|\n",
            "|25524829          |Rental unit in Barcelona · 3 bedrooms · 6 beds · 2 baths        |[Rental unit in Barcelona, 3 bedrooms, 6 beds, 2 baths]     |0.1738322330134959|\n",
            "|26792025          |Rental unit in Barcelona · 3 bedrooms · 6 beds · 2 baths        |[Rental unit in Barcelona, 3 bedrooms, 6 beds, 2 baths]     |0.1738322330134959|\n",
            "|33444366          |Rental unit in Barcelona · 3 bedrooms · 6 beds · 2 baths        |[Rental unit in Barcelona, 3 bedrooms, 6 beds, 2 baths]     |0.1738322330134959|\n",
            "|33446348          |Rental unit in Barcelona · 3 bedrooms · 6 beds · 2 baths        |[Rental unit in Barcelona, 3 bedrooms, 6 beds, 2 baths]     |0.1738322330134959|\n",
            "|34487156          |Rental unit in Barcelona · 3 bedrooms · 6 beds · 2 baths        |[Rental unit in Barcelona, 3 bedrooms, 6 beds, 2 baths]     |0.1738322330134959|\n",
            "|34886606          |Rental unit in Barcelona · 3 bedrooms · 6 beds · 2 baths        |[Rental unit in Barcelona, 3 bedrooms, 6 beds, 2 baths]     |0.1738322330134959|\n",
            "|37071260          |Rental unit in Barcelona · 3 bedrooms · 6 beds · 2 baths        |[Rental unit in Barcelona, 3 bedrooms, 6 beds, 2 baths]     |0.1738322330134959|\n",
            "|39378778          |Rental unit in Barcelona · 3 bedrooms · 6 beds · 2 baths        |[Rental unit in Barcelona, 3 bedrooms, 6 beds, 2 baths]     |0.1738322330134959|\n",
            "|39999153          |Rental unit in Barcelona · 3 bedrooms · 6 beds · 2 baths        |[Rental unit in Barcelona, 3 bedrooms, 6 beds, 2 baths]     |0.1738322330134959|\n",
            "|48131772          |Rental unit in Barcelona · 3 bedrooms · 6 beds · 2 baths        |[Rental unit in Barcelona, 3 bedrooms, 6 beds, 2 baths]     |0.1738322330134959|\n",
            "|48237481          |Rental unit in Barcelona · 3 bedrooms · 6 beds · 2 baths        |[Rental unit in Barcelona, 3 bedrooms, 6 beds, 2 baths]     |0.1738322330134959|\n",
            "|670714381157441403|Rental unit in Barcelona · 3 bedrooms · 6 beds · 2 baths        |[Rental unit in Barcelona, 3 bedrooms, 6 beds, 2 baths]     |0.1738322330134959|\n",
            "|671441839292935747|Rental unit in Barcelona · ★New · 3 bedrooms · 6 beds · 2 baths |[Rental unit in Barcelona, 3 bedrooms, 6 beds, 2 baths]     |0.1738322330134959|\n",
            "|671468990355316972|Rental unit in Barcelona · ★New · 3 bedrooms · 6 beds · 2 baths |[Rental unit in Barcelona, 3 bedrooms, 6 beds, 2 baths]     |0.1738322330134959|\n",
            "|670107527296291963|Rental unit in Barcelona · 3 bedrooms · 6 beds · 2 baths        |[Rental unit in Barcelona, 3 bedrooms, 6 beds, 2 baths]     |0.1738322330134959|\n",
            "|678958979600682763|Rental unit in Barcelona · 3 bedrooms · 6 beds · 2 baths        |[Rental unit in Barcelona, 3 bedrooms, 6 beds, 2 baths]     |0.1738322330134959|\n",
            "|726516995585843753|Rental unit in Barcelona · 3 bedrooms · 6 beds · 2 baths        |[Rental unit in Barcelona, 3 bedrooms, 6 beds, 2 baths]     |0.1738322330134959|\n",
            "|746899440244641992|Rental unit in Barcelona · 3 bedrooms · 6 beds · 2 baths        |[Rental unit in Barcelona, 3 bedrooms, 6 beds, 2 baths]     |0.1738322330134959|\n",
            "|848429016983911763|Rental unit in Barcelona · 3 bedrooms · 6 beds · 2 baths        |[Rental unit in Barcelona, 3 bedrooms, 6 beds, 2 baths]     |0.1738322330134959|\n",
            "|848474193698715561|Rental unit in Barcelona · 3 bedrooms · 6 beds · 2 baths        |[Rental unit in Barcelona, 3 bedrooms, 6 beds, 2 baths]     |0.1738322330134959|\n",
            "|848479459435375441|Rental unit in Barcelona · 3 bedrooms · 6 beds · 2 baths        |[Rental unit in Barcelona, 3 bedrooms, 6 beds, 2 baths]     |0.1738322330134959|\n",
            "|848482705451807922|Rental unit in Barcelona · 3 bedrooms · 6 beds · 2 baths        |[Rental unit in Barcelona, 3 bedrooms, 6 beds, 2 baths]     |0.1738322330134959|\n",
            "|853430010762388729|Rental unit in Barcelona · 3 bedrooms · 6 beds · 2 baths        |[Rental unit in Barcelona, 3 bedrooms, 6 beds, 2 baths]     |0.1738322330134959|\n",
            "|856189232639867217|Rental unit in Barcelona · 3 bedrooms · 6 beds · 2 baths        |[Rental unit in Barcelona, 3 bedrooms, 6 beds, 2 baths]     |0.1738322330134959|\n",
            "|862054419568869297|Rental unit in Barcelona · 3 bedrooms · 6 beds · 2 baths        |[Rental unit in Barcelona, 3 bedrooms, 6 beds, 2 baths]     |0.1738322330134959|\n",
            "|862063344961152510|Rental unit in Barcelona · 3 bedrooms · 6 beds · 2 baths        |[Rental unit in Barcelona, 3 bedrooms, 6 beds, 2 baths]     |0.1738322330134959|\n",
            "|878220084249844468|Rental unit in Barcelona · ★New · 3 bedrooms · 6 beds · 2 baths |[Rental unit in Barcelona, 3 bedrooms, 6 beds, 2 baths]     |0.1738322330134959|\n",
            "|888854655737499717|Rental unit in Barcelona · 3 bedrooms · 6 beds · 2 baths        |[Rental unit in Barcelona, 3 bedrooms, 6 beds, 2 baths]     |0.1738322330134959|\n",
            "|888876749521024312|Rental unit in Barcelona · 3 bedrooms · 6 beds · 2 baths        |[Rental unit in Barcelona, 3 bedrooms, 6 beds, 2 baths]     |0.1738322330134959|\n",
            "|927459508526831609|Rental unit in Barcelona · ★New · 3 bedrooms · 6 beds · 2 baths |[Rental unit in Barcelona, 3 bedrooms, 6 beds, 2 baths]     |0.1738322330134959|\n",
            "|937625080441817252|Rental unit in Barcelona · ★New · 3 bedrooms · 6 beds · 2 baths |[Rental unit in Barcelona, 3 bedrooms, 6 beds, 2 baths]     |0.1738322330134959|\n",
            "|936877066113176135|Rental unit in Barcelona · ★New · 3 bedrooms · 6 beds · 2 baths |[Rental unit in Barcelona, 3 bedrooms, 6 beds, 2 baths]     |0.1738322330134959|\n",
            "|936881748781960832|Rental unit in Barcelona · ★New · 3 bedrooms · 6 beds · 2 baths |[Rental unit in Barcelona, 3 bedrooms, 6 beds, 2 baths]     |0.1738322330134959|\n",
            "|936896695949033707|Rental unit in Barcelona · ★New · 3 bedrooms · 6 beds · 2 baths |[Rental unit in Barcelona, 3 bedrooms, 6 beds, 2 baths]     |0.1738322330134959|\n",
            "|940930879956130147|Rental unit in Barcelona · ★New · 3 bedrooms · 6 beds · 2 baths |[Rental unit in Barcelona, 3 bedrooms, 6 beds, 2 baths]     |0.1738322330134959|\n",
            "|942662406670105169|Rental unit in Barcelona · ★New · 3 bedrooms · 6 beds · 2 baths |[Rental unit in Barcelona, 3 bedrooms, 6 beds, 2 baths]     |0.1738322330134959|\n",
            "|970751882217791776|Rental unit in Barcelona · ★New · 3 bedrooms · 6 beds · 2 baths |[Rental unit in Barcelona, 3 bedrooms, 6 beds, 2 baths]     |0.1738322330134959|\n",
            "|52807941          |Villa in Barcelona · 3 bedrooms · 6 beds · 2 baths              |[Villa in Barcelona, 3 bedrooms, 6 beds, 2 baths]           |0.8927506205794201|\n",
            "|16060688          |Rental unit in Barcelona · ★4.66 · 3 bedrooms · 6 beds · 2 baths|[Rental unit in Barcelona, 4.5, 3 bedrooms, 6 beds, 2 baths]|1.411017611739093 |\n",
            "|16496029          |Rental unit in Barcelona · ★4.69 · 3 bedrooms · 6 beds · 2 baths|[Rental unit in Barcelona, 4.5, 3 bedrooms, 6 beds, 2 baths]|1.411017611739093 |\n",
            "|1505365           |Rental unit in Barcelona · ★4.65 · 3 bedrooms · 6 beds · 2 baths|[Rental unit in Barcelona, 4.5, 3 bedrooms, 6 beds, 2 baths]|1.411017611739093 |\n",
            "|17049139          |Rental unit in Barcelona · ★4.60 · 3 bedrooms · 6 beds · 2 baths|[Rental unit in Barcelona, 4.5, 3 bedrooms, 6 beds, 2 baths]|1.411017611739093 |\n",
            "|25510522          |Rental unit in Barcelona · ★4.71 · 3 bedrooms · 6 beds · 2 baths|[Rental unit in Barcelona, 4.5, 3 bedrooms, 6 beds, 2 baths]|1.411017611739093 |\n",
            "|40000409          |Rental unit in Barcelona · ★4.67 · 3 bedrooms · 6 beds · 2 baths|[Rental unit in Barcelona, 4.5, 3 bedrooms, 6 beds, 2 baths]|1.411017611739093 |\n",
            "|28630105          |Rental unit in Barcelona · ★4.74 · 3 bedrooms · 6 beds · 2 baths|[Rental unit in Barcelona, 4.5, 3 bedrooms, 6 beds, 2 baths]|1.411017611739093 |\n",
            "|40001918          |Rental unit in Barcelona · ★4.53 · 3 bedrooms · 6 beds · 2 baths|[Rental unit in Barcelona, 4.5, 3 bedrooms, 6 beds, 2 baths]|1.411017611739093 |\n",
            "|29560648          |Rental unit in Barcelona · ★4.68 · 5 bedrooms · 6 beds · 2 baths|[Rental unit in Barcelona, 4.5, 5 bedrooms, 6 beds, 2 baths]|1.411017611739093 |\n",
            "|41467925          |Rental unit in Barcelona · ★4.67 · 3 bedrooms · 6 beds · 2 baths|[Rental unit in Barcelona, 4.5, 3 bedrooms, 6 beds, 2 baths]|1.411017611739093 |\n",
            "|18338221          |Rental unit in Barcelona · ★4.64 · 3 bedrooms · 6 beds · 2 baths|[Rental unit in Barcelona, 4.5, 3 bedrooms, 6 beds, 2 baths]|1.411017611739093 |\n",
            "|41699613          |Rental unit in Barcelona · ★4.63 · 5 bedrooms · 6 beds · 2 baths|[Rental unit in Barcelona, 4.5, 5 bedrooms, 6 beds, 2 baths]|1.411017611739093 |\n",
            "|31046970          |Rental unit in Barcelona · ★4.76 · 3 bedrooms · 6 beds · 2 baths|[Rental unit in Barcelona, 4.5, 3 bedrooms, 6 beds, 2 baths]|1.411017611739093 |\n",
            "|1039162           |Rental unit in Barcelona · ★4.77 · 3 bedrooms · 6 beds · 2 baths|[Rental unit in Barcelona, 4.5, 3 bedrooms, 6 beds, 2 baths]|1.411017611739093 |\n",
            "|162091            |Rental unit in Barcelona · ★4.51 · 3 bedrooms · 6 beds · 2 baths|[Rental unit in Barcelona, 4.5, 3 bedrooms, 6 beds, 2 baths]|1.411017611739093 |\n",
            "+------------------+----------------------------------------------------------------+------------------------------------------------------------+------------------+\n",
            "\n"
          ]
        }
      ]
    },
    {
      "cell_type": "markdown",
      "source": [
        "## Nearest neighbours ground truth"
      ],
      "metadata": {
        "id": "ywWiFdpsKtv5"
      }
    },
    {
      "cell_type": "code",
      "source": [],
      "metadata": {
        "id": "_l9PH2h-KycO"
      },
      "execution_count": 18,
      "outputs": []
    }
  ]
}