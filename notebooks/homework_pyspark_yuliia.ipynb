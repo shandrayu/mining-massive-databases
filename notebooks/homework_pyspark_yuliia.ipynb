{
  "nbformat": 4,
  "nbformat_minor": 0,
  "metadata": {
    "colab": {
      "provenance": [],
      "include_colab_link": true
    },
    "kernelspec": {
      "name": "python3",
      "display_name": "Python 3"
    },
    "language_info": {
      "name": "python"
    }
  },
  "cells": [
    {
      "cell_type": "markdown",
      "metadata": {
        "id": "view-in-github",
        "colab_type": "text"
      },
      "source": [
        "<a href=\"https://colab.research.google.com/github/shandrayu/mining-massive-databases/blob/main/notebooks/homework_pyspark_yuliia.ipynb\" target=\"_parent\"><img src=\"https://colab.research.google.com/assets/colab-badge.svg\" alt=\"Open In Colab\"/></a>"
      ]
    },
    {
      "cell_type": "markdown",
      "source": [
        "# Mining massive databases homework"
      ],
      "metadata": {
        "id": "Jfj4si7Oh9yr"
      }
    },
    {
      "cell_type": "markdown",
      "source": [
        "## Colab setup\n"
      ],
      "metadata": {
        "id": "vCknlinbjxyC"
      }
    },
    {
      "cell_type": "markdown",
      "source": [
        "### Clone repo"
      ],
      "metadata": {
        "id": "ww7HprkkTJJx"
      }
    },
    {
      "cell_type": "code",
      "source": [
        "!wget -q https://raw.githubusercontent.com/tsunrise/colab-github/main/colab_github.py\n",
        "import colab_github\n",
        "colab_github.github_auth(persistent_key=True)"
      ],
      "metadata": {
        "id": "RYYNG7SuLM8w"
      },
      "execution_count": null,
      "outputs": []
    },
    {
      "cell_type": "code",
      "source": [
        "!git clone git@github.com:shandrayu/mining-massive-databases.git"
      ],
      "metadata": {
        "colab": {
          "base_uri": "https://localhost:8080/"
        },
        "id": "dTHMNvSMLkG_",
        "outputId": "c5136c18-9ec7-44ab-8b37-c8b2479c5f4f"
      },
      "execution_count": null,
      "outputs": [
        {
          "output_type": "stream",
          "name": "stdout",
          "text": [
            "Cloning into 'mining-massive-databases'...\n",
            "remote: Enumerating objects: 20, done.\u001b[K\n",
            "remote: Counting objects: 100% (20/20), done.\u001b[K\n",
            "remote: Compressing objects: 100% (17/17), done.\u001b[K\n",
            "remote: Total 20 (delta 5), reused 13 (delta 2), pack-reused 0\u001b[K\n",
            "Receiving objects: 100% (20/20), 19.23 KiB | 6.41 MiB/s, done.\n",
            "Resolving deltas: 100% (5/5), done.\n"
          ]
        }
      ]
    },
    {
      "cell_type": "code",
      "source": [
        "!ls && ls mining-massive-databases"
      ],
      "metadata": {
        "colab": {
          "base_uri": "https://localhost:8080/"
        },
        "id": "VX5KNtUcTtFk",
        "outputId": "f30bf7ad-ddcb-435a-81e8-0b0be738383b"
      },
      "execution_count": null,
      "outputs": [
        {
          "output_type": "stream",
          "name": "stdout",
          "text": [
            "colab_github.py  drive\tmining-massive-databases  __pycache__  sample_data\n",
            "homework_report.md  notebooks  project_report.md  README.md\n"
          ]
        }
      ]
    },
    {
      "cell_type": "markdown",
      "source": [
        "### PySpark"
      ],
      "metadata": {
        "id": "O2AQ2fNxTMsX"
      }
    },
    {
      "cell_type": "code",
      "metadata": {
        "id": "1S0-y03LBMyY"
      },
      "source": [
        "# Uncomment if you do not clone repo\n",
        "# from google.colab import drive\n",
        "# drive.mount('/content/drive')"
      ],
      "execution_count": null,
      "outputs": []
    },
    {
      "cell_type": "code",
      "metadata": {
        "id": "VFcjNULKUAVB"
      },
      "source": [
        "!apt-get install openjdk-8-jdk-headless -qq > /dev/null"
      ],
      "execution_count": null,
      "outputs": []
    },
    {
      "cell_type": "code",
      "metadata": {
        "colab": {
          "base_uri": "https://localhost:8080/"
        },
        "id": "OuzNyZG3URNv",
        "outputId": "2b1e3459-fcaa-48a7-b305-278bf644b15c"
      },
      "source": [
        "!wget https://downloads.apache.org/spark/spark-3.5.0/spark-3.5.0-bin-hadoop3.tgz"
      ],
      "execution_count": null,
      "outputs": [
        {
          "output_type": "stream",
          "name": "stdout",
          "text": [
            "--2023-11-02 10:17:57--  https://downloads.apache.org/spark/spark-3.5.0/spark-3.5.0-bin-hadoop3.tgz\n",
            "Resolving downloads.apache.org (downloads.apache.org)... 88.99.95.219, 135.181.214.104, 2a01:4f9:3a:2c57::2, ...\n",
            "Connecting to downloads.apache.org (downloads.apache.org)|88.99.95.219|:443... connected.\n",
            "HTTP request sent, awaiting response... 200 OK\n",
            "Length: 400395283 (382M) [application/x-gzip]\n",
            "Saving to: ‘spark-3.5.0-bin-hadoop3.tgz’\n",
            "\n",
            "spark-3.5.0-bin-had 100%[===================>] 381.85M  33.8MB/s    in 12s     \n",
            "\n",
            "2023-11-02 10:18:10 (32.5 MB/s) - ‘spark-3.5.0-bin-hadoop3.tgz’ saved [400395283/400395283]\n",
            "\n"
          ]
        }
      ]
    },
    {
      "cell_type": "code",
      "metadata": {
        "id": "4k34wqDQUT_i"
      },
      "source": [
        "!tar xzvf spark-3.5.0-bin-hadoop3.tgz > /dev/null\n"
      ],
      "execution_count": null,
      "outputs": []
    },
    {
      "cell_type": "code",
      "metadata": {
        "id": "Vz4Gg28oUcSr"
      },
      "source": [
        "!pip install -q findspark"
      ],
      "execution_count": null,
      "outputs": []
    },
    {
      "cell_type": "code",
      "metadata": {
        "id": "Jf2XBqxtUmTM"
      },
      "source": [
        "import os\n",
        "os.environ[\"JAVA_HOME\"] = \"/usr/lib/jvm/java-8-openjdk-amd64\"\n",
        "os.environ[\"SPARK_HOME\"] = \"/content/spark-3.5.0-bin-hadoop3\""
      ],
      "execution_count": null,
      "outputs": []
    },
    {
      "cell_type": "code",
      "metadata": {
        "id": "gus5Y6IXWmFp"
      },
      "source": [
        "import findspark\n",
        "findspark.init()"
      ],
      "execution_count": null,
      "outputs": []
    },
    {
      "cell_type": "code",
      "metadata": {
        "id": "bfy8BLe5Wpyr"
      },
      "source": [
        "import pyspark\n",
        "from pyspark.sql import SparkSession\n",
        "from pyspark.sql.types import *\n",
        "from pyspark.sql.functions import col, avg, when\n",
        "import pandas as pd"
      ],
      "execution_count": null,
      "outputs": []
    },
    {
      "cell_type": "code",
      "metadata": {
        "colab": {
          "base_uri": "https://localhost:8080/",
          "height": 219
        },
        "id": "qQgIL5nwY64d",
        "outputId": "814d09a3-fe0c-4ab6-b3b9-203a1fb4d357"
      },
      "source": [
        "sc = pyspark.SparkContext('local[*]')\n",
        "spark = SparkSession(sc)\n",
        "spark"
      ],
      "execution_count": null,
      "outputs": [
        {
          "output_type": "execute_result",
          "data": {
            "text/plain": [
              "<pyspark.sql.session.SparkSession at 0x7d8ee58eb8b0>"
            ],
            "text/html": [
              "\n",
              "            <div>\n",
              "                <p><b>SparkSession - in-memory</b></p>\n",
              "                \n",
              "        <div>\n",
              "            <p><b>SparkContext</b></p>\n",
              "\n",
              "            <p><a href=\"http://e134c6893177:4040\">Spark UI</a></p>\n",
              "\n",
              "            <dl>\n",
              "              <dt>Version</dt>\n",
              "                <dd><code>v3.5.0</code></dd>\n",
              "              <dt>Master</dt>\n",
              "                <dd><code>local[*]</code></dd>\n",
              "              <dt>AppName</dt>\n",
              "                <dd><code>pyspark-shell</code></dd>\n",
              "            </dl>\n",
              "        </div>\n",
              "        \n",
              "            </div>\n",
              "        "
            ]
          },
          "metadata": {},
          "execution_count": 12
        }
      ]
    },
    {
      "cell_type": "markdown",
      "source": [
        "## Barcelona dataset recommendation system\n",
        "\n",
        "The goal of this task is to recommend similar apartments (items) based on input query (apartment description).\n",
        "\n",
        "Tasks:\n",
        "\n",
        "- Convert text feature with TF-IDF to vector of features\n",
        "- Grid search for parameters\n",
        "- Grid search for number of features\n",
        "- Calculate ground truth\n",
        "- Choose metrics. Explain choice\n",
        "\n",
        "- Add to report:\n",
        "  - Accuracy for 4 different set of parameters\n",
        "  - Computation time for tuning (grid search) procedure\n",
        "  - Machine characteristics"
      ],
      "metadata": {
        "id": "PH9BNRLSiLrD"
      }
    },
    {
      "cell_type": "markdown",
      "source": [
        "## Download data"
      ],
      "metadata": {
        "id": "g1WCPVFDiuwD"
      }
    },
    {
      "cell_type": "code",
      "source": [
        "from pyspark import SparkFiles\n",
        "\n",
        "listings_url = \"http://data.insideairbnb.com/spain/catalonia/barcelona/2023-09-06/visualisations/listings.csv\"\n",
        "reviews_url = \"http://data.insideairbnb.com/spain/catalonia/barcelona/2023-09-06/visualisations/reviews.csv\"\n",
        "\n",
        "def load_file_to_spark(url):\n",
        "  spark.sparkContext.addFile(url)\n",
        "  filename = url.split(\"/\")[-1]\n",
        "  df = spark.read.csv(\"file://\" + SparkFiles.get(filename), header=True, multiLine=True, escape='\\\"', inferSchema=True)\n",
        "  return df\n",
        "\n",
        "listings_df = load_file_to_spark(listings_url)\n",
        "print(f\"Dataset size {listings_df.count()}, number of columns {len(listings_df.columns)}\")\n",
        "listings_df.show(15)\n",
        "\n",
        "reviews_df = load_file_to_spark(reviews_url)\n",
        "print(f\"Dataset size {reviews_df.count()}, number of columns {len(reviews_df.columns)}\")\n",
        "reviews_df.show(15)"
      ],
      "metadata": {
        "colab": {
          "base_uri": "https://localhost:8080/"
        },
        "id": "sLHI0vanixer",
        "outputId": "316606d0-3714-4acf-b114-61405874ef7c"
      },
      "execution_count": 26,
      "outputs": [
        {
          "output_type": "stream",
          "name": "stdout",
          "text": [
            "Dataset size 18086, number of columns 18\n",
            "+------+--------------------+-------+--------------------+-------------------+--------------------+-----------------+-----------------+---------------+-----+--------------+-----------------+-----------+-----------------+------------------------------+----------------+---------------------+-----------+\n",
            "|    id|                name|host_id|           host_name|neighbourhood_group|       neighbourhood|         latitude|        longitude|      room_type|price|minimum_nights|number_of_reviews|last_review|reviews_per_month|calculated_host_listings_count|availability_365|number_of_reviews_ltm|    license|\n",
            "+------+--------------------+-------+--------------------+-------------------+--------------------+-----------------+-----------------+---------------+-----+--------------+-----------------+-----------+-----------------+------------------------------+----------------+---------------------+-----------+\n",
            "| 18674|Rental unit in Ba...|  71615|    Mireia And Maria|           Eixample|  la Sagrada Família|         41.40556|          2.17262|Entire home/apt|  202|             1|               38| 2023-06-26|              0.3|                            30|              34|                    8|HUTB-002062|\n",
            "| 23197|Rental unit in Sa...|  90417|      Etain (Marnie)|         Sant Martí|el Besòs i el Mar...|41.41243172529066|2.219750335269476|Entire home/apt|  255|             3|               73| 2023-08-15|             0.48|                             2|             150|                   11| HUTB005057|\n",
            "| 32711|Rental unit in Ba...| 135703|                Nick|             Gràcia|el Camp d'en Gras...|         41.40566|          2.17015|Entire home/apt|  171|            21|               95| 2023-08-18|             0.64|                             3|             310|                   21|HUTB-001722|\n",
            "|171646|Rental unit in Ba...| 400154|              Mireia|         Sant Martí|             el Clot|         41.40671|          2.18592|Entire home/apt|  152|             3|               81| 2023-08-27|             0.65|                             9|              58|                   22|HUTB-004663|\n",
            "|171816|Rental unit in Ba...| 400154|              Mireia|         Sant Martí|             el Clot|         41.40681|          2.18553|Entire home/apt|  150|             3|               49| 2023-08-27|             0.39|                             9|              67|                   27|HUTB-004664|\n",
            "| 34981|Rental unit in Ba...|  73163|              Andres|       Ciutat Vella|      el Barri Gòtic|         41.37978|          2.17623|Entire home/apt|  322|             5|              211| 2023-08-21|             1.34|                             2|             194|                   31|HUTB-150671|\n",
            "| 36763|Rental unit in Ba...| 158596|               Ester|       Ciutat Vella|      la Barceloneta|         41.38043|          2.19094|   Private room|   30|            31|              107| 2023-07-31|             0.74|                             1|             235|                    6|       NULL|\n",
            "|174382|Rental unit in Ba...| 567180|              Sandra|           Eixample|  la Sagrada Família|         41.40653|          2.17455|Entire home/apt|  323|             2|               23| 2023-08-09|             0.24|                            19|               0|                   11| HUTB000327|\n",
            "| 40983|Condo in Barcelon...| 177617|             Joaquin|           Eixample|la Dreta de l'Eix...|         41.39631|          2.16832|Entire home/apt|  155|             2|              281| 2023-08-20|             1.89|                             6|              58|                   42|HUTB-001282|\n",
            "|177502|Rental unit in Ba...| 848995|               Pedro|           Eixample|la Dreta de l'Eix...|         41.39196|          2.16856|   Private room|   45|             6|               18| 2023-09-03|             1.65|                             2|              39|                   18|     Exempt|\n",
            "|188267|Rental unit in Ba...| 366654|Watermelon Barcel...|           Eixample|la Dreta de l'Eix...|         41.39258|          2.17692|Entire home/apt|  348|             3|              111| 2023-08-20|             0.77|                             4|             120|                   16|hutb-005119|\n",
            "| 41952|Rental unit in Ba...| 183340|              Teresa|             Gràcia|el Camp d'en Gras...|         41.40568|          2.16943|Entire home/apt|  164|             3|               73| 2023-08-15|             0.53|                             5|             281|                   18|HUTB-003549|\n",
            "|190348|Rental unit in Ba...| 919480|               Elisa|          Les Corts|           Pedralbes|         41.38893|          2.12443|   Private room|   46|             7|                1| 2016-06-09|             0.01|                             1|               0|                    0|       NULL|\n",
            "| 46153|Rental unit in Ba...|  90417|      Etain (Marnie)|       Ciutat Vella|Sant Pere, Santa ...|         41.38956|          2.17759|Entire home/apt|   45|            31|                6| 2023-06-16|             0.04|                             2|             257|                    1|     Exempt|\n",
            "|196021|Rental unit in Ba...| 953719|               Julia|           Eixample|l'Antiga Esquerra...|         41.38842|          2.16108|Entire home/apt|  386|             1|              375| 2023-08-20|             2.58|                             1|             229|                   58|HUTB-506707|\n",
            "+------+--------------------+-------+--------------------+-------------------+--------------------+-----------------+-----------------+---------------+-----+--------------+-----------------+-----------+-----------------+------------------------------+----------------+---------------------+-----------+\n",
            "only showing top 15 rows\n",
            "\n",
            "Dataset size 763592, number of columns 2\n",
            "+----------+----------+\n",
            "|listing_id|      date|\n",
            "+----------+----------+\n",
            "|     18674|2013-05-27|\n",
            "|    343864|2014-06-17|\n",
            "|    117010|2011-08-09|\n",
            "|    117010|2011-10-03|\n",
            "|    117010|2011-10-07|\n",
            "|    117010|2011-11-02|\n",
            "|    117010|2012-01-25|\n",
            "|    117010|2013-12-13|\n",
            "|    117010|2013-12-21|\n",
            "|     18674|2014-03-02|\n",
            "|    117010|2014-02-10|\n",
            "|    117010|2014-02-18|\n",
            "|    117010|2014-03-18|\n",
            "|    117010|2014-03-25|\n",
            "|    117010|2014-04-06|\n",
            "+----------+----------+\n",
            "only showing top 15 rows\n",
            "\n"
          ]
        }
      ]
    },
    {
      "cell_type": "code",
      "source": [
        "listings_df.printSchema()"
      ],
      "metadata": {
        "colab": {
          "base_uri": "https://localhost:8080/"
        },
        "id": "qawjb2-BkzfP",
        "outputId": "89894d45-8f57-4bc4-f63a-8ec350fe361b"
      },
      "execution_count": null,
      "outputs": [
        {
          "output_type": "stream",
          "name": "stdout",
          "text": [
            "root\n",
            " |-- id: long (nullable = true)\n",
            " |-- name: string (nullable = true)\n",
            " |-- host_id: integer (nullable = true)\n",
            " |-- host_name: string (nullable = true)\n",
            " |-- neighbourhood_group: string (nullable = true)\n",
            " |-- neighbourhood: string (nullable = true)\n",
            " |-- latitude: double (nullable = true)\n",
            " |-- longitude: double (nullable = true)\n",
            " |-- room_type: string (nullable = true)\n",
            " |-- price: integer (nullable = true)\n",
            " |-- minimum_nights: integer (nullable = true)\n",
            " |-- number_of_reviews: integer (nullable = true)\n",
            " |-- last_review: date (nullable = true)\n",
            " |-- reviews_per_month: double (nullable = true)\n",
            " |-- calculated_host_listings_count: integer (nullable = true)\n",
            " |-- availability_365: integer (nullable = true)\n",
            " |-- number_of_reviews_ltm: integer (nullable = true)\n",
            " |-- license: string (nullable = true)\n",
            "\n"
          ]
        }
      ]
    },
    {
      "cell_type": "markdown",
      "source": [
        "## Convert text feature with TF-IDF to vector of features"
      ],
      "metadata": {
        "id": "qYScij_sl-mF"
      }
    },
    {
      "cell_type": "code",
      "source": [
        "from pyspark.ml.feature import HashingTF, IDF, Tokenizer\n",
        "from pyspark.ml.feature import StopWordsRemover\n",
        "\n",
        "def tf_idf(df, input_column_name, num_features, additional_stop_words):\n",
        "    # Tokenize\n",
        "    tokenizer = Tokenizer(inputCol=input_column_name, outputCol=\"tokens\")\n",
        "    with_tokens = tokenizer.transform(df)\n",
        "\n",
        "    # Remove stop words\n",
        "    stopwords_filename = \"stopwords-en.txt\"\n",
        "    if not os. path. exists(stopwords_filename):\n",
        "      !wget https://raw.githubusercontent.com/stopwords-iso/stopwords-en/master/stopwords-en.txt\n",
        "\n",
        "\n",
        "    stop_words = []\n",
        "    with open(stopwords_filename) as file:\n",
        "        for line in file:\n",
        "          stop_words.append(line.rstrip())\n",
        "\n",
        "    stop_words.extend(additional_stop_words)\n",
        "    remover = StopWordsRemover(stopWords=stop_words)\n",
        "    remover.setInputCol(\"tokens\")\n",
        "    remover.setOutputCol(\"clean_tokens\")\n",
        "    clean_tokens = remover.transform(with_tokens)\n",
        "\n",
        "    # Perform TFIDF\n",
        "    hashing_tf = HashingTF(inputCol=\"clean_tokens\", outputCol=\"raw_features\", numFeatures=num_features)\n",
        "    featurized_data = hashing_tf.transform(clean_tokens)\n",
        "\n",
        "    idf = IDF(inputCol=\"raw_features\", outputCol=\"vector_space\")\n",
        "    idf_model = idf.fit(featurized_data)\n",
        "    results = idf_model.transform(featurized_data)\n",
        "\n",
        "    return results\n",
        "\n",
        "results = tf_idf(listings_df, \"name\", 15, ['·', '★', '1', 'in'])\n",
        "results.show(20, False)"
      ],
      "metadata": {
        "colab": {
          "base_uri": "https://localhost:8080/"
        },
        "id": "PpJa_j1Vm9j8",
        "outputId": "41b51008-fc29-46ba-cf7e-973953552ded"
      },
      "execution_count": 27,
      "outputs": [
        {
          "output_type": "stream",
          "name": "stdout",
          "text": [
            "+------+--------------------------------------------------------------------------+-------+-------------------------------+-------------------+--------------------------------------------+-----------------+-----------------+---------------+-----+--------------+-----------------+-----------+-----------------+------------------------------+----------------+---------------------+------------+---------------------------------------------------------------------------------------------+-------------------------------------------------------------------------+----------------------------------------------------------------------+-------------------------------------------------------------------------------------------------------------------------------------------------------------------------------------------------------------------------------+\n",
            "|id    |name                                                                      |host_id|host_name                      |neighbourhood_group|neighbourhood                               |latitude         |longitude        |room_type      |price|minimum_nights|number_of_reviews|last_review|reviews_per_month|calculated_host_listings_count|availability_365|number_of_reviews_ltm|license     |tokens                                                                                       |clean_tokens                                                             |raw_features                                                          |vector_space                                                                                                                                                                                                                   |\n",
            "+------+--------------------------------------------------------------------------+-------+-------------------------------+-------------------+--------------------------------------------+-----------------+-----------------+---------------+-----+--------------+-----------------+-----------+-----------------+------------------------------+----------------+---------------------+------------+---------------------------------------------------------------------------------------------+-------------------------------------------------------------------------+----------------------------------------------------------------------+-------------------------------------------------------------------------------------------------------------------------------------------------------------------------------------------------------------------------------+\n",
            "|18674 |Rental unit in Barcelona · ★4.30 · 3 bedrooms · 6 beds · 2 baths          |71615  |Mireia And Maria               |Eixample           |la Sagrada Família                          |41.40556         |2.17262          |Entire home/apt|202  |1             |38               |2023-06-26 |0.3              |30                            |34              |8                    |HUTB-002062 |[rental, unit, in, barcelona, ·, ★4.30, ·, 3, bedrooms, ·, 6, beds, ·, 2, baths]             |[rental, unit, barcelona, ★4.30, 3, bedrooms, 6, beds, 2, baths]         |(15,[1,2,4,5,8,11,12],[1.0,1.0,1.0,2.0,1.0,2.0,2.0])                  |(15,[1,2,4,5,8,11,12],[1.222405220240516,0.5802846054925006,0.16858322155225808,0.2096524091679089,0.8027122929877388,4.088376365999705,7.741864226957094E-4])                                                                 |\n",
            "|23197 |Rental unit in Sant Adria de Besos · ★4.77 · 3 bedrooms · 4 beds · 2 baths|90417  |Etain (Marnie)                 |Sant Martí         |el Besòs i el Maresme                       |41.41243172529066|2.219750335269476|Entire home/apt|255  |3             |73               |2023-08-15 |0.48             |2                             |150             |11                   |HUTB005057  |[rental, unit, in, sant, adria, de, besos, ·, ★4.77, ·, 3, bedrooms, ·, 4, beds, ·, 2, baths]|[rental, unit, sant, adria, besos, ★4.77, 3, bedrooms, 4, beds, 2, baths]|(15,[1,2,4,5,6,7,8,9,10,12],[1.0,1.0,1.0,2.0,1.0,2.0,1.0,1.0,1.0,1.0])|(15,[1,2,4,5,6,7,8,9,10,12],[1.222405220240516,0.5802846054925006,0.16858322155225808,0.2096524091679089,2.3528691573500167,1.2067320236685852,0.8027122929877388,0.38178032958977165,1.5383278977462997,3.870932113478547E-4])|\n",
            "|32711 |Rental unit in Barcelona · ★4.46 · 2 bedrooms · 3 beds · 1.5 baths        |135703 |Nick                           |Gràcia             |el Camp d'en Grassot i Gràcia Nova          |41.40566         |2.17015          |Entire home/apt|171  |21            |95               |2023-08-18 |0.64             |3                             |310             |21                   |HUTB-001722 |[rental, unit, in, barcelona, ·, ★4.46, ·, 2, bedrooms, ·, 3, beds, ·, 1.5, baths]           |[rental, unit, barcelona, ★4.46, 2, bedrooms, 3, beds, 1.5, baths]       |(15,[1,2,4,5,8,10,12,14],[1.0,1.0,1.0,2.0,1.0,1.0,2.0,1.0])           |(15,[1,2,4,5,8,10,12,14],[1.222405220240516,0.5802846054925006,0.16858322155225808,0.2096524091679089,0.8027122929877388,1.5383278977462997,7.741864226957094E-4,3.3198413757003165])                                          |\n",
            "|171646|Rental unit in Barcelona · ★4.81 · 2 bedrooms · 2 beds · 1 bath           |400154 |Mireia                         |Sant Martí         |el Clot                                     |41.40671         |2.18592          |Entire home/apt|152  |3             |81               |2023-08-27 |0.65             |9                             |58              |22                   |HUTB-004663 |[rental, unit, in, barcelona, ·, ★4.81, ·, 2, bedrooms, ·, 2, beds, ·, 1, bath]              |[rental, unit, barcelona, ★4.81, 2, bedrooms, 2, beds, bath]             |(15,[2,4,5,8,9,12,13],[1.0,1.0,1.0,1.0,1.0,3.0,1.0])                  |(15,[2,4,5,8,9,12,13],[0.5802846054925006,0.16858322155225808,0.10482620458395445,0.8027122929877388,0.38178032958977165,0.001161279634043564,2.3007622405545907])                                                             |\n",
            "|171816|Rental unit in Barcelona · ★4.71 · 2 bedrooms · 3 beds · 1 bath           |400154 |Mireia                         |Sant Martí         |el Clot                                     |41.40681         |2.18553          |Entire home/apt|150  |3             |49               |2023-08-27 |0.39             |9                             |67              |27                   |HUTB-004664 |[rental, unit, in, barcelona, ·, ★4.71, ·, 2, bedrooms, ·, 3, beds, ·, 1, bath]              |[rental, unit, barcelona, ★4.71, 2, bedrooms, 3, beds, bath]             |(15,[1,2,4,5,8,9,12],[1.0,1.0,1.0,1.0,1.0,1.0,3.0])                   |(15,[1,2,4,5,8,9,12],[1.222405220240516,0.5802846054925006,0.16858322155225808,0.10482620458395445,0.8027122929877388,0.38178032958977165,0.001161279634043564])                                                               |\n",
            "|34981 |Rental unit in Barcelona · ★4.53 · 4 bedrooms · 6 beds · 3 baths          |73163  |Andres                         |Ciutat Vella       |el Barri Gòtic                              |41.37978         |2.17623          |Entire home/apt|322  |5             |211              |2023-08-21 |1.34             |2                             |194             |31                   |HUTB-150671 |[rental, unit, in, barcelona, ·, ★4.53, ·, 4, bedrooms, ·, 6, beds, ·, 3, baths]             |[rental, unit, barcelona, ★4.53, 4, bedrooms, 6, beds, 3, baths]         |(15,[1,2,4,5,8,10,11,12],[1.0,1.0,1.0,2.0,1.0,2.0,1.0,1.0])           |(15,[1,2,4,5,8,10,11,12],[1.222405220240516,0.5802846054925006,0.16858322155225808,0.2096524091679089,0.8027122929877388,3.0766557954925995,2.0441881829998527,3.870932113478547E-4])                                          |\n",
            "|36763 |Rental unit in Barcelona · ★4.79 · 1 bedroom · 1 bed · 1 shared bath      |158596 |Ester                          |Ciutat Vella       |la Barceloneta                              |41.38043         |2.19094          |Private room   |30   |31            |107              |2023-07-31 |0.74             |1                             |235             |6                    |NULL        |[rental, unit, in, barcelona, ·, ★4.79, ·, 1, bedroom, ·, 1, bed, ·, 1, shared, bath]        |[rental, unit, barcelona, ★4.79, bedroom, bed, shared, bath]             |(15,[1,4,5,7,9,12],[1.0,1.0,1.0,2.0,1.0,2.0])                         |(15,[1,4,5,7,9,12],[1.222405220240516,0.16858322155225808,0.10482620458395445,1.2067320236685852,0.38178032958977165,7.741864226957094E-4])                                                                                    |\n",
            "|174382|Rental unit in Barcelona · ★4.39 · 3 bedrooms · 6 beds · 1.5 baths        |567180 |Sandra                         |Eixample           |la Sagrada Família                          |41.40653         |2.17455          |Entire home/apt|323  |2             |23               |2023-08-09 |0.24             |19                            |0               |11                   |HUTB000327  |[rental, unit, in, barcelona, ·, ★4.39, ·, 3, bedrooms, ·, 6, beds, ·, 1.5, baths]           |[rental, unit, barcelona, ★4.39, 3, bedrooms, 6, beds, 1.5, baths]       |(15,[1,2,4,5,8,10,11,12],[1.0,1.0,1.0,3.0,1.0,1.0,1.0,1.0])           |(15,[1,2,4,5,8,10,11,12],[1.222405220240516,0.5802846054925006,0.16858322155225808,0.31447861375186337,0.8027122929877388,1.5383278977462997,2.0441881829998527,3.870932113478547E-4])                                         |\n",
            "|40983 |Condo in Barcelona · ★4.38 · 1 bedroom · 2 beds · 1 bath                  |177617 |Joaquin                        |Eixample           |la Dreta de l'Eixample                      |41.39631         |2.16832          |Entire home/apt|155  |2             |281              |2023-08-20 |1.89             |6                             |58              |42                   |HUTB-001282 |[condo, in, barcelona, ·, ★4.38, ·, 1, bedroom, ·, 2, beds, ·, 1, bath]                      |[condo, barcelona, ★4.38, bedroom, 2, beds, bath]                        |(15,[2,5,9,11,12],[1.0,1.0,1.0,1.0,3.0])                              |(15,[2,5,9,11,12],[0.5802846054925006,0.10482620458395445,0.38178032958977165,2.0441881829998527,0.001161279634043564])                                                                                                        |\n",
            "|177502|Rental unit in Barcelona · ★4.89 · 1 bedroom · 2 beds · 1 shared bath     |848995 |Pedro                          |Eixample           |la Dreta de l'Eixample                      |41.39196         |2.16856          |Private room   |45   |6             |18               |2023-09-03 |1.65             |2                             |39              |18                   |Exempt      |[rental, unit, in, barcelona, ·, ★4.89, ·, 1, bedroom, ·, 2, beds, ·, 1, shared, bath]       |[rental, unit, barcelona, ★4.89, bedroom, 2, beds, shared, bath]         |(15,[2,4,5,7,9,12,14],[1.0,1.0,1.0,1.0,1.0,3.0,1.0])                  |(15,[2,4,5,7,9,12,14],[0.5802846054925006,0.16858322155225808,0.10482620458395445,0.6033660118342926,0.38178032958977165,0.001161279634043564,3.3198413757003165])                                                             |\n",
            "|188267|Rental unit in Barcelona · ★4.70 · 3 bedrooms · 4 beds · 2 baths          |366654 |Watermelon Barcelona Apartments|Eixample           |la Dreta de l'Eixample                      |41.39258         |2.17692          |Entire home/apt|348  |3             |111              |2023-08-20 |0.77             |4                             |120             |16                   |hutb-005119 |[rental, unit, in, barcelona, ·, ★4.70, ·, 3, bedrooms, ·, 4, beds, ·, 2, baths]             |[rental, unit, barcelona, ★4.70, 3, bedrooms, 4, beds, 2, baths]         |(15,[1,2,4,5,8,10,12],[1.0,1.0,2.0,2.0,1.0,1.0,2.0])                  |(15,[1,2,4,5,8,10,12],[1.222405220240516,0.5802846054925006,0.33716644310451616,0.2096524091679089,0.8027122929877388,1.5383278977462997,7.741864226957094E-4])                                                                |\n",
            "|41952 |Rental unit in Barcelona · ★4.35 · 2 bedrooms · 4 beds · 2 baths          |183340 |Teresa                         |Gràcia             |el Camp d'en Grassot i Gràcia Nova          |41.40568         |2.16943          |Entire home/apt|164  |3             |73               |2023-08-15 |0.53             |5                             |281             |18                   |HUTB-003549 |[rental, unit, in, barcelona, ·, ★4.35, ·, 2, bedrooms, ·, 4, beds, ·, 2, baths]             |[rental, unit, barcelona, ★4.35, 2, bedrooms, 4, beds, 2, baths]         |(15,[2,4,5,8,10,12,13],[1.0,1.0,2.0,1.0,1.0,3.0,1.0])                 |(15,[2,4,5,8,10,12,13],[0.5802846054925006,0.16858322155225808,0.2096524091679089,0.8027122929877388,1.5383278977462997,0.001161279634043564,2.3007622405545907])                                                              |\n",
            "|190348|Rental unit in Barcelona · 1 bedroom · 1 bed · 1 bath                     |919480 |Elisa                          |Les Corts          |Pedralbes                                   |41.38893         |2.12443          |Private room   |46   |7             |1                |2016-06-09 |0.01             |1                             |0               |0                    |NULL        |[rental, unit, in, barcelona, ·, 1, bedroom, ·, 1, bed, ·, 1, bath]                          |[rental, unit, barcelona, bedroom, bed, bath]                            |(15,[4,5,7,9,12],[1.0,1.0,1.0,1.0,2.0])                               |(15,[4,5,7,9,12],[0.16858322155225808,0.10482620458395445,0.6033660118342926,0.38178032958977165,7.741864226957094E-4])                                                                                                        |\n",
            "|46153 |Rental unit in Barcelona · ★4.17 · 2 bedrooms · 3 beds · 1 bath           |90417  |Etain (Marnie)                 |Ciutat Vella       |Sant Pere, Santa Caterina i la Ribera       |41.38956         |2.17759          |Entire home/apt|45   |31            |6                |2023-06-16 |0.04             |2                             |257             |1                    |Exempt      |[rental, unit, in, barcelona, ·, ★4.17, ·, 2, bedrooms, ·, 3, beds, ·, 1, bath]              |[rental, unit, barcelona, ★4.17, 2, bedrooms, 3, beds, bath]             |(15,[1,2,3,4,5,8,9,12],[1.0,1.0,1.0,1.0,1.0,1.0,1.0,2.0])             |(15,[1,2,3,4,5,8,9,12],[1.222405220240516,0.5802846054925006,4.356211355491205,0.16858322155225808,0.10482620458395445,0.8027122929877388,0.38178032958977165,7.741864226957094E-4])                                           |\n",
            "|196021|Rental unit in Barcelona · ★4.94 · 4 bedrooms · 5 beds · 4 baths          |953719 |Julia                          |Eixample           |l'Antiga Esquerra de l'Eixample             |41.38842         |2.16108          |Entire home/apt|386  |1             |375              |2023-08-20 |2.58             |1                             |229             |58                   |HUTB-506707 |[rental, unit, in, barcelona, ·, ★4.94, ·, 4, bedrooms, ·, 5, beds, ·, 4, baths]             |[rental, unit, barcelona, ★4.94, 4, bedrooms, 5, beds, 4, baths]         |(15,[2,4,5,8,10,11,12],[1.0,1.0,3.0,1.0,2.0,1.0,1.0])                 |(15,[2,4,5,8,10,11,12],[0.5802846054925006,0.16858322155225808,0.31447861375186337,0.8027122929877388,3.0766557954925995,2.0441881829998527,3.870932113478547E-4])                                                             |\n",
            "|196196|Rental unit in Barcelona · ★4.43 · 4 bedrooms · 7 beds · 2 baths          |567180 |Sandra                         |Eixample           |la Sagrada Família                          |41.4066          |2.17459          |Entire home/apt|342  |2             |124              |2023-08-09 |0.85             |19                            |0               |21                   |HUTB-000325 |[rental, unit, in, barcelona, ·, ★4.43, ·, 4, bedrooms, ·, 7, beds, ·, 2, baths]             |[rental, unit, barcelona, ★4.43, 4, bedrooms, 7, beds, 2, baths]         |(15,[0,2,4,5,8,10,12],[1.0,1.0,2.0,2.0,1.0,1.0,2.0])                  |(15,[0,2,4,5,8,10,12],[1.8556237001410518,0.5802846054925006,0.33716644310451616,0.2096524091679089,0.8027122929877388,1.5383278977462997,7.741864226957094E-4])                                                               |\n",
            "|49968 |Rental unit in Barcelona · ★4.59 · 2 bedrooms · 7 beds · 1 bath           |135703 |Nick                           |Gràcia             |el Camp d'en Grassot i Gràcia Nova          |41.4057          |2.17016          |Entire home/apt|177  |1             |83               |2023-09-03 |0.56             |3                             |319             |23                   |HUTB-001723 |[rental, unit, in, barcelona, ·, ★4.59, ·, 2, bedrooms, ·, 7, beds, ·, 1, bath]              |[rental, unit, barcelona, ★4.59, 2, bedrooms, 7, beds, bath]             |(15,[0,2,4,5,6,8,9,12],[1.0,1.0,1.0,1.0,1.0,1.0,1.0,2.0])             |(15,[0,2,4,5,6,8,9,12],[1.8556237001410518,0.5802846054925006,0.16858322155225808,0.10482620458395445,2.3528691573500167,0.8027122929877388,0.38178032958977165,7.741864226957094E-4])                                         |\n",
            "|197267|Rental unit in Barcelona · ★4.52 · 1 bedroom · 2 beds · 1 bath            |632830 |M Angeles, Federico            |Gràcia             |la Vila de Gràcia                           |41.40661         |2.15115          |Entire home/apt|42   |31            |357              |2023-08-11 |2.5              |3                             |45              |5                    |HUTB01295238|[rental, unit, in, barcelona, ·, ★4.52, ·, 1, bedroom, ·, 2, beds, ·, 1, bath]               |[rental, unit, barcelona, ★4.52, bedroom, 2, beds, bath]                 |(15,[2,4,5,9,12],[1.0,1.0,1.0,1.0,4.0])                               |(15,[2,4,5,9,12],[0.5802846054925006,0.16858322155225808,0.10482620458395445,0.38178032958977165,0.0015483728453914189])                                                                                                       |\n",
            "|68547 |Rental unit in Barcelona · ★4.74 · 1 bedroom · 2 beds · 2 baths           |340570 |Audun                          |Ciutat Vella       |el Barri Gòtic                              |41.3806          |2.17796          |Private room   |150  |31            |93               |2021-08-10 |0.62             |2                             |322             |0                    |NULL        |[rental, unit, in, barcelona, ·, ★4.74, ·, 1, bedroom, ·, 2, beds, ·, 2, baths]              |[rental, unit, barcelona, ★4.74, bedroom, 2, beds, 2, baths]             |(15,[2,4,5,12,13],[1.0,1.0,2.0,4.0,1.0])                              |(15,[2,4,5,12,13],[0.5802846054925006,0.16858322155225808,0.2096524091679089,0.0015483728453914189,2.3007622405545907])                                                                                                        |\n",
            "|198958|Rental unit in Barcelona · ★4.67 · 4 bedrooms · 6 beds · 2 baths          |971768 |Laura                          |Sant Martí         |Diagonal Mar i el Front Marítim del Poblenou|41.40805         |2.21487          |Entire home/apt|450  |2             |104              |2023-08-20 |0.75             |9                             |59              |24                   |HUTB-000926 |[rental, unit, in, barcelona, ·, ★4.67, ·, 4, bedrooms, ·, 6, beds, ·, 2, baths]             |[rental, unit, barcelona, ★4.67, 4, bedrooms, 6, beds, 2, baths]         |(15,[2,4,5,7,8,10,11,12],[1.0,1.0,2.0,1.0,1.0,1.0,1.0,2.0])           |(15,[2,4,5,7,8,10,11,12],[0.5802846054925006,0.16858322155225808,0.2096524091679089,0.6033660118342926,0.8027122929877388,1.5383278977462997,2.0441881829998527,7.741864226957094E-4])                                         |\n",
            "+------+--------------------------------------------------------------------------+-------+-------------------------------+-------------------+--------------------------------------------+-----------------+-----------------+---------------+-----+--------------+-----------------+-----------+-----------------+------------------------------+----------------+---------------------+------------+---------------------------------------------------------------------------------------------+-------------------------------------------------------------------------+----------------------------------------------------------------------+-------------------------------------------------------------------------------------------------------------------------------------------------------------------------------------------------------------------------------+\n",
            "only showing top 20 rows\n",
            "\n"
          ]
        }
      ]
    }
  ]
}